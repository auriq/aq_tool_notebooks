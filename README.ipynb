{
 "cells": [
  {
   "cell_type": "markdown",
   "metadata": {},
   "source": [
    "# Essentia Playground\n",
    "\n",
    "Collection of bash kernel Jupyter Notebook for users to learn aq tools and Essentia interactively.\n",
    "\n",
    "**Note**<br>\n",
    "* Based on AQ Tools version: 2.0.1-2\n",
    "* Only execute aq commands, as well as `cat`, `head`, `tail` or `zcat`. Do not execute any malicous commands on the notebook.\n",
    "\n",
    "\n",
    "## Table of Contents\n",
    "### aq_tools\n",
    "Options that are commonly used among all aq_tools.\n",
    "- [aq-input](aq_input.ipynb) - input specification for all of aq_tools\n",
    "- [aq-outupt](aq_output.ipynb) - output specification for all of aq_tools\n",
    "- [aq-emod](aq-emod.ipynb): use this as a reference for various builtin funtions.\n",
    "\n",
    "#### aq_pp\n",
    "- [aq_pp -eval](aq_pp%20-eval.ipynb) - option for executing evaluation, such as arithmatic and more.\n",
    "- [aq_pp -filt](aq_pp%20-filt.ipynb) - filtering / selection of record based on given condition.\n",
    "- [aq_pp -map](aq_pp%20-map.ipynb) - extracting, mapping and manipulation of string.\n",
    "\t* also includes examples of `-mapf` and `-mapc`\n",
    "- [aq_pp -cmb](aq_pp%20-cmb.ipynb) - data lookup option, also can be used for joining datasets\n",
    "- more on its way...\n",
    "\n",
    "#### [aq_cnt](aq_cnt.ipynb)\n",
    "This command helps users to find out more details about data stored in any given column, such as unique values, distribution of them, as well as column statistics.\n",
    "\n",
    "#### [aq_rst](aq_rst.ipynb)\n",
    "This command convert keyed flattened dataset into pivot table. Close to panda's `df.pivot()` method.\n",
    "\n",
    "### Tips and Techniques\n",
    "To be added in the future, and possible topics includes following.\n",
    "\n",
    "- performing SQL joins with aq_tools\n",
    "\n",
    "## Recommended order for notebooks\n",
    "Beginning users are encouraged to follow learning path to get familiarize yourself with basic syntax, as well as simple usage examples of each commands.\n",
    "\n",
    "The following 2 notebooks go over input, column and output specs for aq_tools in general.\n",
    "1. [aq_input](aq_input.ipynb)\n",
    "2. [aq_output](aq_output.ipynb)\n",
    "\n",
    "Others go over what can be done with `aq_pp` command's options, from conditional control to string manipulation. Feel free to go over them in any order you'd like.\n",
    "- [aq_pp -eval](aq_pp%20-eval.ipynb)\n",
    "- [aq_pp -filt](aq_pp%20-filt.ipynb)\n",
    "- [aq_pp -map](aq_pp%20-map.ipynb)\n",
    "\n",
    "## Some DS Project using Essentia\n",
    "Under Construction - [Amazon Product Reviews EDA with Essentia](projects/amazon_review/Amazon%20Product%20Review%20Dataset%20Analysis.ipynb)\n",
    "\n"
   ]
  }
 ],
 "metadata": {
  "kernelspec": {
   "display_name": "Bash",
   "language": "bash",
   "name": "bash"
  },
  "language_info": {
   "codemirror_mode": "shell",
   "file_extension": ".sh",
   "mimetype": "text/x-sh",
   "name": "bash"
  }
 },
 "nbformat": 4,
 "nbformat_minor": 2
}
