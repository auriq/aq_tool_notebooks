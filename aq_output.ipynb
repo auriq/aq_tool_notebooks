{
 "cells": [
  {
   "cell_type": "markdown",
   "metadata": {},
   "source": [
    "# aq_output \n",
    "\n",
    "This notebook goes over aq_output's options and it's sample usages. \n",
    "Based on AQ Tools version: 2.0.1-1.\n",
    "\n",
    "Through this option users can specify aq_tools data output destinations, format, and as well as outputting behaviors. \n",
    "\n",
    "Output spec are composed of 2 options, `-o` option followed by `-c` option. (Can be used one by one as well).\n",
    "* `-c`: specify which columns to output, as well as thier output format\n",
    "* `-o`: specify output's destination and behaviors \n",
    "\n",
    "\n",
    "## Prerequisites\n",
    "Readers are assumed to be equipped with knowledge of\n",
    "- bash commands\n",
    "- input, column and output spec for aq_tools\n",
    "\n",
    "Have [aq-output](http://www.auriq.com/documentation/source/reference/manpages/aq-output.html) and [aq_pp](http://www.auriq.com/documentation/source/reference/manpages/aq_pp.html)'s documentation open on your side for reference, or you can always run `man aq-output` for manpage of `aq-output`'s syntax and options.\n",
    "\n",
    "Below is basic structure / syntax, as well as functionalities of `aq-output`. If you're already familiar, skip to [data](#data) section.\n",
    "\n",
    "## Syntax\n",
    "\n",
    "Using `-o` option tells aq_commands to use output option while `-c` tells specifies which column and how to output them. This option is a part of `output spec` in aq_commands, like below.\n",
    "\n",
    "```bash\n",
    "# basic structure of aq_pp command\n",
    "\n",
    "aq_pp Global_Opt Input_Spec Prep_Spec Process_Spec Output_Spec\n",
    "\n",
    "```\n",
    "`-o` option can be followed by `-c` option which specifies columns to be outputted. \n",
    "\n",
    "```bash\n",
    "aq_command .. -o[,ArtLst] File -c ColSpec [ColSpec ...] \n",
    "```\n",
    "### `-o`\n",
    "\n",
    "**Attributes**<br>\n",
    "where\n",
    "- `[,ArtLst]`: list of _attributes_, separated by commas. User can provide 0 ~ multiple attributes in one command.<br>\n",
    "  **File Format**\n",
    "    - `csv`, `tsv`: comma or tab separated file\n",
    "    - `jsn`: jason object format\n",
    "    \n",
    "  **Behavior**\n",
    "    - `sep`: specify your own separator, besides comma and tab\n",
    "    - `notitle`: this tells aq_commands to skip the first line (header)of the output, and only output the data records\n",
    "    - `app`: append the output to a file instead of overwriting it.\n",
    "    \n",
    "    \n",
    "- `File`: Specifies _destination_ of data, such as filename, stream or pipe\n",
    "    - regular file `fileName`\n",
    "    - stream to stdout `-`\n",
    "    - stream to named pipe `pipeName`\n",
    "        - [pipe](https://thoughtbot.com/blog/input-output-redirection-in-the-shell)\n",
    "These are just several destinations that we'll go over, but more options are available on [official documetation](www.auriq.com/documentation/source/reference/manpages/aq-output.html). \n",
    "\n",
    "###  `-c`\n",
    "\n",
    "For `-c` option, you can provide 1 or more ColSpec, which looks like below.<br>\n",
    "\n",
    "`ColName[:ColLabel][,n=[-]Width][+NumPrintFormat]`<br>\n",
    "where\n",
    "- `:ColLabel` - alternative column label for output\n",
    "- `n=[-]Width` - integer value that specifies the width of the output, counting from left, and padd with white space if length is shorter than `Width`. When used with `-` like `n=-5`, it'll output 5 characters only counting from right.  \n",
    "- `+NumPrintFormat` - specifies the output formatting of numerical column. Similar to C language's `printf`'s output formatting with precision. \n",
    "\n",
    "For more detailed specifications for `-c` option, run `man aq-output` on any cells.\n",
    "\n",
    "\n",
    "\n",
    "<a id='data'></a>\n",
    "## Data\n",
    "\n",
    "We'll be using [Ramen Ratings Dataset](https://www.kaggle.com/residentmario/ramen-ratings) from kaggle for this notebook, which looks like below.\n",
    "\n",
    "Review|Brand|Variety|Style|Country|Stars\n",
    "---|---|---|---|---|---|\n",
    "2580|New Touch|T's Restaurant Tantanmen|Cup|Japan|3.75\n",
    "2579|Just Way|Noodles Spicy Hot Sesame Spicy Hot Sesame Guan-miao Noodles|Pack|Taiwan|1\n",
    "2578|Nissin|Cup Noodles Chicken Vegetable|Cup|USA|2.25\n",
    "2577|Wei Lih|GGE Ramen Snack Tomato Flavor|Pack|Taiwan|2.75\n",
    "2576|Ching's Secret|Singapore Curry|Pack|India|3.75\n",
    "2575|Samyang Foods|Kimchi song Song Ramen|Pack|South Korea|4.75\n",
    "2574|Acecook|Spice Deli Tantan Men With Cilantro|Cup|Japan|4\n",
    "2573|Ikeda Shoku|Nabeyaki Kitsune Udon|Tray|Japan|3.75\n",
    "2572|Ripe'n'Dry|Hokkaido Soy Sauce Ramen|Pack|Japan|0.25\n",
    "2571|KOKA|The Original Spicy Stir-Fried Noodles|Pack|Singapore|2.5\n",
    "\n",
    "Columns and corresponing data types for the dataset are follows.\n",
    "- `int: Review #`: review id number, the more recent the review is, the bigger the number is\n",
    "- `str: Brand`: brand / manufacture of the product\n",
    "- `str: Variety`: title of the product\n",
    "- `str: Style`: categorical styles of the products, cup, pack or tray\n",
    "- `str: Country`: country of origin\n",
    "- `float: stars`: star rating of each product\n",
    "\n",
    "## Table of Samples\n",
    "### -c Option (Under construction)\n",
    "- [Selected Columns]\n",
    "- [Single Attributes]\n",
    "- [Multiple Attributes]\n",
    "\n",
    "### -o Option\n",
    "**Output File Format**<br>\n",
    "- [Builtin File Format](#builtin_ff)\n",
    "- [Arbitrary Column Separators](#col_separator)\n",
    "\n",
    "#### Destination\n",
    "- [Regular File](#reg_file)\n",
    "- [Named Pipe](#named_pipe)\n",
    "- [Pipe](#pipe)\n",
    "\n",
    "#### Behavior\n",
    "- [notitle](#notitle)\n",
    "- [app](#app)\n",
    "\n",
    "**Note:**<br>\n",
    "For simplicity, we'll be using [bash parameter substitution](https://www.cyberciti.biz/tips/bash-shell-parameter-substitution-2.html) for filename and column specs, `file` and `cols` accordingly.\n",
    "\n",
    "\n",
    "Now that's out of the way, let's get started!\n",
    "\n",
    "By default without output options, data will be outputted to standard output as a stream, separated by comma."
   ]
  },
  {
   "cell_type": "code",
   "execution_count": 5,
   "metadata": {},
   "outputs": [
    {
     "name": "stdout",
     "output_type": "stream",
     "text": [
      "\"reviewID\",\"brand\",\"variety\",\"style\",\"country\",\"stars\"\n",
      "2580,\"New Touch\",\"T's Restaurant Tantanmen \",\"Cup\",\"Japan\",3.75\n",
      "2579,\"Just Way\",\"Noodles Spicy Hot Sesame Spicy Hot Sesame Guan-miao Noodles\",\"Pack\",\"Taiwan\",1\n",
      "2578,\"Nissin\",\"Cup Noodles Chicken Vegetable\",\"Cup\",\"USA\",2.25\n",
      "2577,\"Wei Lih\",\"GGE Ramen Snack Tomato Flavor\",\"Pack\",\"Taiwan\",2.75\n",
      "2576,\"Ching's Secret\",\"Singapore Curry\",\"Pack\",\"India\",3.75\n",
      "2575,\"Samyang Foods\",\"Kimchi song Song Ramen\",\"Pack\",\"South Korea\",4.75\n",
      "2574,\"Acecook\",\"Spice Deli Tantan Men With Cilantro\",\"Cup\",\"Japan\",4\n",
      "2573,\"Ikeda Shoku\",\"Nabeyaki Kitsune Udon\",\"Tray\",\"Japan\",3.75\n",
      "2572,\"Ripe'n'Dry\",\"Hokkaido Soy Sauce Ramen\",\"Pack\",\"Japan\",0.25\n"
     ]
    }
   ],
   "source": [
    "# First store filename and column spec in variable to simplify commands\n",
    "file=\"data/aq_pp/ramen-ratings-part.csv\"\n",
    "cols=\"i:reviewID s:brand s:variety s:style s:country f:stars\"\n",
    "\n",
    "aq_pp -f,+1 $file -d $cols "
   ]
  },
  {
   "cell_type": "markdown",
   "metadata": {},
   "source": [
    "## `-c` (Under construction)\n",
    "\n",
    "<a id='selected_col'></a>\n",
    "### Selected Columns\n",
    "Let's try to selectly output desired columns only. We'll just have to provide column names only, like below.\n",
    "Note that there's **no need to provide data types for ouput column spec**."
   ]
  },
  {
   "cell_type": "code",
   "execution_count": 7,
   "metadata": {},
   "outputs": [
    {
     "name": "stdout",
     "output_type": "stream",
     "text": [
      "\"brand\",\"country\",\"stars\"\n",
      "\"New Touch\",\"Japan\",3.75\n",
      "\"Just Way\",\"Taiwan\",1\n",
      "\"Nissin\",\"USA\",2.25\n",
      "\"Wei Lih\",\"Taiwan\",2.75\n",
      "\"Ching's Secret\",\"India\",3.75\n",
      "\"Samyang Foods\",\"South Korea\",4.75\n",
      "\"Acecook\",\"Japan\",4\n",
      "\"Ikeda Shoku\",\"Japan\",3.75\n",
      "\"Ripe'n'Dry\",\"Japan\",0.25\n"
     ]
    }
   ],
   "source": [
    "aq_pp -f,+1 $file -d $cols -c brand country stars"
   ]
  },
  {
   "cell_type": "markdown",
   "metadata": {},
   "source": [
    "<a id='alt_col_lab'></a>\n",
    "### Alternative Column Labels\n",
    "\n",
    "We can have the command to output the columns using alternative column labels. You have to specify by `ColName:NewColName`. Let's change few column names such as `variety`, `stars`."
   ]
  },
  {
   "cell_type": "code",
   "execution_count": 8,
   "metadata": {},
   "outputs": [
    {
     "name": "stdout",
     "output_type": "stream",
     "text": [
      "\"brand\",\"product_name\",\"Review\"\n",
      "\"New Touch\",\"T's Restaurant Tantanmen \",3.75\n",
      "\"Just Way\",\"Noodles Spicy Hot Sesame Spicy Hot Sesame Guan-miao Noodles\",1\n",
      "\"Nissin\",\"Cup Noodles Chicken Vegetable\",2.25\n",
      "\"Wei Lih\",\"GGE Ramen Snack Tomato Flavor\",2.75\n",
      "\"Ching's Secret\",\"Singapore Curry\",3.75\n",
      "\"Samyang Foods\",\"Kimchi song Song Ramen\",4.75\n",
      "\"Acecook\",\"Spice Deli Tantan Men With Cilantro\",4\n",
      "\"Ikeda Shoku\",\"Nabeyaki Kitsune Udon\",3.75\n",
      "\"Ripe'n'Dry\",\"Hokkaido Soy Sauce Ramen\",0.25\n"
     ]
    }
   ],
   "source": [
    "aq_pp -f,+1 $file -d $cols -c brand variety:product_name stars:Review"
   ]
  },
  {
   "cell_type": "markdown",
   "metadata": {},
   "source": [
    "### Width\n",
    "This option allows users to specify the numbers of characters (by bytes) to output per column. You'd use it like `colName:n=5`, in which 5 characters from left will be outputted. Let's take a look."
   ]
  },
  {
   "cell_type": "code",
   "execution_count": 30,
   "metadata": {},
   "outputs": [
    {
     "name": "stdout",
     "output_type": "stream",
     "text": [
      "\"varie\"\n",
      "\"T's R\"\n",
      "\"Noodl\"\n",
      "\"Cup N\"\n",
      "\"GGE R\"\n",
      "\"Singa\"\n",
      "\"Kimch\"\n",
      "\"Spice\"\n",
      "\"Nabey\"\n",
      "\"Hokka\"\n"
     ]
    }
   ],
   "source": [
    "aq_pp -f,+1 $file -d $cols -c variety,n=7"
   ]
  },
  {
   "cell_type": "markdown",
   "metadata": {},
   "source": [
    "**`-` option**<br>\n",
    "You can specify the width from right side using `-` option."
   ]
  },
  {
   "cell_type": "code",
   "execution_count": 29,
   "metadata": {},
   "outputs": [
    {
     "name": "stdout",
     "output_type": "stream",
     "text": [
      "\"riety\"\n",
      "\"nmen \"\n",
      "\"odles\"\n",
      "\"table\"\n",
      "\"lavor\"\n",
      "\"Curry\"\n",
      "\"Ramen\"\n",
      "\"antro\"\n",
      "\" Udon\"\n",
      "\"Ramen\"\n"
     ]
    }
   ],
   "source": [
    "aq_pp -f,+1 $file -d $cols -c variety,n=-7"
   ]
  },
  {
   "cell_type": "markdown",
   "metadata": {},
   "source": [
    "### PrintFormat\n",
    "Using this, we can specify the format of numerical column output. "
   ]
  },
  {
   "cell_type": "code",
   "execution_count": null,
   "metadata": {},
   "outputs": [],
   "source": []
  },
  {
   "cell_type": "markdown",
   "metadata": {},
   "source": [
    "## `-o`\n",
    "## Output File Format\n",
    "\n",
    "<a id='builtin_ff'></a>\n",
    "### Builtin File Format\n",
    "Let's say you would like to output the data in different format. \n",
    "\n",
    "**TSV**<br>\n",
    "Some of the options used on the command below are\n",
    "\n",
    "- `-o,tsv`: **Attribute:** `tsv` tells it to output as tsv format.\n",
    "- ` - `: **FileName:** tells command to output to stdout. (We use `-` character for demonstration purpose, but feel free to use any filename to write on your file!)"
   ]
  },
  {
   "cell_type": "code",
   "execution_count": 2,
   "metadata": {},
   "outputs": [
    {
     "name": "stdout",
     "output_type": "stream",
     "text": [
      "reviewID\tbrand\tvariety\tstyle\tcountry\tstars\n",
      "2580\tNew Touch\tT's Restaurant Tantanmen \tCup\tJapan\t3.75\n",
      "2579\tJust Way\tNoodles Spicy Hot Sesame Spicy Hot Sesame Guan-miao Noodles\tPack\tTaiwan\t1\n",
      "2578\tNissin\tCup Noodles Chicken Vegetable\tCup\tUSA\t2.25\n",
      "2577\tWei Lih\tGGE Ramen Snack Tomato Flavor\tPack\tTaiwan\t2.75\n",
      "2576\tChing's Secret\tSingapore Curry\tPack\tIndia\t3.75\n",
      "2575\tSamyang Foods\tKimchi song Song Ramen\tPack\tSouth Korea\t4.75\n",
      "2574\tAcecook\tSpice Deli Tantan Men With Cilantro\tCup\tJapan\t4\n",
      "2573\tIkeda Shoku\tNabeyaki Kitsune Udon\tTray\tJapan\t3.75\n",
      "2572\tRipe'n'Dry\tHokkaido Soy Sauce Ramen\tPack\tJapan\t0.25\n"
     ]
    }
   ],
   "source": [
    "aq_pp -f,+1 $file -d $cols -o,tsv -"
   ]
  },
  {
   "cell_type": "markdown",
   "metadata": {},
   "source": [
    "You can see that the columns are separated by tab, instead of comma like the original file.\n",
    "\n",
    "You can also output it as Json format by giving `jsn` attribute."
   ]
  },
  {
   "cell_type": "code",
   "execution_count": 3,
   "metadata": {},
   "outputs": [
    {
     "name": "stdout",
     "output_type": "stream",
     "text": [
      "{\"reviewID\":2580,\"brand\":\"New Touch\",\"variety\":\"T's Restaurant Tantanmen \",\"style\":\"Cup\",\"country\":\"Japan\",\"stars\":3.75}\n",
      "{\"reviewID\":2579,\"brand\":\"Just Way\",\"variety\":\"Noodles Spicy Hot Sesame Spicy Hot Sesame Guan-miao Noodles\",\"style\":\"Pack\",\"country\":\"Taiwan\",\"stars\":1}\n",
      "{\"reviewID\":2578,\"brand\":\"Nissin\",\"variety\":\"Cup Noodles Chicken Vegetable\",\"style\":\"Cup\",\"country\":\"USA\",\"stars\":2.25}\n",
      "{\"reviewID\":2577,\"brand\":\"Wei Lih\",\"variety\":\"GGE Ramen Snack Tomato Flavor\",\"style\":\"Pack\",\"country\":\"Taiwan\",\"stars\":2.75}\n",
      "{\"reviewID\":2576,\"brand\":\"Ching's Secret\",\"variety\":\"Singapore Curry\",\"style\":\"Pack\",\"country\":\"India\",\"stars\":3.75}\n",
      "{\"reviewID\":2575,\"brand\":\"Samyang Foods\",\"variety\":\"Kimchi song Song Ramen\",\"style\":\"Pack\",\"country\":\"South Korea\",\"stars\":4.75}\n",
      "{\"reviewID\":2574,\"brand\":\"Acecook\",\"variety\":\"Spice Deli Tantan Men With Cilantro\",\"style\":\"Cup\",\"country\":\"Japan\",\"stars\":4}\n",
      "{\"reviewID\":2573,\"brand\":\"Ikeda Shoku\",\"variety\":\"Nabeyaki Kitsune Udon\",\"style\":\"Tray\",\"country\":\"Japan\",\"stars\":3.75}\n",
      "{\"reviewID\":2572,\"brand\":\"Ripe'n'Dry\",\"variety\":\"Hokkaido Soy Sauce Ramen\",\"style\":\"Pack\",\"country\":\"Japan\",\"stars\":0.25}\n"
     ]
    }
   ],
   "source": [
    "aq_pp -f,+1 $file -d $cols -o,jsn -"
   ]
  },
  {
   "cell_type": "markdown",
   "metadata": {},
   "source": [
    "<a id='col_separator'></a>\n",
    "### Arbitrary Column Separators\n",
    "\n",
    "Besides the file type options above, output spec let you specify your own separator. Let's say I'd like to separate the columns by `|` character. This can be achieved by providing the character to `sep` attributes, like below."
   ]
  },
  {
   "cell_type": "code",
   "execution_count": 7,
   "metadata": {},
   "outputs": [
    {
     "name": "stdout",
     "output_type": "stream",
     "text": [
      "reviewID|brand|variety|style|country|stars\n",
      "2580|New Touch|T's Restaurant Tantanmen |Cup|Japan|3.75\n",
      "2579|Just Way|Noodles Spicy Hot Sesame Spicy Hot Sesame Guan-miao Noodles|Pack|Taiwan|1\n",
      "2578|Nissin|Cup Noodles Chicken Vegetable|Cup|USA|2.25\n",
      "2577|Wei Lih|GGE Ramen Snack Tomato Flavor|Pack|Taiwan|2.75\n",
      "2576|Ching's Secret|Singapore Curry|Pack|India|3.75\n",
      "2575|Samyang Foods|Kimchi song Song Ramen|Pack|South Korea|4.75\n",
      "2574|Acecook|Spice Deli Tantan Men With Cilantro|Cup|Japan|4\n",
      "2573|Ikeda Shoku|Nabeyaki Kitsune Udon|Tray|Japan|3.75\n",
      "2572|Ripe'n'Dry|Hokkaido Soy Sauce Ramen|Pack|Japan|0.25\n"
     ]
    }
   ],
   "source": [
    "aq_pp -f,+1 $file -d $cols -o,sep=\"|\" -"
   ]
  },
  {
   "cell_type": "markdown",
   "metadata": {},
   "source": [
    "You can use any characters, **as long as they're one byte character**. As an another example, using `%`, we get"
   ]
  },
  {
   "cell_type": "code",
   "execution_count": 8,
   "metadata": {},
   "outputs": [
    {
     "name": "stdout",
     "output_type": "stream",
     "text": [
      "reviewID%brand%variety%style%country%stars\n",
      "2580%New Touch%T's Restaurant Tantanmen %Cup%Japan%3.75\n",
      "2579%Just Way%Noodles Spicy Hot Sesame Spicy Hot Sesame Guan-miao Noodles%Pack%Taiwan%1\n",
      "2578%Nissin%Cup Noodles Chicken Vegetable%Cup%USA%2.25\n",
      "2577%Wei Lih%GGE Ramen Snack Tomato Flavor%Pack%Taiwan%2.75\n",
      "2576%Ching's Secret%Singapore Curry%Pack%India%3.75\n",
      "2575%Samyang Foods%Kimchi song Song Ramen%Pack%South Korea%4.75\n",
      "2574%Acecook%Spice Deli Tantan Men With Cilantro%Cup%Japan%4\n",
      "2573%Ikeda Shoku%Nabeyaki Kitsune Udon%Tray%Japan%3.75\n",
      "2572%Ripe'n'Dry%Hokkaido Soy Sauce Ramen%Pack%Japan%0.25\n"
     ]
    }
   ],
   "source": [
    "aq_pp -f,+1 $file -d $cols -o,sep=\"%\" -"
   ]
  },
  {
   "cell_type": "markdown",
   "metadata": {},
   "source": [
    "Feel free to try with the separator of your choice."
   ]
  },
  {
   "cell_type": "code",
   "execution_count": null,
   "metadata": {},
   "outputs": [],
   "source": [
    "aq_pp -f,+1 $file -d $cols -o,sep=\"\" -"
   ]
  },
  {
   "cell_type": "markdown",
   "metadata": {},
   "source": [
    "## Destination\n",
    "\n",
    "Instead of outputting to standard output with `-` character, we can also output data to other destinations. On this notebook we'll take a look at 3 options.\n",
    "- regular file\n",
    "- named pipe\n",
    "- [pipe](https://thoughtbot.com/blog/input-output-redirection-in-the-shell)\n",
    "\n",
    "<a id='reg_file'></a>\n",
    "### Regular File\n",
    "\n",
    "Provide output's filename instead of `-` character. \n",
    "Let's start with simply outputting the ramen dataset to a local file called `result.csv`.\n",
    "\n",
    "All of the output files from this section will be saved under `outputs/` directory."
   ]
  },
  {
   "cell_type": "code",
   "execution_count": 13,
   "metadata": {},
   "outputs": [
    {
     "name": "stdout",
     "output_type": "stream",
     "text": [
      "append.txt  overwrite.txt  result.txt\n"
     ]
    }
   ],
   "source": [
    "# look around the outputs/ directory, if result.csv already exist you can delete by rm.\n",
    "ls outputs/"
   ]
  },
  {
   "cell_type": "code",
   "execution_count": 5,
   "metadata": {},
   "outputs": [],
   "source": [
    "# run this command to output to the file\n",
    "aq_pp -f,+1 $file -d $cols -o outputs/result.csv"
   ]
  },
  {
   "cell_type": "markdown",
   "metadata": {},
   "source": [
    "That should have written the output to the file. Using `cat` command, we can look inside of the file."
   ]
  },
  {
   "cell_type": "code",
   "execution_count": null,
   "metadata": {},
   "outputs": [],
   "source": [
    "cat outputs/result.csv"
   ]
  },
  {
   "cell_type": "markdown",
   "metadata": {},
   "source": [
    "You can specify any types of attributes when writing on a file as well. For instance we can save it as .json file."
   ]
  },
  {
   "cell_type": "code",
   "execution_count": 12,
   "metadata": {},
   "outputs": [
    {
     "name": "stdout",
     "output_type": "stream",
     "text": [
      "{\"reviewID\":2580,\"brand\":\"New Touch\",\"variety\":\"T's Restaurant Tantanmen \",\"style\":\"Cup\",\"country\":\"Japan\",\"stars\":3.75}\n",
      "{\"reviewID\":2579,\"brand\":\"Just Way\",\"variety\":\"Noodles Spicy Hot Sesame Spicy Hot Sesame Guan-miao Noodles\",\"style\":\"Pack\",\"country\":\"Taiwan\",\"stars\":1}\n",
      "{\"reviewID\":2578,\"brand\":\"Nissin\",\"variety\":\"Cup Noodles Chicken Vegetable\",\"style\":\"Cup\",\"country\":\"USA\",\"stars\":2.25}\n",
      "{\"reviewID\":2577,\"brand\":\"Wei Lih\",\"variety\":\"GGE Ramen Snack Tomato Flavor\",\"style\":\"Pack\",\"country\":\"Taiwan\",\"stars\":2.75}\n",
      "{\"reviewID\":2576,\"brand\":\"Ching's Secret\",\"variety\":\"Singapore Curry\",\"style\":\"Pack\",\"country\":\"India\",\"stars\":3.75}\n",
      "{\"reviewID\":2575,\"brand\":\"Samyang Foods\",\"variety\":\"Kimchi song Song Ramen\",\"style\":\"Pack\",\"country\":\"South Korea\",\"stars\":4.75}\n",
      "{\"reviewID\":2574,\"brand\":\"Acecook\",\"variety\":\"Spice Deli Tantan Men With Cilantro\",\"style\":\"Cup\",\"country\":\"Japan\",\"stars\":4}\n",
      "{\"reviewID\":2573,\"brand\":\"Ikeda Shoku\",\"variety\":\"Nabeyaki Kitsune Udon\",\"style\":\"Tray\",\"country\":\"Japan\",\"stars\":3.75}\n",
      "{\"reviewID\":2572,\"brand\":\"Ripe'n'Dry\",\"variety\":\"Hokkaido Soy Sauce Ramen\",\"style\":\"Pack\",\"country\":\"Japan\",\"stars\":0.25}\n"
     ]
    }
   ],
   "source": [
    "aq_pp -f,+1 $file -d $cols -o,jsn outputs/result.json\n",
    "cat outputs/result.json"
   ]
  },
  {
   "cell_type": "markdown",
   "metadata": {},
   "source": [
    "**Arbitrary Separators for output**<br>\n",
    "You can also use any character as a column separator. Try with any character of your choice, by changing string value at `sep=` attribute."
   ]
  },
  {
   "cell_type": "code",
   "execution_count": 14,
   "metadata": {},
   "outputs": [
    {
     "name": "stdout",
     "output_type": "stream",
     "text": [
      "reviewID^brand^variety^style^country^stars\n",
      "2580^New Touch^T's Restaurant Tantanmen ^Cup^Japan^3.75\n",
      "2579^Just Way^Noodles Spicy Hot Sesame Spicy Hot Sesame Guan-miao Noodles^Pack^Taiwan^1\n",
      "2578^Nissin^Cup Noodles Chicken Vegetable^Cup^USA^2.25\n",
      "2577^Wei Lih^GGE Ramen Snack Tomato Flavor^Pack^Taiwan^2.75\n",
      "2576^Ching's Secret^Singapore Curry^Pack^India^3.75\n",
      "2575^Samyang Foods^Kimchi song Song Ramen^Pack^South Korea^4.75\n",
      "2574^Acecook^Spice Deli Tantan Men With Cilantro^Cup^Japan^4\n",
      "2573^Ikeda Shoku^Nabeyaki Kitsune Udon^Tray^Japan^3.75\n",
      "2572^Ripe'n'Dry^Hokkaido Soy Sauce Ramen^Pack^Japan^0.25\n"
     ]
    }
   ],
   "source": [
    "aq_pp -f,+1 $file -d $cols -o,sep=\"^\" outputs/result.txt\n",
    "cat outputs/result.txt"
   ]
  },
  {
   "cell_type": "markdown",
   "metadata": {},
   "source": [
    "<a id=named_pipe></a>\n",
    "### Named Pipe\n",
    "\n",
    "Data can be also outputted to named pipe, and can be processed in other bash session. \n",
    "\n",
    "In order to output to named pipe, first create a named pipe, then provide `fifo@PipeName` as `File` argument to `-o` option, where `PipeName` is the named pipe's path. \n",
    "The program also create the pipe if it does not exist. \n",
    "\n",
    "Named pipe does not work on the jupyter notebook, so we'll just demonstrate it in the cells below, as TERMINAL 1 and TERMINAL 2."
   ]
  },
  {
   "cell_type": "markdown",
   "metadata": {},
   "source": [
    "```bash\n",
    "# TERMINAL 1\n",
    "# make the pipe \n",
    "\n",
    "mkfifo cigar\n",
    "```"
   ]
  },
  {
   "cell_type": "markdown",
   "metadata": {},
   "source": [
    "```bash\n",
    "# TERMINAL 2\n",
    "# outputting to the pipe named cigar\n",
    "aq_pp -f,+1 $file -d $cols -o fifo@cigar\n",
    "```"
   ]
  },
  {
   "cell_type": "markdown",
   "metadata": {},
   "source": [
    "<a id='pipe'></a>\n",
    "### Pipe\n",
    "\n",
    "Pipe (unamed pipe) is not a part of aq-output options, yet is extremely useful when providing an output from one command to another. \n",
    "\n",
    "For more details on linux pipe and redirection, I found [this post](https://thoughtbot.com/blog/input-output-redirection-in-the-shell) very useful.\n",
    "\n",
    "In this example, we'll pipe the output from `aq_pp` command into [`head`](https://www.geeksforgeeks.org/head-command-linux-examples/) command which will output top 5 lines, but feel free to pipe the output into other command as well."
   ]
  },
  {
   "cell_type": "code",
   "execution_count": 3,
   "metadata": {},
   "outputs": [
    {
     "name": "stdout",
     "output_type": "stream",
     "text": [
      "\"reviewID\",\"brand\",\"variety\",\"style\",\"country\",\"stars\"\n",
      "2580,\"New Touch\",\"T's Restaurant Tantanmen \",\"Cup\",\"Japan\",3.75\n",
      "2579,\"Just Way\",\"Noodles Spicy Hot Sesame Spicy Hot Sesame Guan-miao Noodles\",\"Pack\",\"Taiwan\",1\n",
      "2578,\"Nissin\",\"Cup Noodles Chicken Vegetable\",\"Cup\",\"USA\",2.25\n",
      "2577,\"Wei Lih\",\"GGE Ramen Snack Tomato Flavor\",\"Pack\",\"Taiwan\",2.75\n"
     ]
    }
   ],
   "source": [
    "aq_pp -f,+1 $file -d $cols | head -n 5"
   ]
  },
  {
   "cell_type": "markdown",
   "metadata": {},
   "source": [
    "Piping the output to `sort` command. You can see that the output is sorted based on the reviewID column."
   ]
  },
  {
   "cell_type": "code",
   "execution_count": 17,
   "metadata": {},
   "outputs": [
    {
     "name": "stdout",
     "output_type": "stream",
     "text": [
      "2572,\"Ripe'n'Dry\",\"Hokkaido Soy Sauce Ramen\",\"Pack\",\"Japan\",0.25\n",
      "2573,\"Ikeda Shoku\",\"Nabeyaki Kitsune Udon\",\"Tray\",\"Japan\",3.75\n",
      "2574,\"Acecook\",\"Spice Deli Tantan Men With Cilantro\",\"Cup\",\"Japan\",4\n",
      "2575,\"Samyang Foods\",\"Kimchi song Song Ramen\",\"Pack\",\"South Korea\",4.75\n",
      "2576,\"Ching's Secret\",\"Singapore Curry\",\"Pack\",\"India\",3.75\n",
      "2577,\"Wei Lih\",\"GGE Ramen Snack Tomato Flavor\",\"Pack\",\"Taiwan\",2.75\n",
      "2578,\"Nissin\",\"Cup Noodles Chicken Vegetable\",\"Cup\",\"USA\",2.25\n",
      "2579,\"Just Way\",\"Noodles Spicy Hot Sesame Spicy Hot Sesame Guan-miao Noodles\",\"Pack\",\"Taiwan\",1\n",
      "2580,\"New Touch\",\"T's Restaurant Tantanmen \",\"Cup\",\"Japan\",3.75\n",
      "\"reviewID\",\"brand\",\"variety\",\"style\",\"country\",\"stars\"\n"
     ]
    }
   ],
   "source": [
    "aq_pp -f,+1 $file -d $cols -o - | sort -"
   ]
  },
  {
   "cell_type": "markdown",
   "metadata": {},
   "source": [
    "When using piping with `-o` option, just make sure to specify stdout (`-`) as `FileName` so that next command can take input from stdout."
   ]
  },
  {
   "cell_type": "markdown",
   "metadata": {},
   "source": [
    "## Behavior\n",
    "Through attributes, we can change and specify the outputting behavior. We'll go over just 2 of them briefly, which are\n",
    "\n",
    "- `notitle`: skip the header\n",
    "- `app`: append on file instead of overwriting\n",
    "\n",
    "<a id='notitle'></a>\n",
    "### notitle\n",
    "\n",
    "Let's see `notitle` in action, outputting the ramen data to stdout."
   ]
  },
  {
   "cell_type": "code",
   "execution_count": 24,
   "metadata": {},
   "outputs": [
    {
     "name": "stdout",
     "output_type": "stream",
     "text": [
      "2580,\"New Touch\",\"T's Restaurant Tantanmen \",\"Cup\",\"Japan\",3.75\n",
      "2579,\"Just Way\",\"Noodles Spicy Hot Sesame Spicy Hot Sesame Guan-miao Noodles\",\"Pack\",\"Taiwan\",1\n",
      "2578,\"Nissin\",\"Cup Noodles Chicken Vegetable\",\"Cup\",\"USA\",2.25\n",
      "2577,\"Wei Lih\",\"GGE Ramen Snack Tomato Flavor\",\"Pack\",\"Taiwan\",2.75\n",
      "2576,\"Ching's Secret\",\"Singapore Curry\",\"Pack\",\"India\",3.75\n",
      "2575,\"Samyang Foods\",\"Kimchi song Song Ramen\",\"Pack\",\"South Korea\",4.75\n",
      "2574,\"Acecook\",\"Spice Deli Tantan Men With Cilantro\",\"Cup\",\"Japan\",4\n",
      "2573,\"Ikeda Shoku\",\"Nabeyaki Kitsune Udon\",\"Tray\",\"Japan\",3.75\n",
      "2572,\"Ripe'n'Dry\",\"Hokkaido Soy Sauce Ramen\",\"Pack\",\"Japan\",0.25\n"
     ]
    }
   ],
   "source": [
    "aq_pp -f,+1 $file -d $cols -o,notitle -"
   ]
  },
  {
   "cell_type": "markdown",
   "metadata": {},
   "source": [
    "As you can see, the column names are not displayed (skipped) with this option.\n",
    "\n",
    "<a id='app'></a>\n",
    "### app\n",
    "\n",
    "Next option append output instead of overwriting on a file. To understand this better, we'll demonstrate writing on file with and without `app` option.\n",
    "\n",
    "**Without `app` option**<br>\n",
    "\n",
    "`overwrite.txt` contains some text. Here is what it looks like initially."
   ]
  },
  {
   "cell_type": "code",
   "execution_count": 18,
   "metadata": {},
   "outputs": [
    {
     "name": "stdout",
     "output_type": "stream",
     "text": [
      "Roses are red, violets are blue\n",
      "\n",
      "Unexpected ‘{‘ on line 32\n"
     ]
    }
   ],
   "source": [
    "# content of the file\n",
    "cat outputs/overwrite.txt"
   ]
  },
  {
   "cell_type": "markdown",
   "metadata": {},
   "source": [
    "It contains a paragraph of text, now let's write on it and see what happens.\n",
    "\n",
    "Run this following cell to write on a file, and output the result by `cat` command."
   ]
  },
  {
   "cell_type": "code",
   "execution_count": null,
   "metadata": {},
   "outputs": [],
   "source": [
    "# now overwrite the file\n",
    "aq_pp -f,+1 $file -d $cols -o outputs/overwrite.txt\n",
    "\n",
    "# check the result\n",
    "cat outputs/overwrite.txt"
   ]
  },
  {
   "cell_type": "markdown",
   "metadata": {},
   "source": [
    "You can see that the file is completely overwritten, and the original content is gone.\n",
    "This is the default behavior of output spec. \n",
    "\n",
    "**With `app`**\n",
    "\n",
    "Now we have other file with same content, named `append.txt`. "
   ]
  },
  {
   "cell_type": "code",
   "execution_count": 15,
   "metadata": {},
   "outputs": [
    {
     "name": "stdout",
     "output_type": "stream",
     "text": [
      "Roses are red, violets are blue\n",
      "\n",
      "Unexpected ‘{‘ on line 32\n"
     ]
    }
   ],
   "source": [
    "# first the original content of the file\n",
    "cat outputs/append.txt"
   ]
  },
  {
   "cell_type": "markdown",
   "metadata": {},
   "source": [
    "Now with `app` option, let's see the result"
   ]
  },
  {
   "cell_type": "code",
   "execution_count": null,
   "metadata": {},
   "outputs": [],
   "source": [
    "aq_pp -f,+1 $file -d $cols -o,app outputs/append.txt\n",
    "\n",
    "# check the result\n",
    "cat outputs/append.txt"
   ]
  },
  {
   "cell_type": "markdown",
   "metadata": {},
   "source": [
    "The ramen dataset data is appended at the bottom of the file, maintaining the original content at top. This is handy when you're adding new records to existing dataset."
   ]
  }
 ],
 "metadata": {
  "kernelspec": {
   "display_name": "Bash",
   "language": "bash",
   "name": "bash"
  },
  "language_info": {
   "codemirror_mode": "shell",
   "file_extension": ".sh",
   "mimetype": "text/x-sh",
   "name": "bash"
  }
 },
 "nbformat": 4,
 "nbformat_minor": 2
}
