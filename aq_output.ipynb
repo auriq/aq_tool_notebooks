{
 "cells": [
  {
   "cell_type": "markdown",
   "metadata": {},
   "source": [
    "# aq_output \n",
    "\n",
    "This notebook goes over aq_output's options and it's sample usages. \n",
    "Based on AQ Tools version: 2.0.1-1.\n",
    "\n",
    "It is an option to specify aq_tools data output destinations, format, and behaviors. \n",
    "\n",
    "\n",
    "## Prerequisites\n",
    "Users are assumed to be equipped with decent knowledge of\n",
    "- bash commands\n",
    "- Basic knowledge of `aq_pp` command. \n",
    "- input, column and output spec for aq_tools\n",
    "\n",
    "\n",
    "## Syntax\n",
    "Specifying `-o` flag to use this option like below,\n",
    "\n",
    "```bash\n",
    "aq_command .. -o[,ArtLst] File ...\n",
    "```\n",
    "where\n",
    "- `[,ArtLst]`: list of _attributes_, separated by commas\n",
    "- `File`: Specifies _destination_ of data, such as filename, stream or pipe\n",
    "\n",
    "This option usually is placed at the end of aq_commands, after other specs, in order to specify the output formats/filetype and output behaviors.\n",
    "\n",
    "Here are some of the available attributes and types of destination that you can specify as `File` argument.\n",
    "\n",
    "### Destination\n",
    "\n",
    "Using output specification, you can specify to where you output your data, from regular file, stream to stdout or named pipe. \n",
    "We will take a look of each examples below.\n",
    "\n",
    "- regular file\n",
    "- stream to stdout\n",
    "- stream to named pipe\n",
    "\n",
    "\n",
    "### Attributes\n",
    "\n",
    "#### Output File Format\n",
    "Some major file formats can be specified directory by attributes, such as \n",
    "- `csv`, `tsv`: comma or tab separated file\n",
    "- `jsn`: jason object format\n",
    "\n",
    "You can also specify your own separator by \n",
    "- `sep`\n",
    "option.\n",
    "\n",
    "\n",
    "#### Behavior\n",
    "- `notitle`: this tells aq_commands to skip the first line (header)of the output, and only output the data records\n",
    "- `esc`: ????\n",
    "- `app`: append the output to a file instead of overwriting it.\n",
    "\n",
    "\n",
    "## Data\n",
    "\n",
    "We'll be using [Ramen Ratings Dataset](https://www.kaggle.com/residentmario/ramen-ratings) from kaggle for this notebook, which looks like below.\n",
    "\n",
    "Review|Brand|Variety|Style|Country|Stars\n",
    "---|---|---|---|---|---|\n",
    "2580|New Touch|T's Restaurant Tantanmen|Cup|Japan|3.75\n",
    "2579|Just Way|Noodles Spicy Hot Sesame Spicy Hot Sesame Guan-miao Noodles|Pack|Taiwan|1\n",
    "2578|Nissin|Cup Noodles Chicken Vegetable|Cup|USA|2.25\n",
    "2577|Wei Lih|GGE Ramen Snack Tomato Flavor|Pack|Taiwan|2.75\n",
    "2576|Ching's Secret|Singapore Curry|Pack|India|3.75\n",
    "2575|Samyang Foods|Kimchi song Song Ramen|Pack|South Korea|4.75\n",
    "2574|Acecook|Spice Deli Tantan Men With Cilantro|Cup|Japan|4\n",
    "2573|Ikeda Shoku|Nabeyaki Kitsune Udon|Tray|Japan|3.75\n",
    "2572|Ripe'n'Dry|Hokkaido Soy Sauce Ramen|Pack|Japan|0.25\n",
    "2571|KOKA|The Original Spicy Stir-Fried Noodles|Pack|Singapore|2.5\n",
    "\n",
    "Columns and corresponing data types for the dataset are follows.\n",
    "- `int: Review #`: review id number, the more recent the review is, the bigger the number is\n",
    "- `str: Brand`: brand / manufacture of the product\n",
    "- `str: Variety`: title of the product\n",
    "- `str: Style`: categorical styles of the products, cup, pack or tray\n",
    "- `str: Country`: country of origin\n",
    "- `float: stars`: star rating of each product\n",
    "\n",
    "\n",
    "\n",
    "By default without `-o` option, data will be outputted to standard output as a stream, separated by comma."
   ]
  },
  {
   "cell_type": "code",
   "execution_count": 1,
   "metadata": {},
   "outputs": [
    {
     "name": "stdout",
     "output_type": "stream",
     "text": [
      "\"reviewID\",\"brand\",\"variety\",\"style\",\"country\",\"stars\"\n",
      "2580,\"New Touch\",\"T's Restaurant Tantanmen \",\"Cup\",\"Japan\",3.75\n",
      "2579,\"Just Way\",\"Noodles Spicy Hot Sesame Spicy Hot Sesame Guan-miao Noodles\",\"Pack\",\"Taiwan\",1\n",
      "2578,\"Nissin\",\"Cup Noodles Chicken Vegetable\",\"Cup\",\"USA\",2.25\n",
      "2577,\"Wei Lih\",\"GGE Ramen Snack Tomato Flavor\",\"Pack\",\"Taiwan\",2.75\n",
      "2576,\"Ching's Secret\",\"Singapore Curry\",\"Pack\",\"India\",3.75\n",
      "2575,\"Samyang Foods\",\"Kimchi song Song Ramen\",\"Pack\",\"South Korea\",4.75\n",
      "2574,\"Acecook\",\"Spice Deli Tantan Men With Cilantro\",\"Cup\",\"Japan\",4\n",
      "2573,\"Ikeda Shoku\",\"Nabeyaki Kitsune Udon\",\"Tray\",\"Japan\",3.75\n",
      "2572,\"Ripe'n'Dry\",\"Hokkaido Soy Sauce Ramen\",\"Pack\",\"Japan\",0.25\n"
     ]
    }
   ],
   "source": [
    "# First store filename and column spec in variable to simplify commands\n",
    "file=\"data/aq_pp/ramen-ratings-part.csv\"\n",
    "cols=\"i:reviewID s:brand s:variety s:style s:country f:stars\"\n",
    "# now create a column called double_rating, and assign the value of 2 * stars\n",
    "aq_pp -f,+1 $file -d $cols"
   ]
  },
  {
   "cell_type": "markdown",
   "metadata": {},
   "source": [
    "## Output File Format\n",
    "\n",
    "### Builtin File Format\n",
    "Let's say you would like to output in different format. Using output spec, we'll output the same data as tsv format, to stdout.\n"
   ]
  },
  {
   "cell_type": "code",
   "execution_count": 5,
   "metadata": {},
   "outputs": [
    {
     "name": "stdout",
     "output_type": "stream",
     "text": [
      "reviewID\tbrand\tvariety\tstyle\tcountry\tstars\n",
      "2580\tNew Touch\tT's Restaurant Tantanmen \tCup\tJapan\t3.75\n",
      "2579\tJust Way\tNoodles Spicy Hot Sesame Spicy Hot Sesame Guan-miao Noodles\tPack\tTaiwan\t1\n",
      "2578\tNissin\tCup Noodles Chicken Vegetable\tCup\tUSA\t2.25\n",
      "2577\tWei Lih\tGGE Ramen Snack Tomato Flavor\tPack\tTaiwan\t2.75\n",
      "2576\tChing's Secret\tSingapore Curry\tPack\tIndia\t3.75\n",
      "2575\tSamyang Foods\tKimchi song Song Ramen\tPack\tSouth Korea\t4.75\n",
      "2574\tAcecook\tSpice Deli Tantan Men With Cilantro\tCup\tJapan\t4\n",
      "2573\tIkeda Shoku\tNabeyaki Kitsune Udon\tTray\tJapan\t3.75\n",
      "2572\tRipe'n'Dry\tHokkaido Soy Sauce Ramen\tPack\tJapan\t0.25\n"
     ]
    }
   ],
   "source": [
    "aq_pp -f,+1 $file -d $cols -o,tsv -"
   ]
  },
  {
   "cell_type": "markdown",
   "metadata": {},
   "source": [
    "The taking a look at the command we've used `aq_pp ... -o,tsv -`,<br>\n",
    "- `-o,tsv`: `tsv` was given as attribute which tells it to output as tsv format.\n",
    "- ` - `: this option tells command to output to stdout.\n",
    "\n",
    "You can see that the columns are separated by tab. \n",
    "\n",
    "You can also output it as Json format by giving `jsn` attribute."
   ]
  },
  {
   "cell_type": "code",
   "execution_count": 6,
   "metadata": {},
   "outputs": [
    {
     "name": "stdout",
     "output_type": "stream",
     "text": [
      "{\"reviewID\":2580,\"brand\":\"New Touch\",\"variety\":\"T's Restaurant Tantanmen \",\"style\":\"Cup\",\"country\":\"Japan\",\"stars\":3.75}\n",
      "{\"reviewID\":2579,\"brand\":\"Just Way\",\"variety\":\"Noodles Spicy Hot Sesame Spicy Hot Sesame Guan-miao Noodles\",\"style\":\"Pack\",\"country\":\"Taiwan\",\"stars\":1}\n",
      "{\"reviewID\":2578,\"brand\":\"Nissin\",\"variety\":\"Cup Noodles Chicken Vegetable\",\"style\":\"Cup\",\"country\":\"USA\",\"stars\":2.25}\n",
      "{\"reviewID\":2577,\"brand\":\"Wei Lih\",\"variety\":\"GGE Ramen Snack Tomato Flavor\",\"style\":\"Pack\",\"country\":\"Taiwan\",\"stars\":2.75}\n",
      "{\"reviewID\":2576,\"brand\":\"Ching's Secret\",\"variety\":\"Singapore Curry\",\"style\":\"Pack\",\"country\":\"India\",\"stars\":3.75}\n",
      "{\"reviewID\":2575,\"brand\":\"Samyang Foods\",\"variety\":\"Kimchi song Song Ramen\",\"style\":\"Pack\",\"country\":\"South Korea\",\"stars\":4.75}\n",
      "{\"reviewID\":2574,\"brand\":\"Acecook\",\"variety\":\"Spice Deli Tantan Men With Cilantro\",\"style\":\"Cup\",\"country\":\"Japan\",\"stars\":4}\n",
      "{\"reviewID\":2573,\"brand\":\"Ikeda Shoku\",\"variety\":\"Nabeyaki Kitsune Udon\",\"style\":\"Tray\",\"country\":\"Japan\",\"stars\":3.75}\n",
      "{\"reviewID\":2572,\"brand\":\"Ripe'n'Dry\",\"variety\":\"Hokkaido Soy Sauce Ramen\",\"style\":\"Pack\",\"country\":\"Japan\",\"stars\":0.25}\n"
     ]
    }
   ],
   "source": [
    "aq_pp -f,+1 $file -d $cols -o,jsn -"
   ]
  },
  {
   "cell_type": "markdown",
   "metadata": {},
   "source": [
    "### Arbitrary Separators\n",
    "\n",
    "Besides the options above, output spec let you specify your own separator. Let's say I'd like to separate the columns by `|`. This can be achieved by giving the character to `sep` attributes, like below."
   ]
  },
  {
   "cell_type": "code",
   "execution_count": 7,
   "metadata": {},
   "outputs": [
    {
     "name": "stdout",
     "output_type": "stream",
     "text": [
      "reviewID|brand|variety|style|country|stars\n",
      "2580|New Touch|T's Restaurant Tantanmen |Cup|Japan|3.75\n",
      "2579|Just Way|Noodles Spicy Hot Sesame Spicy Hot Sesame Guan-miao Noodles|Pack|Taiwan|1\n",
      "2578|Nissin|Cup Noodles Chicken Vegetable|Cup|USA|2.25\n",
      "2577|Wei Lih|GGE Ramen Snack Tomato Flavor|Pack|Taiwan|2.75\n",
      "2576|Ching's Secret|Singapore Curry|Pack|India|3.75\n",
      "2575|Samyang Foods|Kimchi song Song Ramen|Pack|South Korea|4.75\n",
      "2574|Acecook|Spice Deli Tantan Men With Cilantro|Cup|Japan|4\n",
      "2573|Ikeda Shoku|Nabeyaki Kitsune Udon|Tray|Japan|3.75\n",
      "2572|Ripe'n'Dry|Hokkaido Soy Sauce Ramen|Pack|Japan|0.25\n"
     ]
    }
   ],
   "source": [
    "aq_pp -f,+1 $file -d $cols -o,sep=\"|\" -"
   ]
  },
  {
   "cell_type": "markdown",
   "metadata": {},
   "source": [
    "You can use any characters, as long as they're one byte character. Using `%`, we get"
   ]
  },
  {
   "cell_type": "code",
   "execution_count": 12,
   "metadata": {},
   "outputs": [
    {
     "name": "stdout",
     "output_type": "stream",
     "text": [
      "reviewID%brand%variety%style%country%stars\n",
      "2580%New Touch%T's Restaurant Tantanmen %Cup%Japan%3.75\n",
      "2579%Just Way%Noodles Spicy Hot Sesame Spicy Hot Sesame Guan-miao Noodles%Pack%Taiwan%1\n",
      "2578%Nissin%Cup Noodles Chicken Vegetable%Cup%USA%2.25\n",
      "2577%Wei Lih%GGE Ramen Snack Tomato Flavor%Pack%Taiwan%2.75\n",
      "2576%Ching's Secret%Singapore Curry%Pack%India%3.75\n",
      "2575%Samyang Foods%Kimchi song Song Ramen%Pack%South Korea%4.75\n",
      "2574%Acecook%Spice Deli Tantan Men With Cilantro%Cup%Japan%4\n",
      "2573%Ikeda Shoku%Nabeyaki Kitsune Udon%Tray%Japan%3.75\n",
      "2572%Ripe'n'Dry%Hokkaido Soy Sauce Ramen%Pack%Japan%0.25\n"
     ]
    }
   ],
   "source": [
    "aq_pp -f,+1 $file -d $cols -o,sep=\"%\" -"
   ]
  },
  {
   "cell_type": "markdown",
   "metadata": {},
   "source": [
    "## Destination\n",
    "\n",
    "We've been outputting to stdout in this notebook so far, but several other options are available as well.\n",
    "\n",
    "### Regular File\n",
    "\n",
    "Instead of providing `-` character, you can provide a file name to write the output on file. Let's start with simply outputting the ramen dataset to a local file called `result.csv`. "
   ]
  },
  {
   "cell_type": "code",
   "execution_count": 13,
   "metadata": {},
   "outputs": [],
   "source": [
    "aq_pp -f,+1 $file -d $cols -o result.csv"
   ]
  },
  {
   "cell_type": "markdown",
   "metadata": {},
   "source": [
    "That should have written the output to the file. Using `cat` command, we can look inside of the file."
   ]
  },
  {
   "cell_type": "code",
   "execution_count": 14,
   "metadata": {},
   "outputs": [
    {
     "name": "stdout",
     "output_type": "stream",
     "text": [
      "\"reviewID\",\"brand\",\"variety\",\"style\",\"country\",\"stars\"\n",
      "2580,\"New Touch\",\"T's Restaurant Tantanmen \",\"Cup\",\"Japan\",3.75\n",
      "2579,\"Just Way\",\"Noodles Spicy Hot Sesame Spicy Hot Sesame Guan-miao Noodles\",\"Pack\",\"Taiwan\",1\n",
      "2578,\"Nissin\",\"Cup Noodles Chicken Vegetable\",\"Cup\",\"USA\",2.25\n",
      "2577,\"Wei Lih\",\"GGE Ramen Snack Tomato Flavor\",\"Pack\",\"Taiwan\",2.75\n",
      "2576,\"Ching's Secret\",\"Singapore Curry\",\"Pack\",\"India\",3.75\n",
      "2575,\"Samyang Foods\",\"Kimchi song Song Ramen\",\"Pack\",\"South Korea\",4.75\n",
      "2574,\"Acecook\",\"Spice Deli Tantan Men With Cilantro\",\"Cup\",\"Japan\",4\n",
      "2573,\"Ikeda Shoku\",\"Nabeyaki Kitsune Udon\",\"Tray\",\"Japan\",3.75\n",
      "2572,\"Ripe'n'Dry\",\"Hokkaido Soy Sauce Ramen\",\"Pack\",\"Japan\",0.25\n"
     ]
    }
   ],
   "source": [
    "cat result.csv"
   ]
  },
  {
   "cell_type": "markdown",
   "metadata": {},
   "source": [
    "You can specify any types of attributes when writing on a file as well. For instance we can save it as .json file."
   ]
  },
  {
   "cell_type": "code",
   "execution_count": 16,
   "metadata": {},
   "outputs": [
    {
     "name": "stdout",
     "output_type": "stream",
     "text": [
      "{\"reviewID\":2580,\"brand\":\"New Touch\",\"variety\":\"T's Restaurant Tantanmen \",\"style\":\"Cup\",\"country\":\"Japan\",\"stars\":3.75}\n",
      "{\"reviewID\":2579,\"brand\":\"Just Way\",\"variety\":\"Noodles Spicy Hot Sesame Spicy Hot Sesame Guan-miao Noodles\",\"style\":\"Pack\",\"country\":\"Taiwan\",\"stars\":1}\n",
      "{\"reviewID\":2578,\"brand\":\"Nissin\",\"variety\":\"Cup Noodles Chicken Vegetable\",\"style\":\"Cup\",\"country\":\"USA\",\"stars\":2.25}\n",
      "{\"reviewID\":2577,\"brand\":\"Wei Lih\",\"variety\":\"GGE Ramen Snack Tomato Flavor\",\"style\":\"Pack\",\"country\":\"Taiwan\",\"stars\":2.75}\n",
      "{\"reviewID\":2576,\"brand\":\"Ching's Secret\",\"variety\":\"Singapore Curry\",\"style\":\"Pack\",\"country\":\"India\",\"stars\":3.75}\n",
      "{\"reviewID\":2575,\"brand\":\"Samyang Foods\",\"variety\":\"Kimchi song Song Ramen\",\"style\":\"Pack\",\"country\":\"South Korea\",\"stars\":4.75}\n",
      "{\"reviewID\":2574,\"brand\":\"Acecook\",\"variety\":\"Spice Deli Tantan Men With Cilantro\",\"style\":\"Cup\",\"country\":\"Japan\",\"stars\":4}\n",
      "{\"reviewID\":2573,\"brand\":\"Ikeda Shoku\",\"variety\":\"Nabeyaki Kitsune Udon\",\"style\":\"Tray\",\"country\":\"Japan\",\"stars\":3.75}\n",
      "{\"reviewID\":2572,\"brand\":\"Ripe'n'Dry\",\"variety\":\"Hokkaido Soy Sauce Ramen\",\"style\":\"Pack\",\"country\":\"Japan\",\"stars\":0.25}\n"
     ]
    }
   ],
   "source": [
    "aq_pp -f,+1 $file -d $cols -o,jsn result.json\n",
    "cat result.json"
   ]
  },
  {
   "cell_type": "markdown",
   "metadata": {},
   "source": [
    "Or even use separator of your choice."
   ]
  },
  {
   "cell_type": "code",
   "execution_count": 15,
   "metadata": {},
   "outputs": [
    {
     "name": "stdout",
     "output_type": "stream",
     "text": [
      "reviewID^brand^variety^style^country^stars\n",
      "2580^New Touch^T's Restaurant Tantanmen ^Cup^Japan^3.75\n",
      "2579^Just Way^Noodles Spicy Hot Sesame Spicy Hot Sesame Guan-miao Noodles^Pack^Taiwan^1\n",
      "2578^Nissin^Cup Noodles Chicken Vegetable^Cup^USA^2.25\n",
      "2577^Wei Lih^GGE Ramen Snack Tomato Flavor^Pack^Taiwan^2.75\n",
      "2576^Ching's Secret^Singapore Curry^Pack^India^3.75\n",
      "2575^Samyang Foods^Kimchi song Song Ramen^Pack^South Korea^4.75\n",
      "2574^Acecook^Spice Deli Tantan Men With Cilantro^Cup^Japan^4\n",
      "2573^Ikeda Shoku^Nabeyaki Kitsune Udon^Tray^Japan^3.75\n",
      "2572^Ripe'n'Dry^Hokkaido Soy Sauce Ramen^Pack^Japan^0.25\n"
     ]
    }
   ],
   "source": [
    "aq_pp -f,+1 $file -d $cols -o,sep=\"^\" result.txt\n",
    "cat result.txt"
   ]
  },
  {
   "cell_type": "markdown",
   "metadata": {},
   "source": [
    "### Named Pipe\n",
    "\n",
    "Data can be also outputted to named pipe, and can be processed in other bash session. \n",
    "\n",
    "In order to output to named pipe, first create a named pipe, then provide `fifo@PipeName` as `File` argument to `-o` option, where `PipeName` is the named pipe's path. \n",
    "The program also create the pipe if it does not exist. \n",
    "\n",
    "Named pipe does not work on the jupyter notebook, so we'll just demonstrate it in the cells below, as TERMINAL 1 and TERMINAL 2."
   ]
  },
  {
   "cell_type": "code",
   "execution_count": 23,
   "metadata": {},
   "outputs": [],
   "source": [
    "# TERMINAL 1\n",
    "# make the pipe \n",
    "\n",
    "mkfifo cigar"
   ]
  },
  {
   "cell_type": "code",
   "execution_count": 25,
   "metadata": {},
   "outputs": [
    {
     "name": "stdout",
     "output_type": "stream",
     "text": [
      "\r\n"
     ]
    }
   ],
   "source": [
    "# TERMINAL 2\n",
    "# outputting to the pipe named cigar\n",
    "aq_pp -f,+1 $file -d $cols -o fifo@cigar"
   ]
  },
  {
   "cell_type": "markdown",
   "metadata": {},
   "source": [
    "## Behavior\n",
    "Through attributes, we can change and specify the outputting behavior. We'll go over just 2 of them briefly here, which are\n",
    "\n",
    "- `notitle`: skip the header\n",
    "- `app`: append on file instead of overwriting\n",
    "\n",
    "### notitle\n",
    "\n",
    "Let's see `notitle` in action, outputting the ramen data to stdout."
   ]
  },
  {
   "cell_type": "code",
   "execution_count": 24,
   "metadata": {},
   "outputs": [
    {
     "name": "stdout",
     "output_type": "stream",
     "text": [
      "2580,\"New Touch\",\"T's Restaurant Tantanmen \",\"Cup\",\"Japan\",3.75\n",
      "2579,\"Just Way\",\"Noodles Spicy Hot Sesame Spicy Hot Sesame Guan-miao Noodles\",\"Pack\",\"Taiwan\",1\n",
      "2578,\"Nissin\",\"Cup Noodles Chicken Vegetable\",\"Cup\",\"USA\",2.25\n",
      "2577,\"Wei Lih\",\"GGE Ramen Snack Tomato Flavor\",\"Pack\",\"Taiwan\",2.75\n",
      "2576,\"Ching's Secret\",\"Singapore Curry\",\"Pack\",\"India\",3.75\n",
      "2575,\"Samyang Foods\",\"Kimchi song Song Ramen\",\"Pack\",\"South Korea\",4.75\n",
      "2574,\"Acecook\",\"Spice Deli Tantan Men With Cilantro\",\"Cup\",\"Japan\",4\n",
      "2573,\"Ikeda Shoku\",\"Nabeyaki Kitsune Udon\",\"Tray\",\"Japan\",3.75\n",
      "2572,\"Ripe'n'Dry\",\"Hokkaido Soy Sauce Ramen\",\"Pack\",\"Japan\",0.25\n"
     ]
    }
   ],
   "source": [
    "aq_pp -f,+1 $file -d $cols -o,notitle -"
   ]
  },
  {
   "cell_type": "markdown",
   "metadata": {},
   "source": [
    "As you can see, the column names are not displayed (skipped) with this option.\n",
    "\n",
    "### app\n",
    "\n",
    "Next option append instead of overwrite on a file. To understand this better, we'll demonstrate writing on file with and without `app` option.\n",
    "\n",
    "**Without `app` option**<br>\n",
    "\n",
    "`overwrite.txt` contains some text. Here is what it looks like"
   ]
  },
  {
   "cell_type": "code",
   "execution_count": 27,
   "metadata": {},
   "outputs": [
    {
     "name": "stdout",
     "output_type": "stream",
     "text": [
      "\n",
      "Roses are Red,\n",
      "Violets are Blue\n",
      "\n",
      "Unexpected '{' \n",
      "on line 32.\n"
     ]
    }
   ],
   "source": [
    "# content of the file\n",
    "cat overwrite.txt"
   ]
  },
  {
   "cell_type": "markdown",
   "metadata": {},
   "source": [
    "It contains a paragraph of text, now let's write on it and see what happens."
   ]
  },
  {
   "cell_type": "code",
   "execution_count": 28,
   "metadata": {},
   "outputs": [
    {
     "name": "stdout",
     "output_type": "stream",
     "text": [
      "\"reviewID\",\"brand\",\"variety\",\"style\",\"country\",\"stars\"\n",
      "2580,\"New Touch\",\"T's Restaurant Tantanmen \",\"Cup\",\"Japan\",3.75\n",
      "2579,\"Just Way\",\"Noodles Spicy Hot Sesame Spicy Hot Sesame Guan-miao Noodles\",\"Pack\",\"Taiwan\",1\n",
      "2578,\"Nissin\",\"Cup Noodles Chicken Vegetable\",\"Cup\",\"USA\",2.25\n",
      "2577,\"Wei Lih\",\"GGE Ramen Snack Tomato Flavor\",\"Pack\",\"Taiwan\",2.75\n",
      "2576,\"Ching's Secret\",\"Singapore Curry\",\"Pack\",\"India\",3.75\n",
      "2575,\"Samyang Foods\",\"Kimchi song Song Ramen\",\"Pack\",\"South Korea\",4.75\n",
      "2574,\"Acecook\",\"Spice Deli Tantan Men With Cilantro\",\"Cup\",\"Japan\",4\n",
      "2573,\"Ikeda Shoku\",\"Nabeyaki Kitsune Udon\",\"Tray\",\"Japan\",3.75\n",
      "2572,\"Ripe'n'Dry\",\"Hokkaido Soy Sauce Ramen\",\"Pack\",\"Japan\",0.25\n"
     ]
    }
   ],
   "source": [
    "# now overwrite the file\n",
    "aq_pp -f,+1 $file -d $cols -o overwrite.txt\n",
    "\n",
    "# check the result\n",
    "cat overwrite.txt"
   ]
  },
  {
   "cell_type": "markdown",
   "metadata": {},
   "source": [
    "You can see that the file is completely overwritten, and the original content is gone.\n",
    "This is the default behavior of output spec. \n",
    "\n",
    "**With `app`**\n",
    "\n",
    "Now we have other file with same content, named `append.txt`. "
   ]
  },
  {
   "cell_type": "code",
   "execution_count": 33,
   "metadata": {},
   "outputs": [
    {
     "name": "stdout",
     "output_type": "stream",
     "text": [
      "\n",
      "Roses are Red,\n",
      "Violets are Blue\n",
      "\n",
      "Unexpected '{' \n",
      "on line 32.\n",
      "\n"
     ]
    }
   ],
   "source": [
    "# first the content of the file\n",
    "cat append.txt"
   ]
  },
  {
   "cell_type": "markdown",
   "metadata": {},
   "source": [
    "Now with the option, "
   ]
  },
  {
   "cell_type": "code",
   "execution_count": 34,
   "metadata": {},
   "outputs": [
    {
     "name": "stdout",
     "output_type": "stream",
     "text": [
      "\n",
      "Roses are Red,\n",
      "Violets are Blue\n",
      "\n",
      "Unexpected '{' \n",
      "on line 32.\n",
      "\n",
      "\"reviewID\",\"brand\",\"variety\",\"style\",\"country\",\"stars\"\n",
      "2580,\"New Touch\",\"T's Restaurant Tantanmen \",\"Cup\",\"Japan\",3.75\n",
      "2579,\"Just Way\",\"Noodles Spicy Hot Sesame Spicy Hot Sesame Guan-miao Noodles\",\"Pack\",\"Taiwan\",1\n",
      "2578,\"Nissin\",\"Cup Noodles Chicken Vegetable\",\"Cup\",\"USA\",2.25\n",
      "2577,\"Wei Lih\",\"GGE Ramen Snack Tomato Flavor\",\"Pack\",\"Taiwan\",2.75\n",
      "2576,\"Ching's Secret\",\"Singapore Curry\",\"Pack\",\"India\",3.75\n",
      "2575,\"Samyang Foods\",\"Kimchi song Song Ramen\",\"Pack\",\"South Korea\",4.75\n",
      "2574,\"Acecook\",\"Spice Deli Tantan Men With Cilantro\",\"Cup\",\"Japan\",4\n",
      "2573,\"Ikeda Shoku\",\"Nabeyaki Kitsune Udon\",\"Tray\",\"Japan\",3.75\n",
      "2572,\"Ripe'n'Dry\",\"Hokkaido Soy Sauce Ramen\",\"Pack\",\"Japan\",0.25\n"
     ]
    }
   ],
   "source": [
    "aq_pp -f,+1 $file -d $cols -o,app append.txt\n",
    "\n",
    "# check the result\n",
    "cat append.txt"
   ]
  },
  {
   "cell_type": "markdown",
   "metadata": {},
   "source": [
    "The ramen dataset data is appended at the bottom of the file, maintaining the original content at top. This is handy when you're adding new records to existing dataset."
   ]
  }
 ],
 "metadata": {
  "kernelspec": {
   "display_name": "Bash",
   "language": "bash",
   "name": "bash"
  },
  "language_info": {
   "codemirror_mode": "shell",
   "file_extension": ".sh",
   "mimetype": "text/x-sh",
   "name": "bash"
  }
 },
 "nbformat": 4,
 "nbformat_minor": 2
}
