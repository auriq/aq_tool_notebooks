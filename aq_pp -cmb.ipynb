{
 "cells": [
  {
   "cell_type": "markdown",
   "metadata": {},
   "source": [
    "# aq_pp -cmb\n",
    "\n",
    "## Intuition\n",
    "`-cmb` is an option to apply lookup table file (right table) on the original dataset (left table), based on join key column that are common in both tables. Based on join key column's value on the left table, it looks up for the matching record on the right table, and join the record horizontally to the left table.<br>\n",
    "This option assumes that there are no duplicated key values on both tables, but when there are, \n",
    "- **On Left Table** - Keeps all of the table's records regardless of duplication or match, unless otherwise specified by option.\n",
    "- **On Right Table** - only keeps the first match occurence when there are multiple matching duplicated records.\n",
    "\n",
    "It takes a bit to wrap your head around this, but no worries we'll cover each cases on this notebook.\n",
    "\n",
    "### Prerequisite\n",
    "Readers are expected to have knowledge of the followings:\n",
    "- bash and its commands\n",
    "- aq_tool's [input, column](aq_input.ipynb) and [output](aq_output.ipynb) specs\n",
    "- basic knowledge of SQL joins\n",
    "\n",
    "## Syntax and Attributes\n",
    "\n",
    "Details for this is available at [aq_pp -cmb](http://auriq.com/documentation/source/reference/manpages/aq_pp.html#cmb), so have it open so that you can refer to it as you go along this notebook.\n",
    "\n",
    "## Data\n",
    "We will use 2 tables for this example, one with a person's name and user IDs, the other with the user IDs and thier likes (or hobbies). They looks like below.\n",
    "\n",
    "\n",
    "<h4><center>Users.csv (Left Table)</center></h4>\n",
    "\n",
    "id|name                   \n",
    "--|----\n",
    "1|Patrik\n",
    "1|Smith\n",
    "2|Albert\n",
    "3|Maria\n",
    "4|Darwin\n",
    "5|Elizabeth\n",
    "5|Taylor\n",
    "\n",
    "<br>\n",
    "\n",
    "<h4><center>Likes.csv (Right Table)</center></h4>\n",
    "\n",
    "id|likes\n",
    "--|-----\n",
    "4|Apples\n",
    "5|Debate\n",
    "5|Dancing\n",
    "6|History\n",
    "7|Hiking\n",
    "8|Swimming\n",
    "\n",
    "Note that there are duplicates on both tables, such as \n",
    "* `users.csv`\n",
    "    * User ID 1, Patrik also entered his last name by accident, \"Smith\"\n",
    "    * User ID 5, Elizabeth entered her last name \"Taylor\".\n",
    "* `likes.csv`\n",
    "    * User ID 5 has two hobbies, \"Debate\" and \"Dancing\"\n",
    "    \n",
    "We'll set the join key column as `id`.\n",
    "\n",
    "## Samples\n",
    "\n",
    "### Default Behavior\n",
    "\n",
    "Let's start with the default behavior of the option. We'll be joining the 2 tables and Users.csv as left (as input spec to `aq_pp`) and Likes.csv as right (as input to `-cmb` option).\n"
   ]
  },
  {
   "cell_type": "code",
   "execution_count": 9,
   "metadata": {},
   "outputs": [
    {
     "name": "stdout",
     "output_type": "stream",
     "text": [
      "\"id\",\"name\",\"likes\"\n",
      "1,\"Patrik\",\n",
      "1,\"Smith\",\n",
      "2,\"Albert\",\n",
      "3,\"Maria\",\n",
      "4,\"Darwin\",\"Apples\"\n",
      "5,\"Elizabeth\",\"Debate\"\n",
      "5,\"Taylor\",\"Debate\"\n"
     ]
    }
   ],
   "source": [
    "## Set up the file's path \n",
    "users=\"data/aq_pp/cmb/users.csv\"\n",
    "likes=\"data/aq_pp/cmb/likes.csv\"\n",
    "\n",
    "aq_pp -f,+1 $users -d i:id s:name -cmb,+1 $likes i:id s:likes"
   ]
  },
  {
   "cell_type": "markdown",
   "metadata": {},
   "source": [
    "Several important things to note on default behavior of the option:\n",
    "* All the records from left table were retained regardless of duplicates or matches.\n",
    "* Out of 2 duplicate matching records from right table (ID: 5, Likes of \"Debate\" and \"Dancing\"), only the first one was joined to left table's ID: 5, Names of \"Elizabeth\" and \"Taylor\".\n"
   ]
  },
  {
   "cell_type": "markdown",
   "metadata": {},
   "source": [
    "### Attributes\n",
    "\n",
    "Let's go over 2 attributes available to change lookup behaviors.\n",
    "\n",
    "**`req`**<br>\n",
    "\n",
    "On the example above, the unmatched records from the left table (\"Patrik\", \"Albert\" and \"Maria\") were still present on the result. \n",
    "We can use `req` option to keep only matching records from both tables."
   ]
  },
  {
   "cell_type": "code",
   "execution_count": 10,
   "metadata": {
    "scrolled": true
   },
   "outputs": [
    {
     "name": "stdout",
     "output_type": "stream",
     "text": [
      "\"id\",\"name\",\"likes\"\n",
      "4,\"Darwin\",\"Apples\"\n",
      "5,\"Elizabeth\",\"Debate\"\n",
      "5,\"Taylor\",\"Debate\"\n"
     ]
    }
   ],
   "source": [
    "aq_pp -f,+1 $users -d i:id s:name -cmb,+1,req $likes i:id s:likes"
   ]
  },
  {
   "cell_type": "markdown",
   "metadata": {},
   "source": [
    "**`all`**<br>\n",
    "\n",
    "This attribute allow the option to retain all of the duplicated matchinig records from the right table. "
   ]
  },
  {
   "cell_type": "code",
   "execution_count": 17,
   "metadata": {},
   "outputs": [
    {
     "name": "stdout",
     "output_type": "stream",
     "text": [
      "\"id\",\"name\",\"likes\"\n",
      "1,\"Patrik\",\n",
      "1,\"Smith\",\n",
      "2,\"Albert\",\n",
      "3,\"Maria\",\n",
      "4,\"Darwin\",\"Apples\"\n",
      "5,\"Elizabeth\",\"Debate\"\n",
      "5,\"Elizabeth\",\"Dancing\"\n",
      "5,\"Taylor\",\"Debate\"\n",
      "5,\"Taylor\",\"Dancing\"\n"
     ]
    }
   ],
   "source": [
    "aq_pp -f,+1 $users -d i:id s:name -cmb,+1,all $likes i:id s:likes"
   ]
  },
  {
   "cell_type": "markdown",
   "metadata": {},
   "source": [
    "You can see that now both of \"Dancing\" and \"Debate\" from right table for ID: 5 are present in the result."
   ]
  },
  {
   "cell_type": "markdown",
   "metadata": {},
   "source": [
    "### SQL `-cmb` version\n",
    "\n",
    "By using `-cmb` option, you can achieve SQL equivalent of left/right inner join and inner join.\n",
    "\n",
    "**Left/Right Inner Join**<br>\n",
    "\n",
    "Left join will retain all of the records from left table (Users.csv), and retain the records from right table (Likes.csv) only when there's a match.<br>\n",
    "Note that this demonstrates left join **with duplicates in key**. This can be achieved by using `all` option."
   ]
  },
  {
   "cell_type": "code",
   "execution_count": 12,
   "metadata": {},
   "outputs": [
    {
     "name": "stdout",
     "output_type": "stream",
     "text": [
      "\"id\",\"name\",\"likes\"\n",
      "1,\"Patrik\",\n",
      "1,\"Smith\",\n",
      "2,\"Albert\",\n",
      "3,\"Maria\",\n",
      "4,\"Darwin\",\"Apples\"\n",
      "5,\"Elizabeth\",\"Debate\"\n",
      "5,\"Elizabeth\",\"Dancing\"\n",
      "5,\"Taylor\",\"Debate\"\n",
      "5,\"Taylor\",\"Dancing\"\n"
     ]
    }
   ],
   "source": [
    "aq_pp -f,+1 $users -d i:id s:name -cmb,+1,all $likes i:id s:likes"
   ]
  },
  {
   "cell_type": "markdown",
   "metadata": {},
   "source": [
    "In order to perform right inner join, you can swap the dataset to provide to command, like example below."
   ]
  },
  {
   "cell_type": "code",
   "execution_count": 15,
   "metadata": {},
   "outputs": [
    {
     "name": "stdout",
     "output_type": "stream",
     "text": [
      "\"id\",\"Likes\",\"Name\"\n",
      "4,\"Apples\",\"Darwin\"\n",
      "5,\"Debate\",\"Elizabeth\"\n",
      "5,\"Debate\",\"Taylor\"\n",
      "5,\"Dancing\",\"Elizabeth\"\n",
      "5,\"Dancing\",\"Taylor\"\n",
      "6,\"History\",\n",
      "7,\"Hiking\",\n",
      "8,\"Swimming\",\n"
     ]
    }
   ],
   "source": [
    "aq_pp -f,+1 $likes -d i:id s:Likes -cmb,+1,all $users i:id s:Name"
   ]
  },
  {
   "cell_type": "markdown",
   "metadata": {},
   "source": [
    "It's a bit confusing since the result are displayed in reversed manner (left and right), but you can see that all records from right table (`likes.csv`) are present while only matching record from left table (`users.csv`) does."
   ]
  },
  {
   "cell_type": "markdown",
   "metadata": {},
   "source": [
    "**Inner Join**<br>\n",
    "\n",
    "To perform sql inner join (keep only matching records from left and right table, including duplicates), we will use both `all` and `req` option."
   ]
  },
  {
   "cell_type": "code",
   "execution_count": 16,
   "metadata": {},
   "outputs": [
    {
     "name": "stdout",
     "output_type": "stream",
     "text": [
      "\"id\",\"name\",\"likes\"\n",
      "4,\"Darwin\",\"Apples\"\n",
      "5,\"Elizabeth\",\"Debate\"\n",
      "5,\"Elizabeth\",\"Dancing\"\n",
      "5,\"Taylor\",\"Debate\"\n",
      "5,\"Taylor\",\"Dancing\"\n"
     ]
    }
   ],
   "source": [
    "aq_pp -f,+1 $users -d i:id s:name -cmb,+1,req,all $likes i:id s:likes"
   ]
  },
  {
   "cell_type": "markdown",
   "metadata": {},
   "source": [
    "\n",
    "\n"
   ]
  }
 ],
 "metadata": {
  "kernelspec": {
   "display_name": "Bash",
   "language": "bash",
   "name": "bash"
  },
  "language_info": {
   "codemirror_mode": "shell",
   "file_extension": ".sh",
   "mimetype": "text/x-sh",
   "name": "bash"
  }
 },
 "nbformat": 4,
 "nbformat_minor": 2
}
