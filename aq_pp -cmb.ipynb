{
 "cells": [
  {
   "cell_type": "markdown",
   "metadata": {},
   "source": [
    "# aq_pp -cmb\n",
    "\n",
    "## Overview\n",
    "`-cmb` option of `aq_pp` command combines 2 or more dataset into 1 **horizontally**. Unlike SQL though, this option assumes that there are no duplicates in join key(column). Therefore if there are matching duplicates key values, it will only extract the first record, and discard the rest by default. (There are option to do otherwise)\n",
    "\n",
    "We'll cover the basic usage of this option as well as usage in comparison to SQL joins.\n",
    "\n",
    "### Prerequisite\n",
    "Readers are expected to have knowledge of the followings:\n",
    "- bash and its commands\n",
    "- aq_tool's [input, column](aq_input.ipynb) and [output](aq_output.ipynb) specs\n",
    "- basic knowledge of SQL joins\n",
    "\n",
    "### Syntax \n",
    "\n",
    "Syntax of the option look like below.\n",
    "\n",
    "```aq_pp ... -cmb[,AtrLst] File [File ...] ColSpec [ColSpec ...] ```\n",
    "where\n",
    "- `AtrLst` - list of attributes that dectates join behaviors as well as input specification for `File`\n",
    "- `File` - name of the file(s) to join to the original file\n",
    "- `ColSpec` - Column specs of the `File` that you're combining.\n",
    "\n",
    "\n",
    "**`AtrLst`**<br>\n",
    "Because `-cmb` option _import_ the other file to join, it requires the set of input specification just like we specify with `-f` option. \n",
    "Besides that, there are some attributes that we can specify for join behavior, such as \n",
    "- `ncas` - Perform case insensitive match (default is case sensitive). For ASCII data only.\n",
    "- `req` - Discard unmatched records.\n",
    "- `all` - Use all matches. Normally, only the first match is used. With this attribute, one row is produced for each match.\n",
    "- `mrg` - Use merge mode. Records in the current data set and in the combine files must already be sorted according to the combine keys in the same order (default is ascending unless dec is given). Use this approach if the combine data is too large to fit into memory.\n",
    "- `dec` - Same as mrg except that all the data are sorted in descending order.\n",
    "\n",
    "\n",
    "**`ColSpec`**<br>\n",
    "This defines the column of the `File` to be combined on. There are 2 extensions besides the attributes on input column spec.\n",
    "- `key` - Marks a column as being a join key. It must be a common column. This is the default for a common column.\n",
    "- `cmb` - Marks a column to be combined into the current data set. This is the default for a non-common column. It is typically used to mark a common column as not a join key.\n",
    "\n",
    "\n",
    "**Default Behaviors**<br>\n",
    "There are 3 default behaviors of the option that you should be aware of. \n",
    "* Performs **case sensitive** match \n",
    "* When there are matches of same keys across several rows, only the first match is used (extracted). \n",
    "* This option keeps all the records from original input spec file regardless of match, while only keeping matched record from data provided to `-cmb` option as `File`.<br>\n",
    "We will be looking at each of these behavior in later examples.\n",
    "\n",
    "## Data\n",
    "We will use 2 tables for this example, one with a person's name and user IDs, the other with the user IDs and thier likes (or hobbies). They looks like below.\n",
    "\n",
    "\n",
    "<h4><center>Users.csv</center></h4>\n",
    "\n",
    "id|name|                   \n",
    "--|----|                   \n",
    "1|Patrik|                \n",
    "2|Albert|\n",
    "3|Maria|\n",
    "4|Darwin|\n",
    "5|Elizabeth|\n",
    "\n",
    "<br>\n",
    "\n",
    "<h4><center>Likes.csv</center></h4>\n",
    "\n",
    "id|likes|\n",
    "--|-----|\n",
    "1|Climbing|\n",
    "1|Code|\n",
    "3|Stars|\n",
    "6|Rugby|\n",
    "4|Apples|\n",
    "\n",
    "\n",
    "We will be performing the join on `id` column.\n",
    "\n",
    "## Samples\n",
    "\n",
    "### Default Behavior\n",
    "\n",
    "Let's start with the default behavior of the option. We'll be joining the 2 tables and Users.csv as left (as input spec to `aq_pp`) and Likes.csv as right (as input to `-cmb` option).\n"
   ]
  },
  {
   "cell_type": "code",
   "execution_count": 5,
   "metadata": {},
   "outputs": [
    {
     "name": "stdout",
     "output_type": "stream",
     "text": [
      "\"id\",\"name\",\"likes\"\n",
      "1,\"Patrik\",\"Climbing\"\n",
      "2,\"Albert\",\n",
      "3,\"Maria\",\"Stars\"\n",
      "4,\"Darwin\",\"Apples\"\n",
      "5,\"Elizabeth\",\n"
     ]
    }
   ],
   "source": [
    "## Set up the file's path \n",
    "users=\"data/aq_pp/cmb/users.csv\"\n",
    "likes=\"data/aq_pp/cmb/likes.csv\"\n",
    "\n",
    "aq_pp -f,+1 $users -d i:id s:name -cmb,+1 $likes i:id s:likes"
   ]
  },
  {
   "cell_type": "markdown",
   "metadata": {},
   "source": [
    "As you can see, \n",
    "1. there is only 1 \"Patrik\" with user ID of \"1\" present in the combined dataset, while the original Likes.csv dataset has 2 entry with user id of 2. This indicates that `-cmb` option is extracting the first match only.\n",
    "2. \"Albert\" with user id of \"2\" is present regardless of having no match, because it belongs to left data (Users.csv). Note that aq_tool fills out empty or NULL string records as an empty string.\n",
    "\n",
    "Note the `+1` attribute is used after `-cmb` option to skip the header in Likes.csv file."
   ]
  },
  {
   "cell_type": "markdown",
   "metadata": {},
   "source": [
    "### Attributes\n",
    "We'll go over 2 of the attributes here, `all` and `req`.\n",
    "\n",
    "**`all`**<br>\n",
    "Note that there are duplicated key in Likes.csv table, namely \"1\" values which corresponds to \"Patrik\" on the other table. By default `-cmb` will drop the second record, `all` attribute tells it to keep all matching records of \"Patrik\"."
   ]
  },
  {
   "cell_type": "code",
   "execution_count": 3,
   "metadata": {},
   "outputs": [
    {
     "name": "stdout",
     "output_type": "stream",
     "text": [
      "\"id\",\"name\",\"likes\"\n",
      "1,\"Patrik\",\"Climbing\"\n",
      "1,\"Patrik\",\"Code\"\n",
      "2,\"Albert\",\n",
      "3,\"Maria\",\"Stars\"\n",
      "4,\"Darwin\",\"Apples\"\n",
      "5,\"Elizabeth\",\n"
     ]
    }
   ],
   "source": [
    "aq_pp -f,+1 $users -d i:id s:name -cmb,+1,all $likes i:id s:likes"
   ]
  },
  {
   "cell_type": "markdown",
   "metadata": {},
   "source": [
    "Now there are 2 records for \"Patrik\", with different value in `likes` column. "
   ]
  },
  {
   "cell_type": "markdown",
   "metadata": {},
   "source": [
    "**`req`**<br>\n",
    "\n",
    "On the example above, the unmatched records from the left table (\"Albert\" and \"Elizabeth\") were still present on the result. \n",
    "We can use `req` option to keep only matching records from both tables."
   ]
  },
  {
   "cell_type": "code",
   "execution_count": 4,
   "metadata": {},
   "outputs": [
    {
     "name": "stdout",
     "output_type": "stream",
     "text": [
      "\"id\",\"name\",\"likes\"\n",
      "1,\"Patrik\",\"Climbing\"\n",
      "3,\"Maria\",\"Stars\"\n",
      "4,\"Darwin\",\"Apples\"\n"
     ]
    }
   ],
   "source": [
    "aq_pp -f,+1 $users -d i:id s:name -cmb,+1,req $likes i:id s:likes"
   ]
  },
  {
   "cell_type": "markdown",
   "metadata": {},
   "source": [
    "That removed the 2 unmatching records."
   ]
  },
  {
   "cell_type": "markdown",
   "metadata": {},
   "source": [
    "### SQL equivalent of each\n",
    "\n",
    "Let's perform each of 4 SQL joins using this option. \n",
    "\n",
    "**Left Join**<br>\n",
    "Left join will retain all of the records from left table (Users.csv), and retain the records from right table (Likes.csv) only when there's a match.<br>\n",
    "Note that this demonstrates left join **with duplicates in key**.\n"
   ]
  },
  {
   "cell_type": "code",
   "execution_count": null,
   "metadata": {},
   "outputs": [],
   "source": []
  },
  {
   "cell_type": "code",
   "execution_count": null,
   "metadata": {},
   "outputs": [],
   "source": []
  },
  {
   "cell_type": "code",
   "execution_count": null,
   "metadata": {},
   "outputs": [],
   "source": []
  },
  {
   "cell_type": "markdown",
   "metadata": {},
   "source": [
    "\n",
    "\n"
   ]
  }
 ],
 "metadata": {
  "kernelspec": {
   "display_name": "Bash",
   "language": "bash",
   "name": "bash"
  },
  "language_info": {
   "codemirror_mode": "shell",
   "file_extension": ".sh",
   "mimetype": "text/x-sh",
   "name": "bash"
  }
 },
 "nbformat": 4,
 "nbformat_minor": 2
}
