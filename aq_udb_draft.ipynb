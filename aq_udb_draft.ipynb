{
 "cells": [
  {
   "cell_type": "markdown",
   "metadata": {},
   "source": [
    "# UDB draft\n",
    "\n",
    "## ToC \n",
    "\n",
    "For `aq_udb`\n",
    "\n",
    "* Global_Opt:\n",
    "    * `[-verb] [-stat] [-test]` - test cmd args and exit, verbose, or print stats\n",
    "    * `[-rx DefRgxAtr]`\n",
    "    * `[-seed RandSeed]`\n",
    "    * `[-server AdrSpec [AdrSpec ...]] [-local]`\n",
    "\n",
    "* Mnt_Spec:\n",
    "    * `-crt[,AtrLst] DbName |` - create a database explicitly.\n",
    "    * `-alt[,AtrLst] DbName |` - alter the spec of existing database \n",
    "    * `-clr[,AtrLst] DbName[:TabName] |` - clear an entire DB or reset / remove data in table / vector\n",
    "    * `-inf[,AtrLst] DbName [-o[,AtrLst] File] |` - obtain some overall server and DB info\n",
    "    * `-probe[,AtrLst] DbName` - check the health of a server, and existence of a DB on it\n",
    "\n",
    "* Order_Spec:\n",
    "    * `-ord[,AtrLst] DbName[:TabName] [ColName ...] |` - sort keys in DB or sort record in table according to primary key. Done internally, no output\n",
    "    * `-shf[,AtrLst] DbName[:TabName]` - shuffle verson of `-ord` above.\n",
    "\n",
    "* Export_Spec:\n",
    "    * `-exp[,AtrLst] DbName[:TabName] |` - export data\n",
    "    * `-cnt[,AtrLst] DbName[:TabName] |` - count unique primary keys DB\n",
    "    * `-scn[,AtrLst] DbName[:TabName]` - scan data only, no output.\n",
    "    * `[-var ColName Val]` - set value of variable defined prior.\n",
    "    * `[-pp TabName ]` - gruop some other options together, to be executed within a group  \n",
    "        * bvar\n",
    "        * eval\n",
    "        * filt\n",
    "        * goto\n",
    "        * del \n",
    "        -endpp]\n",
    "        \n",
    "    * `[-bvar ColName Val]` - set value of column, before other processing roles are executed??\n",
    "    * `[-eval ColName Expr]` - just like `-eval` option from `aq_pp`\n",
    "    * `[-filt FilterSpec]` - `-filt` equivalent for `aq_pp`\n",
    "    * `[-goto DestSpec]` - go to `destination spec` which can be next value of primary key, or next row. \n",
    "    * `[-del_row | -del_key]` - delete current row in the DB.\n",
    "    * `[-mod ModSpec [ModSrc]` - load module to process each key during exp / scan etc\n",
    "    * `[-sort[,AtrLst] ColName ...]` - sort the data **as they exit the DB, not within it**. \n",
    "    * `[-lim_key Num]` - limit the export result to `Num` of unique keys. for data sampling. Not alwayas accurate.\n",
    "    * `[-lim_rec Num]` - limit the export result to `Num` of recordds\n",
    "    * `[-key_rec Num]` - SAME AS ABOVE ..... to `Num` of records per unique key\n",
    "    * `[-top|-last Num|Start:Count]`  - limit output to given range. \n",
    "    * `[-o[,AtrLst] File] [-c ColSpec [ColSpec ...]]` - output spec haha\n",
    "\n"
   ]
  }
 ],
 "metadata": {
  "kernelspec": {
   "display_name": "Bash",
   "language": "bash",
   "name": "bash"
  },
  "language_info": {
   "codemirror_mode": "shell",
   "file_extension": ".sh",
   "mimetype": "text/x-sh",
   "name": "bash"
  }
 },
 "nbformat": 4,
 "nbformat_minor": 2
}
