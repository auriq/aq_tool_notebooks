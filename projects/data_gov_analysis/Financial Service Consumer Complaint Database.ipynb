{
 "cells": [
  {
   "cell_type": "markdown",
   "metadata": {},
   "source": [
    "# Analysis of Financial Consumer Complaints Database\n",
    "\n",
    "This mini project goes over how Essentia can be used to explore data to analyze publically available data to gain insights.\n",
    "\n",
    "Data is available at open source [data of Consumer Complaint Database](https://catalog.data.gov/dataset/consumer-complaint-database#topic=consumer_navigation) from [Data.gov](https://www.data.gov/).\n",
    "\n",
    "A 5 minutes summary of this EDA project is available at [PivotBillions blog](https://pivotbillions.com/5-minute-analysis-of-data-gov-datasets-with-pivotbillions/), so please take a look at it. On this notebook we'll go over how data wrangling and transformation is done using Essentia.\n",
    "\n",
    "\n",
    "## Setup\n",
    "\n",
    "We'll first scan and create a category for the data, which is stored on s3 bucket named _essentia-playground_ , then take a brief look at the data's structures and schema.\n",
    "After that we'll start EDA using various aq_commands.\n"
   ]
  },
  {
   "cell_type": "code",
   "execution_count": 5,
   "metadata": {},
   "outputs": [
    {
     "name": "stdout",
     "output_type": "stream",
     "text": [
      "   0B Nov 19 22:01    /mini-projects/consumer-complaints/\n",
      " 831M Nov 19 22:01    /mini-projects/consumer-complaints/Consumer_Complaints.csv\n"
     ]
    }
   ],
   "source": [
    "# First we'll take a look at files in the s3 bucket\n",
    "ess select s3://essentia-playground\n",
    "ess ls mini-projects/consumer-complaints/"
   ]
  },
  {
   "cell_type": "code",
   "execution_count": 16,
   "metadata": {},
   "outputs": [
    {
     "name": "stdout",
     "output_type": "stream",
     "text": [
      "2019-11-19 23:07:06 ip-10-10-1-118 ess[8942]: Fetching file list from datastore.\n",
      "2019-11-19 23:07:06 ip-10-10-1-118 ess[8942]: Examining largest matched file to determine compression type: /mini-projects/consumer-complaints/Consumer_Complaints.csv\n",
      "2019-11-19 23:07:06 ip-10-10-1-118 ess[8942]: Probing largest matched file to determine data configuration: /mini-projects/consumer-complaints/Consumer_Complaints.csv\n",
      "Name:        compliants\n",
      "Pattern:     /mini-projects/consumer-complaints/*.csv\n",
      "Exclude:     None\n",
      "Date Format: auto\n",
      "Date Regex:  \n",
      "Archive:     \n",
      "Delimiter:   Comma\n",
      "# of files:  1\n",
      "Total size:  832.0MB\n",
      "File range:  1970-01-01 - 1970-01-01\n",
      "# columns:   18\n",
      "Column Spec: S:Date_received S:Product S:Sub_product S:Issue S:Sub_issue S:Consumer_complaint_narrative S:Company_public_response S:Company S:State S:ZIP_code S:Tags S:Consumer_consent_provided S:Submitted_via S:Date_sent_to_company S:Company_response_to_consumer S:Timely_response S:Consumer_disputed I:Complaint_ID\n",
      "Pkey: \n",
      "Schema: S:Date_received S:Product S:Sub_product S:Issue S:Sub_issue S:Consumer_complaint_narrative S:Company_public_response S:Company S:State S:ZIP_code S:Tags S:Consumer_consent_provided S:Submitted_via S:Date_sent_to_company S:Company_response_to_consumer S:Timely_response S:Consumer_disputed I:Complaint_ID\n",
      "Preprocess:  \n",
      "usecache:    False\n",
      "Comment:    \n",
      "\n",
      "First few lines:\n",
      "Date received,Product,Sub-product,Issue,Sub-issue,Consumer complaint narrative,Company public response,Company,State,ZIP code,Tags,Consumer consent provided?,Submitted via,Date sent to company,Company response to consumer,Timely response?,Consumer disputed?,Complaint ID\n",
      "08/09/2015,Credit reporting,,Incorrect information on credit report,Information is not mine,,Company chooses not to provide a public response,Experian Information Solutions Inc.,NJ,08872,,Consent not provided,Web,08/09/2015,Closed with non-monetary relief,Yes,No,1509954\n"
     ]
    }
   ],
   "source": [
    "# create a category, and display its summary and schemas\n",
    "ess category add complaints \"/mini-projects/consumer-complaints/*.csv\"\n",
    "ess summary compliants | head -n 21"
   ]
  },
  {
   "cell_type": "markdown",
   "metadata": {},
   "source": [
    "## EDA\n",
    "\n",
    "Now we'll move onto exploratory data analysis. Let's first take a look at change in numbers of complaints over the years. \n",
    "\n",
    "**Numbers of Complaints over the Years**<br>\n",
    "To do this, we can use column `date_received`, which looks like below."
   ]
  },
  {
   "cell_type": "code",
   "execution_count": 18,
   "metadata": {},
   "outputs": [
    {
     "name": "stdout",
     "output_type": "stream",
     "text": [
      "\"Date_received\"\n",
      "\"08/09/2015\"\n",
      "\"01/29/2019\"\n",
      "\"10/13/2019\"\n",
      "\"08/19/2015\"\n",
      "\"03/04/2016\"\n",
      "\"03/18/2013\"\n",
      "\"12/21/2011\"\n",
      "\"10/24/2018\"\n",
      "\"03/03/2018\"\n"
     ]
    }
   ],
   "source": [
    "ess stream complaints \"*\" \"*\"  \"aq_pp -f,+1 - -d %cols -c date_received | head -n 10\""
   ]
  },
  {
   "cell_type": "markdown",
   "metadata": {},
   "source": [
    "It is a string column contains month, date and year. In order to count numbers of complaints per year, we'd like to **count unique number of `complaints_id` per each year.**\n",
    "\n",
    "**1. extract year**<br>\n",
    "To do this, we will extract year from `Date_received` column and store it in `year` column(new column).\n",
    "\n",
    "We're using [-map(f/c)](../../aq_pp%20-map.ipynb) option to extract the year."
   ]
  },
  {
   "cell_type": "code",
   "execution_count": 27,
   "metadata": {},
   "outputs": [
    {
     "name": "stdout",
     "output_type": "stream",
     "text": [
      "\"Complaint_ID\",\"year\"\n",
      "1509954,\"2015\"\n",
      "3136759,\"2019\"\n",
      "3404213,\"2019\"\n",
      "1527601,\"2015\"\n",
      "1816726,\"2016\"\n",
      "358304,\"2013\"\n",
      "7362,\"2011\"\n",
      "3054861,\"2018\"\n",
      "2831821,\"2018\"\n"
     ]
    }
   ],
   "source": [
    "ess stream complaints \"*\" \"*\"  \\\n",
    "\"aq_pp -f,+1 - -d %cols \\\n",
    "-mapf date_received \\\"%*/%%YEAR:4-4%%\\\" -mapc s:year \\\"%%YEAR%%\\\" \\\n",
    "-c complaint_id year | head -n 10\""
   ]
  },
  {
   "cell_type": "markdown",
   "metadata": {},
   "source": [
    "Now we've successfully extracted year from `Date_received` column using map option. You can also do this with `-eval` option with one of the builtin function as well.\n",
    "\n",
    "**2. count numbers of complaints per year**<br>\n",
    "\n",
    "Now let's count the numbers of complaints per year. We'll do this using `aq_cnt`'s `-kX` option, with `-g` option.\n",
    "\n",
    "**Note that we'll be combining this command and previous command, and piping the output from previous to this command.**"
   ]
  },
  {
   "cell_type": "code",
   "execution_count": 7,
   "metadata": {},
   "outputs": [
    {
     "name": "stdout",
     "output_type": "stream",
     "text": [
      "\"year\",\"row\",\"key\"\n",
      "\"2012\",72373,72373\n",
      "\"2017\",242968,242968\n",
      "\"2014\",153045,153045\n",
      "\"2018\",257341,257341\n",
      "\"2011\",2536,2536\n",
      "\"2013\",108217,108217\n",
      "\"2016\",191471,191471\n",
      "\"2019\",238466,238466\n",
      "\"2015\",168476,168476\n"
     ]
    }
   ],
   "source": [
    "ess stream complaints \"*\" \"*\"  \\\n",
    "\"aq_pp -f,+1 - -d %cols \\\n",
    "-mapf date_received \\\"%*/%%YEAR:4-4%%\\\" -mapc s:year \\\"%%YEAR%%\\\" \\\n",
    "-c  complaint_id year | \\\n",
    "aq_cnt -f,+1 - -d I:complaint_id s:year -g year -k key complaint_id\""
   ]
  },
  {
   "cell_type": "markdown",
   "metadata": {},
   "source": [
    "The numbers of complaints gone up over the year since 2011.\n",
    "\n",
    "<img src=\"img/complaints_per_year.png\">\n",
    "\n",
    "**Tops Financial Services that was associated with a Complaiants**<br>\n",
    "\n",
    "We can also dig deeper on which financial products/services received most complaints over the years.\n",
    "\n",
    "We'll do this by counting frequencies of each values in `sub_product` column."
   ]
  },
  {
   "cell_type": "code",
   "execution_count": 10,
   "metadata": {},
   "outputs": [
    {
     "name": "stdout",
     "output_type": "stream",
     "text": [
      "\"Sub_product\",\"count\"\n",
      "\"Student prepaid card\",6\n",
      "\"Pawn loan\",121\n",
      "\"Electronic Benefit Transfer / EBT card\",12\n",
      "\"Transit card\",37\n",
      "\"Credit repair\",103\n",
      "\"Gift card\",236\n",
      "\"Check cashing service\",227\n",
      "\"Traveler’s/Cashier’s checks\",88\n",
      "\"Gift or merchant card\",402\n"
     ]
    }
   ],
   "source": [
    "# counting frequency counts of each sub_product, and displaying top 10 only\n",
    "ess stream complaints \"*\" \"*\"  \\\n",
    "\"aq_cnt -f,+1 - -d %cols \\\n",
    "-kX - keys sub_product | head -n 10\""
   ]
  },
  {
   "cell_type": "markdown",
   "metadata": {},
   "source": [
    "<img src='img/complaints_by_category.png'>\n",
    "\n",
    "You can see that credit card, checking account and other morgarges are the top 3 complaints categories.\n",
    "\n",
    "**Top financial institutions that receives these complains**<br>\n",
    "\n",
    "Receivers of these complains can be investigated similary by using `aq_cnt` command on `company` column."
   ]
  },
  {
   "cell_type": "code",
   "execution_count": 14,
   "metadata": {},
   "outputs": [
    {
     "name": "stdout",
     "output_type": "stream",
     "text": [
      "\"Company\",\"count\"\n",
      "\"Ascent Holding Co\",1\n",
      "\"Credit Mount\",1\n",
      "\"Exchange Finance Company\",1\n",
      "\"Law Office of Anthony C. Onwuanibe\",1\n",
      "\"Off Lease Only Inc.\",1\n",
      "\"NORTHPOINT MORTGAGE, INC.\",1\n",
      "\"MECHANICS BANK\",1\n",
      "\"Credit Advisors Foundation\",1\n",
      "\"Pinnacle Lending Group, Inc.\",1\n"
     ]
    }
   ],
   "source": [
    "# counting frequency counts of each sub_product, and displaying top 10 only\n",
    "ess stream complaints \"*\" \"*\"  \\\n",
    "\"aq_cnt -f,+1 - -d %cols \\\n",
    "-kX - keys company | head -n 10\""
   ]
  },
  {
   "cell_type": "markdown",
   "metadata": {},
   "source": [
    "<img src=\"img/complaints_by_company.png\">\n",
    "\n",
    "From the graph you can observe that major credit reporting companies and banks occupy the top receivers of complaints.\n",
    "\n",
    "\n",
    "**Complaints by States**<br>\n",
    "\n",
    "You can see that the top states that most complaints are reported are follows, by using `state` column with `aq_cnt`'s `-k` and `-g` option like below."
   ]
  },
  {
   "cell_type": "code",
   "execution_count": 6,
   "metadata": {},
   "outputs": [
    {
     "name": "stdout",
     "output_type": "stream",
     "text": [
      "\"State\",\"row\",\"key\"\n",
      "\"PW\",13,13\n",
      "\"MP\",34,34\n",
      "\"AS\",27,27\n",
      "\"MH\",31,31\n",
      "\"UNITED STATES MINOR OUTLYING ISLANDS\",43,43\n",
      "\"FM\",115,115\n",
      "\"AA\",25,25\n",
      "\"GU\",200,200\n",
      "\"AE\",531,531\n"
     ]
    }
   ],
   "source": [
    "# counting numbers of unique complaint_id groupby state, and displaying top 10 only\n",
    "ess stream complaints \"*\" \"*\"  \\\n",
    "\"aq_cnt -f,+1 - -d %cols \\\n",
    "-g state -k key complaint_id | head -n 10\""
   ]
  },
  {
   "cell_type": "markdown",
   "metadata": {},
   "source": [
    "As you can see, top 3 states for complaints are California, followed by Florida and Texas.\n",
    "\n",
    "<img src=\"img/complaints_by_state.png\">\n",
    "\n",
    "**Preferred methods of submission**<br>\n",
    "Next let's take a look at preferred methods of submitting complaints. This infomation is available in `submitted_via` column.\n",
    "\n",
    "We'll start with what methods are available."
   ]
  },
  {
   "cell_type": "code",
   "execution_count": 7,
   "metadata": {},
   "outputs": [
    {
     "name": "stdout",
     "output_type": "stream",
     "text": [
      "\"Submitted_via\"\n",
      "\"Email\"\n",
      "\"Postal mail\"\n",
      "\"Fax\"\n",
      "\"Phone\"\n",
      "\"Referral\"\n",
      "\"Web\"\n"
     ]
    }
   ],
   "source": [
    "# methods of complaints submissions\n",
    "ess stream complaints \"*\" \"*\"  \\\n",
    "\"aq_cnt -f,+1 - -d %cols \\\n",
    "-kx - key submitted_via\""
   ]
  },
  {
   "cell_type": "markdown",
   "metadata": {},
   "source": [
    "Wow.. it's surprising to see Fax included in the genre. Anyways, we can take a look at changes in the frequency counts of each methods overtime. \n",
    "\n",
    "**Preferred Methods of Submission Overtime**<br>\n",
    "\n",
    "First we'd like to extract month, date and year from `date_received` column in order to be able to analyze records monthly, daily and annually. "
   ]
  },
  {
   "cell_type": "code",
   "execution_count": 17,
   "metadata": {},
   "outputs": [
    {
     "name": "stdout",
     "output_type": "stream",
     "text": [
      "\"month\",\"date\",\"year\",\"Submitted_via\"\n",
      "\"08\",\"09\",\"2015\",\"Web\"\n",
      "\"01\",\"29\",\"2019\",\"Web\"\n",
      "\"10\",\"13\",\"2019\",\"Web\"\n",
      "\"08\",\"19\",\"2015\",\"Web\"\n",
      "\"03\",\"04\",\"2016\",\"Web\"\n",
      "\"03\",\"18\",\"2013\",\"Referral\"\n",
      "\"12\",\"21\",\"2011\",\"Web\"\n",
      "\"10\",\"24\",\"2018\",\"Web\"\n",
      "\"03\",\"03\",\"2018\",\"Web\"\n",
      "\"01\",\"02\",\"2019\",\"Web\"\n",
      "\"12\",\"23\",\"2018\",\"Web\"\n",
      "\"09\",\"12\",\"2016\",\"Phone\"\n",
      "\"04\",\"13\",\"2018\",\"Web\"\n",
      "\"06\",\"05\",\"2014\",\"Web\"\n",
      "\"08\",\"07\",\"2015\",\"Web\"\n",
      "\"11\",\"01\",\"2016\",\"Web\"\n",
      "\"12\",\"28\",\"2016\",\"Web\"\n",
      "\"04\",\"01\",\"2017\",\"Web\"\n",
      "\"06\",\"26\",\"2017\",\"Web\"\n"
     ]
    }
   ],
   "source": [
    "# extract month, day and year and put them into new columns\n",
    "ess stream complaints \"*\" \"*\" \\\n",
    "\"aq_pp -f,+1 - -d %cols -mapf date_received \\\"%%MONTH:2-2%%/%%DATE:2-2%%/%%YEAR:4-4%%\\\" \\\n",
    "-mapc S:date \\\"%%DATE%%\\\" -mapc S:month \\\"%%MONTH%%\\\" -mapc S:year \\\"%%YEAR%%\\\" \\\n",
    "-c month date year submitted_via | head -n 20\""
   ]
  },
  {
   "cell_type": "markdown",
   "metadata": {},
   "source": [
    "With `aq_cnt`, we can get frequency counts of each submission per each day, month and year."
   ]
  },
  {
   "cell_type": "code",
   "execution_count": 31,
   "metadata": {},
   "outputs": [
    {
     "name": "stdout",
     "output_type": "stream",
     "text": [
      "\"year\",\"month\",\"date\",\"submitted_via\",\"count\"\n",
      "2019,11,18,\"Phone\",1\n",
      "2019,11,18,\"Web\",16\n",
      "2019,11,16,\"Web\",24\n",
      "2019,7,4,\"Web\",393\n",
      "2012,1,1,\"Web\",14\n",
      "2019,11,17,\"Web\",22\n",
      "2014,3,9,\"Web\",5\n",
      "2012,3,18,\"Web\",23\n",
      "2019,6,29,\"Referral\",26\n",
      "2019,6,29,\"Fax\",8\n",
      "2019,6,29,\"Phone\",1\n",
      "2019,6,29,\"Postal mail\",71\n",
      "2019,6,29,\"Web\",432\n",
      "2011,12,18,\"Web\",16\n",
      "2019,11,9,\"Referral\",1\n",
      "2019,11,9,\"Web\",140\n",
      "2011,12,25,\"Web\",10\n",
      "2012,8,12,\"Web\",35\n",
      "2012,6,16,\"Referral\",1\n"
     ]
    }
   ],
   "source": [
    "# Next pass it to aq_cnt to get frequency counts of each submission methods per day\n",
    "ess stream complaints \"*\" \"*\" \\\n",
    "\"aq_pp -f,+1 - -d %cols -mapf date_received \\\"%%MONTH:2-2%%/%%DATE:2-2%%/%%YEAR:4-4%%\\\" \\\n",
    "-mapc S:date \\\"%%DATE%%\\\" -mapc S:month \\\"%%MONTH%%\\\" -mapc S:year \\\"%%YEAR%%\\\" \\\n",
    "-c month date year submitted_via | \\\n",
    "aq_cnt -f,+1 - -d i:month i:date i:year s:submitted_via \\\n",
    "-g year month date -kX - methods submitted_via | head -n 20\""
   ]
  },
  {
   "cell_type": "markdown",
   "metadata": {},
   "source": [
    "This output is in flat table, and hard to interpret for us. Let's pivot it, making year as new table's row index and submitted_via values into column using `aq_rst`. "
   ]
  },
  {
   "cell_type": "code",
   "execution_count": 34,
   "metadata": {},
   "outputs": [
    {
     "name": "stdout",
     "output_type": "stream",
     "text": [
      "\"year\",\"month\",\"date\",\"Email\",\"Fax\",\"Phone\",\"Postal mail\",\"Referral\",\"Web\"\n",
      "2011,12,1,0,0,15,2,63,40\n",
      "2011,12,2,0,0,11,2,77,48\n",
      "2011,12,3,0,0,0,0,0,26\n",
      "2011,12,4,0,0,0,0,3,19\n",
      "2011,12,5,0,1,10,3,108,42\n",
      "2011,12,6,0,0,5,1,107,57\n",
      "2011,12,7,2,1,15,6,41,35\n",
      "2011,12,8,1,2,11,2,28,122\n",
      "2011,12,9,0,0,6,2,22,38\n",
      "2011,12,10,0,0,0,0,0,36\n",
      "2011,12,11,0,0,0,0,1,58\n",
      "2011,12,12,0,0,29,4,10,120\n",
      "2011,12,13,0,0,11,7,15,101\n",
      "2011,12,14,0,0,19,2,12,59\n",
      "2011,12,15,1,0,4,2,15,42\n",
      "2011,12,16,0,0,12,1,24,64\n",
      "2011,12,17,0,0,1,0,1,26\n",
      "2011,12,18,0,0,0,0,0,16\n",
      "2011,12,19,0,3,11,0,26,51\n"
     ]
    }
   ],
   "source": [
    "# Next pass it to aq_cnt to get frequency counts of each submission methods per day\n",
    "ess stream complaints \"*\" \"*\" \\\n",
    "\"aq_pp -f,+1 - -d %cols -mapf date_received \\\"%%MONTH:2-2%%/%%DATE:2-2%%/%%YEAR:4-4%%\\\" \\\n",
    "-mapc S:date \\\"%%DATE%%\\\" -mapc S:month \\\"%%MONTH%%\\\" -mapc S:year \\\"%%YEAR%%\\\" \\\n",
    "-c month date year submitted_via | \\\n",
    "aq_cnt -f,+1 - -d i:month i:date i:year s:submitted_via \\\n",
    "-g year month date -kX - methods submitted_via | \\\n",
    "aq_rst -f,+1 - -d I:year I:month I:date S:submitted_via I:count \\\n",
    "-key year month date -lab submitted_via -val count -ord | head -n 20\""
   ]
  },
  {
   "cell_type": "markdown",
   "metadata": {},
   "source": [
    "We can observe that the complaints submission via web has been increasing since the beginning of data collection time while numbers of other methods of submission stays comparatively low.\n",
    "<img src='img/submission_via_time.png'>\n",
    "_the data to plot the graph was aggregated by same month by mean value to smooth the graph_"
   ]
  },
  {
   "cell_type": "markdown",
   "metadata": {},
   "source": [
    "The above command outputted frequency counts of each methods by date (everyday) from 2012 to 2019. \n",
    "\n",
    "Let's organize this flat table into pivot table of index of date, and column of submitted_via values using `aq_rst`."
   ]
  },
  {
   "cell_type": "markdown",
   "metadata": {},
   "source": [
    "**Numbers of Complaints by Categories overtime**<br>\n",
    "\n",
    "Let's focus on top three major financial product / services reported on, and observe the change in numbers overtime.\n",
    "\n",
    "**Top 3 sub_product**<br>\n",
    "Let's start with investigating the top 3 of product sub category using `aq_cnt`.\n"
   ]
  },
  {
   "cell_type": "code",
   "execution_count": 49,
   "metadata": {},
   "outputs": [
    {
     "name": "stdout",
     "output_type": "stream",
     "text": [
      "\"sub_product\",\"count\"\n",
      "\"Credit reporting\",298072\n",
      ",235166\n",
      "\"Checking account\",98613\n",
      "\"Other mortgage\",86635\n",
      "\"Conventional fixed mortgage\",70613\n",
      "\"I do not know\",55600\n",
      "\"General-purpose credit card or charge card\",47576\n",
      "\"Other (i.e. phone, health club, etc.)\",44544\n",
      "\"Other debt\",37225\n"
     ]
    }
   ],
   "source": [
    "# getting frequency counts for each sub_category, sort by frequency count, then output the top 10\n",
    "ess stream complaints \"*\" \"*\" \\\n",
    "\"aq_cnt -f,+1 - -d %cols -kX - key sub_product | \\\n",
    "aq_ord -f,+1 - -d S:sub_product I:count -sort,dec count | head -n 10\""
   ]
  },
  {
   "cell_type": "markdown",
   "metadata": {},
   "source": [
    "**Empty Sub_product**<br>\n",
    "Looking at the top 3, we notice that the second sub_product is empty. \n",
    "Let's check out the other column's value on these empty rows.\n",
    "We can use `-filt` option of `aq_pp` command, to filter out only the records with empty value of sub_product."
   ]
  },
  {
   "cell_type": "code",
   "execution_count": 52,
   "metadata": {},
   "outputs": [
    {
     "name": "stdout",
     "output_type": "stream",
     "text": [
      "\"Sub_product\",\"Product\",\"Company\"\n",
      ",\"Credit reporting\",\"Experian Information Solutions Inc.\"\n",
      ",\"Credit card\",\"DISCOVER BANK\"\n",
      ",\"Credit card\",\"CITIBANK, N.A.\"\n",
      ",\"Credit reporting\",\"Experian Information Solutions Inc.\"\n",
      ",\"Credit card\",\"CITIBANK, N.A.\"\n",
      ",\"Credit reporting\",\"Experian Information Solutions Inc.\"\n",
      ",\"Credit reporting\",\"TRANSUNION INTERMEDIATE HOLDINGS, INC.\"\n",
      ",\"Credit reporting\",\"Experian Information Solutions Inc.\"\n",
      ",\"Credit reporting\",\"EQUIFAX, INC.\"\n",
      ",\"Credit card\",\"JPMORGAN CHASE & CO.\"\n",
      ",\"Credit reporting\",\"EQUIFAX, INC.\"\n",
      ",\"Credit reporting\",\"EQUIFAX, INC.\"\n",
      ",\"Credit reporting\",\"TRANSUNION INTERMEDIATE HOLDINGS, INC.\"\n",
      ",\"Credit reporting\",\"TRANSUNION INTERMEDIATE HOLDINGS, INC.\"\n",
      ",\"Credit card\",\"SYNCHRONY FINANCIAL\"\n",
      ",\"Credit reporting\",\"Experian Information Solutions Inc.\"\n",
      ",\"Credit reporting\",\"EQUIFAX, INC.\"\n",
      ",\"Credit reporting\",\"EQUIFAX, INC.\"\n",
      ",\"Credit card\",\"CAPITAL ONE FINANCIAL CORPORATION\"\n"
     ]
    }
   ],
   "source": [
    "# displaying other columns for the empty sub_product records\n",
    "ess stream complaints \"*\" \"*\" \\\n",
    "\"aq_pp -f,+1 - -d %cols -filt 'sub_product==\\\"\\\"' \\\n",
    "-c sub_product product company | head -n 20\""
   ]
  },
  {
   "cell_type": "markdown",
   "metadata": {},
   "source": [
    "We can see that the top 20 records for the empty sub_product are complaints for credit product.\n",
    "Let's see what kinds of products belongs to this empty sub_product using `aq_cnt`."
   ]
  },
  {
   "cell_type": "code",
   "execution_count": 54,
   "metadata": {},
   "outputs": [
    {
     "name": "stdout",
     "output_type": "stream",
     "text": [
      "\"product\",\"count\"\n",
      "\"Payday loan\",5544\n",
      "\"Credit card\",89190\n",
      "\"Credit reporting\",140432\n"
     ]
    }
   ],
   "source": [
    "# unique value of products that belongs to empty sub_product \n",
    "ess stream complaints \"*\" \"*\" \\\n",
    "\"aq_pp -f,+1 - -d %cols -filt 'sub_product==\\\"\\\"' \\\n",
    "-c sub_product product | \\\n",
    "aq_cnt -f,+1 - -d S:sub_product S:product \\\n",
    "-kX - s_prod product\""
   ]
  },
  {
   "cell_type": "markdown",
   "metadata": {},
   "source": [
    "3 products belongs to the empty sub_product category. One of them Credit reporting is one of the sub_product we've seen, so this looks like sub_product names were missrecorded as product by accident. <br>\n",
    "Let's check if this is the case by checking all of the products that belongs to each sub_product.\n",
    "\n"
   ]
  },
  {
   "cell_type": "code",
   "execution_count": 76,
   "metadata": {},
   "outputs": [
    {
     "name": "stdout",
     "output_type": "stream",
     "text": [
      "sub_product                             product                       \n",
      "Student prepaid card                    Credit card or prepaid card   \n",
      "Pawn loan                               Payday loan, title loan, or pe\n",
      "Pawn loan                               Consumer Loan                 \n",
      "Electronic Benefit Transfer / EBT card  Prepaid card                  \n",
      "Transit card                            Prepaid card                  \n",
      "Credit repair                           Other financial service       \n",
      "Gift card                               Credit card or prepaid card   \n",
      "Check cashing service                   Money transfer, virtual curren\n",
      "Traveler’s/Cashier’s checks         Other financial service       \n",
      "Gift or merchant card                   Prepaid card                  \n",
      "CD (Certificate of Deposit)             Checking or savings account   \n",
      "Government benefit payment card         Prepaid card                  \n",
      "Refund anticipation check               Money transfer, virtual curren\n",
      "Refund anticipation check               Other financial service       \n",
      "Lease                                   Vehicle loan or lease         \n",
      "Money order                             Money transfer, virtual curren\n",
      "Money order                             Other financial service       \n",
      "ID prepaid card                         Prepaid card                  \n",
      "Debt settlement                         Money transfer, virtual curren\n",
      "Debt settlement                         Other financial service       \n",
      "Cashing a check without an account      Bank account or service       \n",
      "Traveler's check or cashier's check     Money transfer, virtual curren\n",
      "Foreign currency exchange               Money transfer, virtual curren\n",
      "Foreign currency exchange               Other financial service       \n",
      "Government benefit card                 Credit card or prepaid card   \n",
      "Federal student loan debt               Debt collection               \n",
      "Second mortgage                         Mortgage                      \n",
      "Auto                                    Debt collection               \n",
      "Virtual currency                        Money transfer, virtual curren\n",
      "General-purpose prepaid card            Credit card or prepaid card   \n",
      "Other special purpose card              Prepaid card                  \n",
      "Mobile wallet                           Prepaid card                  \n",
      "Check cashing                           Other financial service       \n",
      "Credit repair services                  Credit reporting, credit repai\n",
      "Payroll card                            Prepaid card                  \n",
      "Payroll card                            Credit card or prepaid card   \n",
      "Reverse mortgage                        Mortgage                      \n",
      "Federal student loan                    Debt collection               \n",
      "Private student loan debt               Debt collection               \n",
      "Mortgage debt                           Debt collection               \n",
      "(CD) Certificate of deposit             Bank account or service       \n",
      "Installment loan                        Consumer Loan                 \n",
      "Installment loan                        Payday loan, title loan, or pe\n",
      "International money transfer            Virtual currency              \n",
      "International money transfer            Money transfer, virtual curren\n",
      "International money transfer            Money transfers               \n",
      "Payday loan debt                        Debt collection               \n",
      "Personal line of credit                 Checking or savings account   \n",
      "Personal line of credit                 Payday loan, title loan, or pe\n",
      "Personal line of credit                 Consumer Loan                 \n",
      "Private student loan                    Student loan                  \n",
      "Home equity loan or line of credit (HELOMortgage                      \n",
      "Medical debt                            Debt collection               \n",
      "Auto debt                               Debt collection               \n",
      "General purpose card                    Prepaid card                  \n",
      "Home equity loan or line of credit      Mortgage                      \n",
      "Savings account                         Bank account or service       \n",
      "Savings account                         Checking or savings account   \n",
      "Other debt                              Debt collection               \n",
      "Vehicle loan                            Consumer Loan                 \n",
      "Mortgage                                Debt collection               \n",
      "Federal student loan servicing          Student loan                  \n",
      "Payday loan                             Debt collection               \n",
      "Payday loan                             Payday loan, title loan, or pe\n",
      "Medical                                 Debt collection               \n",
      "Vehicle lease                           Consumer Loan                 \n",
      "Other type of mortgage                  Mortgage                      \n",
      "Other (i.e. phone, health club, etc.)   Debt collection               \n",
      "VA mortgage                             Mortgage                      \n",
      "Store credit card                       Credit card or prepaid card   \n",
      "Domestic (US) money transfer            Virtual currency              \n",
      "Domestic (US) money transfer            Money transfer, virtual curren\n",
      "Domestic (US) money transfer            Money transfers               \n",
      "Other banking product or service        Checking or savings account   \n",
      "Mobile or digital wallet                Money transfer, virtual curren\n",
      "Conventional home mortgage              Credit reporting, credit repai\n",
      "Conventional home mortgage              Mortgage                      \n",
      "Checking account                        Checking or savings account   \n",
      "Checking account                        Bank account or service       \n",
      "Loan                                    Vehicle loan or lease         \n",
      "Non-federal student loan                Debt collection               \n",
      "Non-federal student loan                Student loan                  \n",
      "Credit card debt                        Debt collection               \n",
      "Other personal consumer report          Credit reporting, credit repai\n",
      "Credit card                             Debt collection               \n",
      "FHA mortgage                            Mortgage                      \n",
      "Title loan                              Vehicle loan or lease         \n",
      "Title loan                              Payday loan, title loan, or pe\n",
      "Title loan                              Consumer Loan                 \n",
      "General-purpose credit card or charge caCredit card or prepaid card   \n",
      "Other bank product/service              Bank account or service       \n",
      "Conventional fixed mortgage             Mortgage                      \n",
      "Other mortgage                          Mortgage                      \n",
      "Conventional adjustable mortgage (ARM)  Mortgage                      \n",
      "I do not know                           Debt collection               \n",
      "Credit reporting                        Credit reporting, credit repai\n",
      "                                        Payday loan                   \n",
      "                                        Credit card                   \n",
      "                                        Credit reporting              \n"
     ]
    }
   ],
   "source": [
    "# listing up all the products grouped by sub_products\n",
    "ess stream complaints \"*\" \"*\" \\\n",
    "\"aq_cnt -f,+1 - -d %cols -g Sub_product -kx - key Product | \\\n",
    "aq_pp -f,+1 - -d S:sub_product S:product -o,fix - -c sub_product,n=40 product,n=30\""
   ]
  },
  {
   "cell_type": "markdown",
   "metadata": {},
   "source": [
    "**Imputing Empty Sub_product**<br>\n",
    "You can see that all three of payday loan, credit card and credit reporting appears in the sub_product. It is safe to say that these were misplaced to product column instead of sub_product column. <br>\n",
    "With that in mind, we can impute the empty values of sub_product with the value from product using `aq_pp` command."
   ]
  },
  {
   "cell_type": "code",
   "execution_count": 81,
   "metadata": {},
   "outputs": [
    {
     "name": "stdout",
     "output_type": "stream",
     "text": [
      "\"Sub_product\",\"Product\"\n",
      "\"Credit reporting\",\"Credit reporting\"\n",
      "\"Credit card\",\"Credit card\"\n",
      "\"Credit card\",\"Credit card\"\n",
      "\"Credit reporting\",\"Credit reporting\"\n",
      "\"Credit card\",\"Credit card\"\n",
      "\"Credit reporting\",\"Credit reporting\"\n",
      "\"Credit reporting\",\"Credit reporting\"\n",
      "\"Credit reporting\",\"Credit reporting\"\n",
      "\"Credit reporting\",\"Credit reporting\"\n",
      "\"Credit card\",\"Credit card\"\n",
      "\"Credit reporting\",\"Credit reporting\"\n",
      "\"Credit reporting\",\"Credit reporting\"\n",
      "\"Credit reporting\",\"Credit reporting\"\n",
      "\"Credit reporting\",\"Credit reporting\"\n",
      "\"Credit card\",\"Credit card\"\n",
      "\"Credit reporting\",\"Credit reporting\"\n",
      "\"Credit reporting\",\"Credit reporting\"\n",
      "\"Credit reporting\",\"Credit reporting\"\n",
      "\"Credit card\",\"Credit card\"\n"
     ]
    }
   ],
   "source": [
    "# impute the empty sub_product column with value from product column\n",
    "ess stream complaints \"*\" \"*\" \\\n",
    "\"aq_pp -f,+1 - -d %cols -if -filt 'sub_product==\\\"\\\"' \\\n",
    "-eval sub_product product -c sub_product product -endif | head -n 20\""
   ]
  },
  {
   "cell_type": "markdown",
   "metadata": {},
   "source": [
    "**Top sub_products, Imputated**<br>\n",
    "\n",
    "Now we can investigate the top sub_products that generated most complaints, with imputed data."
   ]
  },
  {
   "cell_type": "code",
   "execution_count": 89,
   "metadata": {
    "scrolled": true
   },
   "outputs": [
    {
     "name": "stdout",
     "output_type": "stream",
     "text": [
      "\"sub_product\",\"count\"\n",
      "\"Credit reporting\",438504\n",
      "\"Credit card\",117888\n",
      "\"Checking account\",98613\n",
      "\"Other mortgage\",86635\n",
      "\"Conventional fixed mortgage\",70613\n",
      "\"I do not know\",55600\n",
      "\"General-purpose credit card or charge card\",47576\n",
      "\"Other (i.e. phone, health club, etc.)\",44544\n",
      "\"Other debt\",37225\n"
     ]
    }
   ],
   "source": [
    "# impute data, count the frequencies of each sub_product, then sort the result\n",
    "ess stream complaints \"*\" \"*\" \\\n",
    "\"aq_pp -f,+1 - -d %cols -if -filt 'sub_product==\\\"\\\"' \\\n",
    "-eval sub_product product -endif -c sub_product | \\\n",
    "aq_cnt -f,+1 - -d S:sub_product -kX - key sub_product | \\\n",
    "aq_ord -f,+1 - -d S:sub_product I:count -sort,dec count | head -n 10\""
   ]
  },
  {
   "cell_type": "markdown",
   "metadata": {},
   "source": [
    "**Change of numbers of top sub_products overtime**<br>\n",
    "\n",
    "Finally we can get to work of counting the sub_products frequencies overtime. <br>\n",
    "This involves all the steps we took, from \n",
    "1. imputing the data\n",
    "2. filter the top 4 sub_product, \n",
    "    1. credit reporting\n",
    "    2. credit card\n",
    "    3. checkign account\n",
    "    4. other mortgage\n",
    "3. extracting year, month and date from `date_received` column\n",
    "4. counting the frequencies by year, month group.\n",
    "5. sort the result by year and month\n",
    "6. pivot the result to a new table, with \n",
    "    1. month and year as rows\n",
    "    2. sub_products as columns"
   ]
  },
  {
   "cell_type": "code",
   "execution_count": 108,
   "metadata": {},
   "outputs": [
    {
     "name": "stdout",
     "output_type": "stream",
     "text": [
      "\"year\",\"month\",\"Checking account\",\"Credit card\",\"Credit reporting\",\"Other mortgage\"\n",
      "2011,12,0,1260,0,388\n",
      "2012,1,0,1167,0,592\n",
      "2012,2,0,1212,0,932\n",
      "2012,3,918,1378,0,1513\n",
      "2012,4,994,1173,0,1512\n",
      "2012,5,1330,1468,0,2496\n",
      "2012,6,1093,1699,0,2340\n",
      "2012,7,995,1505,0,1676\n",
      "2012,8,974,1281,0,2155\n",
      "2012,9,868,994,0,1494\n",
      "2012,10,943,1358,360,1603\n",
      "2012,11,745,1086,782,1408\n",
      "2012,12,731,1032,731,1605\n",
      "2013,1,1017,1162,911,2755\n",
      "2013,2,849,1142,1065,2258\n",
      "2013,3,934,1280,1098,2531\n",
      "2013,4,772,1216,1151,2238\n",
      "2013,5,778,1072,1207,2126\n",
      "2013,6,820,1022,1112,1977\n"
     ]
    }
   ],
   "source": [
    "ess stream complaints \"*\" \"*\" \\\n",
    "\"aq_pp -f,+1 - -d %cols -if -filt 'sub_product==\\\"\\\"' -eval sub_product product -endif \\\n",
    "-filt 'sub_product == \\\"Credit reporting\\\" || sub_product == \\\"Credit card\\\" || sub_product == \\\"Checking account\\\" || sub_product == \\\"Other mortgage\\\"' \\\n",
    "-mapf date_received \\\"%%MONTH:2-2%%/%%DATE:2-2%%/%%YEAR:4-4%%\\\" \\\n",
    "-mapc S:date \\\"%%DATE%%\\\" -mapc S:month \\\"%%MONTH%%\\\" -mapc S:year \\\"%%YEAR%%\\\" \\\n",
    "-c year month sub_product | \\\n",
    "aq_cnt -f,+1 - -d s:year s:month s:sub_product \\\n",
    "-g year month -kX - key sub_product | \\\n",
    "aq_rst -f,+1 - -d I:year I:month S:sub_product I:count \\\n",
    "-key year month -lab sub_product -val count -ord | head -n 20\""
   ]
  },
  {
   "cell_type": "markdown",
   "metadata": {},
   "source": [
    "<img src='img/comp_sub_prod_time.png'>\n",
    "\n",
    "As you can see, number of complaints for credit reporting gradually increase until it rapidly hits the peak around 2017, september. This time was when Equifax revealed about the data breach, which would make sense."
   ]
  },
  {
   "cell_type": "markdown",
   "metadata": {},
   "source": [
    "**September 2017, Credit Reporting**<br>\n",
    "\n",
    "We can dig deeper about what happened in September of 2017 in credit reporting sub_product that caused so many complaints.<br>\n",
    "We will filter out the records that belongs to this time periods, as well as to the sub_product of credit report."
   ]
  },
  {
   "cell_type": "code",
   "execution_count": 116,
   "metadata": {},
   "outputs": [
    {
     "name": "stdout",
     "output_type": "stream",
     "text": [
      "\"Date_received\",\"Sub_issue\",\"Company\"\n",
      "\"09/09/2017\",\"Reporting company used your report improperly\",\"EQUIFAX, INC.\"\n",
      "\"09/06/2017\",\"Public record information inaccurate\",\"EQUIFAX, INC.\"\n",
      "\"09/14/2017\",\"Difficulty submitting a dispute or getting information about a dispute over the phone\",\"EQUIFAX, INC.\"\n",
      "\"09/23/2017\",\"Reporting company used your report improperly\",\"EQUIFAX, INC.\"\n",
      "\"09/20/2017\",\"Credit inquiries on your report that you don't recognize\",\"Experian Information Solutions Inc.\"\n",
      "\"09/09/2017\",\"Reporting company used your report improperly\",\"EQUIFAX, INC.\"\n",
      "\"09/09/2017\",\"Reporting company used your report improperly\",\"EQUIFAX, INC.\"\n",
      "\"09/30/2017\",\"Difficulty submitting a dispute or getting information about a dispute over the phone\",\"EQUIFAX, INC.\"\n",
      "\"09/26/2017\",\"Credit inquiries on your report that you don't recognize\",\"JPMORGAN CHASE & CO.\"\n",
      "\"09/25/2017\",\"Account information incorrect\",\"TRANSUNION INTERMEDIATE HOLDINGS, INC.\"\n",
      "\"09/08/2017\",\"Was not notified of investigation status or results\",\"EQUIFAX, INC.\"\n",
      "\"09/08/2017\",\"Reporting company used your report improperly\",\"EQUIFAX, INC.\"\n",
      "\"09/13/2017\",,\"Experian Information Solutions Inc.\"\n",
      "\"09/13/2017\",,\"Experian Information Solutions Inc.\"\n",
      "\"09/14/2017\",\"Their investigation did not fix an error on your report\",\"EQUIFAX, INC.\"\n",
      "\"09/26/2017\",\"Investigation took more than 30 days\",\"Experian Information Solutions Inc.\"\n",
      "\"09/19/2017\",\"Account status incorrect\",\"CAPITAL ONE FINANCIAL CORPORATION\"\n",
      "\"09/09/2017\",\"Reporting company used your report improperly\",\"EQUIFAX, INC.\"\n",
      "\"09/07/2017\",\"Account status incorrect\",\"Experian Information Solutions Inc.\"\n"
     ]
    }
   ],
   "source": [
    "# Filtering out credit report related complaints that occured on Sep 2017\n",
    "ess stream complaints \"*\" \"*\" \\\n",
    "\"aq_pp -f,+1 - -d %cols -filt 'sub_product == \\\"Credit reporting\\\" && PatCmp(date_received, \\\"09/*/2017\\\")' \\\n",
    "-c date_received sub_issue company | head -n 20\""
   ]
  },
  {
   "cell_type": "markdown",
   "metadata": {},
   "source": [
    "Let's zoom in, in terms of time period. We'd like to know on which date exactly the number of complaints spiked up.\n"
   ]
  },
  {
   "cell_type": "code",
   "execution_count": 123,
   "metadata": {},
   "outputs": [
    {
     "name": "stdout",
     "output_type": "stream",
     "text": [
      "\"date_received\",\"count\"\n",
      "\"09/08/2017\",3015\n",
      "\"09/09/2017\",2445\n",
      "\"09/13/2017\",1027\n",
      "\"09/11/2017\",754\n",
      "\"09/12/2017\",732\n",
      "\"09/14/2017\",629\n",
      "\"09/10/2017\",499\n",
      "\"09/15/2017\",481\n",
      "\"09/26/2017\",447\n"
     ]
    }
   ],
   "source": [
    "# Filtering out credit report related complaints that occured on Sep 2017\n",
    "# then get the distribution of company \n",
    "ess stream complaints \"*\" \"*\" \\\n",
    "\"aq_pp -f,+1 - -d %cols -filt 'sub_product == \\\"Credit reporting\\\" && PatCmp(date_received, \\\"09/*/2017\\\")' \\\n",
    "-c date_received | \\\n",
    "aq_cnt -f,+1 - -d s:date_received -kX - comp_date date_received | \\\n",
    "aq_ord -f,+1 - -d s:date_received i:count -sort,dec count | head -n 10\""
   ]
  },
  {
   "cell_type": "markdown",
   "metadata": {},
   "source": [
    "Looks like the spike occurred over 2 days, September 8th and 9th, 2017. What does distribution of companies look like over the 2 days?"
   ]
  },
  {
   "cell_type": "code",
   "execution_count": 129,
   "metadata": {},
   "outputs": [
    {
     "name": "stdout",
     "output_type": "stream",
     "text": [
      "\"date_received\",\"company\",\"count\"\n",
      "\"09/08/2017\",\"EQUIFAX, INC.\",2645\n",
      "\"09/09/2017\",\"EQUIFAX, INC.\",2266\n",
      "\"09/08/2017\",\"Experian Information Solutions Inc.\",161\n",
      "\"09/08/2017\",\"TRANSUNION INTERMEDIATE HOLDINGS, INC.\",107\n",
      "\"09/09/2017\",\"Experian Information Solutions Inc.\",92\n",
      "\"09/09/2017\",\"TRANSUNION INTERMEDIATE HOLDINGS, INC.\",62\n",
      "\"09/08/2017\",\"CAPITAL ONE FINANCIAL CORPORATION\",9\n",
      "\"09/08/2017\",\"SANTANDER CONSUMER USA HOLDINGS INC.\",7\n",
      "\"09/08/2017\",\"BANK OF AMERICA, NATIONAL ASSOCIATION\",5\n"
     ]
    }
   ],
   "source": [
    "# zooming into two days\n",
    "ess stream complaints \"*\" \"*\" \\\n",
    "\"aq_pp -f,+1 - -d %cols -filt 'sub_product == \\\"Credit reporting\\\" && RxCmp(date_received, \\\"(09\\/0[8|9]\\/2017)\\\", pcre)' \\\n",
    "-c date_received company | \\\n",
    "aq_cnt -f,+1 - -d s:date_received s:company -g date_received -kX - key company | \\\n",
    "aq_ord -f,+1 - -d s:date_received s:company i:count -sort,dec count date_received | head -n 10\""
   ]
  },
  {
   "cell_type": "markdown",
   "metadata": {},
   "source": [
    "Majority of the complaints are towards EQUIFAX during 2 days. Looking at the details of the complaints by checking `sub_issue` column on these complaints,"
   ]
  },
  {
   "cell_type": "code",
   "execution_count": 135,
   "metadata": {},
   "outputs": [
    {
     "name": "stdout",
     "output_type": "stream",
     "text": [
      "\"Date_received\",\"Company\",\"Issue\"\n",
      "\"09/09/2017\",\"EQUIFAX, INC.\",\"Improper use of your report\"\n",
      "\"09/09/2017\",\"EQUIFAX, INC.\",\"Improper use of your report\"\n",
      "\"09/09/2017\",\"EQUIFAX, INC.\",\"Improper use of your report\"\n",
      "\"09/08/2017\",\"EQUIFAX, INC.\",\"Problem with a credit reporting company's investigation into an existing problem\"\n",
      "\"09/08/2017\",\"EQUIFAX, INC.\",\"Improper use of your report\"\n",
      "\"09/09/2017\",\"EQUIFAX, INC.\",\"Improper use of your report\"\n",
      "\"09/08/2017\",\"EQUIFAX, INC.\",\"Improper use of your report\"\n",
      "\"09/09/2017\",\"EQUIFAX, INC.\",\"Improper use of your report\"\n",
      "\"09/09/2017\",\"EQUIFAX, INC.\",\"Improper use of your report\"\n",
      "\"09/09/2017\",\"EQUIFAX, INC.\",\"Improper use of your report\"\n",
      "\"09/08/2017\",\"EQUIFAX, INC.\",\"Improper use of your report\"\n",
      "\"09/08/2017\",\"EQUIFAX, INC.\",\"Problem with a credit reporting company's investigation into an existing problem\"\n",
      "\"09/08/2017\",\"EQUIFAX, INC.\",\"Improper use of your report\"\n",
      "\"09/08/2017\",\"EQUIFAX, INC.\",\"Improper use of your report\"\n",
      "\"09/09/2017\",\"EQUIFAX, INC.\",\"Improper use of your report\"\n",
      "\"09/08/2017\",\"EQUIFAX, INC.\",\"Problem with fraud alerts or security freezes\"\n",
      "\"09/09/2017\",\"EQUIFAX, INC.\",\"Improper use of your report\"\n",
      "\"09/08/2017\",\"EQUIFAX, INC.\",\"Improper use of your report\"\n",
      "\"09/09/2017\",\"EQUIFAX, INC.\",\"Improper use of your report\"\n"
     ]
    }
   ],
   "source": [
    "ess stream complaints \"*\" \"*\" \\\n",
    "\"aq_pp -f,+1 - -d %cols -filt 'sub_product == \\\"Credit reporting\\\" && RxCmp(date_received, \\\"(09\\/0[8|9]\\/2017)\\\", pcre) && company == \\\"EQUIFAX, INC.\\\"' \\\n",
    "-c date_received company issue | head -n 20\""
   ]
  },
  {
   "cell_type": "markdown",
   "metadata": {},
   "source": [
    "Most of them's issues are \"Improper use of your report\". What does this exactly mean? We can again further fliter the data to complaints with this phrase in Issue column, and take a look at Consumer_complaint_narrative column to see what customers said."
   ]
  },
  {
   "cell_type": "code",
   "execution_count": 141,
   "metadata": {},
   "outputs": [
    {
     "name": "stdout",
     "output_type": "stream",
     "text": [
      "\"Consumer_complaint_narrative\"\n",
      "\n",
      "\"XXXX of XXXX through XXXX XXXX Kept breach a secret for months that allowed the hackers a head start on using the information gained. \n",
      "\n",
      "equifax system breach. Allowed access to my personal information that could/will cause problem for the rest of my life.\"\n",
      "\"Equifax experienced a security breach that affects 143 million individuals. I checked their website ( https : //www.equifaxsecurity2017.com/potential-impact/ ) to determine whether or not I was potentially impacted, and the results say that I  am. \n",
      "\n",
      "I have requested a 90-day fraud alert to be set up so that I am aware of any attempts made at stealing my identity.\"\n",
      "\n",
      "\"Equifax was the subject of a cyberattack and failed to protect the sensitive, personal information I trusted them with. \n",
      "\n",
      "The breach lasted from mid-XX/XX/XXXX The hackers accessed peoples names, Social Security numbers, birth dates, addresses and, in some instances, drivers license numbers. They also stole credit card numbers for about 209,000 people and dispute documents with personal identifying information for about 182,000 people.\"\n",
      "\"I am a victim of the Equifax XXXX XXXX. My name is included in the list of potential clients affected. At this stage, I have no idea how badly impacted I have been and am assuming the worst.\"\n",
      "\"Equifax had a security breach that they did not tell consumers about until months after the fact. This breach leaves me very vulnerable, as it gives away all information that is needed to take on my identity. There was no way I could have protected myself against it because Equifax had control over my data without my permission. \n",
      "\n",
      "Now I have to freeze my credit reports ( including with Equifax ), which incurs a fee and additional administrative work to unfreeze if I want to change apartments, for example. However, the data that Equifax leaked can be used to unfreeze my credit reports, defeating the entire purpose. Equifax has not offered any reliable mitigation to the risk of identity theft - offering free credit monitoring with the caveat that we can not sue them is worse than other solutions they could have used, for example offering free credit freezing. \n",
      "\n",
      "This situation shows that Equifax can not be trusted with this important personal data, however I have no power to stop them from having control over my credit or my data.\"\n",
      "\n",
      "\n"
     ]
    }
   ],
   "source": [
    "ess stream complaints \"*\" \"*\" \\\n",
    "\"aq_pp -f,+1 - -d %cols -filt 'sub_product == \\\"Credit reporting\\\" && RxCmp(date_received, \\\"(09\\/0[8|9]\\/2017)\\\", pcre) && company == \\\"EQUIFAX, INC.\\\" && issue == \\\"Improper use of your report\\\"' \\\n",
    "-c consumer_complaint_narrative | head -n 20\""
   ]
  },
  {
   "cell_type": "markdown",
   "metadata": {},
   "source": [
    "By looking at the narratives, it's pretty obvious that the complaints spike during September 8~9th on 2017, towards  EQUIFAX were about the data breach."
   ]
  }
 ],
 "metadata": {
  "kernelspec": {
   "display_name": "Bash",
   "language": "bash",
   "name": "bash"
  },
  "language_info": {
   "codemirror_mode": "shell",
   "file_extension": ".sh",
   "mimetype": "text/x-sh",
   "name": "bash"
  }
 },
 "nbformat": 4,
 "nbformat_minor": 2
}
