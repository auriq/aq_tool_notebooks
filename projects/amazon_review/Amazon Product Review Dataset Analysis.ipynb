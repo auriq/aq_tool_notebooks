{
 "cells": [
  {
   "cell_type": "markdown",
   "metadata": {},
   "source": [
    "# Amazon Product Review Dataset Analysis\n",
    "\n",
    "In this notebook, we will perform exploratory data analysis on [amazon product review dataset](https://s3.amazonaws.com/amazon-reviews-pds/readme.html), which include millions of amazon customer reviews in 2 decades since 1995.\n",
    "\n",
    "This dataset is a source of rich information for ML, NLP projects. In order to focus on running the analysis locally without using cluster, we will focus on a smaller portion of the entire dataset for this notebook.\n",
    "\n",
    "## Pre-requisites\n",
    "You're assumed to be somewhat familiar with\n",
    "* linux command line\n",
    "* aq_tool\n",
    "* aws API\n",
    "* essentia command\n",
    "\n",
    "## Environment and Note\n",
    "This tutorial is run locally on one Ec2 instance, and will be focusing on use of `aq_tools` without udb.\n",
    "\n",
    "\n",
    "\n",
    "## Data Source\n",
    "\n",
    "Data is located in a S3 bucket named `wataru-essentia-proto` (CHANGE THIS TO PUBLIC S3 BUCKET LATER), in a zipped tsv format.\n",
    "\n",
    "In order to scan and fetch the data, and take a look at them, we'll need to\n",
    "1. set essentia's datastore to the s3 bucket\n",
    "2. create data category that includes the targetted data\n",
    "3. look at the summary of the category\n",
    "\n",
    "**Selecting datastore**<br>\n",
    "Starting with setting the s3 bucket as the datastore with `ess select` command."
   ]
  },
  {
   "cell_type": "code",
   "execution_count": 3,
   "metadata": {},
   "outputs": [],
   "source": [
    "ess select s3://wataru-essentia-proto"
   ]
  },
  {
   "cell_type": "markdown",
   "metadata": {},
   "source": [
    "**Creating Category**<br>\n",
    "Our dataset is located under `/tsv/` directory in the bucket, so using `ess ls` command will display the files inside of the directory."
   ]
  },
  {
   "cell_type": "code",
   "execution_count": 6,
   "metadata": {},
   "outputs": [
    {
     "name": "stdout",
     "output_type": "stream",
     "text": [
      " 230M Aug 01 18:55    /tsv/amazon_reviews_multilingual_DE_v1_00.tsv.gz\n",
      "  67M Aug 01 18:55    /tsv/amazon_reviews_multilingual_FR_v1_00.tsv.gz\n",
      "  90M Aug 01 18:55    /tsv/amazon_reviews_multilingual_JP_v1_00.tsv.gz\n",
      " 333M Aug 01 18:55    /tsv/amazon_reviews_multilingual_UK_v1_00.tsv.gz\n",
      " 1.4G Aug 01 18:55    /tsv/amazon_reviews_multilingual_US_v1_00.tsv.gz\n",
      " 618M Aug 01 18:55    /tsv/amazon_reviews_us_Apparel_v1_00.tsv.gz\n",
      " 555M Aug 01 18:55    /tsv/amazon_reviews_us_Automotive_v1_00.tsv.gz\n",
      " 340M Aug 01 18:55    /tsv/amazon_reviews_us_Baby_v1_00.tsv.gz\n",
      " 871M Aug 01 18:56    /tsv/amazon_reviews_us_Beauty_v1_00.tsv.gz\n",
      " 2.6G Aug 01 18:56    /tsv/amazon_reviews_us_Books_v1_00.tsv.gz\n"
     ]
    }
   ],
   "source": [
    "# piping the output to head to get the top 10 lines, for simplicity\n",
    "ess ls /tsv/ | head -n 10"
   ]
  },
  {
   "cell_type": "markdown",
   "metadata": {},
   "source": [
    "In this notebook we'll only use the multilingual dataset (Denmark, France, Japan, UK and US) on the top 5 lines. <br>\n",
    "Glob pattern to these files in the S3 buckets is \n",
    "```/tsv/amazon_reviews_multilingual_*_v1_00.tsv.gz```\n",
    "\n",
    "With `ess category add` command,"
   ]
  },
  {
   "cell_type": "code",
   "execution_count": 7,
   "metadata": {},
   "outputs": [
    {
     "name": "stdout",
     "output_type": "stream",
     "text": [
      "2019-10-28 18:43:24 ip-10-10-1-118 ess[3471]: Fetching file list from datastore.\n",
      "2019-10-28 18:43:24 ip-10-10-1-118 ess[3471]: Examining largest matched file to determine compression type: /tsv/amazon_reviews_multilingual_US_v1_00.tsv.gz\n",
      "2019-10-28 18:43:25 ip-10-10-1-118 ess[3471]: Probing largest matched file to determine data configuration: /tsv/amazon_reviews_multilingual_US_v1_00.tsv.gz\n"
     ]
    }
   ],
   "source": [
    "# creating the category with name of amazon_reviews. This will return error if it already exist.\n",
    "ess category add amazon_reviews \"/tsv/amazon_reviews_multilingual_*_v1_00.tsv.gz\" "
   ]
  },
  {
   "cell_type": "markdown",
   "metadata": {},
   "source": [
    "**Taking a look at the detail**<br>\n",
    "Now we have a category, let's take a look at it's summary including schemas and sample data with `ess summary`"
   ]
  },
  {
   "cell_type": "code",
   "execution_count": 8,
   "metadata": {},
   "outputs": [
    {
     "name": "stdout",
     "output_type": "stream",
     "text": [
      "Name:        amazon_reviews\n",
      "Pattern:     /tsv/amazon_reviews_multilingual_*_v1_00.tsv.gz\n",
      "Exclude:     None\n",
      "Date Format: auto\n",
      "Date Regex:  \n",
      "Archive:     \n",
      "Delimiter:   Tab\n",
      "# of files:  5\n",
      "Total size:  2.1GB\n",
      "File range:  1970-01-01 - 1970-01-01\n",
      "# columns:   15\n",
      "Column Spec: S:marketplace I:customer_id S:review_id S:product_id I:product_parent S:product_title S:product_category I:star_rating I:helpful_votes I:total_votes S:vine S:verified_purchase S:review_headline S,esc:review_body S:review_date\n",
      "Pkey: \n",
      "Schema: S:marketplace I:customer_id S:review_id S:product_id I:product_parent S:product_title S:product_category I:star_rating I:helpful_votes I:total_votes S:vine S:verified_purchase S:review_headline S,esc:review_body S:review_date\n",
      "Preprocess:  \n",
      "usecache:    False\n",
      "Comment:    \n",
      "\n",
      "First few lines:\n",
      "marketplace\tcustomer_id\treview_id\tproduct_id\tproduct_parent\tproduct_title\tproduct_category\tstar_rating\thelpful_votes\ttotal_votes\tvine\tverified_purchase\treview_headline\treview_body\treview_date\n",
      "US\t53096384\tR63J84G1LOX6R\t1563890119\t763187671\tThe Sandman Vol. 1: Preludes and Nocturnes\tBooks\t4\t0\t1\tN\tN\tignore the review below\tthis is the first 8 issues of the series. it is the starting point of all this... it also contains the sound of her wings. issue #8. which is the first appearance of death. and many peoples favorite issue. its not the best of the collected works. but its the start of them.\t1995-08-13\n",
      "US\t53096399\tR1BALOA11Z06MT\t1559947608\t381720534\tThe 22 Immutable Laws of Marketing\tBooks\t4\t0\t0\tN\tN\tawesome\tI've always been partial to immutable laws. The tape is entertaining, good car listening. The laws are clearly self evident once you've  heard them and you wonder why you didn't know  all that already and were about to go off and  do something stupid.  It's cheap, get it.\t1995-08-17\n",
      "US\t53096332\tR1LLAY5W5PZUS4\t0671701800\t860650224\tContact\tBooks\t5\t1\t2\tN\tN\tRead the book. It's good.\tThis is a book about first contact with aliens, written by a prominent member of SETI, the Search for ExtraTerrestrial Intelligence. Sagan makes excellent use of  SETI's current search methods as well as his own  knowledge of astronomy and physics to bring a sense of  reality to the book. But above its literacy, philosophy,  and speculation, it is an entertaining story that is not  overshadowed by gadgetry.\t1995-08-30\n",
      "US\t53096335\tR3R9VTJ82FXECQ\t0425132153\t624269601\tGood Omens\tBooks\t5\t0\t0\tN\tN\tFunniest book ever written about the Anti-Christ\tThis is quite possibly *the* funniest book I have ever read.  Terry Pratchett is an absolute genius (read the Discworld books--NOW!),  and Gaiman manages to give the book the appropriate dark touches.  Brilliant\t1995-09-11\n"
     ]
    }
   ],
   "source": [
    "ess summary amazon_reviews"
   ]
  },
  {
   "cell_type": "markdown",
   "metadata": {},
   "source": [
    "Essentia was able to extract the data schema automatially along with each column name. According to the meta data file, each column represents the followings.\n",
    "\n",
    "* **marketplace**: 2 letter country code of the marketplace where the review was written\n",
    "* **customer_id**: Random identifier that can be used to aggregate reviews written by a single author.\n",
    "* **review_id**: The unique ID of the review\n",
    "* **product_id**: The unique Product ID the review pertains to. In the multilingual dataset the reviews\n",
    "* **product_parent**: Random identifier that can be used to aggregate reviews for the same product.\n",
    "* **product_title**: title of the product\n",
    "* **product_category**: Broad product category that can be used to group reviews (also used to group the dataset Countinto coherent parts)\n",
    "* **star_rating**: The 1–5 star rating of the review.\n",
    "* **helpful_votes**: Number of helpful votes.\n",
    "* **total_votes**: Number of total votes the review received.\n",
    "* **vine**: Review was written as part of the Vine program\n",
    "* **verified_purchase**: the review is on a verified purchase\n",
    "* **review_headline**: The title of the review\n",
    "* **review_body**: the review text\n",
    "* **review_date**: The date the review was written.\n",
    "\n",
    "Looks like we can extract some useful information from columns such as `marketplace`, `product_category`, `star_rating`, `review_date`. \n",
    "\n",
    "## Exploratory Data Analysis\n",
    "**Note:**<br>\n",
    "There are multiple ways of counting unique values in aq_tools, such as \n",
    "* Using `aq_cnt`\n",
    "* set up udb, and use `aq_udb -cnt` option.\n",
    "On here, we'll be using `aq_cnt` command.\n",
    "\n",
    "### Occurence Counts on Columns\n",
    "\n",
    "Now we know what the data looks like, we can get started on analying the data. We'll start with looking at star rating's distribution in the dataset.\n",
    "\n",
    "**star rating**<br>\n",
    "\n",
    "We can display distribution of `star_rating` with `aq_cnt`.\n",
    "\n",
    "* `ess stream amazon_reviews --bulk --master`\n",
    "    * `--bulk` and `--master` was set in order to process 5 files as 1 and run `aq_cnt` on it one time. By default `ess` command runs given commands serially one time for each file.\n",
    "* `aq_cnt -f,+1,tsv,eok...`\n",
    "    * `eok` was added to skip the invalid row, as well as headers between files (4 headers will be present in the stream from files)."
   ]
  },
  {
   "cell_type": "code",
   "execution_count": 27,
   "metadata": {},
   "outputs": [
    {
     "name": "stdout",
     "output_type": "stream",
     "text": [
      "\"star_rating\",\"count\"\n",
      "2,396197\n",
      "1,567938\n",
      "3,766981\n",
      "4,1772963\n",
      "5,6330030\n",
      "2019-10-28 19:44:49 ip-10-10-1-118 ess[4372]: !!!Warning!!! Multiple warnings.  See task.log for more details\n"
     ]
    }
   ],
   "source": [
    "ess stream amazon_reviews --bulk --master \"*\" \"*\" \"aq_cnt -f,+1,tsv,eok - -d %cols -kX - rating star_rating\""
   ]
  },
  {
   "cell_type": "markdown",
   "metadata": {},
   "source": [
    "The plot for this looks like following.\n",
    "\n",
    "<img src=\"img/star_distro.png\">"
   ]
  },
  {
   "cell_type": "markdown",
   "metadata": {},
   "source": [
    "**Marketplace**<br>\n",
    "\n",
    "You can apply similar command in order to get insights on numbers of total reviews on each marketplace."
   ]
  },
  {
   "cell_type": "code",
   "execution_count": 28,
   "metadata": {},
   "outputs": [
    {
     "name": "stdout",
     "output_type": "stream",
     "text": [
      "\"marketplace\",\"count\"\n",
      "\"US\",6931013\n",
      "\"UK\",1707480\n",
      "\"JP\",262430\n",
      "\"FR\",254075\n",
      "\"DE\",679111\n",
      "2019-10-28 19:59:58 ip-10-10-1-118 ess[4451]: !!!Warning!!! Multiple warnings.  See task.log for more details\n"
     ]
    }
   ],
   "source": [
    "ess stream amazon_reviews --bulk --master \"*\" \"*\" \"aq_cnt -f,+1,tsv,eok - -d %cols -kX - marketplace marketplace\""
   ]
  },
  {
   "cell_type": "markdown",
   "metadata": {},
   "source": [
    "marketplace counts plot\n",
    "\n",
    "<img src=\"img/marketplace_count.png\">"
   ]
  },
  {
   "cell_type": "markdown",
   "metadata": {},
   "source": [
    "**Product Category**<br>\n",
    "\n",
    "Counts of each product category across the marketplace and time."
   ]
  },
  {
   "cell_type": "code",
   "execution_count": 29,
   "metadata": {},
   "outputs": [
    {
     "name": "stdout",
     "output_type": "stream",
     "text": [
      "\"product_category\",\"count\"\n",
      "\"Mobile_Electronics\",184\n",
      "\"Outdoors\",3195\n",
      "\"Tools\",7510\n",
      "\"Apparel\",127\n",
      "\"Grocery\",20\n",
      "\"Pet Products\",51\n",
      "\"Beauty\",55\n",
      "\"Software\",204\n",
      "\"Furniture\",101\n",
      "\"Lawn and Garden\",1973\n",
      "\"Automotive\",1534\n",
      "\"Baby\",11960\n",
      "\"Kitchen\",2365\n",
      "\"Camera\",36786\n",
      "\"Video\",56804\n",
      "\"Personal_Care_Appliances\",705\n",
      "\"Home Entertainment\",37807\n",
      "\"Office Products\",4057\n",
      "\"Musical Instruments\",15963\n",
      "\"Home\",7008\n",
      "\"Health & Personal Care\",1434\n",
      "\"Shoes\",12559\n",
      "\"Luggage\",475\n",
      "\"Wireless\",36228\n",
      "\"Sports\",9694\n",
      "\"Digital_Ebook_Purchase\",1558331\n",
      "\"Digital_Music_Purchase\",163296\n",
      "\"Toys\",117348\n",
      "\"Video Games\",22489\n",
      "\"Electronics\",27068\n",
      "\"Music\",1426187\n",
      "\"PC\",95778\n",
      "\"Mobile_Apps\",1773737\n",
      "\"Watches\",17169\n",
      "\"Digital_Video_Download\",1116575\n",
      "\"Video DVD\",2066643\n",
      "\"Books\",1194816\n",
      "\"Home Improvement\",5873\n",
      "2019-10-28 20:04:36 ip-10-10-1-118 ess[4487]: !!!Warning!!! Multiple warnings.  See task.log for more details\n"
     ]
    }
   ],
   "source": [
    "ess stream amazon_reviews --bulk --master \"*\" \"*\" \"aq_cnt -f,+1,tsv,eok - -d %cols -kX - category product_category\""
   ]
  },
  {
   "cell_type": "markdown",
   "metadata": {},
   "source": [
    "Just like that, you can take a look at any categorical column's occurence counts.\n",
    "\n",
    "### Time Series\n",
    "\n",
    "This dataset contains reviews since 1995, which I was not even aware that amazon store existed. \n",
    "We'd like to explore characteristics and patterns of reviews changed overtime. \n",
    "\n",
    "**Breaking down timestamp into month and year**<br>\n",
    "Currently timestamp of the review (year, month and date) are stored in one string in `review_date` column. Let's break it down into year and month, so that it can be grouped by this value.\n",
    "\n",
    "Using aq_pp's `-mapc/f` option to extract and map year and month, and we'll output `review_id`, `reviwew_date`, `year`, `month` columns only for clearity."
   ]
  },
  {
   "cell_type": "code",
   "execution_count": 40,
   "metadata": {},
   "outputs": [
    {
     "name": "stdout",
     "output_type": "stream",
     "text": [
      "\"review_id\",\"review_date\",\"year\",\"month\"\n",
      "\"RVOG49N0H1FB6\",\"2014-08-01\",\"2014\",\"08\"\n",
      "\"RNCMD6OLTP4HM\",\"2014-12-04\",\"2014\",\"12\"\n",
      "\"R4AUOBI8YC0R8\",\"2014-12-04\",\"2014\",\"12\"\n",
      "\"R1VSHIJ1RHIBTE\",\"2015-07-16\",\"2015\",\"07\"\n",
      "\"R3JBLVALWSLCZD\",\"2014-02-08\",\"2014\",\"02\"\n",
      "2019-10-28 21:12:11 ip-10-10-1-118 ess[4810]: !!!Warning!!! Multiple warnings.  See task.log for more details\n"
     ]
    }
   ],
   "source": [
    "ess stream amazon_reviews --bulk --master \"*\" \"*\" \\\n",
    "'aq_pp -f,+1,tsv - -d %cols -mapf review_date \"%%year:4-4%%-%%month:2-2%%%*\" \\\n",
    "-mapc s:year %%YEAR%% -mapc s:month %%MONTH%% -c review_id review_date year month' | head -n 6"
   ]
  },
  {
   "cell_type": "markdown",
   "metadata": {},
   "source": [
    "Now the data is ready for the time series analysis.\n",
    "\n",
    "**Numbers of reviews over years**<br>\n",
    "Using the command from the last cell, we'll have it output `review_id` and `year`, and pipe it into `aq_cnt` command.\n",
    "Because `review_id` is a unique identifier for each review, we'll count numbers of unique review ids group by year.<br>\n",
    "Lastly using `aq_ord` command to sort the output by year."
   ]
  },
  {
   "cell_type": "code",
   "execution_count": 51,
   "metadata": {},
   "outputs": [
    {
     "name": "stdout",
     "output_type": "stream",
     "text": [
      "\"year\",\"count\",\"annual_reviews\"\n",
      "2019-10-28 21:46:49 ip-10-10-1-118 ess[5045]: ***Error*** Multiple errors.  See task.log for more details\n",
      "\"2004\",13,13\n",
      "\"2005\",69,69\n",
      "\"2006\",44,44\n",
      "\"2007\",170,170\n",
      "\"2008\",951,951\n",
      "\"2009\",1860,1860\n",
      "\"2010\",2098,2098\n",
      "\"2011\",2590,2590\n",
      "\"2012\",6634,6634\n",
      "\"2013\",24629,24629\n",
      "\"2014\",28438,28438\n",
      "\"2015\",18275,18275\n"
     ]
    }
   ],
   "source": [
    "ess stream amazon_reviews --bulk --master \"*\" \"*\" \\\n",
    "'aq_pp -f,+1,tsv - -d %cols -mapf review_date \"%%year:4-4%%-%%month:2-2%%%*\" \\\n",
    "-mapc s:year %%YEAR%% -mapc s:month %%MONTH%% -c review_id year' | \\\n",
    "aq_cnt -f,+1 - -d S:review_id S:year -g year -k annual_reviews review_id | \\\n",
    "aq_ord -f,+1 - -d S:year I:count I:annual_reviews -sort year"
   ]
  },
  {
   "cell_type": "markdown",
   "metadata": {},
   "source": [
    "**Numbers of Reviews over the years in each month**<br>\n",
    "\n",
    "We can analyze numbers of reviews over the years, in each month by counting it group by year, and month. <br>\n",
    "Afterwards, we can use `aq_rst` to organize the result into table with rows of months and columns of years.\n"
   ]
  },
  {
   "cell_type": "code",
   "execution_count": 60,
   "metadata": {},
   "outputs": [
    {
     "name": "stdout",
     "output_type": "stream",
     "text": [
      "2019-10-28 22:22:50 ip-10-10-1-118 ess[5293]: ***Error*** Multiple errors.  See task.log for more details\n",
      "\"month\",\"01\",\"02\",\"03\",\"04\",\"05\",\"06\",\"07\",\"08\",\"09\",\"10\",\"11\",\"12\"\n",
      "\"2004\",0,0,0,3,1,0,0,1,2,0,1,5\n",
      "\"2005\",5,17,4,7,5,9,3,9,3,0,3,4\n",
      "\"2006\",1,3,6,2,3,0,5,4,7,1,3,9\n",
      "\"2007\",7,4,8,4,2,6,8,7,8,4,49,63\n",
      "\"2008\",109,50,62,57,64,82,66,94,92,84,101,90\n",
      "\"2009\",130,174,163,130,140,111,198,134,137,177,161,205\n",
      "\"2010\",235,169,130,162,152,129,154,189,188,222,183,185\n",
      "\"2011\",220,227,217,196,180,171,225,162,214,218,250,310\n",
      "\"2012\",436,335,312,368,389,331,400,397,545,533,962,1626\n",
      "\"2013\",2174,1731,2088,1931,1906,1734,1856,1926,2045,2117,2425,2696\n",
      "\"2014\",3019,2180,2395,2285,2266,1938,2072,2295,2290,2336,2450,2912\n",
      "\"2015\",2913,2188,2238,2396,2246,2137,2110,2047,0,0,0,0\n"
     ]
    }
   ],
   "source": [
    "ess stream amazon_reviews --bulk --master \"*\" \"*\" \\\n",
    "'aq_pp -f,+1,tsv - -d %cols -mapf review_date \"%%year:4-4%%-%%month:2-2%%%*\" \\\n",
    "-mapc s:year %%YEAR%% -mapc s:month %%MONTH%% -c review_id year month' | \\\n",
    "aq_cnt -f,+1 - -d S:review_id S:year S:month -g year month -k reviews review_id | \\\n",
    "aq_rst -f,+1 - -d S:month S:year I:reviews -key month -lab year -val reviews"
   ]
  },
  {
   "cell_type": "markdown",
   "metadata": {},
   "source": [
    "<img src=\"img/year_month.png\">\n",
    "*Heatmap, month vs year*"
   ]
  },
  {
   "cell_type": "markdown",
   "metadata": {},
   "source": [
    "**Numbers of Reviews over months**<br>\n",
    "\n",
    "This is useful to check if there's monthly / seasonal trends in numbers of reviews.\n",
    "Let's try to dig little deeper, and gain numbers of each star_rating for each month. We can do this by further grouping record by `star_rating` value on `aq_cnt` command, then uing `aq_rst` to transform into pivot table."
   ]
  },
  {
   "cell_type": "code",
   "execution_count": 57,
   "metadata": {},
   "outputs": [
    {
     "name": "stdout",
     "output_type": "stream",
     "text": [
      "2019-10-28 22:16:00 ip-10-10-1-118 ess[5236]: ***Error*** Multiple errors.  See task.log for more details\n",
      "\"star_rating\",\"01\",\"02\",\"03\",\"04\",\"05\",\"06\",\"07\",\"08\",\"09\",\"10\",\"11\",\"12\"\n",
      "1,472,394,433,440,419,432,457,478,293,322,465,460\n",
      "2,294,248,260,246,262,210,253,257,206,197,255,269\n",
      "3,609,470,538,502,483,447,470,490,380,391,445,505\n",
      "4,1371,1022,1089,1050,1078,928,1067,1078,895,832,856,1131\n",
      "5,6503,4944,5303,5303,5112,4631,4850,4962,3757,3950,4567,5740\n"
     ]
    }
   ],
   "source": [
    "ess stream amazon_reviews --bulk --master \"*\" \"*\" \\\n",
    "'aq_pp -f,+1,tsv - -d %cols -mapf review_date \"%%year:4-4%%-%%month:2-2%%%*\" \\\n",
    "-mapc s:year %%YEAR%% -mapc s:month %%MONTH%% -c review_id star_rating month' | \\\n",
    "aq_cnt -f,+1 - -d S:review_id I:star_rating S:month -g month star_rating -k monthly review_id | \\\n",
    "aq_rst -f,+1 - -d S:month I:star_rating I:monthly -key star_rating -lab month -val monthly"
   ]
  },
  {
   "cell_type": "markdown",
   "metadata": {},
   "source": [
    "<img src=\"img/rating_monthly.png\">\n",
    "*Heatmap of rating vs month*"
   ]
  },
  {
   "cell_type": "markdown",
   "metadata": {},
   "source": [
    "### Numbers of Reviews Left per Customer\n",
    "\n",
    "Let's take a look at how many reviews are left by one customers.<br>\n",
    "To get this value, we need to take 2 steps,\n",
    "1. count numbers of reviews left by each customer by grouping by `customer_id`. Let's call this `reviews_per_customer`.\n",
    "2. count numbers of unique `customer_id` in each `reviews_per_customer`\n",
    "\n",
    "**Note**<br>\n",
    "Output of the commands are piped into `head` command to display top 20 result only for clearity. Feel free to remove it and run it to display the full result."
   ]
  },
  {
   "cell_type": "code",
   "execution_count": 1,
   "metadata": {},
   "outputs": [
    {
     "name": "stdout",
     "output_type": "stream",
     "text": [
      "\"customer_id\",\"row\",\"reviews_per_customer\"\n",
      "146004,2,2\n",
      "254421,1,1\n",
      "565563,1,1\n",
      "52303,1,1\n",
      "1162122,1,1\n",
      "108745,1,1\n",
      "1325068,1,1\n",
      "515450,1,1\n",
      "3733178,1,1\n",
      "5662728,1,1\n",
      "1117977,3,3\n",
      "6454258,1,1\n",
      "1772983,1,1\n",
      "8556468,1,1\n",
      "2288113,1,1\n",
      "4599064,1,1\n",
      "12461968,1,1\n",
      "5724518,1,1\n",
      "13397066,1,1\n",
      "2019-10-31 00:14:10 ip-10-10-1-105 ess[872]: !!!Warning!!! Multiple warnings.  See task.log for more details\n"
     ]
    }
   ],
   "source": [
    "# step 1\n",
    "ess stream amazon_reviews --bulk --master \"*\" \"*\" \\\n",
    "'aq_cnt -f,+1,eok,tsv - -d %cols -g customer_id -k reviews_per_customer review_id' | head -n 20"
   ]
  },
  {
   "cell_type": "code",
   "execution_count": 3,
   "metadata": {},
   "outputs": [
    {
     "name": "stdout",
     "output_type": "stream",
     "text": [
      "\"reviews_per_customer\",\"row\",\"numbers_customer\"\n",
      "1,4074808,4074808\n",
      "2,851376,851376\n",
      "3,305377,305377\n",
      "4,142319,142319\n",
      "5,76569,76569\n",
      "6,45982,45982\n",
      "7,30036,30036\n",
      "8,20271,20271\n",
      "9,14798,14798\n",
      "10,10746,10746\n",
      "11,8224,8224\n",
      "12,6567,6567\n",
      "13,5181,5181\n",
      "14,4315,4315\n",
      "15,3528,3528\n",
      "16,2887,2887\n",
      "17,2401,2401\n",
      "18,2102,2102\n",
      "19,1848,1848\n",
      "2019-10-31 00:18:39 ip-10-10-1-105 ess[927]: !!!Warning!!! Multiple warnings.  See task.log for more details\n"
     ]
    }
   ],
   "source": [
    "# step2: pipe the result from step1 into another aq_cnt.\n",
    "# sort at the last line\n",
    "ess stream amazon_reviews --bulk --master \"*\" \"*\" \\\n",
    "'aq_cnt -f,+1,eok,tsv - -d %cols -g customer_id -k reviews_per_customer review_id | \\\n",
    " aq_cnt -f,+1 - -d I:customer_id I:row I:reviews_per_customer -g reviews_per_customer -k numbers_customer customer_id | \\\n",
    " aq_ord -f,+1 - -d I:reviews_per_customer I:row I:numbers_customer -sort reviews_per_customer' | head -n 20"
   ]
  },
  {
   "cell_type": "markdown",
   "metadata": {},
   "source": [
    "<img src=\"img/reviews_customers.png\">\n",
    "\n",
    "*Numbers of reviews vs Numbers of customer*\n",
    "\n",
    "You can observe that most customers only leave 1 review, and up to about 5.\n",
    "Note that this visualization only covers up to customers with 30 reviews, but the maximum number of reviews left by one customer was 3162.\n",
    "This might indicates that some of the reviews / customers were fraudulent.\n",
    "\n",
    "### Verifying Customer Reviews\n",
    "\n",
    "This dataset comes with column `verified_purchase`, which means a customer actually purchased the product from amazon prior to leaving the review.\n",
    "We will compare the numbers of reviews left by each customer, between verified reviews vs non-verified reviews.\n",
    "\n",
    "**Verified Reviews**<br>\n",
    "In the following steps and corresponding line in a cell below, we'll gain average numbers of reviews left per customer for verified purchases only.\n",
    "1. make essentia data stream in bulk mode\n",
    "2. filter out verified records only\n",
    "3. get numbers of reviews left by each customer by counting numbers of unique review_id per customer_id"
   ]
  },
  {
   "cell_type": "code",
   "execution_count": 1,
   "metadata": {},
   "outputs": [
    {
     "name": "stdout",
     "output_type": "stream",
     "text": [
      "\"customer_id\",\"row\",\"num_reviews\"\n",
      "565563,1,1\n",
      "52303,1,1\n",
      "1162122,1,1\n",
      "108745,1,1\n",
      "1325068,1,1\n",
      "515450,1,1\n",
      "3733178,1,1\n",
      "5662728,1,1\n",
      "1117977,3,3\n",
      "6454258,1,1\n",
      "1772983,1,1\n",
      "8556468,1,1\n",
      "12461968,1,1\n",
      "5724518,1,1\n",
      "13397066,1,1\n",
      "10015518,1,1\n",
      "10319957,1,1\n",
      "10409415,1,1\n",
      "11092682,1,1\n",
      "2019-10-30 23:28:47 ip-10-10-1-105 ess[666]: !!!Warning!!! Multiple warnings.  See task.log for more details\n"
     ]
    }
   ],
   "source": [
    "ess stream amazon_reviews --bulk --master \"*\" \"*\" \\\n",
    "'aq_pp -f,+1,eok,tsv - -d %cols -filt \"verified_purchase == \\\"Y\\\"\" -c review_id customer_id | \\\n",
    " aq_cnt -f,+1 - -d S:review_id I:customer_id -g customer_id -k num_reviews review_id | head -n 20'"
   ]
  },
  {
   "cell_type": "markdown",
   "metadata": {},
   "source": [
    "Taking the average of `num_reviews` will give us 1.60, meaning that customer whose purchases are verified, left 1.6 reviews in average.<br>\n",
    "Let's take a look at un-verified purchases.\n",
    "\n",
    "**Un-varified Reviews**<br>"
   ]
  },
  {
   "cell_type": "code",
   "execution_count": 2,
   "metadata": {},
   "outputs": [
    {
     "name": "stdout",
     "output_type": "stream",
     "text": [
      "\"customer_id\",\"row\",\"num_reviews\"\n",
      "146004,2,2\n",
      "254421,1,1\n",
      "1576648,1,1\n",
      "2016966,1,1\n",
      "2288113,1,1\n",
      "4599064,1,1\n",
      "28075342,1,1\n",
      "30067162,1,1\n",
      "30755027,1,1\n",
      "43540573,1,1\n",
      "51921580,1,1\n",
      "432832,1,1\n",
      "5491151,1,1\n",
      "10517269,1,1\n",
      "10641330,1,1\n",
      "36536216,1,1\n",
      "16640269,1,1\n",
      "51996373,1,1\n",
      "160760,1,1\n",
      "2019-10-30 23:32:26 ip-10-10-1-105 ess[693]: !!!Warning!!! Multiple warnings.  See task.log for more details\n"
     ]
    }
   ],
   "source": [
    "ess stream amazon_reviews --bulk --master \"*\" \"*\" \\\n",
    "'aq_pp -f,+1,eok,tsv - -d %cols -filt \"verified_purchase == \\\"N\\\"\" -c review_id customer_id | \\\n",
    " aq_cnt -f,+1 - -d S:review_id I:customer_id -g customer_id -k num_reviews review_id | head -n 20'"
   ]
  },
  {
   "cell_type": "markdown",
   "metadata": {},
   "source": [
    "Unverified reviewers gives on average 1.7 reviews per customers. This is not much of difference. Digging deeper though, below is the boxplot of the numbers of reviews per customer id versus verification status.\n",
    "\n",
    "<img src=\"img/review_status.png\">\n",
    "\n",
    "Note that y axis of this plot is rescaled with log10, but notice how skewed the unverified graph is. Maximum numbers of reviews left by one customer for un-verified purchase was 3161. You can see that small numbers of users are leaving large amount of reviews, making it seems less legitimate."
   ]
  },
  {
   "cell_type": "markdown",
   "metadata": {},
   "source": [
    "\n",
    "### Star Ratings by Product Categories\n",
    "\n",
    "Finally, let's investigate numbers of each star ratings by each categories. \n",
    "We need to group the records by `product_category` first, and count occurence of each star ratings within."
   ]
  },
  {
   "cell_type": "code",
   "execution_count": 75,
   "metadata": {},
   "outputs": [
    {
     "name": "stdout",
     "output_type": "stream",
     "text": [
      "\"product_category\",\"star_rating\",\"Count\"\n",
      "\"Apparel\",1,6\n",
      "\"Apparel\",2,7\n",
      "\"Apparel\",3,12\n",
      "\"Apparel\",4,17\n",
      "\"Apparel\",5,85\n",
      "\"Automotive\",1,157\n",
      "\"Automotive\",2,76\n",
      "\"Automotive\",3,137\n",
      "\"Automotive\",4,233\n",
      "\"Automotive\",5,931\n",
      "\"Baby\",1,626\n",
      "\"Baby\",2,470\n",
      "\"Baby\",3,818\n",
      "\"Baby\",4,1759\n",
      "\"Baby\",5,8287\n",
      "\"Beauty\",1,6\n",
      "\"Beauty\",3,3\n",
      "\"Beauty\",4,9\n",
      "\"Beauty\",5,37\n",
      "\"Books\",1,68170\n",
      "\"Books\",2,53808\n",
      "\"Books\",3,90924\n",
      "\"Books\",4,193814\n",
      "\"Books\",5,788100\n",
      "\"Camera\",1,1852\n",
      "\"Camera\",2,1447\n",
      "\"Camera\",3,3136\n",
      "\"Camera\",4,7462\n",
      "\"Camera\",5,22889\n",
      "\"Digital_Ebook_Purchase\",1,58749\n",
      "\"Digital_Ebook_Purchase\",2,59250\n",
      "\"Digital_Ebook_Purchase\",3,132614\n",
      "\"Digital_Ebook_Purchase\",4,327890\n",
      "\"Digital_Ebook_Purchase\",5,979828\n",
      "\"Digital_Music_Purchase\",1,4400\n",
      "\"Digital_Music_Purchase\",2,3725\n",
      "\"Digital_Music_Purchase\",3,8102\n",
      "\"Digital_Music_Purchase\",4,24341\n",
      "\"Digital_Music_Purchase\",5,122728\n",
      "\"Digital_Video_Download\",1,71347\n",
      "\"Digital_Video_Download\",2,53363\n",
      "\"Digital_Video_Download\",3,98355\n",
      "\"Digital_Video_Download\",4,216916\n",
      "\"Digital_Video_Download\",5,676594\n",
      "\"Electronics\",1,2438\n",
      "\"Electronics\",2,1488\n",
      "\"Electronics\",3,2272\n",
      "\"Electronics\",4,5359\n",
      "\"Electronics\",5,15511\n",
      "\"Furniture\",1,26\n",
      "\"Furniture\",2,5\n",
      "\"Furniture\",3,11\n",
      "\"Furniture\",4,12\n",
      "\"Furniture\",5,47\n",
      "\"Grocery\",1,1\n",
      "\"Grocery\",3,2\n",
      "\"Grocery\",5,17\n",
      "\"Health & Personal Care\",1,182\n",
      "\"Health & Personal Care\",2,85\n",
      "\"Health & Personal Care\",3,144\n",
      "\"Health & Personal Care\",4,265\n",
      "\"Health & Personal Care\",5,758\n",
      "\"Home\",1,541\n",
      "\"Home\",2,283\n",
      "\"Home\",3,468\n",
      "\"Home\",4,1098\n",
      "\"Home\",5,4618\n",
      "\"Home Entertainment\",1,3674\n",
      "\"Home Entertainment\",2,2474\n",
      "\"Home Entertainment\",3,3731\n",
      "\"Home Entertainment\",4,6663\n",
      "\"Home Entertainment\",5,21265\n",
      "\"Home Improvement\",1,546\n",
      "\"Home Improvement\",2,294\n",
      "\"Home Improvement\",3,421\n",
      "\"Home Improvement\",4,916\n",
      "\"Home Improvement\",5,3696\n",
      "\"Kitchen\",1,248\n",
      "\"Kitchen\",2,165\n",
      "\"Kitchen\",3,259\n",
      "\"Kitchen\",4,505\n",
      "\"Kitchen\",5,1188\n",
      "\"Lawn and Garden\",1,252\n",
      "\"Lawn and Garden\",2,120\n",
      "\"Lawn and Garden\",3,184\n",
      "\"Lawn and Garden\",4,320\n",
      "\"Lawn and Garden\",5,1097\n",
      "\"Luggage\",1,20\n",
      "\"Luggage\",2,16\n",
      "\"Luggage\",3,26\n",
      "\"Luggage\",4,55\n",
      "\"Luggage\",5,358\n",
      "\"Mobile_Apps\",1,143885\n",
      "\"Mobile_Apps\",2,68531\n",
      "\"Mobile_Apps\",3,147627\n",
      "\"Mobile_Apps\",4,366219\n",
      "\"Mobile_Apps\",5,1047475\n",
      "\"Mobile_Electronics\",1,13\n",
      "\"Mobile_Electronics\",2,9\n",
      "\"Mobile_Electronics\",3,20\n",
      "\"Mobile_Electronics\",4,24\n",
      "\"Mobile_Electronics\",5,118\n",
      "\"Music\",1,56259\n",
      "\"Music\",2,47971\n",
      "\"Music\",3,93873\n",
      "\"Music\",4,222582\n",
      "\"Music\",5,1005502\n",
      "\"Musical Instruments\",1,1056\n",
      "\"Musical Instruments\",2,775\n",
      "\"Musical Instruments\",3,1186\n",
      "\"Musical Instruments\",4,3091\n",
      "\"Musical Instruments\",5,9855\n",
      "\"Office Products\",1,306\n",
      "\"Office Products\",2,221\n",
      "\"Office Products\",3,295\n",
      "\"Office Products\",4,795\n",
      "\"Office Products\",5,2440\n",
      "\"Outdoors\",1,226\n",
      "\"Outdoors\",2,170\n",
      "\"Outdoors\",3,293\n",
      "\"Outdoors\",4,558\n",
      "\"Outdoors\",5,1948\n",
      "\"PC\",1,7211\n",
      "\"PC\",2,4331\n",
      "\"PC\",3,7151\n",
      "\"PC\",4,17376\n",
      "\"PC\",5,59709\n",
      "\"Personal_Care_Appliances\",1,70\n",
      "\"Personal_Care_Appliances\",2,40\n",
      "\"Personal_Care_Appliances\",3,57\n",
      "\"Personal_Care_Appliances\",4,125\n",
      "\"Personal_Care_Appliances\",5,413\n",
      "\"Pet Products\",1,2\n",
      "\"Pet Products\",2,1\n",
      "\"Pet Products\",3,4\n",
      "\"Pet Products\",4,13\n",
      "\"Pet Products\",5,31\n",
      "\"Shoes\",1,577\n",
      "\"Shoes\",2,592\n",
      "\"Shoes\",3,1081\n",
      "\"Shoes\",4,2660\n",
      "\"Shoes\",5,7649\n",
      "\"Software\",1,20\n",
      "\"Software\",2,10\n",
      "\"Software\",3,17\n",
      "\"Software\",4,47\n",
      "\"Software\",5,110\n",
      "\"Sports\",1,874\n",
      "\"Sports\",2,506\n",
      "\"Sports\",3,889\n",
      "\"Sports\",4,2068\n",
      "\"Sports\",5,5357\n",
      "\"Tools\",1,336\n",
      "\"Tools\",2,263\n",
      "\"Tools\",3,609\n",
      "\"Tools\",4,1543\n",
      "\"Tools\",5,4759\n",
      "\"Toys\",1,4258\n",
      "\"Toys\",2,3374\n",
      "\"Toys\",3,7421\n",
      "\"Toys\",4,18773\n",
      "\"Toys\",5,83522\n",
      "\"Video\",1,3816\n",
      "\"Video\",2,2738\n",
      "\"Video\",3,4322\n",
      "\"Video\",4,9685\n",
      "\"Video\",5,36243\n",
      "\"Video DVD\",1,128000\n",
      "\"Video DVD\",2,85452\n",
      "\"Video DVD\",3,154712\n",
      "\"Video DVD\",4,326403\n",
      "\"Video DVD\",5,1372076\n",
      "\"Video Games\",1,2349\n",
      "\"Video Games\",2,1202\n",
      "\"Video Games\",3,1632\n",
      "\"Video Games\",4,3615\n",
      "\"Video Games\",5,13691\n",
      "\"Watches\",1,1166\n",
      "\"Watches\",2,829\n",
      "\"Watches\",3,1227\n",
      "\"Watches\",4,3411\n",
      "\"Watches\",5,10536\n",
      "\"Wireless\",1,4273\n",
      "\"Wireless\",2,2106\n",
      "\"Wireless\",3,2946\n",
      "\"Wireless\",4,6341\n",
      "\"Wireless\",5,20562\n",
      "2019-10-28 23:49:35 ip-10-10-1-118 ess[5789]: !!!Warning!!! Multiple warnings.  See task.log for more details\n"
     ]
    }
   ],
   "source": [
    "ess stream amazon_reviews --bulk --master \"*\" \"*\" \\\n",
    "'aq_cnt -f,+1,eok,tsv - -d %cols -g product_category -kX - keyName star_rating | \\\n",
    " aq_ord -f,+1 - -d S:product_category I:star_rating I:Count -sort product_category star_rating'"
   ]
  },
  {
   "cell_type": "markdown",
   "metadata": {},
   "source": [
    "<img src=\"img/category_stars.png\">\n",
    "*category and numbers of star ratings*\n",
    "\n",
    "\n",
    "**Visualizations for this notebook was done with python, but [PivotBillions](https://pivotbillions.com/) is a great big data EDA, ETL, visualization tool you can use without coding as well!**"
   ]
  }
 ],
 "metadata": {
  "kernelspec": {
   "display_name": "Bash",
   "language": "bash",
   "name": "bash"
  },
  "language_info": {
   "codemirror_mode": "shell",
   "file_extension": ".sh",
   "mimetype": "text/x-sh",
   "name": "bash"
  }
 },
 "nbformat": 4,
 "nbformat_minor": 2
}
