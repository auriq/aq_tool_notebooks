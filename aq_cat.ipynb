{
 "cells": [
  {
   "cell_type": "markdown",
   "metadata": {},
   "source": [
    "# aq_cat\n",
    "\n",
    "## Overview\n",
    "\n",
    "`aq_cat` command is used as an input multiplexier to combine multiple data streams / inputs into one, and forward them as a one data output. The output can be then stored in a file or can be piped into other command. <br>\n",
    "Input to `aq_cat` can be delimiter-separated-values (CSV or TSV etc) format or aq_tool's internal binary format. \n",
    "\n",
    "There are **2 modes of actions in this command, as well as 2 types of input to the command.** <br> They are\n",
    "**Modes of Actions**<br>\n",
    "* with column spec\n",
    "* without column spec\n",
    "\n",
    "**Inputs**<br>\n",
    "* named pipe feature\n",
    "* bash's process substitution\n",
    "\n",
    "Due to the functional constraints of the notebook, we'll only be able to experiment with bash's process substitution way of passing data to `aq_cat`, but feel free to try named pipe method on your own CLI.\n",
    "\n",
    "Before we get to the example, have the official documentation at [here](http://auriq.com/documentation/source/reference/manpages/aq_cat.html) open on your side, or refer to man page by running `man aq_cat` on one of the cells below, for referrencing during experienting on the notebook.\n",
    "\n",
    "With that, let's get started!\n",
    "\n",
    "### Basic Syntax with Process Substitution\n",
    "\n",
    "Note that this notebook assumes that you're using bash shell.\n",
    "* [What is process substitution?](https://www.linuxjournal.com/content/shell-process-redirection)\n",
    "\n",
    "```aq_cat ... -f <( Command_1 ) <( Command_2 ) | Command_3```<br>\n",
    "where\n",
    "* output from `command_1` and `command_2` are directed to `command_3`.\n",
    "\n",
    "These `command_1/2` can be any command, as long as they produce output data stream.\n",
    "\n",
    "Let's take a look at this with super simple files and commands.\n",
    "\n",
    "## Data\n",
    "We'll be using online customer review data from Japan and France, which are part of [amazon customer reviews dataset](https://s3.amazonaws.com/amazon-reviews-pds/readme.html), which looks like below."
   ]
  },
  {
   "cell_type": "code",
   "execution_count": 20,
   "metadata": {},
   "outputs": [
    {
     "name": "stdout",
     "output_type": "stream",
     "text": [
      "MarketPlace,product_category,star_rating\n",
      "JP,Mobile_Apps,1\n",
      "JP,Mobile_Apps,5\n",
      "JP,Mobile_Apps,3\n",
      "JP,PC,5\n",
      "JP,PC,5\n",
      "MarketPlace,product_category,star_rating\n",
      "FR,Shoes,5\n",
      "FR,Toys,5\n",
      "FR,Mobile_Apps,4\n",
      "FR,Digital_Music_Purchase,3\n",
      "FR,Mobile_Apps,5\n"
     ]
    }
   ],
   "source": [
    "# set file path as variable\n",
    "jp='data/aq_cat/jp_amazon.csv'\n",
    "fr='data/aq_cat/fr_amazon.csv'\n",
    "ramen='data/aq_cat/ramen-ratings.csv'\n",
    "\n",
    "cat $jp\n",
    "cat $fr"
   ]
  },
  {
   "cell_type": "markdown",
   "metadata": {},
   "source": [
    "Each dataset include 5 datapoints, and only includes reviews from thier own marketplace, Japan and France. <br>\n",
    "\n",
    "### With Column Spec\n",
    "\n",
    "**Advantages of providing column specs**<br>\n",
    "* input and output can be delimiter-separated format or binary format\n",
    "* output columns can be selected by its names, not the index nubmers\n",
    "\n",
    "**Disadvantages:**<br>\n",
    "* need to know the column specs in advance\n",
    "* can only concatenate data stream with same schema / columns\n",
    "\n",
    "With the same amazon dataset, we'll specify the column spec and set it to bash variable, then execute the command.\n"
   ]
  },
  {
   "cell_type": "code",
   "execution_count": 13,
   "metadata": {},
   "outputs": [
    {
     "name": "stdout",
     "output_type": "stream",
     "text": [
      "\"marketplace\",\"product_category\",\"star_rating\"\n",
      "/dev/fd/62: Bad field value: byte=1+41 rec=1 field=star_rating\n",
      "/dev/fd/63: Bad field value: byte=1+41 rec=1 field=star_rating\n",
      "aq_cat: Input processing error\n"
     ]
    },
    {
     "ename": "",
     "evalue": "13",
     "output_type": "error",
     "traceback": []
    }
   ],
   "source": [
    "# input with column spec, without +1\n",
    "cols=\"S:marketplace S:product_category I:star_rating\"\n",
    "aq_cat -f <(cat $jp) <(cat $fr) -d $cols"
   ]
  },
  {
   "cell_type": "markdown",
   "metadata": {},
   "source": [
    "Opps, what happened here? It says `bad field value:...`. The reason why is because we're loading the headers of the data as data stream as well, and applying the column spec. Let's add `+1` to the input spec in order to skip the header."
   ]
  },
  {
   "cell_type": "code",
   "execution_count": 14,
   "metadata": {},
   "outputs": [
    {
     "name": "stdout",
     "output_type": "stream",
     "text": [
      "\"marketplace\",\"product_category\",\"star_rating\"\n",
      "\"FR\",\"Shoes\",5\n",
      "\"FR\",\"Toys\",5\n",
      "\"FR\",\"Mobile_Apps\",4\n",
      "\"FR\",\"Digital_Music_Purchase\",3\n",
      "\"FR\",\"Mobile_Apps\",5\n",
      "\"JP\",\"Mobile_Apps\",1\n",
      "\"JP\",\"Mobile_Apps\",5\n",
      "\"JP\",\"Mobile_Apps\",3\n",
      "\"JP\",\"PC\",5\n",
      "\"JP\",\"PC\",5\n"
     ]
    }
   ],
   "source": [
    "aq_cat -f,+1 <(cat $jp) <(cat $fr) -d $cols"
   ]
  },
  {
   "cell_type": "markdown",
   "metadata": {},
   "source": [
    "**Specifying Output Column**<br>\n",
    "Let's output the artbitrary column. We'll try index and column names both."
   ]
  },
  {
   "cell_type": "code",
   "execution_count": 16,
   "metadata": {},
   "outputs": [
    {
     "name": "stdout",
     "output_type": "stream",
     "text": [
      "\"marketplace\",\"star_rating\"\n",
      "\"FR\",5\n",
      "\"FR\",5\n",
      "\"FR\",4\n",
      "\"FR\",3\n",
      "\"FR\",5\n",
      "\"JP\",1\n",
      "\"JP\",5\n",
      "\"JP\",3\n",
      "\"JP\",5\n",
      "\"JP\",5\n"
     ]
    }
   ],
   "source": [
    "# output column by column names\n",
    "aq_cat -f+1 <(cat $jp) <(cat $fr) -d $cols -c marketplace star_rating"
   ]
  },
  {
   "cell_type": "code",
   "execution_count": 17,
   "metadata": {},
   "outputs": [
    {
     "name": "stdout",
     "output_type": "stream",
     "text": [
      "Column \"1\" not found\n",
      "Invalid parameter \"1\": ... -c 1 3\n",
      "aq_cat: Option spec error\n"
     ]
    },
    {
     "ename": "",
     "evalue": "2",
     "output_type": "error",
     "traceback": []
    }
   ],
   "source": [
    "# output column by column index\n",
    "aq_cat -f,+1 <(cat $jp) <(cat $fr) -d $cols -c 1 3"
   ]
  },
  {
   "cell_type": "markdown",
   "metadata": {},
   "source": [
    "\n",
    "\n",
    "### Without Column Spec\n",
    "**Advantages of without column spec:**<br>\n",
    "* simple to use\n",
    "* allows you to concatenate data stream with different schema / columns\n",
    "\n",
    "**Disadvantage of without column spec:**<br>\n",
    "* only support output in delimiter separated format, nothing else (e.g. binary format)\n",
    "* output column can only be selected by numbers, not column names\n",
    "\n",
    "We'll use `cat` command to stream the data from these files, then substitute it into `aq_cat` command."
   ]
  },
  {
   "cell_type": "code",
   "execution_count": 3,
   "metadata": {
    "scrolled": true
   },
   "outputs": [
    {
     "name": "stdout",
     "output_type": "stream",
     "text": [
      "MarketPlace,product_category,star_rating\n",
      "JP,Mobile_Apps,1\n",
      "JP,Mobile_Apps,5\n",
      "JP,Mobile_Apps,3\n",
      "JP,PC,5\n",
      "JP,PC,5\n",
      "MarketPlace,product_category,star_rating\n",
      "FR,Shoes,5\n",
      "FR,Toys,5\n",
      "FR,Mobile_Apps,4\n",
      "FR,Digital_Music_Purchase,3\n",
      "FR,Mobile_Apps,5\n"
     ]
    }
   ],
   "source": [
    "# Process substitution\n",
    "aq_cat -f <(cat $jp) <(cat $fr)"
   ]
  },
  {
   "cell_type": "markdown",
   "metadata": {},
   "source": [
    "As you can see, the input data are combined together, including header. (Did not specify `+1` on the input spec for `aq_cat`. Let's try that to skip the header."
   ]
  },
  {
   "cell_type": "code",
   "execution_count": 6,
   "metadata": {
    "scrolled": true
   },
   "outputs": [
    {
     "name": "stdout",
     "output_type": "stream",
     "text": [
      "FR,Shoes,5\n",
      "FR,Toys,5\n",
      "FR,Mobile_Apps,4\n",
      "FR,Digital_Music_Purchase,3\n",
      "FR,Mobile_Apps,5\n",
      "JP,Mobile_Apps,1\n",
      "JP,Mobile_Apps,5\n",
      "JP,Mobile_Apps,3\n",
      "JP,PC,5\n",
      "JP,PC,5\n"
     ]
    }
   ],
   "source": [
    "aq_cat -f,+1 <(cat $jp) <(cat $fr)"
   ]
  },
  {
   "cell_type": "markdown",
   "metadata": {},
   "source": [
    "**Specifying Output Column**<br>\n",
    "\n",
    "Let's only output `marketplace` and `star_rating` column, using `-c` option. Because we are not providing column spec, we will use column index number to specify the output columns **(starting with 1, not 0)**."
   ]
  },
  {
   "cell_type": "code",
   "execution_count": 11,
   "metadata": {
    "scrolled": true
   },
   "outputs": [
    {
     "name": "stdout",
     "output_type": "stream",
     "text": [
      "FR,5\n",
      "FR,5\n",
      "FR,4\n",
      "FR,3\n",
      "FR,5\n",
      "JP,1\n",
      "JP,5\n",
      "JP,3\n",
      "JP,5\n",
      "JP,5\n"
     ]
    }
   ],
   "source": [
    "# index starts at 1!\n",
    "aq_cat -f,+1 <(cat $jp) <(cat $fr) -c 1 3"
   ]
  },
  {
   "cell_type": "code",
   "execution_count": null,
   "metadata": {},
   "outputs": [],
   "source": [
    "# does this work??\n",
    "aq_cat -f,+1 <(cat $jp) <(cat $fr) -c marketplace star_rating"
   ]
  },
  {
   "cell_type": "markdown",
   "metadata": {},
   "source": [
    "**Cocatenating Data Streams that have different Data Schemas / Columns**<br>\n",
    "Sometimes you might want to concatenate data stream that have differnt columns, or shcema.\n",
    "\n",
    "Can we do that with simple mode?? Let's see. <br> We will use `ramen-ratings-part.csv` data, which includes ratings of various instant noddles all over the globe. They have following columns<br>\n",
    "* review: reviewID\n",
    "* brand: brand's name\n",
    "* country: country's name\n",
    "* stars: star rating value\n",
    "\n",
    "We'll try to concatenate this dataset with the amazon's customer review from Japanese marketplace."
   ]
  },
  {
   "cell_type": "code",
   "execution_count": 21,
   "metadata": {
    "scrolled": true
   },
   "outputs": [
    {
     "name": "stdout",
     "output_type": "stream",
     "text": [
      "\"review\",\"brand\",\"country\",\"stars\"\n",
      "2580,\"New Touch\",\"Japan\",3.75\n",
      "2579,\"Just Way\",\"Taiwan\",1\n",
      "2578,\"Nissin\",\"USA\",2.25\n",
      "2577,\"Wei Lih\",\"Taiwan\",2.75\n",
      "2576,\"Ching's Secret\",\"India\",3.75\n",
      "2575,\"Samyang Foods\",\"South Korea\",4.75\n",
      "2574,\"Acecook\",\"Japan\",4\n",
      "2573,\"Ikeda Shoku\",\"Japan\",3.75\n",
      "2572,\"Ripe'n'Dry\",\"Japan\",0.25\n"
     ]
    }
   ],
   "source": [
    "# taking a look at the ramen dataset \n",
    "cat $ramen"
   ]
  },
  {
   "cell_type": "code",
   "execution_count": 26,
   "metadata": {},
   "outputs": [
    {
     "name": "stdout",
     "output_type": "stream",
     "text": [
      "MarketPlace,product_category,star_rating\n",
      "JP,Mobile_Apps,1\n",
      "JP,Mobile_Apps,5\n",
      "JP,Mobile_Apps,3\n",
      "JP,PC,5\n",
      "JP,PC,5\n"
     ]
    }
   ],
   "source": [
    "# Once again take a look at Japanese Marketplace Reviews\n",
    "cat $jp"
   ]
  },
  {
   "cell_type": "code",
   "execution_count": 27,
   "metadata": {
    "scrolled": false
   },
   "outputs": [
    {
     "name": "stdout",
     "output_type": "stream",
     "text": [
      "JP,Mobile_Apps,1\n",
      "JP,Mobile_Apps,5\n",
      "JP,Mobile_Apps,3\n",
      "JP,PC,5\n",
      "JP,PC,5\n",
      "2580,\"New Touch\",\"Japan\",3.75\n",
      "2579,\"Just Way\",\"Taiwan\",1\n",
      "2578,\"Nissin\",\"USA\",2.25\n",
      "2577,\"Wei Lih\",\"Taiwan\",2.75\n",
      "2576,\"Ching's Secret\",\"India\",3.75\n",
      "2575,\"Samyang Foods\",\"South Korea\",4.75\n",
      "2574,\"Acecook\",\"Japan\",4\n",
      "2573,\"Ikeda Shoku\",\"Japan\",3.75\n",
      "2572,\"Ripe'n'Dry\",\"Japan\",0.25\n"
     ]
    }
   ],
   "source": [
    "# Let's try concatenating them!\n",
    "aq_cat -f,+1 <(cat $jp) <(cat $ramen) "
   ]
  },
  {
   "cell_type": "code",
   "execution_count": 28,
   "metadata": {},
   "outputs": [
    {
     "name": "stdout",
     "output_type": "stream",
     "text": [
      "2580,3.75\n",
      "2579,1\n",
      "2578,2.25\n",
      "2577,2.75\n",
      "2576,3.75\n",
      "2575,4.75\n",
      "2574,4\n",
      "2573,3.75\n",
      "2572,0.25\n",
      "JP,\n",
      "JP,\n",
      "JP,\n",
      "JP,\n",
      "JP,\n"
     ]
    }
   ],
   "source": [
    "# now output arbitrary columns\n",
    "aq_cat -f,+1 <(cat $jp) <(cat $ramen) -c 1 4"
   ]
  }
 ],
 "metadata": {
  "kernelspec": {
   "display_name": "Bash",
   "language": "bash",
   "name": "bash"
  },
  "language_info": {
   "codemirror_mode": "shell",
   "file_extension": ".sh",
   "mimetype": "text/x-sh",
   "name": "bash"
  }
 },
 "nbformat": 4,
 "nbformat_minor": 2
}
