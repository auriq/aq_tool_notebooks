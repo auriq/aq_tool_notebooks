{
 "cells": [
  {
   "cell_type": "markdown",
   "metadata": {},
   "source": [
    "# aq_pp -sub\n",
    "\n",
    "## Overview\n",
    "\n",
    "`-sub` option is used to substitute values in a given column, when they matches to values in provided substitution (lookup) table. \n",
    "The matches do not have to be exact match, but pattern matching can also be performed on string patterns.\n",
    "\n",
    "### Todo\n",
    "\n",
    "* prerequisites\n",
    "* examples ideas\n",
    "* data tables, source table and lookup\n",
    "* syntax and attributes\n",
    "* default behaviors"
   ]
  },
  {
   "cell_type": "code",
   "execution_count": null,
   "metadata": {},
   "outputs": [],
   "source": []
  },
  {
   "cell_type": "code",
   "execution_count": null,
   "metadata": {},
   "outputs": [],
   "source": []
  },
  {
   "cell_type": "code",
   "execution_count": null,
   "metadata": {},
   "outputs": [],
   "source": []
  },
  {
   "cell_type": "code",
   "execution_count": null,
   "metadata": {},
   "outputs": [],
   "source": []
  }
 ],
 "metadata": {
  "kernelspec": {
   "display_name": "Bash",
   "language": "bash",
   "name": "bash"
  },
  "language_info": {
   "codemirror_mode": "shell",
   "file_extension": ".sh",
   "mimetype": "text/x-sh",
   "name": "bash"
  }
 },
 "nbformat": 4,
 "nbformat_minor": 2
}
