{
 "cells": [
  {
   "cell_type": "markdown",
   "metadata": {},
   "source": [
    "# aq_pp  -eval\n",
    "\n",
    "In this notebook, we'll go over common usage examples of the data preprocessing command, `aq_pp`, primarily focusing on `-eval` option.\n",
    "\n",
    "## Overview\n",
    "\n",
    "`-eval` option in `aq-pp` command is responsible for data manipulation and column creation. Given expression and destination column name, it _evaluate_ the expression, and store the result in the destination column.\n",
    "\n",
    "Before going over this notebook, make sure you're faimilar with the following concepts.\n",
    "\n",
    "* Bash commands\n",
    "* Regular Expression\n",
    "* aq_input / input-spec \n",
    "\n",
    "We won't go over input, column and output spec on this notebook. Some resources are available at\n",
    "\n",
    "* Notebooks\n",
    "    - [aq_input notebook](aq_input.ipynb).\n",
    "    - [aq_output notebook](aq_output.ipynb)\n",
    "* Documentation\n",
    "    - [aq_input](http://auriq.com/documentation/source/reference/manpages/aq-input.html)\n",
    "    - [aq_output](http://auriq.com/documentation/source/reference/manpages/aq-output.html)\n",
    "    \n",
    "    \n",
    "Also have the [-eval, aq_pp documentation](http://auriq.com/documentation/source/reference/manpages/aq_pp.html#eval) ready on your side, so you can refer to the details of each options as needed.\n",
    "\n",
    "**Skip to [Data](#data) section if you're already familiar with the syntax**<br>\n",
    "### Syntax\n",
    "\n",
    "```bash\n",
    "aq-pp ... -eval ColSpec|ColName Expr\n",
    "```\n",
    "where\n",
    "- `ColSpec`: new column's column spec to assign the result\n",
    "- `ColName`: existing column name to assign the result\n",
    "- `Expr`: expression to be evaluated, can be column name, constant or/and operators.\n",
    "\n",
    "\n",
    "**Couple things to note**<br>\n",
    "- **Column Datatype:** the destination column's datatype has to be same as the datatype of result of the `Expr`. In the example above, the result is float datatype, therefore we've declared `double_rating` as float.\n",
    "- **Quotations:** you cannot quote `colName|colSpec`, while `Expr` needs to be quoted. Single quotation is recommended, in case string value is included which require further quotation.\n",
    "Now we will perform the same operation, but store the result on existing column, `stars`.\n",
    "\n",
    "### Operators\n",
    "\n",
    "Operators supported for numerical operation are<br>\n",
    "\n",
    "_Arithmetic_\n",
    "- `*`: multiplication\n",
    "- `/`: division\n",
    "- `%`: modulus\n",
    "- `+`: addition\n",
    "- `-`: subtraction\n",
    "\n",
    "_Bitwise_\n",
    "- `&`: AND\n",
    "- `|`: OR\n",
    "- `^`: XOR\n",
    "\n",
    "<a id='data'></a>\n",
    "## Data\n",
    "\n",
    "[Ramen Ratings Dataset](https://www.kaggle.com/residentmario/ramen-ratings) from kaggle will be used in this sample, which contains ratings of 2500 ramen products. \n",
    "\n",
    "Review|Brand|Variety|Style|Country|Stars\n",
    "---|---|---|---|---|---|\n",
    "2580|New Touch|T's Restaurant Tantanmen|Cup|Japan|3.75\n",
    "2579|Just Way|Noodles Spicy Hot Sesame Spicy Hot Sesame Guan-miao Noodles|Pack|Taiwan|1\n",
    "2578|Nissin|Cup Noodles Chicken Vegetable|Cup|USA|2.25\n",
    "2577|Wei Lih|GGE Ramen Snack Tomato Flavor|Pack|Taiwan|2.75\n",
    "2576|Ching's Secret|Singapore Curry|Pack|India|3.75\n",
    "2575|Samyang Foods|Kimchi song Song Ramen|Pack|South Korea|4.75\n",
    "2574|Acecook|Spice Deli Tantan Men With Cilantro|Cup|Japan|4\n",
    "2573|Ikeda Shoku|Nabeyaki Kitsune Udon|Tray|Japan|3.75\n",
    "2572|Ripe'n'Dry|Hokkaido Soy Sauce Ramen|Pack|Japan|0.25\n",
    "2571|KOKA|The Original Spicy Stir-Fried Noodles|Pack|Singapore|2.5\n",
    "\n",
    "Columns and corresponing data types for the dataset are follows.\n",
    "- `int: Review #`: review id number, the more recent the review is, the bigger the number is\n",
    "- `str: Brand`: brand / manufacture of the product\n",
    "- `str: Variety`: title of the product\n",
    "- `str: Style`: categorical styles of the products, cup, pack or tray\n",
    "- `str: Country`: country of origin\n",
    "- `float: stars`: star rating of each product\n",
    "\n",
    "Several other dataset will be used; they will be introduced along the way.<br>\n",
    "Now we are all set and ready, let's get started with numerical operation.\n",
    "\n",
    "### Table of Samples\n",
    "#### Arithmetic\n",
    "- [Single Column in `Expr`](#single_col_exp)\n",
    "- [Multiple Columns in `Expr`](#mul_col_exp)\n",
    "- [String Operation](#string_op)\n",
    "- [Bitwise Operation](#bit_op)\n",
    "\n",
    "#### Builtin Variables\n",
    "- [`RowNum`](#row_num)\n",
    "- [`Random`](#random)\n",
    "\n",
    "#### [Data Conversion](#data_conversion)\n",
    "\n",
    "<br>\n",
    "\n",
    "## Arithmetic\n",
    "\n",
    "<a id='single_col_exp'></a>\n",
    "### Single Column in `Expr`\n",
    "First, we will double the value of star rating column, and assign it to a new column named `double_rating`. "
   ]
  },
  {
   "cell_type": "code",
   "execution_count": 1,
   "metadata": {},
   "outputs": [
    {
     "name": "stdout",
     "output_type": "stream",
     "text": [
      "\"stars\",\"double_rating\"\n",
      "3.75,7.5\n",
      "1,2\n",
      "2.25,4.5\n",
      "2.75,5.5\n",
      "3.75,7.5\n",
      "4.75,9.5\n",
      "4,8\n",
      "3.75,7.5\n",
      "0.25,0.5\n"
     ]
    }
   ],
   "source": [
    "# First store filename and column spec in variable to simplify commands\n",
    "file=\"data/aq_pp/ramen-ratings-part.csv\"\n",
    "cols=\"i:reviewID s:brand s:variety s:style s:country f:stars\"\n",
    "# now create a column called double_rating, and assign the value of 2 * stars\n",
    "aq_pp -f,+1 $file -d $cols -eval f:double_rating '2*stars' -c stars double_rating"
   ]
  },
  {
   "cell_type": "markdown",
   "metadata": {},
   "source": [
    "Now the new column `double_rating` contains the value twice as large as the `stars` value.\n",
    "\n",
    "\n",
    "In the below example, we'll assign the result to existing column `stars`, instead of creating new column."
   ]
  },
  {
   "cell_type": "code",
   "execution_count": 85,
   "metadata": {},
   "outputs": [
    {
     "name": "stdout",
     "output_type": "stream",
     "text": [
      "\"reviewID\",\"brand\",\"variety\",\"style\",\"country\",\"stars\"\n",
      "2580,\"New Touch\",\"T's Restaurant Tantanmen \",\"Cup\",\"Japan\",7.5\n",
      "2579,\"Just Way\",\"Noodles Spicy Hot Sesame Spicy Hot Sesame Guan-miao Noodles\",\"Pack\",\"Taiwan\",2\n",
      "2578,\"Nissin\",\"Cup Noodles Chicken Vegetable\",\"Cup\",\"USA\",4.5\n",
      "2577,\"Wei Lih\",\"GGE Ramen Snack Tomato Flavor\",\"Pack\",\"Taiwan\",5.5\n",
      "2576,\"Ching's Secret\",\"Singapore Curry\",\"Pack\",\"India\",7.5\n",
      "2575,\"Samyang Foods\",\"Kimchi song Song Ramen\",\"Pack\",\"South Korea\",9.5\n",
      "2574,\"Acecook\",\"Spice Deli Tantan Men With Cilantro\",\"Cup\",\"Japan\",8\n",
      "2573,\"Ikeda Shoku\",\"Nabeyaki Kitsune Udon\",\"Tray\",\"Japan\",7.5\n",
      "2572,\"Ripe'n'Dry\",\"Hokkaido Soy Sauce Ramen\",\"Pack\",\"Japan\",0.5\n"
     ]
    }
   ],
   "source": [
    "aq_pp -f,+1 $file -d $cols -eval stars '2*stars'"
   ]
  },
  {
   "cell_type": "markdown",
   "metadata": {},
   "source": [
    "You can apply any of the other arithmetic operators just like above example. \n",
    "\n",
    "`Expr` only contained existing column and a constant. We can also provide multiple column names as `Expr` and perform calculation.\n",
    "\n",
    "<a id='mul_col_exp'></a>\n",
    "### Multiple Columns in `Expr`\n",
    "\n",
    "We'll divide the `reviewID` (int) by `stars`(float), and store the result in new column `div`(float), but feel free to try more complex operations using other operators as well."
   ]
  },
  {
   "cell_type": "code",
   "execution_count": 3,
   "metadata": {},
   "outputs": [
    {
     "name": "stdout",
     "output_type": "stream",
     "text": [
      "\"reviewID\",\"brand\",\"variety\",\"style\",\"country\",\"stars\",\"div\"\n",
      "2580,\"New Touch\",\"T's Restaurant Tantanmen \",\"Cup\",\"Japan\",3.75,688\n",
      "2579,\"Just Way\",\"Noodles Spicy Hot Sesame Spicy Hot Sesame Guan-miao Noodles\",\"Pack\",\"Taiwan\",1,2579\n",
      "2578,\"Nissin\",\"Cup Noodles Chicken Vegetable\",\"Cup\",\"USA\",2.25,1145.7777777777778\n",
      "2577,\"Wei Lih\",\"GGE Ramen Snack Tomato Flavor\",\"Pack\",\"Taiwan\",2.75,937.09090909090912\n",
      "2576,\"Ching's Secret\",\"Singapore Curry\",\"Pack\",\"India\",3.75,686.93333333333328\n",
      "2575,\"Samyang Foods\",\"Kimchi song Song Ramen\",\"Pack\",\"South Korea\",4.75,542.10526315789468\n",
      "2574,\"Acecook\",\"Spice Deli Tantan Men With Cilantro\",\"Cup\",\"Japan\",4,643.5\n",
      "2573,\"Ikeda Shoku\",\"Nabeyaki Kitsune Udon\",\"Tray\",\"Japan\",3.75,686.13333333333333\n",
      "2572,\"Ripe'n'Dry\",\"Hokkaido Soy Sauce Ramen\",\"Pack\",\"Japan\",0.25,10288\n"
     ]
    }
   ],
   "source": [
    "aq_pp -f,+1 $file -d $cols -eval f:div 'reviewID/stars'"
   ]
  },
  {
   "cell_type": "markdown",
   "metadata": {},
   "source": [
    "<a id='string_op'></a>\n",
    "### String Operation \n",
    "**+ operator with string**<br>\n",
    "`+` operator can also be used to concatinate string values, besides numeric operation. As a example, we will concatinate strings in `brand` and `country` columns separated by ` - ` character, then store them in newly created string column `s:info`.\n",
    "\n",
    "Note that only `+` operator supports string manipulation.<br>\n",
    "In the `Expr` `brand + \" - \" + country`, ` - `(dash surrounded by whitespaces) is double quoted because it is a string constant as oppose to being column name."
   ]
  },
  {
   "cell_type": "code",
   "execution_count": 4,
   "metadata": {},
   "outputs": [
    {
     "name": "stdout",
     "output_type": "stream",
     "text": [
      "\"reviewID\",\"brand\",\"variety\",\"style\",\"country\",\"stars\",\"info\"\n",
      "2580,\"New Touch\",\"T's Restaurant Tantanmen \",\"Cup\",\"Japan\",3.75,\"New Touch - Japan\"\n",
      "2579,\"Just Way\",\"Noodles Spicy Hot Sesame Spicy Hot Sesame Guan-miao Noodles\",\"Pack\",\"Taiwan\",1,\"Just Way - Taiwan\"\n",
      "2578,\"Nissin\",\"Cup Noodles Chicken Vegetable\",\"Cup\",\"USA\",2.25,\"Nissin - USA\"\n",
      "2577,\"Wei Lih\",\"GGE Ramen Snack Tomato Flavor\",\"Pack\",\"Taiwan\",2.75,\"Wei Lih - Taiwan\"\n",
      "2576,\"Ching's Secret\",\"Singapore Curry\",\"Pack\",\"India\",3.75,\"Ching's Secret - India\"\n",
      "2575,\"Samyang Foods\",\"Kimchi song Song Ramen\",\"Pack\",\"South Korea\",4.75,\"Samyang Foods - South Korea\"\n",
      "2574,\"Acecook\",\"Spice Deli Tantan Men With Cilantro\",\"Cup\",\"Japan\",4,\"Acecook - Japan\"\n",
      "2573,\"Ikeda Shoku\",\"Nabeyaki Kitsune Udon\",\"Tray\",\"Japan\",3.75,\"Ikeda Shoku - Japan\"\n",
      "2572,\"Ripe'n'Dry\",\"Hokkaido Soy Sauce Ramen\",\"Pack\",\"Japan\",0.25,\"Ripe'n'Dry - Japan\"\n"
     ]
    }
   ],
   "source": [
    "aq_pp -f,+1 $file -d $cols -eval s:info 'brand + \" - \" + country' "
   ]
  },
  {
   "cell_type": "markdown",
   "metadata": {},
   "source": [
    "More complex string manipulations are possible with `aq_pp` by using `-map` options and/or [`builtin functions / aq-emod`](http://auriq.com/documentation/source/reference/manpages/aq-emod.html), which will be covered in [other notebook.](aq-emod.ipynb)"
   ]
  },
  {
   "cell_type": "markdown",
   "metadata": {},
   "source": [
    "<a id='bit_op'></a>\n",
    "### Bitwise Operation\n",
    "\n",
    "Let's take a look at bitwise operator, which performs [bitwise logical operation](https://en.wikipedia.org/wiki/Bitwise_operation) on decimal numbers.\n",
    "\n",
    "Following 3 opperators are supported.\n",
    "\n",
    "- `&`: AND\n",
    "- `|`: OR\n",
    "- `^`: XOR\n",
    "\n",
    "We'll use different data containing decimal numbers to demonstrate the result of bitwise operation clearly, which looks like below, and is stored at `data/aq_pp/bitwise.csv`\n",
    "\n",
    "number|mask\n",
    "---|---\n",
    "1|981\n",
    "290|90\n",
    "31|12\n",
    "79|56\n",
    "10|874\n",
    "\n",
    "Let's perform `|`(bitwise OR) operator on `numbers` column, with a constant 32. The result will be stored in the new column `i:result`."
   ]
  },
  {
   "cell_type": "code",
   "execution_count": 5,
   "metadata": {},
   "outputs": [
    {
     "name": "stdout",
     "output_type": "stream",
     "text": [
      "\"number\",\"mask\",\"result\"\n",
      "1,981,33\n",
      "290,90,290\n",
      "31,12,63\n",
      "79,56,111\n",
      "10,874,42\n"
     ]
    }
   ],
   "source": [
    "aq_pp -f,+1 data/aq_pp/bitwise.csv -d i:number i:mask -eval i:result 'number | 32'"
   ]
  },
  {
   "cell_type": "markdown",
   "metadata": {},
   "source": [
    "Feel free to try the other 2 operators to see the result!<br>\n",
    "\n",
    "**Note**: <br>\n",
    "`aq_pp` interpret numbers as decimal by default, therefore input to the operators will be interpretted as decimal, and output will be in decimal number. "
   ]
  },
  {
   "cell_type": "markdown",
   "metadata": {},
   "source": [
    "## Builtin Variables\n",
    "`aq_pp` is equipped with [builtin variables](http://auriq.com/documentation/source/reference/manpages/aq_pp.html#eval) that can be used to substitue values and we can use them in `-eval` option. There are couple of them, and here we'll take a look at `$RowNum` and `$Random`.\n",
    "\n",
    "<a id='row_num'></a>\n",
    "### `RowNum`\n",
    "represents the row number of the record, starting at 1.\n",
    "\n",
    "On the example below, we'll create a new integer column `row` and store the row number. You'll be able to observe the row number on the all the way right."
   ]
  },
  {
   "cell_type": "code",
   "execution_count": 7,
   "metadata": {},
   "outputs": [
    {
     "name": "stdout",
     "output_type": "stream",
     "text": [
      "\"reviewID\",\"brand\",\"variety\",\"style\",\"country\",\"stars\",\"row\"\n",
      "2580,\"New Touch\",\"T's Restaurant Tantanmen \",\"Cup\",\"Japan\",3.75,1\n",
      "2579,\"Just Way\",\"Noodles Spicy Hot Sesame Spicy Hot Sesame Guan-miao Noodles\",\"Pack\",\"Taiwan\",1,2\n",
      "2578,\"Nissin\",\"Cup Noodles Chicken Vegetable\",\"Cup\",\"USA\",2.25,3\n",
      "2577,\"Wei Lih\",\"GGE Ramen Snack Tomato Flavor\",\"Pack\",\"Taiwan\",2.75,4\n",
      "2576,\"Ching's Secret\",\"Singapore Curry\",\"Pack\",\"India\",3.75,5\n",
      "2575,\"Samyang Foods\",\"Kimchi song Song Ramen\",\"Pack\",\"South Korea\",4.75,6\n",
      "2574,\"Acecook\",\"Spice Deli Tantan Men With Cilantro\",\"Cup\",\"Japan\",4,7\n",
      "2573,\"Ikeda Shoku\",\"Nabeyaki Kitsune Udon\",\"Tray\",\"Japan\",3.75,8\n",
      "2572,\"Ripe'n'Dry\",\"Hokkaido Soy Sauce Ramen\",\"Pack\",\"Japan\",0.25,9\n"
     ]
    }
   ],
   "source": [
    "aq_pp -f,+1 $file -d $cols -eval i:row '$RowNum'"
   ]
  },
  {
   "cell_type": "markdown",
   "metadata": {},
   "source": [
    "**Arithmetic with Variable**<br>\n",
    "Since we are skipping the header row with `-f,+1` option, we'll correct the row numbers by addding 1 to each row number (counting the header as row 1)."
   ]
  },
  {
   "cell_type": "code",
   "execution_count": 90,
   "metadata": {},
   "outputs": [
    {
     "name": "stdout",
     "output_type": "stream",
     "text": [
      "\"reviewID\",\"brand\",\"variety\",\"style\",\"country\",\"stars\",\"row\"\n",
      "2580,\"New Touch\",\"T's Restaurant Tantanmen \",\"Cup\",\"Japan\",3.75,2\n",
      "2579,\"Just Way\",\"Noodles Spicy Hot Sesame Spicy Hot Sesame Guan-miao Noodles\",\"Pack\",\"Taiwan\",1,3\n",
      "2578,\"Nissin\",\"Cup Noodles Chicken Vegetable\",\"Cup\",\"USA\",2.25,4\n",
      "2577,\"Wei Lih\",\"GGE Ramen Snack Tomato Flavor\",\"Pack\",\"Taiwan\",2.75,5\n",
      "2576,\"Ching's Secret\",\"Singapore Curry\",\"Pack\",\"India\",3.75,6\n",
      "2575,\"Samyang Foods\",\"Kimchi song Song Ramen\",\"Pack\",\"South Korea\",4.75,7\n",
      "2574,\"Acecook\",\"Spice Deli Tantan Men With Cilantro\",\"Cup\",\"Japan\",4,8\n",
      "2573,\"Ikeda Shoku\",\"Nabeyaki Kitsune Udon\",\"Tray\",\"Japan\",3.75,9\n",
      "2572,\"Ripe'n'Dry\",\"Hokkaido Soy Sauce Ramen\",\"Pack\",\"Japan\",0.25,10\n"
     ]
    }
   ],
   "source": [
    "aq_pp -f,+1 $file -d $cols -eval i:row '$RowNum +1'"
   ]
  },
  {
   "cell_type": "markdown",
   "metadata": {},
   "source": [
    "<a id='random'></a>\n",
    "### `Random`\n",
    "\n",
    "Represents a positive random number, and the value changes every time the variable is referenced.(meaning on every record)\n",
    "\n",
    "In this example, we will use `Random` to generate random integer for every row, and store it in integer column named `random`."
   ]
  },
  {
   "cell_type": "code",
   "execution_count": 91,
   "metadata": {},
   "outputs": [
    {
     "name": "stdout",
     "output_type": "stream",
     "text": [
      "\"reviewID\",\"brand\",\"variety\",\"style\",\"country\",\"stars\",\"random\"\n",
      "2580,\"New Touch\",\"T's Restaurant Tantanmen \",\"Cup\",\"Japan\",3.75,476707713\n",
      "2579,\"Just Way\",\"Noodles Spicy Hot Sesame Spicy Hot Sesame Guan-miao Noodles\",\"Pack\",\"Taiwan\",1,1186278907\n",
      "2578,\"Nissin\",\"Cup Noodles Chicken Vegetable\",\"Cup\",\"USA\",2.25,505671508\n",
      "2577,\"Wei Lih\",\"GGE Ramen Snack Tomato Flavor\",\"Pack\",\"Taiwan\",2.75,2137716191\n",
      "2576,\"Ching's Secret\",\"Singapore Curry\",\"Pack\",\"India\",3.75,936145377\n",
      "2575,\"Samyang Foods\",\"Kimchi song Song Ramen\",\"Pack\",\"South Korea\",4.75,1215825599\n",
      "2574,\"Acecook\",\"Spice Deli Tantan Men With Cilantro\",\"Cup\",\"Japan\",4,589265238\n",
      "2573,\"Ikeda Shoku\",\"Nabeyaki Kitsune Udon\",\"Tray\",\"Japan\",3.75,924859463\n",
      "2572,\"Ripe'n'Dry\",\"Hokkaido Soy Sauce Ramen\",\"Pack\",\"Japan\",0.25,1182112391\n"
     ]
    }
   ],
   "source": [
    "aq_pp -f,+1 $file -d $cols -eval i:random '$random'"
   ]
  },
  {
   "cell_type": "markdown",
   "metadata": {},
   "source": [
    "This outputs very large positive integer. Sometimes we need random numbers within a certain range. Let's say between 0 and 10. Using modulus operator, "
   ]
  },
  {
   "cell_type": "code",
   "execution_count": 92,
   "metadata": {},
   "outputs": [
    {
     "name": "stdout",
     "output_type": "stream",
     "text": [
      "\"reviewID\",\"brand\",\"variety\",\"style\",\"country\",\"stars\",\"row\"\n",
      "2580,\"New Touch\",\"T's Restaurant Tantanmen \",\"Cup\",\"Japan\",3.75,3\n",
      "2579,\"Just Way\",\"Noodles Spicy Hot Sesame Spicy Hot Sesame Guan-miao Noodles\",\"Pack\",\"Taiwan\",1,7\n",
      "2578,\"Nissin\",\"Cup Noodles Chicken Vegetable\",\"Cup\",\"USA\",2.25,8\n",
      "2577,\"Wei Lih\",\"GGE Ramen Snack Tomato Flavor\",\"Pack\",\"Taiwan\",2.75,1\n",
      "2576,\"Ching's Secret\",\"Singapore Curry\",\"Pack\",\"India\",3.75,7\n",
      "2575,\"Samyang Foods\",\"Kimchi song Song Ramen\",\"Pack\",\"South Korea\",4.75,9\n",
      "2574,\"Acecook\",\"Spice Deli Tantan Men With Cilantro\",\"Cup\",\"Japan\",4,8\n",
      "2573,\"Ikeda Shoku\",\"Nabeyaki Kitsune Udon\",\"Tray\",\"Japan\",3.75,3\n",
      "2572,\"Ripe'n'Dry\",\"Hokkaido Soy Sauce Ramen\",\"Pack\",\"Japan\",0.25,1\n"
     ]
    }
   ],
   "source": [
    "aq_pp -f,+1 $file -d $cols -eval i:row '$random%10'"
   ]
  },
  {
   "cell_type": "markdown",
   "metadata": {},
   "source": [
    "Other than modulus, you can form and apply more complex numerical operations with builtin variables. "
   ]
  },
  {
   "cell_type": "markdown",
   "metadata": {},
   "source": [
    "<a id='data_conversion'></a>\n",
    "## Data Conversion\n",
    "\n",
    "Users can take advantage of powerful [builtin function / aq-emod](http://auriq.com/documentation/source/reference/manpages/aq-emod.html) that can be used for more complex data processing than one can do with combinations of `-eval` options. \n",
    "\n",
    "While there are variety of functions available, we'll take a look at ones for data type conversion in this section, specifically `ToI()` and `ToF()`. \n",
    "\n",
    "We'll set all columns' data types as string in column spec in the first step."
   ]
  },
  {
   "cell_type": "code",
   "execution_count": 93,
   "metadata": {},
   "outputs": [
    {
     "name": "stdout",
     "output_type": "stream",
     "text": [
      "\"reviewID\",\"brand\",\"variety\",\"style\",\"country\",\"stars\"\n",
      "\"2580\",\"New Touch\",\"T's Restaurant Tantanmen \",\"Cup\",\"Japan\",\"3.75\"\n",
      "\"2579\",\"Just Way\",\"Noodles Spicy Hot Sesame Spicy Hot Sesame Guan-miao Noodles\",\"Pack\",\"Taiwan\",\"1\"\n",
      "\"2578\",\"Nissin\",\"Cup Noodles Chicken Vegetable\",\"Cup\",\"USA\",\"2.25\"\n",
      "\"2577\",\"Wei Lih\",\"GGE Ramen Snack Tomato Flavor\",\"Pack\",\"Taiwan\",\"2.75\"\n",
      "\"2576\",\"Ching's Secret\",\"Singapore Curry\",\"Pack\",\"India\",\"3.75\"\n",
      "\"2575\",\"Samyang Foods\",\"Kimchi song Song Ramen\",\"Pack\",\"South Korea\",\"4.75\"\n",
      "\"2574\",\"Acecook\",\"Spice Deli Tantan Men With Cilantro\",\"Cup\",\"Japan\",\"4\"\n",
      "\"2573\",\"Ikeda Shoku\",\"Nabeyaki Kitsune Udon\",\"Tray\",\"Japan\",\"3.75\"\n",
      "\"2572\",\"Ripe'n'Dry\",\"Hokkaido Soy Sauce Ramen\",\"Pack\",\"Japan\",\"0.25\"\n"
     ]
    }
   ],
   "source": [
    "cols=\"s:reviewID s:brand s:variety s:style s:country s:stars\"\n",
    "# input every columns as string\n",
    "aq_pp -f,+1 $file -d $cols "
   ]
  },
  {
   "cell_type": "markdown",
   "metadata": {},
   "source": [
    "Notice that `reviewID` and `stars` columns are quoted, showing that `aq_pp` is interpretting them as string. Let's convert them into appropriate data types with builtin functions, \n",
    "- `ToF(Val)`: convert `Val` to float\n",
    "- `ToI(Val)`: convert `Val` to integer\n",
    "\n",
    "where `Val` can be constant value or column names of string / numeric data type."
   ]
  },
  {
   "cell_type": "code",
   "execution_count": 94,
   "metadata": {},
   "outputs": [
    {
     "name": "stdout",
     "output_type": "stream",
     "text": [
      "\"reviewID\",\"brand\",\"variety\",\"style\",\"country\",\"stars\",\"int_reviewID\"\n",
      "\"2580\",\"New Touch\",\"T's Restaurant Tantanmen \",\"Cup\",\"Japan\",\"3.75\",2580\n",
      "\"2579\",\"Just Way\",\"Noodles Spicy Hot Sesame Spicy Hot Sesame Guan-miao Noodles\",\"Pack\",\"Taiwan\",\"1\",2579\n",
      "\"2578\",\"Nissin\",\"Cup Noodles Chicken Vegetable\",\"Cup\",\"USA\",\"2.25\",2578\n",
      "\"2577\",\"Wei Lih\",\"GGE Ramen Snack Tomato Flavor\",\"Pack\",\"Taiwan\",\"2.75\",2577\n",
      "\"2576\",\"Ching's Secret\",\"Singapore Curry\",\"Pack\",\"India\",\"3.75\",2576\n",
      "\"2575\",\"Samyang Foods\",\"Kimchi song Song Ramen\",\"Pack\",\"South Korea\",\"4.75\",2575\n",
      "\"2574\",\"Acecook\",\"Spice Deli Tantan Men With Cilantro\",\"Cup\",\"Japan\",\"4\",2574\n",
      "\"2573\",\"Ikeda Shoku\",\"Nabeyaki Kitsune Udon\",\"Tray\",\"Japan\",\"3.75\",2573\n",
      "\"2572\",\"Ripe'n'Dry\",\"Hokkaido Soy Sauce Ramen\",\"Pack\",\"Japan\",\"0.25\",2572\n"
     ]
    }
   ],
   "source": [
    "aq_pp -f,+1 $file -d $cols -eval i:int_reviewID 'ToI(reviewID)'"
   ]
  },
  {
   "cell_type": "markdown",
   "metadata": {},
   "source": [
    "We've provided column name as `Val` in the example above, but can also provide a string constant. Note that you should always quote the string values in `-eval` options' `Expr`. "
   ]
  },
  {
   "cell_type": "code",
   "execution_count": 95,
   "metadata": {},
   "outputs": [
    {
     "name": "stdout",
     "output_type": "stream",
     "text": [
      "\"reviewID\",\"brand\",\"variety\",\"style\",\"country\",\"stars\",\"int_reviewID\"\n",
      "\"2580\",\"New Touch\",\"T's Restaurant Tantanmen \",\"Cup\",\"Japan\",\"3.75\",13\n",
      "\"2579\",\"Just Way\",\"Noodles Spicy Hot Sesame Spicy Hot Sesame Guan-miao Noodles\",\"Pack\",\"Taiwan\",\"1\",13\n",
      "\"2578\",\"Nissin\",\"Cup Noodles Chicken Vegetable\",\"Cup\",\"USA\",\"2.25\",13\n",
      "\"2577\",\"Wei Lih\",\"GGE Ramen Snack Tomato Flavor\",\"Pack\",\"Taiwan\",\"2.75\",13\n",
      "\"2576\",\"Ching's Secret\",\"Singapore Curry\",\"Pack\",\"India\",\"3.75\",13\n",
      "\"2575\",\"Samyang Foods\",\"Kimchi song Song Ramen\",\"Pack\",\"South Korea\",\"4.75\",13\n",
      "\"2574\",\"Acecook\",\"Spice Deli Tantan Men With Cilantro\",\"Cup\",\"Japan\",\"4\",13\n",
      "\"2573\",\"Ikeda Shoku\",\"Nabeyaki Kitsune Udon\",\"Tray\",\"Japan\",\"3.75\",13\n",
      "\"2572\",\"Ripe'n'Dry\",\"Hokkaido Soy Sauce Ramen\",\"Pack\",\"Japan\",\"0.25\",13\n"
     ]
    }
   ],
   "source": [
    "aq_pp -f,+1 $file -d $cols -eval i:int_reviewID 'ToI(\"13\")'"
   ]
  },
  {
   "cell_type": "markdown",
   "metadata": {},
   "source": [
    "Builtin function can also be combined with arithmetic expression. Let's convert+ `\"13\"`(str constant) and `reviewID` into int, then add them together, then store the result on `i:result` column this time."
   ]
  },
  {
   "cell_type": "code",
   "execution_count": 96,
   "metadata": {},
   "outputs": [
    {
     "name": "stdout",
     "output_type": "stream",
     "text": [
      "\"reviewID\",\"brand\",\"variety\",\"style\",\"country\",\"stars\",\"result\"\n",
      "\"2580\",\"New Touch\",\"T's Restaurant Tantanmen \",\"Cup\",\"Japan\",\"3.75\",2593\n",
      "\"2579\",\"Just Way\",\"Noodles Spicy Hot Sesame Spicy Hot Sesame Guan-miao Noodles\",\"Pack\",\"Taiwan\",\"1\",2592\n",
      "\"2578\",\"Nissin\",\"Cup Noodles Chicken Vegetable\",\"Cup\",\"USA\",\"2.25\",2591\n",
      "\"2577\",\"Wei Lih\",\"GGE Ramen Snack Tomato Flavor\",\"Pack\",\"Taiwan\",\"2.75\",2590\n",
      "\"2576\",\"Ching's Secret\",\"Singapore Curry\",\"Pack\",\"India\",\"3.75\",2589\n",
      "\"2575\",\"Samyang Foods\",\"Kimchi song Song Ramen\",\"Pack\",\"South Korea\",\"4.75\",2588\n",
      "\"2574\",\"Acecook\",\"Spice Deli Tantan Men With Cilantro\",\"Cup\",\"Japan\",\"4\",2587\n",
      "\"2573\",\"Ikeda Shoku\",\"Nabeyaki Kitsune Udon\",\"Tray\",\"Japan\",\"3.75\",2586\n",
      "\"2572\",\"Ripe'n'Dry\",\"Hokkaido Soy Sauce Ramen\",\"Pack\",\"Japan\",\"0.25\",2585\n"
     ]
    }
   ],
   "source": [
    "aq_pp -f,+1 $file -d $cols -eval i:result 'ToI(reviewID) + ToI(\"13\")'"
   ]
  },
  {
   "cell_type": "markdown",
   "metadata": {},
   "source": [
    "13 is added to the original `reviewID` value, on `result` column. \n",
    "\n",
    "We can also combine numeric strings by using `+`, convert the result to numeric data type, then store in a numeric column. Let's take a look.\n",
    "\n"
   ]
  },
  {
   "cell_type": "code",
   "execution_count": 97,
   "metadata": {},
   "outputs": [
    {
     "name": "stdout",
     "output_type": "stream",
     "text": [
      "\"reviewID\",\"brand\",\"variety\",\"style\",\"country\",\"stars\",\"result\"\n",
      "\"2580\",\"New Touch\",\"T's Restaurant Tantanmen \",\"Cup\",\"Japan\",\"3.75\",258013\n",
      "\"2579\",\"Just Way\",\"Noodles Spicy Hot Sesame Spicy Hot Sesame Guan-miao Noodles\",\"Pack\",\"Taiwan\",\"1\",257913\n",
      "\"2578\",\"Nissin\",\"Cup Noodles Chicken Vegetable\",\"Cup\",\"USA\",\"2.25\",257813\n",
      "\"2577\",\"Wei Lih\",\"GGE Ramen Snack Tomato Flavor\",\"Pack\",\"Taiwan\",\"2.75\",257713\n",
      "\"2576\",\"Ching's Secret\",\"Singapore Curry\",\"Pack\",\"India\",\"3.75\",257613\n",
      "\"2575\",\"Samyang Foods\",\"Kimchi song Song Ramen\",\"Pack\",\"South Korea\",\"4.75\",257513\n",
      "\"2574\",\"Acecook\",\"Spice Deli Tantan Men With Cilantro\",\"Cup\",\"Japan\",\"4\",257413\n",
      "\"2573\",\"Ikeda Shoku\",\"Nabeyaki Kitsune Udon\",\"Tray\",\"Japan\",\"3.75\",257313\n",
      "\"2572\",\"Ripe'n'Dry\",\"Hokkaido Soy Sauce Ramen\",\"Pack\",\"Japan\",\"0.25\",257213\n"
     ]
    }
   ],
   "source": [
    "aq_pp -f,+1 $file -d $cols -eval i:result 'ToI(reviewID + \"13\")'"
   ]
  }
 ],
 "metadata": {
  "kernelspec": {
   "display_name": "Bash",
   "language": "bash",
   "name": "bash"
  },
  "language_info": {
   "codemirror_mode": "shell",
   "file_extension": ".sh",
   "mimetype": "text/x-sh",
   "name": "bash"
  }
 },
 "nbformat": 4,
 "nbformat_minor": 2
}
