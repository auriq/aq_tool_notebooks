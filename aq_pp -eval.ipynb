{
 "cells": [
  {
   "cell_type": "markdown",
   "metadata": {},
   "source": [
    "# aq_pp command -eval\n",
    "\n",
    "In this notebook, we'll go over common usage examples of the data preprocessing command, `aq_pp`, primarily focusing on `-eval` option.\n",
    "\n",
    "## Objective\n",
    "\n",
    "Objective of this notebook is to educate and familiarize new users of `aq_tool`. By the end of this sample, they should have understandings of basic syntax and usage of the option, and be able to perform basic operation comfortably. \n",
    "Advanced application, such as usage with other options will be covered in the future. \n",
    "\n",
    "Before going over this notebook, make sure you're faimilar with the followings.\n",
    "\n",
    "* Bash commands\n",
    "* Regular Expression\n",
    "* aq_input / input-spec \n",
    "\n",
    "We won't go over input, column and output spec on this notebook. They can be found on \n",
    "- [this notebook](aq_input.ipynb).\n",
    "- [aq_output notebook](aq_output.ipynb)\n",
    " \n",
    "\n",
    "Also have the [aq_pp documentation](http://auriq.com/documentation/source/reference/manpages/aq_pp.html) ready on your side, so you can refer to the details of each options as needed.\n",
    "\n",
    "**TOS**\n",
    "\n",
    "**Basic Options**\n",
    "\n",
    "## arithmetic\n",
    "### Numeric\n",
    "Done\n",
    "### String Concat\n",
    "Done\n",
    "### Bitwise\n",
    "Done\n",
    "\n",
    "## buildtin Variable\n",
    "Done\n",
    "### RowNum\n",
    "Done\n",
    "### Random\n",
    "Done\n",
    "\n",
    "## Data Conversion\n",
    "Only easy examples are covered for now.\n",
    "\n",
    "\n",
    "**Advanced**\n",
    "\n",
    "## builtin Functions\n",
    "## multiple -eval options\n",
    "\n",
    "\n",
    "**EOTOS**\n",
    "\n",
    "\n",
    "## Overview\n",
    "\n",
    "`-eval` option in `aq-pp` command is responsible for data manipulation and column creation. Given expression and destination column name, it _evaluate_ the expression, and store the result in the column. More details of the option is available at [eval section - aq_pp documentation](http://auriq.com/documentation/source/reference/manpages/aq_pp.html#eval)\n",
    "\n",
    "### Syntax\n",
    "\n",
    "```bash\n",
    "aq-pp ... -eval ColSpec|ColName Expr\n",
    "```\n",
    "where\n",
    "- `ColSpec`: new column's column spec to assign the result\n",
    "- `ColName`: existing column name to assign the result\n",
    "- `Expr`: expression to be evaluated.\n",
    "\n",
    "## Data\n",
    "\n",
    "[Ramen Ratings Dataset](https://www.kaggle.com/residentmario/ramen-ratings) from kaggle will be used in this sample, which contains ratings of 2500 ramen products. \n",
    "\n",
    "Review|Brand|Variety|Style|Country|Stars\n",
    "---|---|---|---|---|---|\n",
    "2580|New Touch|T's Restaurant Tantanmen|Cup|Japan|3.75\n",
    "2579|Just Way|Noodles Spicy Hot Sesame Spicy Hot Sesame Guan-miao Noodles|Pack|Taiwan|1\n",
    "2578|Nissin|Cup Noodles Chicken Vegetable|Cup|USA|2.25\n",
    "2577|Wei Lih|GGE Ramen Snack Tomato Flavor|Pack|Taiwan|2.75\n",
    "2576|Ching's Secret|Singapore Curry|Pack|India|3.75\n",
    "2575|Samyang Foods|Kimchi song Song Ramen|Pack|South Korea|4.75\n",
    "2574|Acecook|Spice Deli Tantan Men With Cilantro|Cup|Japan|4\n",
    "2573|Ikeda Shoku|Nabeyaki Kitsune Udon|Tray|Japan|3.75\n",
    "2572|Ripe'n'Dry|Hokkaido Soy Sauce Ramen|Pack|Japan|0.25\n",
    "2571|KOKA|The Original Spicy Stir-Fried Noodles|Pack|Singapore|2.5\n",
    "\n",
    "Columns and corresponing data types for the dataset are follows.\n",
    "- `int: Review #`: review id number, the more recent the review is, the bigger the number is\n",
    "- `str: Brand`: brand / manufacture of the product\n",
    "- `str: Variety`: title of the product\n",
    "- `str: Style`: categorical styles of the products, cup, pack or tray\n",
    "- `str: Country`: country of origin\n",
    "- `float: stars`: star rating of each product\n",
    "\n",
    "## Input and Column Specification\n",
    "\n",
    "Here is the corresponding column specs for the data<br>\n",
    "`i:reviewID s:brand s:variety s:style s:country f:stars`\n",
    "\n",
    "**Note**<br>\n",
    "When reading in the files with `aq-pp`, we'll be using bash's [variable substitution](http://www.compciv.org/topics/bash/variables-and-substitution/) to keep the command short and clean. For instance, \n",
    "```bash\n",
    "# assign file name & path to variable 'file'\n",
    "file='data/aq_pp/fileName.csv'\n",
    "```\n",
    "\n",
    "Now we are all set and ready, let's get started with numerical operation.\n",
    "\n",
    "## Arithmetic\n",
    "\n",
    "Some intro here about arithmetic\n",
    "\n",
    "### Numerical Operation\n",
    "\n",
    "Operators supported for numerical operation are<br>\n",
    "\n",
    "_Arithmetic_\n",
    "- `*`: multiplication\n",
    "- `/`: division\n",
    "- `%`: modulus\n",
    "- `+`: addition\n",
    "- `-`: subtraction\n",
    "\n",
    "_Bitwise_\n",
    "- `&`: AND\n",
    "- `|`: OR\n",
    "- `^`: XOR\n",
    "\n",
    "First, we will double the value of star rating column, and assign it to a new column named `double_rating`. "
   ]
  },
  {
   "cell_type": "code",
   "execution_count": 1,
   "metadata": {},
   "outputs": [
    {
     "name": "stdout",
     "output_type": "stream",
     "text": [
      "\"reviewID\",\"brand\",\"variety\",\"style\",\"country\",\"stars\",\"double_rating\"\n",
      "2580,\"New Touch\",\"T's Restaurant Tantanmen \",\"Cup\",\"Japan\",3.75,7.5\n",
      "2579,\"Just Way\",\"Noodles Spicy Hot Sesame Spicy Hot Sesame Guan-miao Noodles\",\"Pack\",\"Taiwan\",1,2\n",
      "2578,\"Nissin\",\"Cup Noodles Chicken Vegetable\",\"Cup\",\"USA\",2.25,4.5\n",
      "2577,\"Wei Lih\",\"GGE Ramen Snack Tomato Flavor\",\"Pack\",\"Taiwan\",2.75,5.5\n",
      "2576,\"Ching's Secret\",\"Singapore Curry\",\"Pack\",\"India\",3.75,7.5\n",
      "2575,\"Samyang Foods\",\"Kimchi song Song Ramen\",\"Pack\",\"South Korea\",4.75,9.5\n",
      "2574,\"Acecook\",\"Spice Deli Tantan Men With Cilantro\",\"Cup\",\"Japan\",4,8\n",
      "2573,\"Ikeda Shoku\",\"Nabeyaki Kitsune Udon\",\"Tray\",\"Japan\",3.75,7.5\n",
      "2572,\"Ripe'n'Dry\",\"Hokkaido Soy Sauce Ramen\",\"Pack\",\"Japan\",0.25,0.5\n"
     ]
    }
   ],
   "source": [
    "# First store filename and column spec in variable to simplify commands\n",
    "file=\"data/aq_pp/ramen-ratings-part.csv\"\n",
    "cols=\"i:reviewID s:brand s:variety s:style s:country f:stars\"\n",
    "# now create a column called double_rating, and assign the value of 2 * stars\n",
    "aq_pp -f,+1 $file -d $cols -eval f:double_rating '2*stars'"
   ]
  },
  {
   "cell_type": "markdown",
   "metadata": {},
   "source": [
    "Now the new column `double_rating` contains the value twice as large as the `stars` value.\n",
    "\n",
    "**Couple things to note**<br>\n",
    "- **Column Datatype:** the destination column's datatype has to be same as the datatype of result of the `Expr`. In the example above, the result is float datatype, therefore we've declared `double_rating` as float.\n",
    "- **Quotations:** you cannot quote `colName|colSpec`, while `Expr` needs to be quoted. Single quotation is recommended, in case string value is included which require further quotation.\n",
    "Now we will perform the same operation, but store the result on existing column, `stars`.\n",
    "\n",
    "In the below example, we'll assign the result to existing column `stars`, instead of creating new column."
   ]
  },
  {
   "cell_type": "code",
   "execution_count": 2,
   "metadata": {},
   "outputs": [
    {
     "name": "stdout",
     "output_type": "stream",
     "text": [
      "\"reviewID\",\"brand\",\"variety\",\"style\",\"country\",\"stars\"\n",
      "2580,\"New Touch\",\"T's Restaurant Tantanmen \",\"Cup\",\"Japan\",7.5\n",
      "2579,\"Just Way\",\"Noodles Spicy Hot Sesame Spicy Hot Sesame Guan-miao Noodles\",\"Pack\",\"Taiwan\",2\n",
      "2578,\"Nissin\",\"Cup Noodles Chicken Vegetable\",\"Cup\",\"USA\",4.5\n",
      "2577,\"Wei Lih\",\"GGE Ramen Snack Tomato Flavor\",\"Pack\",\"Taiwan\",5.5\n",
      "2576,\"Ching's Secret\",\"Singapore Curry\",\"Pack\",\"India\",7.5\n",
      "2575,\"Samyang Foods\",\"Kimchi song Song Ramen\",\"Pack\",\"South Korea\",9.5\n",
      "2574,\"Acecook\",\"Spice Deli Tantan Men With Cilantro\",\"Cup\",\"Japan\",8\n",
      "2573,\"Ikeda Shoku\",\"Nabeyaki Kitsune Udon\",\"Tray\",\"Japan\",7.5\n",
      "2572,\"Ripe'n'Dry\",\"Hokkaido Soy Sauce Ramen\",\"Pack\",\"Japan\",0.5\n"
     ]
    }
   ],
   "source": [
    "aq_pp -f,+1 $file -d $cols -eval stars '2*stars'"
   ]
  },
  {
   "cell_type": "markdown",
   "metadata": {},
   "source": [
    "You can apply any of the other arithmetic operators just like above example. \n",
    "\n",
    "In the above example, `Expr` only contained existing column and a constant. We can also provide multiple column names as `Expr` and perform calculation.\n",
    "\n",
    "We'll divide the `reviewID` (int) by `stars`(float), and store the result in new column `div`(float)."
   ]
  },
  {
   "cell_type": "code",
   "execution_count": 3,
   "metadata": {},
   "outputs": [
    {
     "name": "stdout",
     "output_type": "stream",
     "text": [
      "\"reviewID\",\"brand\",\"variety\",\"style\",\"country\",\"stars\",\"div\"\n",
      "2580,\"New Touch\",\"T's Restaurant Tantanmen \",\"Cup\",\"Japan\",3.75,688\n",
      "2579,\"Just Way\",\"Noodles Spicy Hot Sesame Spicy Hot Sesame Guan-miao Noodles\",\"Pack\",\"Taiwan\",1,2579\n",
      "2578,\"Nissin\",\"Cup Noodles Chicken Vegetable\",\"Cup\",\"USA\",2.25,1145.7777777777778\n",
      "2577,\"Wei Lih\",\"GGE Ramen Snack Tomato Flavor\",\"Pack\",\"Taiwan\",2.75,937.09090909090912\n",
      "2576,\"Ching's Secret\",\"Singapore Curry\",\"Pack\",\"India\",3.75,686.93333333333328\n",
      "2575,\"Samyang Foods\",\"Kimchi song Song Ramen\",\"Pack\",\"South Korea\",4.75,542.10526315789468\n",
      "2574,\"Acecook\",\"Spice Deli Tantan Men With Cilantro\",\"Cup\",\"Japan\",4,643.5\n",
      "2573,\"Ikeda Shoku\",\"Nabeyaki Kitsune Udon\",\"Tray\",\"Japan\",3.75,686.13333333333333\n",
      "2572,\"Ripe'n'Dry\",\"Hokkaido Soy Sauce Ramen\",\"Pack\",\"Japan\",0.25,10288\n"
     ]
    }
   ],
   "source": [
    "aq_pp -f,+1 $file -d $cols -eval f:div 'reviewID/stars'"
   ]
  },
  {
   "cell_type": "markdown",
   "metadata": {},
   "source": [
    "### String Operation \n",
    "**+ operator with string**<br>\n",
    "`+` operator can also be used to concatinate string values, besides numeric operation. As a example, we'll create a string column `s:info`, and store combined strings of `brand` and `country`, separated by ` - ` character. \n",
    "\n",
    "Note that only `+` operator supports string manipulation."
   ]
  },
  {
   "cell_type": "code",
   "execution_count": 4,
   "metadata": {},
   "outputs": [
    {
     "name": "stdout",
     "output_type": "stream",
     "text": [
      "\"reviewID\",\"brand\",\"variety\",\"style\",\"country\",\"stars\",\"info\"\n",
      "2580,\"New Touch\",\"T's Restaurant Tantanmen \",\"Cup\",\"Japan\",3.75,\"New Touch - Japan\"\n",
      "2579,\"Just Way\",\"Noodles Spicy Hot Sesame Spicy Hot Sesame Guan-miao Noodles\",\"Pack\",\"Taiwan\",1,\"Just Way - Taiwan\"\n",
      "2578,\"Nissin\",\"Cup Noodles Chicken Vegetable\",\"Cup\",\"USA\",2.25,\"Nissin - USA\"\n",
      "2577,\"Wei Lih\",\"GGE Ramen Snack Tomato Flavor\",\"Pack\",\"Taiwan\",2.75,\"Wei Lih - Taiwan\"\n",
      "2576,\"Ching's Secret\",\"Singapore Curry\",\"Pack\",\"India\",3.75,\"Ching's Secret - India\"\n",
      "2575,\"Samyang Foods\",\"Kimchi song Song Ramen\",\"Pack\",\"South Korea\",4.75,\"Samyang Foods - South Korea\"\n",
      "2574,\"Acecook\",\"Spice Deli Tantan Men With Cilantro\",\"Cup\",\"Japan\",4,\"Acecook - Japan\"\n",
      "2573,\"Ikeda Shoku\",\"Nabeyaki Kitsune Udon\",\"Tray\",\"Japan\",3.75,\"Ikeda Shoku - Japan\"\n",
      "2572,\"Ripe'n'Dry\",\"Hokkaido Soy Sauce Ramen\",\"Pack\",\"Japan\",0.25,\"Ripe'n'Dry - Japan\"\n"
     ]
    }
   ],
   "source": [
    "aq_pp -f,+1 $file -d $cols -eval s:info 'brand+\" - \"+country'"
   ]
  },
  {
   "cell_type": "markdown",
   "metadata": {},
   "source": [
    "`brand` and `country` are column names while ` - ` is a string constant, which is why it is double quoted. \n",
    "\n",
    "More complex string manipulations are possible with `aq_pp` by using `-map` options and/or [`builtin functions / aq-emod`](http://auriq.com/documentation/source/reference/manpages/aq-emod.html), which will be covered in other notebook."
   ]
  },
  {
   "cell_type": "markdown",
   "metadata": {},
   "source": [
    "### Bitwise Operation\n",
    "\n",
    "Let's take a look at bitwise operator, which performs [bitwise logical operation](https://en.wikipedia.org/wiki/Bitwise_operation) on decimal numbers.\n",
    "\n",
    "`aq_pp` supports operators below.\n",
    "\n",
    "\n",
    "- `&`: AND\n",
    "- `|`: OR\n",
    "- `^`: XOR\n",
    "\n",
    "We'll use different data containing decimal numbers to demonstrate the result of bitwise operation clearly, which looks like below.\n",
    "\n",
    "number|mask\n",
    "---|---\n",
    "1|981\n",
    "290|90\n",
    "31|12\n",
    "79|56\n",
    "10|874\n",
    "\n",
    "Let's perform `|`(bitwise OR) operator on `numbers` column, with a constant 32. The result will be stored in the new column `i:result`."
   ]
  },
  {
   "cell_type": "code",
   "execution_count": 5,
   "metadata": {},
   "outputs": [
    {
     "name": "stdout",
     "output_type": "stream",
     "text": [
      "\"number\",\"mask\",\"result\"\n",
      "1,981,33\n",
      "290,90,290\n",
      "31,12,63\n",
      "79,56,111\n",
      "10,874,42\n"
     ]
    }
   ],
   "source": [
    "aq_pp -f,+1 data/aq_pp/bitwise.csv -d i:number i:mask -eval i:result 'number | 32'"
   ]
  },
  {
   "cell_type": "markdown",
   "metadata": {},
   "source": [
    "**Note**: <br>\n",
    "`aq_pp` interpret numbers as decimal by default, therefore input to the operators will be interpretted as decimal, and output will be in decimal number. "
   ]
  },
  {
   "cell_type": "markdown",
   "metadata": {},
   "source": [
    "## Builtin Variables\n",
    "`aq_pp` is equipped with [builtin variables](http://auriq.com/documentation/source/reference/manpages/aq_pp.html#eval) that can be used to substitue values. There are couple of them, and here we'll take a look at `$RowNum` and `$Random`.\n",
    "\n",
    "**`RowNum`**<br>\n",
    "represents the row number of the record, starting at 1.\n",
    "\n",
    "On the example below, we'll create a new integer column `row` and store the row number."
   ]
  },
  {
   "cell_type": "code",
   "execution_count": 6,
   "metadata": {},
   "outputs": [
    {
     "name": "stdout",
     "output_type": "stream",
     "text": [
      "\"reviewID\",\"brand\",\"variety\",\"style\",\"country\",\"stars\",\"row\"\n",
      "2580,\"New Touch\",\"T's Restaurant Tantanmen \",\"Cup\",\"Japan\",3.75,1\n",
      "2579,\"Just Way\",\"Noodles Spicy Hot Sesame Spicy Hot Sesame Guan-miao Noodles\",\"Pack\",\"Taiwan\",1,2\n",
      "2578,\"Nissin\",\"Cup Noodles Chicken Vegetable\",\"Cup\",\"USA\",2.25,3\n",
      "2577,\"Wei Lih\",\"GGE Ramen Snack Tomato Flavor\",\"Pack\",\"Taiwan\",2.75,4\n",
      "2576,\"Ching's Secret\",\"Singapore Curry\",\"Pack\",\"India\",3.75,5\n",
      "2575,\"Samyang Foods\",\"Kimchi song Song Ramen\",\"Pack\",\"South Korea\",4.75,6\n",
      "2574,\"Acecook\",\"Spice Deli Tantan Men With Cilantro\",\"Cup\",\"Japan\",4,7\n",
      "2573,\"Ikeda Shoku\",\"Nabeyaki Kitsune Udon\",\"Tray\",\"Japan\",3.75,8\n",
      "2572,\"Ripe'n'Dry\",\"Hokkaido Soy Sauce Ramen\",\"Pack\",\"Japan\",0.25,9\n"
     ]
    }
   ],
   "source": [
    "aq_pp -f,+1 $file -d $cols -eval i:row '$RowNum'"
   ]
  },
  {
   "cell_type": "markdown",
   "metadata": {},
   "source": [
    "Since we are skipping the header row with `-f,+1` option, we'll correct the row numbers by addding 1 to each row number (counting the header as row 1)."
   ]
  },
  {
   "cell_type": "code",
   "execution_count": 7,
   "metadata": {},
   "outputs": [
    {
     "name": "stdout",
     "output_type": "stream",
     "text": [
      "\"reviewID\",\"brand\",\"variety\",\"style\",\"country\",\"stars\",\"row\"\n",
      "2580,\"New Touch\",\"T's Restaurant Tantanmen \",\"Cup\",\"Japan\",3.75,2\n",
      "2579,\"Just Way\",\"Noodles Spicy Hot Sesame Spicy Hot Sesame Guan-miao Noodles\",\"Pack\",\"Taiwan\",1,3\n",
      "2578,\"Nissin\",\"Cup Noodles Chicken Vegetable\",\"Cup\",\"USA\",2.25,4\n",
      "2577,\"Wei Lih\",\"GGE Ramen Snack Tomato Flavor\",\"Pack\",\"Taiwan\",2.75,5\n",
      "2576,\"Ching's Secret\",\"Singapore Curry\",\"Pack\",\"India\",3.75,6\n",
      "2575,\"Samyang Foods\",\"Kimchi song Song Ramen\",\"Pack\",\"South Korea\",4.75,7\n",
      "2574,\"Acecook\",\"Spice Deli Tantan Men With Cilantro\",\"Cup\",\"Japan\",4,8\n",
      "2573,\"Ikeda Shoku\",\"Nabeyaki Kitsune Udon\",\"Tray\",\"Japan\",3.75,9\n",
      "2572,\"Ripe'n'Dry\",\"Hokkaido Soy Sauce Ramen\",\"Pack\",\"Japan\",0.25,10\n"
     ]
    }
   ],
   "source": [
    "aq_pp -f,+1 $file -d $cols -eval i:row '$RowNum +1'"
   ]
  },
  {
   "cell_type": "markdown",
   "metadata": {},
   "source": [
    "**`Random`**<br>\n",
    "Represents a positive random number, and the value changes every time the variable is referenced.\n",
    "\n",
    "In this example, we will use `Random` to generate random integer for every row, and store it in integer column named `random`."
   ]
  },
  {
   "cell_type": "code",
   "execution_count": 8,
   "metadata": {},
   "outputs": [
    {
     "name": "stdout",
     "output_type": "stream",
     "text": [
      "\"reviewID\",\"brand\",\"variety\",\"style\",\"country\",\"stars\",\"random\"\n",
      "2580,\"New Touch\",\"T's Restaurant Tantanmen \",\"Cup\",\"Japan\",3.75,476707713\n",
      "2579,\"Just Way\",\"Noodles Spicy Hot Sesame Spicy Hot Sesame Guan-miao Noodles\",\"Pack\",\"Taiwan\",1,1186278907\n",
      "2578,\"Nissin\",\"Cup Noodles Chicken Vegetable\",\"Cup\",\"USA\",2.25,505671508\n",
      "2577,\"Wei Lih\",\"GGE Ramen Snack Tomato Flavor\",\"Pack\",\"Taiwan\",2.75,2137716191\n",
      "2576,\"Ching's Secret\",\"Singapore Curry\",\"Pack\",\"India\",3.75,936145377\n",
      "2575,\"Samyang Foods\",\"Kimchi song Song Ramen\",\"Pack\",\"South Korea\",4.75,1215825599\n",
      "2574,\"Acecook\",\"Spice Deli Tantan Men With Cilantro\",\"Cup\",\"Japan\",4,589265238\n",
      "2573,\"Ikeda Shoku\",\"Nabeyaki Kitsune Udon\",\"Tray\",\"Japan\",3.75,924859463\n",
      "2572,\"Ripe'n'Dry\",\"Hokkaido Soy Sauce Ramen\",\"Pack\",\"Japan\",0.25,1182112391\n"
     ]
    }
   ],
   "source": [
    "aq_pp -f,+1 $file -d $cols -eval i:random '$random'"
   ]
  },
  {
   "cell_type": "markdown",
   "metadata": {},
   "source": [
    "This outputs very large positive integer. Sometimes we need random numbers within a certain range. Let's say between 0 and 10. Using modulus operator, "
   ]
  },
  {
   "cell_type": "code",
   "execution_count": 9,
   "metadata": {},
   "outputs": [
    {
     "name": "stdout",
     "output_type": "stream",
     "text": [
      "\"reviewID\",\"brand\",\"variety\",\"style\",\"country\",\"stars\",\"row\"\n",
      "2580,\"New Touch\",\"T's Restaurant Tantanmen \",\"Cup\",\"Japan\",3.75,3\n",
      "2579,\"Just Way\",\"Noodles Spicy Hot Sesame Spicy Hot Sesame Guan-miao Noodles\",\"Pack\",\"Taiwan\",1,7\n",
      "2578,\"Nissin\",\"Cup Noodles Chicken Vegetable\",\"Cup\",\"USA\",2.25,8\n",
      "2577,\"Wei Lih\",\"GGE Ramen Snack Tomato Flavor\",\"Pack\",\"Taiwan\",2.75,1\n",
      "2576,\"Ching's Secret\",\"Singapore Curry\",\"Pack\",\"India\",3.75,7\n",
      "2575,\"Samyang Foods\",\"Kimchi song Song Ramen\",\"Pack\",\"South Korea\",4.75,9\n",
      "2574,\"Acecook\",\"Spice Deli Tantan Men With Cilantro\",\"Cup\",\"Japan\",4,8\n",
      "2573,\"Ikeda Shoku\",\"Nabeyaki Kitsune Udon\",\"Tray\",\"Japan\",3.75,3\n",
      "2572,\"Ripe'n'Dry\",\"Hokkaido Soy Sauce Ramen\",\"Pack\",\"Japan\",0.25,1\n"
     ]
    }
   ],
   "source": [
    "aq_pp -f,+1 $file -d $cols -eval i:row '$random%10'"
   ]
  },
  {
   "cell_type": "markdown",
   "metadata": {},
   "source": [
    "Other than modulus, you can form and apply more complex numerical operations with builtin variables. "
   ]
  },
  {
   "cell_type": "markdown",
   "metadata": {},
   "source": [
    "## Data Conversion\n",
    "\n",
    "Users can take advantage of powerful [builtin function / aq-emod](www.auriq.com/documentation/source/reference/manpages/aq-emod.html) that can be used for more complex data processing than one can do with combinations of `-eval` options. \n",
    "\n",
    "While there are variety of functions available, we'll take a look at ones for data type conversion in this section, specifically `ToI()` and `ToF()`. \n",
    "\n",
    "We'll set all columns' data types as string in column spec in the first step."
   ]
  },
  {
   "cell_type": "code",
   "execution_count": 10,
   "metadata": {},
   "outputs": [
    {
     "name": "stdout",
     "output_type": "stream",
     "text": [
      "\"reviewID\",\"brand\",\"variety\",\"style\",\"country\",\"stars\"\n",
      "\"2580\",\"New Touch\",\"T's Restaurant Tantanmen \",\"Cup\",\"Japan\",\"3.75\"\n",
      "\"2579\",\"Just Way\",\"Noodles Spicy Hot Sesame Spicy Hot Sesame Guan-miao Noodles\",\"Pack\",\"Taiwan\",\"1\"\n",
      "\"2578\",\"Nissin\",\"Cup Noodles Chicken Vegetable\",\"Cup\",\"USA\",\"2.25\"\n",
      "\"2577\",\"Wei Lih\",\"GGE Ramen Snack Tomato Flavor\",\"Pack\",\"Taiwan\",\"2.75\"\n",
      "\"2576\",\"Ching's Secret\",\"Singapore Curry\",\"Pack\",\"India\",\"3.75\"\n",
      "\"2575\",\"Samyang Foods\",\"Kimchi song Song Ramen\",\"Pack\",\"South Korea\",\"4.75\"\n",
      "\"2574\",\"Acecook\",\"Spice Deli Tantan Men With Cilantro\",\"Cup\",\"Japan\",\"4\"\n",
      "\"2573\",\"Ikeda Shoku\",\"Nabeyaki Kitsune Udon\",\"Tray\",\"Japan\",\"3.75\"\n",
      "\"2572\",\"Ripe'n'Dry\",\"Hokkaido Soy Sauce Ramen\",\"Pack\",\"Japan\",\"0.25\"\n"
     ]
    }
   ],
   "source": [
    "cols=\"s:reviewID s:brand s:variety s:style s:country s:stars\"\n",
    "# input every columns as string\n",
    "aq_pp -f,+1 $file -d $cols "
   ]
  },
  {
   "cell_type": "markdown",
   "metadata": {},
   "source": [
    "Notice that `reviewID` and `stars` columns are quoted, showing that `aq_pp` is interpretting them as string. Let's convert them into appropriate data types with builtin functions, \n",
    "- `ToF(Val)`: convert `Val` to float\n",
    "- `ToI(Val)`: convert `Val` to integer\n",
    "\n",
    "where `Val` can be constant value or column names of string / numeric data type."
   ]
  },
  {
   "cell_type": "code",
   "execution_count": 11,
   "metadata": {},
   "outputs": [
    {
     "name": "stdout",
     "output_type": "stream",
     "text": [
      "\"reviewID\",\"brand\",\"variety\",\"style\",\"country\",\"stars\",\"int_reviewID\"\n",
      "\"2580\",\"New Touch\",\"T's Restaurant Tantanmen \",\"Cup\",\"Japan\",\"3.75\",2580\n",
      "\"2579\",\"Just Way\",\"Noodles Spicy Hot Sesame Spicy Hot Sesame Guan-miao Noodles\",\"Pack\",\"Taiwan\",\"1\",2579\n",
      "\"2578\",\"Nissin\",\"Cup Noodles Chicken Vegetable\",\"Cup\",\"USA\",\"2.25\",2578\n",
      "\"2577\",\"Wei Lih\",\"GGE Ramen Snack Tomato Flavor\",\"Pack\",\"Taiwan\",\"2.75\",2577\n",
      "\"2576\",\"Ching's Secret\",\"Singapore Curry\",\"Pack\",\"India\",\"3.75\",2576\n",
      "\"2575\",\"Samyang Foods\",\"Kimchi song Song Ramen\",\"Pack\",\"South Korea\",\"4.75\",2575\n",
      "\"2574\",\"Acecook\",\"Spice Deli Tantan Men With Cilantro\",\"Cup\",\"Japan\",\"4\",2574\n",
      "\"2573\",\"Ikeda Shoku\",\"Nabeyaki Kitsune Udon\",\"Tray\",\"Japan\",\"3.75\",2573\n",
      "\"2572\",\"Ripe'n'Dry\",\"Hokkaido Soy Sauce Ramen\",\"Pack\",\"Japan\",\"0.25\",2572\n"
     ]
    }
   ],
   "source": [
    "aq_pp -f,+1 $file -d $cols -eval i:int_reviewID 'ToI(reviewID)'"
   ]
  },
  {
   "cell_type": "markdown",
   "metadata": {},
   "source": [
    "We've provided column name as `Val` in the example above, but can also provide a string constant. Note that you should always quote the string values in `-eval` options' `Expr`. "
   ]
  },
  {
   "cell_type": "code",
   "execution_count": 12,
   "metadata": {},
   "outputs": [
    {
     "name": "stdout",
     "output_type": "stream",
     "text": [
      "\"reviewID\",\"brand\",\"variety\",\"style\",\"country\",\"stars\",\"int_reviewID\"\n",
      "\"2580\",\"New Touch\",\"T's Restaurant Tantanmen \",\"Cup\",\"Japan\",\"3.75\",13\n",
      "\"2579\",\"Just Way\",\"Noodles Spicy Hot Sesame Spicy Hot Sesame Guan-miao Noodles\",\"Pack\",\"Taiwan\",\"1\",13\n",
      "\"2578\",\"Nissin\",\"Cup Noodles Chicken Vegetable\",\"Cup\",\"USA\",\"2.25\",13\n",
      "\"2577\",\"Wei Lih\",\"GGE Ramen Snack Tomato Flavor\",\"Pack\",\"Taiwan\",\"2.75\",13\n",
      "\"2576\",\"Ching's Secret\",\"Singapore Curry\",\"Pack\",\"India\",\"3.75\",13\n",
      "\"2575\",\"Samyang Foods\",\"Kimchi song Song Ramen\",\"Pack\",\"South Korea\",\"4.75\",13\n",
      "\"2574\",\"Acecook\",\"Spice Deli Tantan Men With Cilantro\",\"Cup\",\"Japan\",\"4\",13\n",
      "\"2573\",\"Ikeda Shoku\",\"Nabeyaki Kitsune Udon\",\"Tray\",\"Japan\",\"3.75\",13\n",
      "\"2572\",\"Ripe'n'Dry\",\"Hokkaido Soy Sauce Ramen\",\"Pack\",\"Japan\",\"0.25\",13\n"
     ]
    }
   ],
   "source": [
    "aq_pp -f,+1 $file -d $cols -eval i:int_reviewID 'ToI(\"13\")'"
   ]
  },
  {
   "cell_type": "markdown",
   "metadata": {},
   "source": [
    "Builtin function can also be combined with arithmetic expression. Let's convert+ `\"13\"`(str constant) and `reviewID` into int, then add them together, then store the result on `i:result` column this time."
   ]
  },
  {
   "cell_type": "code",
   "execution_count": 13,
   "metadata": {},
   "outputs": [
    {
     "name": "stdout",
     "output_type": "stream",
     "text": [
      "\"reviewID\",\"brand\",\"variety\",\"style\",\"country\",\"stars\",\"result\"\n",
      "\"2580\",\"New Touch\",\"T's Restaurant Tantanmen \",\"Cup\",\"Japan\",\"3.75\",2593\n",
      "\"2579\",\"Just Way\",\"Noodles Spicy Hot Sesame Spicy Hot Sesame Guan-miao Noodles\",\"Pack\",\"Taiwan\",\"1\",2592\n",
      "\"2578\",\"Nissin\",\"Cup Noodles Chicken Vegetable\",\"Cup\",\"USA\",\"2.25\",2591\n",
      "\"2577\",\"Wei Lih\",\"GGE Ramen Snack Tomato Flavor\",\"Pack\",\"Taiwan\",\"2.75\",2590\n",
      "\"2576\",\"Ching's Secret\",\"Singapore Curry\",\"Pack\",\"India\",\"3.75\",2589\n",
      "\"2575\",\"Samyang Foods\",\"Kimchi song Song Ramen\",\"Pack\",\"South Korea\",\"4.75\",2588\n",
      "\"2574\",\"Acecook\",\"Spice Deli Tantan Men With Cilantro\",\"Cup\",\"Japan\",\"4\",2587\n",
      "\"2573\",\"Ikeda Shoku\",\"Nabeyaki Kitsune Udon\",\"Tray\",\"Japan\",\"3.75\",2586\n",
      "\"2572\",\"Ripe'n'Dry\",\"Hokkaido Soy Sauce Ramen\",\"Pack\",\"Japan\",\"0.25\",2585\n"
     ]
    }
   ],
   "source": [
    "aq_pp -f,+1 $file -d $cols -eval i:result 'ToI(reviewID) + ToI(\"13\")'"
   ]
  },
  {
   "cell_type": "markdown",
   "metadata": {},
   "source": [
    "13 is added to the original `reviewID` value, on `result` column. \n",
    "\n",
    "We can also combine numeric strings by using `+`, convert the result to numeric data type, then store in a numeric column. Let's take a look.\n",
    "\n"
   ]
  },
  {
   "cell_type": "code",
   "execution_count": 14,
   "metadata": {},
   "outputs": [
    {
     "name": "stdout",
     "output_type": "stream",
     "text": [
      "\"reviewID\",\"brand\",\"variety\",\"style\",\"country\",\"stars\",\"result\"\n",
      "\"2580\",\"New Touch\",\"T's Restaurant Tantanmen \",\"Cup\",\"Japan\",\"3.75\",258013\n",
      "\"2579\",\"Just Way\",\"Noodles Spicy Hot Sesame Spicy Hot Sesame Guan-miao Noodles\",\"Pack\",\"Taiwan\",\"1\",257913\n",
      "\"2578\",\"Nissin\",\"Cup Noodles Chicken Vegetable\",\"Cup\",\"USA\",\"2.25\",257813\n",
      "\"2577\",\"Wei Lih\",\"GGE Ramen Snack Tomato Flavor\",\"Pack\",\"Taiwan\",\"2.75\",257713\n",
      "\"2576\",\"Ching's Secret\",\"Singapore Curry\",\"Pack\",\"India\",\"3.75\",257613\n",
      "\"2575\",\"Samyang Foods\",\"Kimchi song Song Ramen\",\"Pack\",\"South Korea\",\"4.75\",257513\n",
      "\"2574\",\"Acecook\",\"Spice Deli Tantan Men With Cilantro\",\"Cup\",\"Japan\",\"4\",257413\n",
      "\"2573\",\"Ikeda Shoku\",\"Nabeyaki Kitsune Udon\",\"Tray\",\"Japan\",\"3.75\",257313\n",
      "\"2572\",\"Ripe'n'Dry\",\"Hokkaido Soy Sauce Ramen\",\"Pack\",\"Japan\",\"0.25\",257213\n"
     ]
    }
   ],
   "source": [
    "aq_pp -f,+1 $file -d $cols -eval i:result 'ToI(reviewID + \"13\")'"
   ]
  },
  {
   "cell_type": "markdown",
   "metadata": {},
   "source": [
    "Phew! that was lots of examples, but now we know how to perform fundamental operations and manipulate data with `-eval` option. \n",
    "Let's take a look at some advanced examples.\n",
    "\n",
    "## Advanced Examples\n",
    "\n",
    "### Builtin Functions\n",
    "Builtin functions (a.k.a aq-emod) are able to perform more complicated processing than ones done by aq_pp alone. \n",
    "Followings are the types of functions:\n",
    "\n",
    "- [String property functions](#string_property)\n",
    "- [Math functions](#math)\n",
    "- [Comparison functions](#comparison)\n",
    "- [Data extraction and encode/decode functions](#extract_code)\n",
    "- [General data conversion functions](#conversion)\n",
    "- [Date/Time conversion functions](#date_time)\n",
    "- [Character set encoding conversion functions](#character_encoding)\n",
    "- [Key hashing functions](#key_hashing)\n",
    "- [Speciality functions](#speciality)\n",
    "- [RTmetrics functions](#rtmetrics)\n",
    "- [Udb specific functions](#udb)\n",
    "\n",
    "Before we get started on the functions, we will redefine each columns' data type by modifying the column spec.\n",
    "`reviewID` will be integer type, and `stars` will be float type, while the rest will remain string type."
   ]
  },
  {
   "cell_type": "code",
   "execution_count": 15,
   "metadata": {},
   "outputs": [
    {
     "name": "stdout",
     "output_type": "stream",
     "text": [
      "\"reviewID\",\"brand\",\"variety\",\"style\",\"country\",\"stars\"\n",
      "2580,\"New Touch\",\"T's Restaurant Tantanmen \",\"Cup\",\"Japan\",3.75\n",
      "2579,\"Just Way\",\"Noodles Spicy Hot Sesame Spicy Hot Sesame Guan-miao Noodles\",\"Pack\",\"Taiwan\",1\n",
      "2578,\"Nissin\",\"Cup Noodles Chicken Vegetable\",\"Cup\",\"USA\",2.25\n",
      "2577,\"Wei Lih\",\"GGE Ramen Snack Tomato Flavor\",\"Pack\",\"Taiwan\",2.75\n",
      "2576,\"Ching's Secret\",\"Singapore Curry\",\"Pack\",\"India\",3.75\n",
      "2575,\"Samyang Foods\",\"Kimchi song Song Ramen\",\"Pack\",\"South Korea\",4.75\n",
      "2574,\"Acecook\",\"Spice Deli Tantan Men With Cilantro\",\"Cup\",\"Japan\",4\n",
      "2573,\"Ikeda Shoku\",\"Nabeyaki Kitsune Udon\",\"Tray\",\"Japan\",3.75\n",
      "2572,\"Ripe'n'Dry\",\"Hokkaido Soy Sauce Ramen\",\"Pack\",\"Japan\",0.25\n"
     ]
    }
   ],
   "source": [
    "cols=\"i:reviewID s:brand s:variety s:style s:country f:stars\"\n",
    "aq_pp -f,+1 $file -d $cols"
   ]
  },
  {
   "cell_type": "markdown",
   "metadata": {},
   "source": [
    "<a id='string_property'></a>\n",
    "#### String Property Functions\n",
    "\n",
    "\n",
    "- `SHash(Val)`:Returns the numeric hash value of a string.<br>\n",
    "Val can be a string column’s name, a string constant, or an expression that evaluates to a string.\n",
    "\n",
    "    In this example, we'll hash `style` column, which value consists of Cup, Pack or Tray, and store the result in `style_hash` column."
   ]
  },
  {
   "cell_type": "code",
   "execution_count": 16,
   "metadata": {},
   "outputs": [
    {
     "name": "stdout",
     "output_type": "stream",
     "text": [
      "\"reviewID\",\"brand\",\"variety\",\"style\",\"country\",\"stars\",\"style_hash\"\n",
      "2580,\"New Touch\",\"T's Restaurant Tantanmen \",\"Cup\",\"Japan\",3.75,193488781\n",
      "2579,\"Just Way\",\"Noodles Spicy Hot Sesame Spicy Hot Sesame Guan-miao Noodles\",\"Pack\",\"Taiwan\",1,2090607556\n",
      "2578,\"Nissin\",\"Cup Noodles Chicken Vegetable\",\"Cup\",\"USA\",2.25,193488781\n",
      "2577,\"Wei Lih\",\"GGE Ramen Snack Tomato Flavor\",\"Pack\",\"Taiwan\",2.75,2090607556\n",
      "2576,\"Ching's Secret\",\"Singapore Curry\",\"Pack\",\"India\",3.75,2090607556\n",
      "2575,\"Samyang Foods\",\"Kimchi song Song Ramen\",\"Pack\",\"South Korea\",4.75,2090607556\n",
      "2574,\"Acecook\",\"Spice Deli Tantan Men With Cilantro\",\"Cup\",\"Japan\",4,193488781\n",
      "2573,\"Ikeda Shoku\",\"Nabeyaki Kitsune Udon\",\"Tray\",\"Japan\",3.75,2090769765\n",
      "2572,\"Ripe'n'Dry\",\"Hokkaido Soy Sauce Ramen\",\"Pack\",\"Japan\",0.25,2090607556\n"
     ]
    }
   ],
   "source": [
    "aq_pp -f,+1 $file -d $cols -eval 'i:style_hash' 'SHash(style)'"
   ]
  },
  {
   "cell_type": "markdown",
   "metadata": {},
   "source": [
    "You can see that same original string value results in equal hash."
   ]
  },
  {
   "cell_type": "markdown",
   "metadata": {},
   "source": [
    "- `SLeng(Val)`:Returns the length of a string.<br>\n",
    "Val can be a string column’s name, a string constant, or an expression that evaluates to a string.\n",
    "    \n",
    "    Again in this example, we'll provide `style` column, and result will be stored in `style_len` column."
   ]
  },
  {
   "cell_type": "code",
   "execution_count": 17,
   "metadata": {},
   "outputs": [
    {
     "name": "stdout",
     "output_type": "stream",
     "text": [
      "\"reviewID\",\"brand\",\"variety\",\"style\",\"country\",\"stars\",\"style_len\"\n",
      "2580,\"New Touch\",\"T's Restaurant Tantanmen \",\"Cup\",\"Japan\",3.75,3\n",
      "2579,\"Just Way\",\"Noodles Spicy Hot Sesame Spicy Hot Sesame Guan-miao Noodles\",\"Pack\",\"Taiwan\",1,4\n",
      "2578,\"Nissin\",\"Cup Noodles Chicken Vegetable\",\"Cup\",\"USA\",2.25,3\n",
      "2577,\"Wei Lih\",\"GGE Ramen Snack Tomato Flavor\",\"Pack\",\"Taiwan\",2.75,4\n",
      "2576,\"Ching's Secret\",\"Singapore Curry\",\"Pack\",\"India\",3.75,4\n",
      "2575,\"Samyang Foods\",\"Kimchi song Song Ramen\",\"Pack\",\"South Korea\",4.75,4\n",
      "2574,\"Acecook\",\"Spice Deli Tantan Men With Cilantro\",\"Cup\",\"Japan\",4,3\n",
      "2573,\"Ikeda Shoku\",\"Nabeyaki Kitsune Udon\",\"Tray\",\"Japan\",3.75,4\n",
      "2572,\"Ripe'n'Dry\",\"Hokkaido Soy Sauce Ramen\",\"Pack\",\"Japan\",0.25,4\n"
     ]
    }
   ],
   "source": [
    "aq_pp -f,+1 $file -d $cols -eval 'i:style_len' 'SLeng(style)'"
   ]
  },
  {
   "cell_type": "markdown",
   "metadata": {},
   "source": [
    "<a id='math'></a>\n",
    "### Math Functions\n",
    "<br>\n",
    "\n",
    "**Basics for math functions**\n",
    "\n",
    "Except few functions, math function will take a single argument `Val` which can be numeric column, constant or expression that will result in numeric value. \n",
    "We will go over just a few of them here, plus functions with irregular syntax. For the list of math functions, refer to the [aq-emod documentation](http://auriq.com/documentation/source/reference/manpages/aq-emod.html#math-functions).\n",
    "\n",
    "- `Ceil(Val)`: Rounds Val up to the nearest integral value and returns the result.\n",
    "\n",
    "    Val can be a numeric column’s name, a numeric constant, or an expression that evaluates to a number.\n",
    "\n",
    "`stars` column that contains average star rating will be provided and result will be stored in `ceiling` column."
   ]
  },
  {
   "cell_type": "code",
   "execution_count": 18,
   "metadata": {},
   "outputs": [
    {
     "name": "stdout",
     "output_type": "stream",
     "text": [
      "\"reviewID\",\"brand\",\"variety\",\"style\",\"country\",\"stars\",\"ceiling\"\n",
      "2580,\"New Touch\",\"T's Restaurant Tantanmen \",\"Cup\",\"Japan\",3.75,4\n",
      "2579,\"Just Way\",\"Noodles Spicy Hot Sesame Spicy Hot Sesame Guan-miao Noodles\",\"Pack\",\"Taiwan\",1,1\n",
      "2578,\"Nissin\",\"Cup Noodles Chicken Vegetable\",\"Cup\",\"USA\",2.25,3\n",
      "2577,\"Wei Lih\",\"GGE Ramen Snack Tomato Flavor\",\"Pack\",\"Taiwan\",2.75,3\n",
      "2576,\"Ching's Secret\",\"Singapore Curry\",\"Pack\",\"India\",3.75,4\n",
      "2575,\"Samyang Foods\",\"Kimchi song Song Ramen\",\"Pack\",\"South Korea\",4.75,5\n",
      "2574,\"Acecook\",\"Spice Deli Tantan Men With Cilantro\",\"Cup\",\"Japan\",4,4\n",
      "2573,\"Ikeda Shoku\",\"Nabeyaki Kitsune Udon\",\"Tray\",\"Japan\",3.75,4\n",
      "2572,\"Ripe'n'Dry\",\"Hokkaido Soy Sauce Ramen\",\"Pack\",\"Japan\",0.25,1\n"
     ]
    }
   ],
   "source": [
    "aq_pp -f,+1 $file -d $cols -eval 'i:ceiling' 'Ceil(stars)'"
   ]
  },
  {
   "cell_type": "markdown",
   "metadata": {},
   "source": [
    "\n",
    "- `Floor(Val)`: Rounds Val down to the nearest integral value and returns the result.\n",
    "\n",
    "    Val can be a numeric column’s name, a numeric constant, or an expression that evaluates to a number.\n",
    "\n",
    "Similary to `Ceil()`, we'll use `stars` column again. Notice the difference in the result compare to `Ceil()` function.\n"
   ]
  },
  {
   "cell_type": "code",
   "execution_count": 19,
   "metadata": {},
   "outputs": [
    {
     "name": "stdout",
     "output_type": "stream",
     "text": [
      "\"reviewID\",\"brand\",\"variety\",\"style\",\"country\",\"stars\",\"floor\"\n",
      "2580,\"New Touch\",\"T's Restaurant Tantanmen \",\"Cup\",\"Japan\",3.75,3\n",
      "2579,\"Just Way\",\"Noodles Spicy Hot Sesame Spicy Hot Sesame Guan-miao Noodles\",\"Pack\",\"Taiwan\",1,1\n",
      "2578,\"Nissin\",\"Cup Noodles Chicken Vegetable\",\"Cup\",\"USA\",2.25,2\n",
      "2577,\"Wei Lih\",\"GGE Ramen Snack Tomato Flavor\",\"Pack\",\"Taiwan\",2.75,2\n",
      "2576,\"Ching's Secret\",\"Singapore Curry\",\"Pack\",\"India\",3.75,3\n",
      "2575,\"Samyang Foods\",\"Kimchi song Song Ramen\",\"Pack\",\"South Korea\",4.75,4\n",
      "2574,\"Acecook\",\"Spice Deli Tantan Men With Cilantro\",\"Cup\",\"Japan\",4,4\n",
      "2573,\"Ikeda Shoku\",\"Nabeyaki Kitsune Udon\",\"Tray\",\"Japan\",3.75,3\n",
      "2572,\"Ripe'n'Dry\",\"Hokkaido Soy Sauce Ramen\",\"Pack\",\"Japan\",0.25,0\n"
     ]
    }
   ],
   "source": [
    "aq_pp -f,+1 $file -d $cols -eval 'i:floor' 'Floor(stars)'"
   ]
  },
  {
   "cell_type": "markdown",
   "metadata": {},
   "source": [
    "\n",
    "- `Round(Val)`: Rounds Val up/down to the nearest integral value and returns the result. Half way cases are rounded away from zero.\n",
    "\n",
    "    Val can be a numeric column’s name, a numeric constant, or an expression that evaluates to a number.\n",
    "\n",
    "Given `star` column, the result will be rounded to the nearest integer."
   ]
  },
  {
   "cell_type": "code",
   "execution_count": 20,
   "metadata": {},
   "outputs": [
    {
     "name": "stdout",
     "output_type": "stream",
     "text": [
      "\"reviewID\",\"brand\",\"variety\",\"style\",\"country\",\"stars\",\"round\"\n",
      "2580,\"New Touch\",\"T's Restaurant Tantanmen \",\"Cup\",\"Japan\",3.75,4\n",
      "2579,\"Just Way\",\"Noodles Spicy Hot Sesame Spicy Hot Sesame Guan-miao Noodles\",\"Pack\",\"Taiwan\",1,1\n",
      "2578,\"Nissin\",\"Cup Noodles Chicken Vegetable\",\"Cup\",\"USA\",2.25,2\n",
      "2577,\"Wei Lih\",\"GGE Ramen Snack Tomato Flavor\",\"Pack\",\"Taiwan\",2.75,3\n",
      "2576,\"Ching's Secret\",\"Singapore Curry\",\"Pack\",\"India\",3.75,4\n",
      "2575,\"Samyang Foods\",\"Kimchi song Song Ramen\",\"Pack\",\"South Korea\",4.75,5\n",
      "2574,\"Acecook\",\"Spice Deli Tantan Men With Cilantro\",\"Cup\",\"Japan\",4,4\n",
      "2573,\"Ikeda Shoku\",\"Nabeyaki Kitsune Udon\",\"Tray\",\"Japan\",3.75,4\n",
      "2572,\"Ripe'n'Dry\",\"Hokkaido Soy Sauce Ramen\",\"Pack\",\"Japan\",0.25,0\n"
     ]
    }
   ],
   "source": [
    "aq_pp -f,+1 $file -d $cols -eval 'i:round' 'round(stars)' "
   ]
  },
  {
   "cell_type": "markdown",
   "metadata": {},
   "source": [
    "- `Sqrt(Val)`: Computes the square root of Val.\n",
    "\n",
    "    Val can be a numeric column’s name, a numeric constant, or an expression that evaluates to a number.\n",
    "\n",
    "In this example, we will provide an constant as an argument for clearity."
   ]
  },
  {
   "cell_type": "code",
   "execution_count": 21,
   "metadata": {},
   "outputs": [
    {
     "name": "stdout",
     "output_type": "stream",
     "text": [
      "\"reviewID\",\"brand\",\"variety\",\"style\",\"country\",\"stars\",\"squared\"\n",
      "2580,\"New Touch\",\"T's Restaurant Tantanmen \",\"Cup\",\"Japan\",3.75,3\n",
      "2579,\"Just Way\",\"Noodles Spicy Hot Sesame Spicy Hot Sesame Guan-miao Noodles\",\"Pack\",\"Taiwan\",1,3\n",
      "2578,\"Nissin\",\"Cup Noodles Chicken Vegetable\",\"Cup\",\"USA\",2.25,3\n",
      "2577,\"Wei Lih\",\"GGE Ramen Snack Tomato Flavor\",\"Pack\",\"Taiwan\",2.75,3\n",
      "2576,\"Ching's Secret\",\"Singapore Curry\",\"Pack\",\"India\",3.75,3\n",
      "2575,\"Samyang Foods\",\"Kimchi song Song Ramen\",\"Pack\",\"South Korea\",4.75,3\n",
      "2574,\"Acecook\",\"Spice Deli Tantan Men With Cilantro\",\"Cup\",\"Japan\",4,3\n",
      "2573,\"Ikeda Shoku\",\"Nabeyaki Kitsune Udon\",\"Tray\",\"Japan\",3.75,3\n",
      "2572,\"Ripe'n'Dry\",\"Hokkaido Soy Sauce Ramen\",\"Pack\",\"Japan\",0.25,3\n"
     ]
    }
   ],
   "source": [
    "aq_pp -f,+1 $file -d $cols -eval 'i:squared' 'Sqrt(9)' "
   ]
  },
  {
   "cell_type": "markdown",
   "metadata": {},
   "source": [
    "**Math functions with irregular syntax**\n",
    "\n",
    "These functions require multiple values as their arguments to return the result.\n",
    "\n",
    "- `Min(Val1, Val2 [, Val3 ...])`: Returns the smallest value among Val1, Val2 and so on.\n",
    "\n",
    "    Each Val can be a numeric column’s name, a number, or an expression that evaluates to a number.\n",
    "    If all values are integers, the result will also be an integer.\n",
    "    If any value is a floating point number, the result will be a floating point number.\n",
    "We'll provide a constant, as well as `stars` column to be compared with, and store the result in a column called `smaller`."
   ]
  },
  {
   "cell_type": "code",
   "execution_count": 22,
   "metadata": {},
   "outputs": [
    {
     "name": "stdout",
     "output_type": "stream",
     "text": [
      "\"reviewID\",\"brand\",\"variety\",\"style\",\"country\",\"stars\",\"smaller\"\n",
      "2580,\"New Touch\",\"T's Restaurant Tantanmen \",\"Cup\",\"Japan\",3.75,3\n",
      "2579,\"Just Way\",\"Noodles Spicy Hot Sesame Spicy Hot Sesame Guan-miao Noodles\",\"Pack\",\"Taiwan\",1,1\n",
      "2578,\"Nissin\",\"Cup Noodles Chicken Vegetable\",\"Cup\",\"USA\",2.25,2.25\n",
      "2577,\"Wei Lih\",\"GGE Ramen Snack Tomato Flavor\",\"Pack\",\"Taiwan\",2.75,2.75\n",
      "2576,\"Ching's Secret\",\"Singapore Curry\",\"Pack\",\"India\",3.75,3\n",
      "2575,\"Samyang Foods\",\"Kimchi song Song Ramen\",\"Pack\",\"South Korea\",4.75,3\n",
      "2574,\"Acecook\",\"Spice Deli Tantan Men With Cilantro\",\"Cup\",\"Japan\",4,3\n",
      "2573,\"Ikeda Shoku\",\"Nabeyaki Kitsune Udon\",\"Tray\",\"Japan\",3.75,3\n",
      "2572,\"Ripe'n'Dry\",\"Hokkaido Soy Sauce Ramen\",\"Pack\",\"Japan\",0.25,0.25\n"
     ]
    }
   ],
   "source": [
    "aq_pp -f,+1 $file -d $cols -eval 'f:smaller' 'Min(3, stars)' "
   ]
  },
  {
   "cell_type": "markdown",
   "metadata": {},
   "source": [
    "- `Pow(Val, Power)`: Computes Val raised to the power of Power.\n",
    "\n",
    "    Val and Power can be a numeric column’s name, a numeric constant, or an expression that evaluates to a number.\n",
    "\n",
    "In this example, we'll calculate a 8th power of 2, meaning `Val = 2` and `Power = 8`, and result will be in a integer column called `byte`. "
   ]
  },
  {
   "cell_type": "code",
   "execution_count": 23,
   "metadata": {},
   "outputs": [
    {
     "name": "stdout",
     "output_type": "stream",
     "text": [
      "\"reviewID\",\"brand\",\"variety\",\"style\",\"country\",\"stars\",\"byte\"\n",
      "2580,\"New Touch\",\"T's Restaurant Tantanmen \",\"Cup\",\"Japan\",3.75,256\n",
      "2579,\"Just Way\",\"Noodles Spicy Hot Sesame Spicy Hot Sesame Guan-miao Noodles\",\"Pack\",\"Taiwan\",1,256\n",
      "2578,\"Nissin\",\"Cup Noodles Chicken Vegetable\",\"Cup\",\"USA\",2.25,256\n",
      "2577,\"Wei Lih\",\"GGE Ramen Snack Tomato Flavor\",\"Pack\",\"Taiwan\",2.75,256\n",
      "2576,\"Ching's Secret\",\"Singapore Curry\",\"Pack\",\"India\",3.75,256\n",
      "2575,\"Samyang Foods\",\"Kimchi song Song Ramen\",\"Pack\",\"South Korea\",4.75,256\n",
      "2574,\"Acecook\",\"Spice Deli Tantan Men With Cilantro\",\"Cup\",\"Japan\",4,256\n",
      "2573,\"Ikeda Shoku\",\"Nabeyaki Kitsune Udon\",\"Tray\",\"Japan\",3.75,256\n",
      "2572,\"Ripe'n'Dry\",\"Hokkaido Soy Sauce Ramen\",\"Pack\",\"Japan\",0.25,256\n"
     ]
    }
   ],
   "source": [
    "aq_pp -f,+1 $file -d $cols -eval 'i:byte' 'Pow(2, 8)'"
   ]
  },
  {
   "cell_type": "markdown",
   "metadata": {},
   "source": [
    "- `IsInf(Val)`: Tests if Val is infinite.\n",
    "\n",
    "    Returns 1, -1 or 0 if the value is positive infinity, negative infinity or finite respectively.\n",
    "    Val can be a numeric column’s name, a numeric constant, or an expression that evaluates to a number.\n",
    "\n",
    "This one's little interesting. In order to provide \"negative infinity\", we'll provide an expression `-1.0/0`, and see if it returns -1.\n",
    "\n",
    "**Note:** \n",
    "* In order to get positive / negative infinity, the expression needs to be evaluated as float(e.g. `1.0/0` instead of `1/0`).\n",
    "* The column to assign the result needs to be a datatype of signed integer, either `is` or `ls`, in order to be able to display negative values correctly."
   ]
  },
  {
   "cell_type": "code",
   "execution_count": 24,
   "metadata": {},
   "outputs": [
    {
     "name": "stdout",
     "output_type": "stream",
     "text": [
      "\"IsInf\"\n",
      "-1\n",
      "-1\n",
      "-1\n",
      "-1\n",
      "-1\n",
      "-1\n",
      "-1\n",
      "-1\n",
      "-1\n"
     ]
    }
   ],
   "source": [
    "aq_pp -f,+1 $file -d $cols -eval 'is:IsInf' 'IsInf(-1.0/0)' -c IsInf"
   ]
  },
  {
   "cell_type": "markdown",
   "metadata": {},
   "source": [
    "<a id='comparison'></a>\n",
    "### Comparison Functions\n",
    "\n",
    "Most of the comparision function compare 1 or more string constant or pattern or regex against whole / part of given string or string column. They return 1 if there are match, and 0 for no match. \n",
    "\n",
    "Let's start with function that compares beginning and end of the string with given pattern.\n",
    "\n"
   ]
  },
  {
   "cell_type": "markdown",
   "metadata": {},
   "source": [
    "- `BegCmp(Val, BegStr [, BegStr ...])`: examine if string `Val` start exactly with `BegStr`. \n",
    "\n",
    "    * Returns 1 if there is a match, 0 otherwise.\n",
    "    * `Val` can be a string column’s name, a string constant, or an expression that evaluates to a string.\n",
    "    * Each `BegStr` is a string constant that specifies the starting string to match.\n",
    "\n",
    "Let's use `style` column again to demonstrate this function. I will give \"P\" as a pattern to match, and this should return 1 whenever `style` column's content start with \"Pa\"."
   ]
  },
  {
   "cell_type": "code",
   "execution_count": 25,
   "metadata": {},
   "outputs": [
    {
     "name": "stdout",
     "output_type": "stream",
     "text": [
      "\"style\",\"beginWith\"\n",
      "\"Cup\",0\n",
      "\"Pack\",1\n",
      "\"Cup\",0\n",
      "\"Pack\",1\n",
      "\"Pack\",1\n",
      "\"Pack\",1\n",
      "\"Cup\",0\n",
      "\"Tray\",0\n",
      "\"Pack\",1\n"
     ]
    }
   ],
   "source": [
    "aq_pp -f,+1 $file -d $cols -eval 'is:beginWith' 'BegCmp(style, \"P\")' -c style beginWith"
   ]
  },
  {
   "cell_type": "markdown",
   "metadata": {},
   "source": [
    "We can also provide multiple `BegStr` to match with string that starts with any of the given `BegStr`. You can observe that this time it returns 1 for string that start with either \"P\" or \"Tr\". "
   ]
  },
  {
   "cell_type": "code",
   "execution_count": 26,
   "metadata": {},
   "outputs": [
    {
     "name": "stdout",
     "output_type": "stream",
     "text": [
      "\"style\",\"beginWith\"\n",
      "\"Cup\",0\n",
      "\"Pack\",1\n",
      "\"Cup\",0\n",
      "\"Pack\",1\n",
      "\"Pack\",1\n",
      "\"Pack\",1\n",
      "\"Cup\",0\n",
      "\"Tray\",1\n",
      "\"Pack\",1\n"
     ]
    }
   ],
   "source": [
    "aq_pp -f,+1 $file -d $cols -eval 'is:beginWith' 'BegCmp(style, \"P\", \"Tr\")' -c style beginWith"
   ]
  },
  {
   "cell_type": "markdown",
   "metadata": {},
   "source": [
    "- `EndCmp(Val, EndStr [, EndStr ...])`: Compares one or more ending string EndStr with the tail of Val. All the comparisons are case sensitive.\n",
    "\n",
    "    * Returns 1 if there is a match, 0 otherwise.\n",
    "    * Val can be a string column’s name, a string constant, or an expression that evaluates to a string.\n",
    "    * Each EndStr is a string constant that specifies the ending string to match.\n",
    "\n",
    "This function is same as the one above (`BegCmp`) except this compares the ending of `Val`. \n",
    "Let's see it in action with `style` column, I will provide 2 `EndStr` this time as well."
   ]
  },
  {
   "cell_type": "code",
   "execution_count": 27,
   "metadata": {},
   "outputs": [
    {
     "name": "stdout",
     "output_type": "stream",
     "text": [
      "\"style\",\"beginWith\"\n",
      "\"Cup\",1\n",
      "\"Pack\",1\n",
      "\"Cup\",1\n",
      "\"Pack\",1\n",
      "\"Pack\",1\n",
      "\"Pack\",1\n",
      "\"Cup\",1\n",
      "\"Tray\",0\n",
      "\"Pack\",1\n"
     ]
    }
   ],
   "source": [
    "aq_pp -f,+1 $file -d $cols -eval 'is:beginWith' 'EndCmp(style, \"ck\", \"up\")' -c style beginWith"
   ]
  },
  {
   "cell_type": "markdown",
   "metadata": {},
   "source": [
    "1 is returned for `Cup` and `Pack` that ends with given pattern."
   ]
  },
  {
   "cell_type": "markdown",
   "metadata": {},
   "source": [
    "- `SubCmp(Val, SubStr [, SubStr ...])`: Compares one or more substring SubStr with with any part of Val. All the comparisons are case sensitive.\n",
    "\n",
    "    * Returns 1 if there is a match, 0 otherwise.\n",
    "    * Val can be a string column’s name, a string constant, or an expression that evaluates to a string.\n",
    "    * Each SubStr is a string constant that specifies the substring to match.\n",
    "\n",
    "I will provide \"Noodle\" as `SubStr` for `variety` column, to detect the ramen name which contains \"Noodle\"(case sensitive)."
   ]
  },
  {
   "cell_type": "code",
   "execution_count": 28,
   "metadata": {},
   "outputs": [
    {
     "name": "stdout",
     "output_type": "stream",
     "text": [
      "\"variety\",\"beginWith\"\n",
      "\"T's Restaurant Tantanmen \",0\n",
      "\"Noodles Spicy Hot Sesame Spicy Hot Sesame Guan-miao Noodles\",1\n",
      "\"Cup Noodles Chicken Vegetable\",1\n",
      "\"GGE Ramen Snack Tomato Flavor\",0\n",
      "\"Singapore Curry\",0\n",
      "\"Kimchi song Song Ramen\",0\n",
      "\"Spice Deli Tantan Men With Cilantro\",0\n",
      "\"Nabeyaki Kitsune Udon\",0\n",
      "\"Hokkaido Soy Sauce Ramen\",0\n"
     ]
    }
   ],
   "source": [
    "aq_pp -f,+1 $file -d $cols -eval 'is:beginWith' 'SubCmp(variety, \"Noodle\")' -c variety beginWith"
   ]
  },
  {
   "cell_type": "markdown",
   "metadata": {},
   "source": [
    "Next, I will demonstrate to provide 2 string, \"Noodle\" and \"Spic\"(to match both \"Spicy\" and \"Spice\") to extract names which contains **EITHER** of the words.\n",
    "\n"
   ]
  },
  {
   "cell_type": "code",
   "execution_count": 29,
   "metadata": {},
   "outputs": [
    {
     "name": "stdout",
     "output_type": "stream",
     "text": [
      "\"variety\",\"beginWith\"\n",
      "\"T's Restaurant Tantanmen \",0\n",
      "\"Noodles Spicy Hot Sesame Spicy Hot Sesame Guan-miao Noodles\",1\n",
      "\"Cup Noodles Chicken Vegetable\",1\n",
      "\"GGE Ramen Snack Tomato Flavor\",0\n",
      "\"Singapore Curry\",0\n",
      "\"Kimchi song Song Ramen\",0\n",
      "\"Spice Deli Tantan Men With Cilantro\",1\n",
      "\"Nabeyaki Kitsune Udon\",0\n",
      "\"Hokkaido Soy Sauce Ramen\",0\n"
     ]
    }
   ],
   "source": [
    "aq_pp -f,+1 $file -d $cols -eval 'is:beginWith' 'SubCmp(variety, \"Noodle\", \"Spic\")' -c variety beginWith"
   ]
  },
  {
   "cell_type": "markdown",
   "metadata": {},
   "source": [
    "- `SubCmpAll(Val, SubStr [, SubStr ...])`:Same as `SubCmp()`, except when multiple `SubStr` are provided, it will return 1 only if `Val` contains every single one of `SubStr`.\n",
    "\n",
    "Similary to the example `SubCmp()` above, we'll provide \"Noodle\" and \"Spic\" to be compared with `variety` column. This time though it'll return 1 only if `variety` contains **BOTH** \"Noodle\" and \"Spic\"."
   ]
  },
  {
   "cell_type": "code",
   "execution_count": 30,
   "metadata": {},
   "outputs": [
    {
     "name": "stdout",
     "output_type": "stream",
     "text": [
      "\"variety\",\"beginWith\"\n",
      "\"T's Restaurant Tantanmen \",0\n",
      "\"Noodles Spicy Hot Sesame Spicy Hot Sesame Guan-miao Noodles\",1\n",
      "\"Cup Noodles Chicken Vegetable\",0\n",
      "\"GGE Ramen Snack Tomato Flavor\",0\n",
      "\"Singapore Curry\",0\n",
      "\"Kimchi song Song Ramen\",0\n",
      "\"Spice Deli Tantan Men With Cilantro\",0\n",
      "\"Nabeyaki Kitsune Udon\",0\n",
      "\"Hokkaido Soy Sauce Ramen\",0\n"
     ]
    }
   ],
   "source": [
    "aq_pp -f,+1 $file -d $cols -eval 'is:beginWith' 'SubCmpAll(variety, \"Noodle\", \"Spic\")' -c variety beginWith"
   ]
  },
  {
   "cell_type": "markdown",
   "metadata": {},
   "source": [
    "- `MixedCmp(Val, SubStr, Typ [, SubStr, Typ ...])`: You can this of this function as more versatile version of `BegCmp`, `EndCmp`, and `SubCmp`. Given `Val`, you'll provide `SubStr` and `Typ` which is:\n",
    "* `BEG` - Match with the head of Val.\n",
    "* `END` - Match with the tail of Val.\n",
    "* `SUB` - Match with any part of Val.\n",
    "\n",
    "Note when provided more than 2 `SubStr`, this function will return 1 for matching with **EITHER** of the provided `SubStr`'s pattern. This will be demonstrated at **`SUB`** section later.\n",
    "\n",
    "**`BEG`**<br>\n",
    "Let's start with `BEG`. We will use `style` column, and give `C` to get `style` that begin with \"C\"."
   ]
  },
  {
   "cell_type": "code",
   "execution_count": 31,
   "metadata": {},
   "outputs": [
    {
     "name": "stdout",
     "output_type": "stream",
     "text": [
      "\"style\",\"beginWith\"\n",
      "\"Cup\",1\n",
      "\"Pack\",0\n",
      "\"Cup\",1\n",
      "\"Pack\",0\n",
      "\"Pack\",0\n",
      "\"Pack\",0\n",
      "\"Cup\",1\n",
      "\"Tray\",0\n",
      "\"Pack\",0\n"
     ]
    }
   ],
   "source": [
    "aq_pp -f,+1 $file -d $cols -eval 'is:beginWith' 'MixedCmp(style, \"C\", BEG)' -c style beginWith"
   ]
  },
  {
   "cell_type": "markdown",
   "metadata": {},
   "source": [
    "**`END`**<br>\n",
    "\n",
    "Next I will provide \"ck\" as `SubStr`, and `END` as `Typ` to extract record with style which end with \"ck\" (Pack type)."
   ]
  },
  {
   "cell_type": "code",
   "execution_count": 32,
   "metadata": {},
   "outputs": [
    {
     "name": "stdout",
     "output_type": "stream",
     "text": [
      "\"style\",\"beginWith\"\n",
      "\"Cup\",0\n",
      "\"Pack\",1\n",
      "\"Cup\",0\n",
      "\"Pack\",1\n",
      "\"Pack\",1\n",
      "\"Pack\",1\n",
      "\"Cup\",0\n",
      "\"Tray\",0\n",
      "\"Pack\",1\n"
     ]
    }
   ],
   "source": [
    "aq_pp -f,+1 $file -d $cols -eval 'is:beginWith' 'MixedCmp(style, \"ck\", END)' -c style beginWith"
   ]
  },
  {
   "cell_type": "markdown",
   "metadata": {},
   "source": [
    "**`SUB`**<br>\n",
    "Lastly, I will provide \"Noodle\" and \"Spic\" to match with `variety` column as `Val` to extract records that contains EITHER of these strings.\n",
    "Since we're looking for substring match in any position of `variety`, `SUB` will be the `Typ`."
   ]
  },
  {
   "cell_type": "code",
   "execution_count": 33,
   "metadata": {},
   "outputs": [
    {
     "name": "stdout",
     "output_type": "stream",
     "text": [
      "\"variety\",\"beginWith\"\n",
      "\"T's Restaurant Tantanmen \",0\n",
      "\"Noodles Spicy Hot Sesame Spicy Hot Sesame Guan-miao Noodles\",1\n",
      "\"Cup Noodles Chicken Vegetable\",1\n",
      "\"GGE Ramen Snack Tomato Flavor\",0\n",
      "\"Singapore Curry\",0\n",
      "\"Kimchi song Song Ramen\",0\n",
      "\"Spice Deli Tantan Men With Cilantro\",1\n",
      "\"Nabeyaki Kitsune Udon\",0\n",
      "\"Hokkaido Soy Sauce Ramen\",0\n"
     ]
    }
   ],
   "source": [
    "aq_pp -f,+1 $file -d $cols -eval 'is:beginWith' 'MixedCmp(variety, \"Noodle\", SUB, \"Spic\", SUB)' -c variety beginWith"
   ]
  },
  {
   "cell_type": "markdown",
   "metadata": {},
   "source": [
    "- `MixedCmpAll(Val, SubStr, Typ [, SubStr, Typ ...])`: You can this of this function as more versatile version of `BegCmp`, `EndCmp`, and `SubCmp`. Given `Val`, you'll provide `SubStr` and `Typ` which is:\n",
    "* `BEG` - Match with the head of Val.\n",
    "* `END` - Match with the tail of Val.\n",
    "* `SUB` - Match with any part of Val.\n",
    "\n",
    "Same as `MixedCmp()` above, except when provided with more than 2 `SubStr`, it'll return 1 for matching **ALL** of the patterns. Here, I will demonstrate it using **`SUB`**, with `variety` column.\n",
    "This should only return 1 for the record that contains both \"Noodle\" and \"Spic\" in `variety` column."
   ]
  },
  {
   "cell_type": "code",
   "execution_count": 34,
   "metadata": {},
   "outputs": [
    {
     "name": "stdout",
     "output_type": "stream",
     "text": [
      "\"variety\",\"beginWith\"\n",
      "\"T's Restaurant Tantanmen \",0\n",
      "\"Noodles Spicy Hot Sesame Spicy Hot Sesame Guan-miao Noodles\",1\n",
      "\"Cup Noodles Chicken Vegetable\",0\n",
      "\"GGE Ramen Snack Tomato Flavor\",0\n",
      "\"Singapore Curry\",0\n",
      "\"Kimchi song Song Ramen\",0\n",
      "\"Spice Deli Tantan Men With Cilantro\",0\n",
      "\"Nabeyaki Kitsune Udon\",0\n",
      "\"Hokkaido Soy Sauce Ramen\",0\n"
     ]
    }
   ],
   "source": [
    "aq_pp -f,+1 $file -d $cols -eval 'is:beginWith' 'MixedCmpAll(variety, \"Noodle\", SUB, \"Spic\", SUB)' -c variety beginWith"
   ]
  },
  {
   "cell_type": "markdown",
   "metadata": {},
   "source": [
    "- `Contain(Val, SubStrs)`: Compares the substrings in SubStrs with any part of Val. All the comparisons are case sensitive.\n",
    "\n",
    "    * Returns 1 if there is a match, 0 otherwise.\n",
    "    * Val can be a string column’s name, a string constant, or an expression that evaluates to a string.\n",
    "    * SubStrs is a string constant that specifies what substrings to match. It is a comma-newline separated list of literal substrings of the form “`SubStr1,[\\r]\\nSubStr2...`”.\n",
    "\n",
    "Let's test this function by providing \"Noodle\" and \"Spic\" as `SubStrs`, and `variety` as `Val`."
   ]
  },
  {
   "cell_type": "code",
   "execution_count": 35,
   "metadata": {},
   "outputs": [
    {
     "name": "stdout",
     "output_type": "stream",
     "text": [
      "\"variety\",\"beginWith\"\n",
      "\"T's Restaurant Tantanmen \",0\n",
      "\"Noodles Spicy Hot Sesame Spicy Hot Sesame Guan-miao Noodles\",1\n",
      "\"Cup Noodles Chicken Vegetable\",1\n",
      "\"GGE Ramen Snack Tomato Flavor\",0\n",
      "\"Singapore Curry\",0\n",
      "\"Kimchi song Song Ramen\",0\n",
      "\"Spice Deli Tantan Men With Cilantro\",1\n",
      "\"Nabeyaki Kitsune Udon\",0\n",
      "\"Hokkaido Soy Sauce Ramen\",0\n"
     ]
    }
   ],
   "source": [
    "aq_pp -f,+1 $file -d $cols -eval 'is:beginWith' 'contain(variety, \"Noodle,\\nSpic\")' -c variety beginWith"
   ]
  },
  {
   "cell_type": "markdown",
   "metadata": {},
   "source": [
    "**`ContainAll(Val, SubStrs)`**:Compares the substrings in SubStrs with any part of Val. All the comparisons are case sensitive.\n",
    "\n",
    "* Returns 1 if all the substrings match, 0 otherwise.\n",
    "* Val can be a string column’s name, a string constant, or an expression that evaluates to a string.\n",
    "* SubStrs is a string constant that specifies what substrings to match. It is a comma-newline separated list of literal substrings of the form “`SubStr1,[\\r]\\nSubStr2...`”.\n",
    "\n",
    "Same as `Contain()`, except that when provided with multiple `SubStrs`, it'll return 1 only if all the patterns are present in `Val`. \n",
    "Using `variety` column with values of \"Noodle\" and \"Spic\" again, we'll see that only record with **BOTH** words present in thier `variety` column will have 1 as return value."
   ]
  },
  {
   "cell_type": "code",
   "execution_count": 36,
   "metadata": {},
   "outputs": [
    {
     "name": "stdout",
     "output_type": "stream",
     "text": [
      "\"variety\",\"beginWith\"\n",
      "\"T's Restaurant Tantanmen \",0\n",
      "\"Noodles Spicy Hot Sesame Spicy Hot Sesame Guan-miao Noodles\",1\n",
      "\"Cup Noodles Chicken Vegetable\",0\n",
      "\"GGE Ramen Snack Tomato Flavor\",0\n",
      "\"Singapore Curry\",0\n",
      "\"Kimchi song Song Ramen\",0\n",
      "\"Spice Deli Tantan Men With Cilantro\",0\n",
      "\"Nabeyaki Kitsune Udon\",0\n",
      "\"Hokkaido Soy Sauce Ramen\",0\n"
     ]
    }
   ],
   "source": [
    "aq_pp -f,+1 $file -d $cols -eval 'is:beginWith' 'ContainAll(variety, \"Noodle,\\nSpic\")' -c variety beginWith"
   ]
  },
  {
   "cell_type": "markdown",
   "metadata": {},
   "source": [
    "**FOR 3 EXAMPLES BELOW, WAIT FOR KO'S PERMISSION TO USE ANA'S DATA AS EXAMPLE**\n",
    "\n",
    "**`PatCmp(Val, Pattern [, AtrLst])`**:Compares a generic wildcard pattern with Val.\n",
    "\n",
    "* Returns 1 if it matches, 0 otherwise. `Pattern` must match the _entire_ `Val` to be successful.\n",
    "* `Val` can be a string column’s name, a string constant, or an expression that evaluates to a string.\n",
    "* `Pattern` is a string constant that specifies the pattern to match. It is a simple wildcard pattern containing just '*' (matches any number of bytes) and ‘?’ (matches any 1 byte) only; literal ‘*’, ‘?’ and ‘\\’ in the pattern must be ‘\\’ escaped.\n",
    "* Optional `AtrLst` is a list of `|` separated attributes containing:\n",
    "    * `ncas` - Perform a case insensitive match (default is case sensitive). For ASCII data only.\n"
   ]
  },
  {
   "cell_type": "code",
   "execution_count": null,
   "metadata": {},
   "outputs": [],
   "source": []
  },
  {
   "cell_type": "markdown",
   "metadata": {},
   "source": [
    "**`RxCmp(Val, Pattern [, AtrLst])`**:Compares a string with a regular expression.\n",
    "\n",
    "* Returns 1 if they match, 0 otherwise. `Pattern` only needs to match a subpart of `Val` to be successful.\n",
    "* `Val` can be a string column’s name, a string constant, or an expression that evaluates to a string.\n",
    "* `Pattern` is a string constant that specifies the regular expression to match.\n",
    "* Optional `AtrLst` is a list of `|` separated regular expression attributes.\n"
   ]
  },
  {
   "cell_type": "code",
   "execution_count": null,
   "metadata": {},
   "outputs": [],
   "source": []
  },
  {
   "cell_type": "markdown",
   "metadata": {},
   "source": [
    "**`NumCmp(Val1, Val2, Delta)`**:Tests if Val1 and Val2 are within Delta of each other - i.e., whether `Abs(Val1 - Val2) <= Delta`.\n",
    "\n",
    "* Returns 1 if true, 0 otherwise.\n",
    "* `Val1`, `Val2` and `Delta` can be a numeric column’s name, a numeric constant, or an expression that evaluates to a number.\n",
    "* `Delta` should be greater than or equal to zero.\n",
    "\n"
   ]
  },
  {
   "cell_type": "code",
   "execution_count": null,
   "metadata": {},
   "outputs": [],
   "source": []
  },
  {
   "cell_type": "markdown",
   "metadata": {},
   "source": [
    "<a id='extract_code'></a>\n",
    "### Data extraction and encode / decode Functions\n",
    "\n"
   ]
  },
  {
   "cell_type": "markdown",
   "metadata": {},
   "source": [
    "**`SubStr(Val, Start [, Length])`**: Returns a substring of a string.\n",
    "\n",
    "* `Val` can be a string column’s name, a string constant, or an expression that evaluates to a string.\n",
    "* `Start` is the starting position (zero-based) of the substring in `Val`. It can be a numeric column’s name, a number, or an expression that evaluates to a number.\n",
    "     * If `Start` is negative, the length of `Val` will be added to it. If it is still negative, 0 will be used.(Think of it as a pythonic way of indexing the string from backwards)\n",
    "* Optional `Length` specifies the length of the substring in `Val`. It can be a numeric column’s name, a number, or an expression that evaluates to a number.\n",
    "    * Max length is length of `Val` minus `Start`.\n",
    "    * If `Length` is not specified, max length is assumed.\n",
    "    * If `Length` is negative, max length will be added to it. If it is still negative, 0 will be used.\n",
    "\n",
    "For this example, to keep things simple we'll use a file containing 2 row, one with numeric string and the other with good old \"Hello World\", which looks like below.\n",
    "\n",
    "\n",
    "simple_str|\n",
    "---|\n",
    "0123456789\n",
    "Hello World\n",
    "\n",
    "starting from zero as `Val`, and will extract substring at index 3 ~ last index. We can do this like following."
   ]
  },
  {
   "cell_type": "code",
   "execution_count": 45,
   "metadata": {},
   "outputs": [
    {
     "name": "stdout",
     "output_type": "stream",
     "text": [
      "\"val_str\",\"subStr\"\n",
      "\"0123456789\",\"3456789\"\n",
      "\"Hello World\",\"lo World\"\n"
     ]
    }
   ],
   "source": [
    "file=\"data/aq_pp/substr.csv\"\n",
    "aq_pp -f,+1 $file -d s:val_str -eval 's:subStr' 'SubStr(val_str, 3)' -c  val_str SubStr"
   ]
  },
  {
   "cell_type": "markdown",
   "metadata": {},
   "source": [
    "As you can see, string from 3rd index (counting from zero) are extracted as substring. <br>\n",
    "\n",
    "**`Length`**<br>\n",
    "Providing this argument will allow users to specify the length of **extracted substring**. Note that this is NOT the ending index of the substring. \n",
    "\n",
    "For example, in order to extract substring at index 3 ~ 7 in the original `Val` string, we'd need to provide `3` as `Start` and `5` as `Length`, since the substring extracted will be the length of 5."
   ]
  },
  {
   "cell_type": "code",
   "execution_count": 48,
   "metadata": {},
   "outputs": [
    {
     "name": "stdout",
     "output_type": "stream",
     "text": [
      "\"val_str\",\"subStr\"\n",
      "\"0123456789\",\"34567\"\n",
      "\"Hello World\",\"lo Wo\"\n"
     ]
    }
   ],
   "source": [
    "aq_pp -f,+1 $file -d s:val_str -eval 's:subStr' 'SubStr(val_str, 3, 5)' -c  val_str SubStr"
   ]
  },
  {
   "cell_type": "markdown",
   "metadata": {},
   "source": [
    "**Negative Index**<br>\n",
    "Users can specify index from right side of the `Val` string, by using negative indexing (Similar to python's string).\n",
    "\n",
    "For example, say we'd like to extract the word \"World\" using the negative index. Letter \"W\" is the 5th character from the right side of the string, so we'll provide `-5` as `Start`."
   ]
  },
  {
   "cell_type": "markdown",
   "metadata": {},
   "source": [
    "aq_pp -f,+1 $file -d s:val_str -eval 's:subStr' 'SubStr(val_str, -5)' -c  val_str SubStr"
   ]
  },
  {
   "cell_type": "markdown",
   "metadata": {},
   "source": [
    "`Length` argument can also be negative number. Let's provide `-2` as `Length` parameter, and `0` for `Start`."
   ]
  },
  {
   "cell_type": "code",
   "execution_count": 53,
   "metadata": {},
   "outputs": [
    {
     "name": "stdout",
     "output_type": "stream",
     "text": [
      "\"val_str\",\"subStr\"\n",
      "\"0123456789\",\"567\"\n",
      "\"Hello World\",\"Wor\"\n"
     ]
    }
   ],
   "source": [
    "aq_pp -f,+1 $file -d s:val_str -eval 's:subStr' 'SubStr(val_str, 0, -2)' -c  val_str SubStr"
   ]
  },
  {
   "cell_type": "markdown",
   "metadata": {},
   "source": [
    "This works exactly as the reverse ending indexing, such that we've extracted substring that ends before the 2nd character from right side of the original string.\n",
    "\n",
    "**ANA EXAMPLE BELOW IF CAN**"
   ]
  },
  {
   "cell_type": "code",
   "execution_count": null,
   "metadata": {},
   "outputs": [],
   "source": [
    "# ANA EXAMPLE"
   ]
  },
  {
   "cell_type": "markdown",
   "metadata": {},
   "source": [
    "**`ClipStr(Val, ClipSpec)`**:Returns a substring of a string, based on `clipSpec`.\n",
    "\n",
    "* `Val` can be a string column’s name, a string constant, or an expression that evaluates to a string.\n",
    "\n",
    "* `ClipSpec` is a string constant that specifies how to clip the substring from the source. It is a sequence of individual clip elements separated by “;”:\n",
    "\n",
    "**ONLY EXPLAIN SOME OF THEM (IMPORTANT ONES) AND REFER TO THE DOCUMENTATION FOR THE REST**\n",
    "\n",
    "Each clip elements exacts either the starting or trailing portion of the source. The first element clips the input Val, the second element clips the result from the first, and so on. The components in a clip element are:\n",
    "\n",
    "    ! - The negation operator inverts the result of the clip. In other words, if the original clipped result is the starting portion of the source, negating that gives the tailing portion.\n",
    "    Num - The number of bytes or separators (see Sep below) to clip.\n",
    "    - (a dash) - Do not include the last separator (see Sep below) in the result.\n",
    "    Dir - The clip direction. Specify a “>” to clip from the beginning to the end. Specify a “<” to clip backward from the end to the beginning.\n",
    "    Sep - Optional single byte clip separator. If given, a substring containing up to (and including, unless a “-” is given) Num separators will be clipped in the Dir direction. If no separator is given, Num bytes will be clipped in the the same way.\n",
    "\n",
    "Do not put a “;” at the end of ClipSpec. The reason is that it could be misinterpreted as the Sep for the last clip element.\n",
    "\n",
    "\n",
    "We'll use a list of web URLs as an example here, to demonstrate how `ClipSpec` would be useful.It is a single column list with web URL string.\n",
    "\n",
    "First, let's say you'd like to extract the first 5 characters of the URL. We can specify `ClipSpec` as ..."
   ]
  },
  {
   "cell_type": "code",
   "execution_count": 58,
   "metadata": {},
   "outputs": [
    {
     "name": "stdout",
     "output_type": "stream",
     "text": [
      "\"val_str\",\"subStr\"\n",
      "\"http://auriq.com/documentation/source/reference/manpages/aq-emod.html\",\"http:\"\n",
      "\"https://auriq.com/boosting-trading-models-with-sagemaker-and-essentia/\",\"https\"\n"
     ]
    }
   ],
   "source": [
    "urls=\"data/aq_pp/clipstr.csv\"\n",
    "aq_pp -f,+1 $urls -d s:val_str -eval 's:subStr' 'ClipStr(val_str, \"5>\")' -c  val_str SubStr"
   ]
  },
  {
   "cell_type": "code",
   "execution_count": 63,
   "metadata": {},
   "outputs": [
    {
     "name": "stdout",
     "output_type": "stream",
     "text": [
      "\"val_str\",\"subStr\"\n",
      "\"http://auriq.com/documentation/source/reference/manpages/aq-emod.html\",\"http://auriq.com/\"\n",
      "\"https://auriq.com/boosting-trading-models-with-sagemaker-and-essentia/\",\"https://auriq.com/\"\n"
     ]
    }
   ],
   "source": [
    "aq_pp -f,+1 $urls -d s:val_str -eval 's:subStr' 'ClipStr(val_str, \"3>/\")' -c  val_str SubStr"
   ]
  },
  {
   "cell_type": "code",
   "execution_count": 64,
   "metadata": {},
   "outputs": [
    {
     "name": "stdout",
     "output_type": "stream",
     "text": [
      "\"val_str\",\"subStr\"\n",
      "\"http://auriq.com/documentation/source/reference/manpages/aq-emod.html\",\"/aq-emod.html\"\n",
      "\"https://auriq.com/boosting-trading-models-with-sagemaker-and-essentia\",\"/boosting-trading-models-with-sagemaker-and-essentia\"\n"
     ]
    }
   ],
   "source": [
    "aq_pp -f,+1 $urls -d s:val_str -eval 's:subStr' 'ClipStr(val_str, \"1</\")' -c  val_str SubStr"
   ]
  },
  {
   "cell_type": "code",
   "execution_count": null,
   "metadata": {},
   "outputs": [],
   "source": []
  },
  {
   "cell_type": "code",
   "execution_count": null,
   "metadata": {},
   "outputs": [],
   "source": []
  },
  {
   "cell_type": "code",
   "execution_count": null,
   "metadata": {},
   "outputs": [],
   "source": []
  },
  {
   "cell_type": "markdown",
   "metadata": {},
   "source": [
    "<a id='conversion'></a>\n",
    "### General Data Conversion Functions\n",
    "\n",
    "<a id='date_time'></a>\n",
    "### Date/Time conversion Functions\n",
    "\n",
    "<a id='character_encoding'></a>\n",
    "### Character set encoding conversion Functions\n",
    "\n",
    "\n",
    "\n",
    "\n",
    "\n",
    "## multiple -eval options\n"
   ]
  },
  {
   "cell_type": "code",
   "execution_count": null,
   "metadata": {},
   "outputs": [],
   "source": []
  },
  {
   "cell_type": "code",
   "execution_count": null,
   "metadata": {},
   "outputs": [],
   "source": []
  }
 ],
 "metadata": {
  "kernelspec": {
   "display_name": "Bash",
   "language": "bash",
   "name": "bash"
  },
  "language_info": {
   "codemirror_mode": "shell",
   "file_extension": ".sh",
   "mimetype": "text/x-sh",
   "name": "bash"
  }
 },
 "nbformat": 4,
 "nbformat_minor": 2
}
