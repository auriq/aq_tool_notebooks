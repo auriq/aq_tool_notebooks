{
 "cells": [
  {
   "cell_type": "markdown",
   "metadata": {},
   "source": [
    "# aq_cnt tips and samples\n",
    "\n",
    "This notebook goes over aq_cnt's options and it's sample usages. \n",
    "Based on AQ Tools version: 2.0.1-1.\n",
    "This command comes in handy when you'd like to count numbers of unique keys present in column(s), or gain insight about statistics of column(s).\n",
    "\n",
    "### Prerequisites\n",
    "Readers are assumed to be equipped with decent knowledge of\n",
    "- bash commands\n",
    "- aq_pp command\n",
    "- input, column and output spec for aq_tools\n",
    "\n",
    "\n",
    "We'll be going over each options in the `aq_cnt` command and it's use cases. Have the [aq_cnt documentation](http://auriq.com/documentation/source/reference/manpages/aq_cnt.html?highlight=aq_cnt) ready on the side, so you can refer to it whenever needed.\n",
    "We'll start with basic usage of each options, then dive into advanced usage.\n",
    "\n",
    "\n",
    "\n",
    "\n",
    "\n",
    "**Note**\n",
    "- **Key:** in `aq_cnt`, key means each unique value present in arbitrary column. It can be a composite key, where it is a unique combination of values from several columns. \n",
    "\n",
    "* Throughout the tutorial, we'll be using bash variable to represent fileName and column spec to avoid repetition and lengthy commands.\n",
    "They are assigned on cell below."
   ]
  },
  {
   "cell_type": "code",
   "execution_count": 1,
   "metadata": {},
   "outputs": [],
   "source": [
    "# setting filename and column spec, and brief look at the dataset\n",
    "file=\"data/sample_reviews.tsv\"\n",
    "allColSpec=$(loginf -f,auto $file -o_pp_col -) \n",
    "colSpec=\"S:marketplace X S:review_id S:product_id X X S:product_category F:star_rating X X X X X X X\"\n",
    "#aq_pp -f,+1,tsv $file -d $colSpec -filt '$rowNum < 11'"
   ]
  },
  {
   "cell_type": "markdown",
   "metadata": {},
   "source": [
    "\n",
    "## Data\n",
    "Will be using [amazon customer review dataset](https://s3.amazonaws.com/amazon-reviews-pds/readme.html) dataset.\n",
    "This dataset was collected over few decades since 1995 and 2015, and contains over 130+ million customer reviews.\n",
    "\n",
    "We'll be using files from multilinugal dataset, from several marketplace internationally to have variety in data.\n",
    "\n",
    "Because of the large scale of this dataset, modified version of it is used in this sample for clarification purpose.\n",
    "Below is the first 10 rows of the data we'll be using.\n",
    "\n",
    "marketplace|review_id|product_id|product_category|star_rating\n",
    "---|---|---|---|---|\n",
    "US|R31B5MWO3O7O6|B007IXWKUK|Digital_Ebook_Purchase|2\n",
    "US|RZ891DUCUNPMD|B00BVMXBVG|Video DVD|5\n",
    "UK|R2D1VN26VB52J0|B005DOL0R0|PC|4\n",
    "US|R3RKWQN433BXL4|B007SSEZNA|Digital_Video_Download|4\n",
    "DE|RXW35JFHT3MU2|B005KPLN5Q|Video DVD|5\n",
    "US|RBPHJIGASHA68|0525946284|Books|5\n",
    "US|R1GD0IA9TYWTFF|145162607X|Books|5\n",
    "UK|R142V52WZDX8GR|B00005421R|Video DVD|5\n",
    "US|R119R14XEIOATS|0736092269|Books|5\n",
    "UK|R2V6F0Z5LE75S1|B00538VY5Y|Video DVD|4\n",
    "\n",
    "### Columns\n",
    "\n",
    "- **marketplace (string):** abbrebiation for country that amazon marketplace is located at.\n",
    "- **review_id (string):** unique review id\n",
    "- **product_id (string):** unique product id\n",
    "- **product_category (string):** category for the products\n",
    "- **star_rating (int):** rating for the each product\n",
    "\n",
    "## Table of Samples\n",
    "- [`k`](#k)\n",
    "- [`kx`](#kx)\n",
    "- [`kX`](#kX)\n",
    "- [`-g`](#g)\n",
    "\n",
    "<a id='k'></a>\n",
    "### -k\n",
    "`-k KeyName ColName [ColName ...]`\n",
    "This option counts numbers of unique values present in given column(s). \n",
    "`KeyName` specifies the name of the key (or combination of keys, if multiple columns are given).\n",
    "You can pass multiple columns to count composite key.\n",
    "\n",
    "**Single Column**<br>\n",
    "We can use this to count how many unique products are present in the review.\n",
    "`product_id` column is a unique identifier for each product. \n",
    "Setting keyName as `num_products`, and giving `product_id` to colName option like below..."
   ]
  },
  {
   "cell_type": "code",
   "execution_count": 3,
   "metadata": {},
   "outputs": [
    {
     "name": "stdout",
     "output_type": "stream",
     "text": [
      "\"row\",\"num_product\"\n",
      "2181,879\n"
     ]
    }
   ],
   "source": [
    "aq_cnt -f,+1,tsv,eok $file -d $colSpec -k num_product product_id"
   ]
  },
  {
   "cell_type": "markdown",
   "metadata": {},
   "source": [
    "\n",
    "\n",
    "- `row` is the numbers of total rows processed by the command (in this case the entire dataset)\n",
    "- `num_products`: number of unique values in `product_id` column.\n",
    "\n",
    "**Multiple columns**\n",
    "Let's observe what happens when we provide the `-k` option with multiple columns. This time we'll use a data (`data/multiple_k.txt`) that looks like a table below, which contains marketplace abbreviation and fake product id number.\n",
    "\n",
    "|marketplace|product_id|\n",
    "|---|---|\n",
    "|US|1|\n",
    "|US|2|\n",
    "|US|3|\n",
    "|JP|1|\n",
    "|JP|2|\n",
    "|JP|3|\n",
    "|FR|1|\n",
    "|FR|2|\n",
    "|FR|3|\n",
    "\n",
    "Now unique numbers of `product_id` in the above case would be 3.\n",
    "However numbers of uniue combinations of `product_id` and `marketplace` would be 9. Let's check it."
   ]
  },
  {
   "cell_type": "code",
   "execution_count": 3,
   "metadata": {},
   "outputs": [
    {
     "name": "stdout",
     "output_type": "stream",
     "text": [
      "\"row\",\"num_product\"\n",
      "9,9\n"
     ]
    }
   ],
   "source": [
    "aq_cnt -f,+1 data/multiple_k.txt -d s:marketplace i:product_id -k num_product marketplace product_id"
   ]
  },
  {
   "cell_type": "markdown",
   "metadata": {},
   "source": [
    "You can also provide more than 2 columns. This will come in handy when counting numbers of records based on composite key(such as combinations of Last name, first name, phone numbers etc).\n",
    "\n",
    "<a id='kx'></a>\n",
    "## -kx\n",
    "\n",
    "`-kx[,AtrLst] File KeyName ColName [ColName ...]` <br>\n",
    "While `-k` option counts and displays the numbers of unique values in given column(s), this option displays the actual unique data in the given columns(s). \n",
    "\n",
    "**Be wary of syntactic difference**<br>\n",
    "This options requires the output file name as the first argument.\n",
    "In this sample we'll be using `-` which outputs on stdout. \n",
    "    \n",
    "**Single Column**<br>\n",
    "As a example, we'll display the all marketplace names contained in `marketplace` column on amazon review dataset.\n"
   ]
  },
  {
   "cell_type": "code",
   "execution_count": 4,
   "metadata": {},
   "outputs": [
    {
     "name": "stdout",
     "output_type": "stream",
     "text": [
      "\"marketplace\"\n",
      "\"FR\"\n",
      "\"JP\"\n",
      "\"DE\"\n",
      "\"US\"\n",
      "\"UK\"\n"
     ]
    }
   ],
   "source": [
    "aq_cnt -f,+1,tsv,eok $file -d $colSpec -kx - country marketplace"
   ]
  },
  {
   "cell_type": "markdown",
   "metadata": {},
   "source": [
    "Let's take a look at star_rating as well. As we know amazon's star rating ranges from 1~5, so this dataset should also contain all of the numbers.\n"
   ]
  },
  {
   "cell_type": "code",
   "execution_count": 6,
   "metadata": {},
   "outputs": [
    {
     "name": "stdout",
     "output_type": "stream",
     "text": [
      "\"star_rating\"\n",
      "2\n",
      "3\n",
      "1\n",
      "5\n",
      "4\n"
     ]
    }
   ],
   "source": [
    "aq_cnt -f,+1,tsv,eok $file -d $colSpec -kx - country star_rating"
   ]
  },
  {
   "cell_type": "markdown",
   "metadata": {},
   "source": [
    "**Multiple Columns**<br>\n",
    "Providing `marketplace` and `star_rating` columns, we can take a look at star_rating's values in each market place. (More technically, it is listing the unique combination of values from `marketplace` and `star_rating`. \n",
    "\n",
    "In the example below `aq_ord` is used on second line to sort the result for the clearity, don't worry about the command."
   ]
  },
  {
   "cell_type": "code",
   "execution_count": 8,
   "metadata": {},
   "outputs": [
    {
     "name": "stdout",
     "output_type": "stream",
     "text": [
      "\"marketplace\",\"star\"\n",
      "\"DE\",\"1\"\n",
      "\"DE\",\"2\"\n",
      "\"DE\",\"3\"\n",
      "\"DE\",\"4\"\n",
      "\"DE\",\"5\"\n",
      "\"FR\",\"1\"\n",
      "\"FR\",\"2\"\n",
      "\"FR\",\"3\"\n",
      "\"FR\",\"4\"\n",
      "\"FR\",\"5\"\n",
      "\"JP\",\"1\"\n",
      "\"JP\",\"2\"\n",
      "\"JP\",\"3\"\n",
      "\"JP\",\"4\"\n",
      "\"JP\",\"5\"\n",
      "\"UK\",\"1\"\n",
      "\"UK\",\"2\"\n",
      "\"UK\",\"3\"\n",
      "\"UK\",\"4\"\n",
      "\"UK\",\"5\"\n",
      "\"US\",\"1\"\n",
      "\"US\",\"2\"\n",
      "\"US\",\"3\"\n",
      "\"US\",\"4\"\n",
      "\"US\",\"5\"\n"
     ]
    }
   ],
   "source": [
    "aq_cnt -f,+1,tsv,eok $file -d $colSpec -kx - country marketplace star_rating \\\n",
    "| aq_ord -f,+1 - -d s:marketplace s:star -sort marketplace star"
   ]
  },
  {
   "cell_type": "markdown",
   "metadata": {},
   "source": [
    "<a id='kX'></a>\n",
    "## -kX\n",
    "\n",
    "`-kX[,AtrLst] File KeyName ColName [ColName ...] [STATS:ColName [STATS:ColName ...]]`<br>\n",
    "This option has 2 main functionality.\n",
    "1. Given file name, keyname and column names, it outputs every unique values (or combination of values if multiple column was given), and occurence counts of the each value. \n",
    "2. `STATS:colName` option returns comprehensive statistics of given neumeric column, for each key (column value) combinations. Concretely, it provides sum, average, standard deviation, minimum and maximum. \n",
    "\n",
    "Let's take a look at it in action. We'll start with the occurence count.\n",
    "We can explore how many times each marketplace appears in the dataset.\n",
    "We do this by setting `ColName` to `marketplace`. Just like before, we'll set `File` to `-` to display the result on the notebook, instead of outputting it to an external file."
   ]
  },
  {
   "cell_type": "code",
   "execution_count": 9,
   "metadata": {},
   "outputs": [
    {
     "name": "stdout",
     "output_type": "stream",
     "text": [
      "\"marketplace\",\"count\"\n",
      "\"FR\",21\n",
      "\"JP\",30\n",
      "\"DE\",102\n",
      "\"US\",1723\n",
      "\"UK\",305\n"
     ]
    }
   ],
   "source": [
    "aq_cnt -f,+1,tsv $file -d $colSpec -kX - country marketplace"
   ]
  },
  {
   "cell_type": "markdown",
   "metadata": {},
   "source": [
    "As you can see, it displays all the unique values in `marketplace` column, and each value's occurance counts. \n",
    "\n",
    "Next, let's see what we can do with `STATS` option"
   ]
  },
  {
   "cell_type": "code",
   "execution_count": 10,
   "metadata": {},
   "outputs": [
    {
     "name": "stdout",
     "output_type": "stream",
     "text": [
      "\"marketplace\",\"count\",\"star_rating.sum\",\"star_rating.avg\",\"star_rating.stddev\",\"star_rating.min\",\"star_rating.max\"\n",
      "\"FR\",21,84,3.9999999999999991,1.3416407864998738,1,5\n",
      "\"JP\",30,117,3.8999999999999995,1.3222238320605804,1,5\n",
      "\"DE\",102,420,4.1176470588235308,1.3591939781498403,1,5\n",
      "\"US\",1723,7337,4.2582704585025963,1.2226258479092469,1,5\n",
      "\"UK\",305,1274,4.177049180327872,1.2306921248330025,1,5\n"
     ]
    }
   ],
   "source": [
    "aq_cnt -f,+1,tsv $file -d $colSpec -kX - country marketplace STATS:star_rating"
   ]
  },
  {
   "cell_type": "markdown",
   "metadata": {},
   "source": [
    "We gave `star_rating` column to the `STATS` option here.\n",
    "\n",
    "First two columns on the result displays the same information as before, and the rest of columns displays statistical information on `star_rating` column, for each marketplace (columnName or key).\n",
    "\n",
    "This feature is very useful for performing stats analysis by certain groups in a column, such as monthly analysis on numbers of reviews, or star_rating analysis by each product_category.\n",
    "\n",
    "**Multiple Columns**<br>\n",
    "We will provide `product_category` column besides `marketplace`.\n",
    "\n",
    "**1. distribution of each product category within each marketplace.**\n"
   ]
  },
  {
   "cell_type": "code",
   "execution_count": 11,
   "metadata": {},
   "outputs": [
    {
     "name": "stdout",
     "output_type": "stream",
     "text": [
      "\"marketplace\",\"product_category\",\"count\"\n",
      "\"US\",\"Mobile_Apps\",1478\n",
      "\"US\",\"Digital_Music_Purchase\",99\n",
      "\"US\",\"Toys\",73\n",
      "\"US\",\"PC\",48\n",
      "\"US\",\"Musical Instruments\",15\n",
      "\"US\",\"Shoes\",3\n",
      "\"US\",\"Kitchen\",3\n",
      "\"US\",\"Health & Personal Care\",2\n",
      "\"US\",\"Office Products\",2\n",
      "\"UK\",\"Mobile_Apps\",228\n",
      "\"UK\",\"Digital_Music_Purchase\",29\n",
      "\"UK\",\"Toys\",27\n",
      "\"UK\",\"PC\",15\n",
      "\"UK\",\"Office Products\",3\n",
      "\"UK\",\"Musical Instruments\",2\n",
      "\"UK\",\"Shoes\",1\n",
      "\"JP\",\"Mobile_Apps\",12\n",
      "\"JP\",\"Toys\",11\n",
      "\"JP\",\"PC\",5\n",
      "\"JP\",\"Digital_Music_Purchase\",2\n",
      "\"FR\",\"Mobile_Apps\",8\n",
      "\"FR\",\"Toys\",5\n",
      "\"FR\",\"PC\",4\n",
      "\"FR\",\"Digital_Music_Purchase\",3\n",
      "\"FR\",\"Shoes\",1\n",
      "\"DE\",\"Mobile_Apps\",47\n",
      "\"DE\",\"Toys\",24\n",
      "\"DE\",\"Digital_Music_Purchase\",15\n",
      "\"DE\",\"PC\",12\n",
      "\"DE\",\"Shoes\",1\n",
      "\"DE\",\"Health & Personal Care\",1\n",
      "\"DE\",\"Musical Instruments\",1\n",
      "\"DE\",\"Office Products\",1\n"
     ]
    }
   ],
   "source": [
    "aq_cnt -f,+1,tsv $file -d $colSpec -kX - country marketplace product_category \\\n",
    "| aq_ord -f,+1 - -d s:marketplace s:product_category i:count -sort,dec marketplace count"
   ]
  },
  {
   "cell_type": "markdown",
   "metadata": {},
   "source": [
    "**2. statistics for `star_rating` for each keys (in above example)**<br>\n",
    "We can display statistics for each keys (composed of marketplace and product category) on star_rating values.\n",
    "\n",
    "Don't worry about the second and later line, since they're used to sort the result from `aq_cnt`"
   ]
  },
  {
   "cell_type": "code",
   "execution_count": 12,
   "metadata": {},
   "outputs": [
    {
     "name": "stdout",
     "output_type": "stream",
     "text": [
      "\"marketplace\",\"product_category\",\"count\",\"rating_sum\",\"rating_avg\",\"rating_stddev\",\"rating_min\",\"rating_max\"\n",
      "\"US\",\"Mobile_Apps\",1478,6247,4.2266576454668376,1.2492569731437477,1,5\n",
      "\"US\",\"Digital_Music_Purchase\",99,455,4.5959595959595987,0.76823667589330191,2,5\n",
      "\"US\",\"Toys\",73,329,4.5068493150684921,1.0817075964422702,1,5\n",
      "\"US\",\"PC\",48,197,4.1041666666666679,1.3720551960445719,1,5\n",
      "\"US\",\"Musical Instruments\",15,67,4.4666666666666668,0.8338093878327919,3,5\n",
      "\"US\",\"Shoes\",3,12,4,1,3,5\n",
      "\"US\",\"Kitchen\",3,14,4.666666666666667,0.57735026918962573,4,5\n",
      "\"US\",\"Health & Personal Care\",2,6,3,1.4142135623730951,2,4\n",
      "\"US\",\"Office Products\",2,10,5,0,5,5\n",
      "\"UK\",\"Mobile_Apps\",228,916,4.0175438596491233,1.3173358252480474,1,5\n",
      "\"UK\",\"Digital_Music_Purchase\",29,134,4.6206896551724128,0.82000841038580119,1,5\n",
      "\"UK\",\"Toys\",27,128,4.7407407407407405,0.81299979149361468,1,5\n",
      "\"UK\",\"PC\",15,68,4.5333333333333332,0.63994047342218441,3,5\n",
      "\"UK\",\"Office Products\",3,14,4.666666666666667,0.57735026918962584,4,5\n",
      "\"UK\",\"Musical Instruments\",2,10,5,0,5,5\n",
      "\"UK\",\"Shoes\",1,4,4,0,4,4\n",
      "\"JP\",\"Mobile_Apps\",12,38,3.1666666666666665,1.5275252316519465,1,5\n",
      "\"JP\",\"Toys\",11,46,4.1818181818181825,0.98164981721404276,2,5\n",
      "\"JP\",\"PC\",5,23,4.5999999999999996,0.89442719099991608,3,5\n",
      "\"JP\",\"Digital_Music_Purchase\",2,10,5,0,5,5\n",
      "\"FR\",\"Mobile_Apps\",8,32,4,1.4142135623730951,1,5\n",
      "\"FR\",\"Toys\",5,19,3.7999999999999998,1.3038404810405297,2,5\n",
      "\"FR\",\"PC\",4,19,4.75,0.49999999999999994,4,5\n",
      "\"FR\",\"Digital_Music_Purchase\",3,9,3,2,1,5\n",
      "\"FR\",\"Shoes\",1,5,5,0,5,5\n",
      "\"DE\",\"Mobile_Apps\",47,176,3.7446808510638294,1.5246964787955122,1,5\n",
      "\"DE\",\"Toys\",24,102,4.25,1.3909646324388165,1,5\n",
      "\"DE\",\"Digital_Music_Purchase\",15,70,4.666666666666667,0.89973541084243747,2,5\n",
      "\"DE\",\"PC\",12,54,4.5,0.90453403373329089,2,5\n",
      "\"DE\",\"Shoes\",1,5,5,0,5,5\n",
      "\"DE\",\"Health & Personal Care\",1,4,4,0,4,4\n",
      "\"DE\",\"Musical Instruments\",1,5,5,0,5,5\n",
      "\"DE\",\"Office Products\",1,4,4,0,4,4\n"
     ]
    }
   ],
   "source": [
    "aq_cnt -f,+1,tsv $file -d $colSpec -kX - country marketplace product_category STATS:star_rating \\\n",
    "| aq_ord -f,+1 - \\\n",
    "-d s:marketplace s:product_category i:count f:rating_sum f:rating_avg f:rating_stddev f:rating_min f:rating_max \\\n",
    "-sort,dec marketplace count\n"
   ]
  },
  {
   "cell_type": "markdown",
   "metadata": {},
   "source": [
    "This displays each keys' (combination of marketplace and product values) stats for star rating values. "
   ]
  },
  {
   "cell_type": "markdown",
   "metadata": {},
   "source": [
    "<a id='g'></a>\n",
    "## Using Groupby with -g \n",
    "\n",
    "**What is groupby and how does it work?**<br>\n",
    "`-g` allows users to create group in which to count and analyze records.T\n",
    "This requires ascading executiion of `aq_cnt` without `-g`, but with it this can be done in one command.\n",
    "\n",
    "### Counting within group with `-k` option\n",
    "**Single Column**<br>\n",
    "We want to know the numbers of distinct product **within each marketplace?**. \n",
    "We will specify `marketplace` as groupby column here, and count the numbers of distinct `product_id` with `-k` option.\n",
    "\n",
    "**With `-g` option**"
   ]
  },
  {
   "cell_type": "code",
   "execution_count": 15,
   "metadata": {},
   "outputs": [
    {
     "name": "stdout",
     "output_type": "stream",
     "text": [
      "\"marketplace\",\"row\",\"num_product\"\n",
      "\"FR\",21,21\n",
      "\"JP\",30,30\n",
      "\"DE\",102,96\n",
      "\"US\",1723,668\n",
      "\"UK\",305,222\n"
     ]
    }
   ],
   "source": [
    "aq_cnt -f,+1,tsv $file -d $colSpec -g marketplace -k num_product product_id"
   ]
  },
  {
   "cell_type": "markdown",
   "metadata": {},
   "source": [
    "**Without `-g` option**"
   ]
  },
  {
   "cell_type": "code",
   "execution_count": 16,
   "metadata": {},
   "outputs": [
    {
     "name": "stdout",
     "output_type": "stream",
     "text": [
      "\"marketplace\",\"count\"\n",
      "\"US\",668\n",
      "\"FR\",21\n",
      "\"DE\",96\n",
      "\"UK\",222\n",
      "\"JP\",30\n"
     ]
    }
   ],
   "source": [
    "aq_cnt -f,+1,tsv $file -d $colSpec -kx - keyName marketplace product_id | aq_cnt -f,+1 - -d s:marketplace s:product_id -kX - - marketplace"
   ]
  },
  {
   "cell_type": "markdown",
   "metadata": {},
   "source": [
    "**Multiple Columns**\n",
    "\n",
    "Let's create 2 groupby column, `marketplace` and `product_category`. \n",
    "By doing this, we wii count the numbers of distinct products within each product category within marketplace. "
   ]
  },
  {
   "cell_type": "code",
   "execution_count": 17,
   "metadata": {},
   "outputs": [
    {
     "name": "stdout",
     "output_type": "stream",
     "text": [
      "\"marketplace\",\"product_category\",\"num_product\"\n",
      "\"DE\",\"Digital_Music_Purchase\",15\n",
      "\"DE\",\"Health & Personal Care\",1\n",
      "\"DE\",\"Mobile_Apps\",43\n",
      "\"DE\",\"Musical Instruments\",1\n",
      "\"DE\",\"Office Products\",1\n",
      "\"DE\",\"PC\",11\n",
      "\"DE\",\"Shoes\",1\n",
      "\"DE\",\"Toys\",23\n",
      "\"FR\",\"Digital_Music_Purchase\",3\n",
      "\"FR\",\"Mobile_Apps\",8\n",
      "\"FR\",\"PC\",4\n",
      "\"FR\",\"Shoes\",1\n",
      "\"FR\",\"Toys\",5\n",
      "\"JP\",\"Digital_Music_Purchase\",2\n",
      "\"JP\",\"Mobile_Apps\",12\n",
      "\"JP\",\"PC\",5\n",
      "\"JP\",\"Toys\",11\n",
      "\"UK\",\"Digital_Music_Purchase\",29\n",
      "\"UK\",\"Mobile_Apps\",147\n",
      "\"UK\",\"Musical Instruments\",2\n",
      "\"UK\",\"Office Products\",3\n",
      "\"UK\",\"PC\",14\n",
      "\"UK\",\"Shoes\",1\n",
      "\"UK\",\"Toys\",26\n",
      "\"US\",\"Digital_Music_Purchase\",93\n",
      "\"US\",\"Health & Personal Care\",1\n",
      "\"US\",\"Kitchen\",2\n",
      "\"US\",\"Mobile_Apps\",457\n",
      "\"US\",\"Musical Instruments\",10\n",
      "\"US\",\"Office Products\",2\n",
      "\"US\",\"PC\",38\n",
      "\"US\",\"Shoes\",3\n",
      "\"US\",\"Toys\",62\n"
     ]
    }
   ],
   "source": [
    "aq_cnt -f,+1,tsv $file -d $colSpec -g marketplace product_category -k num_product product_id \\\n",
    "| aq_ord -f,+1 - -d s:marketplace s:product_category X i:num_product -sort marketplace product_category"
   ]
  },
  {
   "cell_type": "markdown",
   "metadata": {},
   "source": [
    "Just like that, you'll be able to nest gruops within gruops. \n",
    "\n",
    "## Advanced Analysis with `-g`\n",
    "### Chronological analysis\n",
    "\n",
    "You can also apply `-g` option to group records by specific time period.\n",
    "By specifying time frame (year/month) as groupby column, we can perform analysis by time. \n",
    "\n",
    "For this section, we'll be adding more columns to the data to use, concretely year and month columns. (This was done by `aq_pp` tools's string manipulation. If you're interested, check out our tutorial on [aq_pp -map](aq_pp%20-map)\n",
    "\n",
    "marketplace|review_id|product_id|product_category|star_rating|year|month|review_date\n",
    "---|---|---|---|---|---|---|---|\n",
    "UK|R2D1VN26VB52J0|B005DOL0R0|PC|4|2015|6|2015-06-17\n",
    "US|R227AKNUDMALRT|B006N0YWGY|Mobile_Apps|5|2012|2|2012-02-05\n",
    "US|R3QKWFUMPXK7WF|B009UX2YAC|Mobile_Apps|5|2014|2|2014-02-11\n",
    "US|R36EDJI0TQ59V5|B00B2V66VS|Mobile_Apps|1|2015|3|2015-03-24\n",
    "US|R2MCQNEALKQ1Y6|B0054JZC6E|Mobile_Apps|5|2012|4|2012-04-16\n",
    "UK|RC98JYWAQUZVS|B0094BB4TW|Mobile_Apps|3|2014|10|2014-10-19\n",
    "US|R1CYPW3LETPTCN|B0091REZMW|Mobile_Apps|5|2013|11|2013-11-03\n",
    "US|R2IQ07J1AEPRKF|B004SJ3BCI|Mobile_Apps|5|2011|11|2011-11-29\n",
    "US|RCW5PBZOAGACG|B00BJA2VFW|Mobile_Apps|1|2014|12|2014-12-20\n",
    "US|R19ZSKFTU408PA|B00IKZX1ZI|Mobile_Apps|5|2014|4|2014-04-02"
   ]
  },
  {
   "cell_type": "code",
   "execution_count": 10,
   "metadata": {},
   "outputs": [],
   "source": [
    "# set up variables\n",
    "colSpec=\"S:marketplace S:review_id S:product_id S:product_category\n",
    "            I:star_rating I:year I:month S:review_date\"\n",
    "file=\"data/chronological_reviews.tsv\""
   ]
  },
  {
   "cell_type": "markdown",
   "metadata": {},
   "source": [
    "**Chage in total numbers of review over the years**<br>\n",
    "\n",
    "We do this by setting `year` column as groupby, and passing `review_id` to `-k` option (counts the number of distinct reviewIDs)."
   ]
  },
  {
   "cell_type": "code",
   "execution_count": 19,
   "metadata": {},
   "outputs": [
    {
     "name": "stdout",
     "output_type": "stream",
     "text": [
      "\"year\",\"rate_by_year\"\n",
      "2006,1\n",
      "2007,2\n",
      "2008,4\n",
      "2009,3\n",
      "2010,6\n",
      "2011,44\n",
      "2012,242\n",
      "2013,569\n",
      "2014,770\n",
      "2015,540\n"
     ]
    }
   ],
   "source": [
    "aq_cnt -f,+1,tsv $file -d $colSpec -g year -k rate_by_year review_id \\\n",
    "| aq_ord -f,+1 - -d i:year X i:rate_by_year -sort year # just sorting the results by year"
   ]
  },
  {
   "cell_type": "markdown",
   "metadata": {},
   "source": [
    "### Numbers of monthly reviews within each year\n",
    "\n",
    "Let's take a look at numbers of reviews in each month, within each year. We do this by providing two columns to `-g` option. "
   ]
  },
  {
   "cell_type": "code",
   "execution_count": 11,
   "metadata": {},
   "outputs": [
    {
     "name": "stdout",
     "output_type": "stream",
     "text": [
      "\"year\",\"month\",\"row\",\"key\"\n",
      "2006,11,1,1\n",
      "2007,7,1,1\n",
      "2007,12,1,1\n",
      "2008,4,1,1\n",
      "2008,5,1,1\n",
      "2008,6,1,1\n",
      "2008,10,1,1\n",
      "2009,8,1,1\n",
      "2009,10,1,1\n",
      "2009,11,1,1\n",
      "2010,5,2,2\n",
      "2010,8,1,1\n",
      "2010,10,2,2\n",
      "2010,12,1,1\n",
      "2011,1,3,3\n",
      "2011,2,2,2\n",
      "2011,3,3,3\n",
      "2011,4,3,3\n",
      "2011,5,2,2\n",
      "2011,6,2,2\n",
      "2011,7,3,3\n",
      "2011,8,6,6\n",
      "2011,9,2,2\n",
      "2011,10,7,7\n",
      "2011,11,4,4\n",
      "2011,12,7,7\n",
      "2012,1,23,23\n",
      "2012,2,19,19\n",
      "2012,3,15,15\n",
      "2012,4,22,22\n",
      "2012,5,17,17\n",
      "2012,6,10,10\n",
      "2012,7,12,12\n",
      "2012,8,22,22\n",
      "2012,9,22,22\n",
      "2012,10,14,14\n",
      "2012,11,21,21\n",
      "2012,12,45,45\n",
      "2013,1,53,53\n",
      "2013,2,51,51\n",
      "2013,3,48,48\n",
      "2013,4,48,48\n",
      "2013,5,30,30\n",
      "2013,6,49,49\n",
      "2013,7,53,53\n",
      "2013,8,58,58\n",
      "2013,9,37,37\n",
      "2013,10,42,42\n",
      "2013,11,44,44\n",
      "2013,12,56,56\n",
      "2014,1,74,74\n",
      "2014,2,60,60\n",
      "2014,3,62,62\n",
      "2014,4,53,53\n",
      "2014,5,40,40\n",
      "2014,6,57,57\n",
      "2014,7,68,68\n",
      "2014,8,47,47\n",
      "2014,9,71,71\n",
      "2014,10,71,71\n",
      "2014,11,76,76\n",
      "2014,12,91,91\n",
      "2015,1,84,84\n",
      "2015,2,70,70\n",
      "2015,3,84,84\n",
      "2015,4,57,57\n",
      "2015,5,64,64\n",
      "2015,6,61,61\n",
      "2015,7,65,65\n",
      "2015,8,55,55\n"
     ]
    }
   ],
   "source": [
    "aq_cnt -f,+1,tsv $file -d $colSpec -g year month -k key review_id \\\n",
    "| aq_ord -f,+1 - -d i:year i:month i:row i:key -sort year month # just sorting"
   ]
  },
  {
   "cell_type": "markdown",
   "metadata": {},
   "source": [
    "\n",
    "\n",
    "### Annual rating statistics by month\n",
    "Now we have a basic ideas of annual numbers of rating, let's take a look at statistics of each year. \n",
    "We will get sum, average, standard deviation, minimum and maximum numbers of reviews within each year, in terms of month.\n",
    "\n",
    "1. On the first line, we'll get review counts within each month in each year. This looks exactly like the result from above.\n",
    "2. On the second line, we'll use `-kX` and `stats` option with review_count, to get review count statistics. We'll be providing `year` column, since we want annually stats. \n",
    "\n"
   ]
  },
  {
   "cell_type": "code",
   "execution_count": 12,
   "metadata": {},
   "outputs": [
    {
     "name": "stdout",
     "output_type": "stream",
     "text": [
      "\"year\",\"count\",\"review_count.sum\",\"review_count.avg\",\"review_count.stddev\",\"review_count.min\",\"review_count.max\"\n",
      "2013,12,569,47.416666666666679,8.0730565725902395,30,58\n",
      "2015,8,540,67.5,11.199489784296933,55,84\n",
      "2014,12,770,64.166666666666671,13.953385599809451,40,91\n",
      "2012,12,242,20.166666666666664,8.9527378578575139,10,45\n",
      "2006,1,1,1,0,1,1\n",
      "2008,4,4,1,0,1,1\n",
      "2010,4,6,1.5,0.57735026918962584,1,2\n",
      "2011,12,44,3.6666666666666665,1.9227505550564008,2,7\n",
      "2009,3,3,1,0,1,1\n",
      "2007,2,2,1,0,1,1\n"
     ]
    }
   ],
   "source": [
    "aq_cnt -f,+1,tsv $file -d $colSpec -g year month -k review_count review_id \\\n",
    "| aq_cnt -f,+1 - -d i:year i:month i:row i:review_count -kX - key year stats:review_count"
   ]
  },
  {
   "cell_type": "markdown",
   "metadata": {},
   "source": [
    "### Annual Rating Statistics by Days\n",
    "\n",
    "Here, we'll take a look at annual review count's statistics as well, but by days. \n",
    "\n",
    "This process is very similar to the one we did above, except we're provoding year and review_date columns to `-g` option on the first pass of `aq_cnt`, in order to get daily review counts.\n",
    "\n",
    "1. The first pass will get us daily review count, associated with year column\n",
    "2. Then we'll use that to get yearly statistics of review_count. "
   ]
  },
  {
   "cell_type": "code",
   "execution_count": 25,
   "metadata": {},
   "outputs": [
    {
     "name": "stdout",
     "output_type": "stream",
     "text": [
      "\"year\",\"count\",\"review_count.sum\",\"review_count.avg\",\"review_count.stddev\",\"review_count.min\",\"review_count.max\"\n",
      "2006,1,1,1,0,1,1\n",
      "2008,4,4,1,0,1,1\n",
      "2009,3,3,1,0,1,1\n",
      "2007,2,2,1,0,1,1\n",
      "2011,40,44,1.0999999999999999,0.37893237337253671,1,3\n",
      "2012,173,242,1.3988439306358373,0.72127055525151751,1,4\n",
      "2013,284,569,2.003521126760563,1.1663668317148435,1,6\n",
      "2014,306,770,2.5163398692810444,1.398381149117975,1,7\n",
      "2015,214,540,2.5233644859813085,1.5281139646837443,1,8\n",
      "2010,6,6,1,0,1,1\n"
     ]
    }
   ],
   "source": [
    "aq_cnt -f,+1,tsv $file -d $colSpec -g year review_date -k review_count review_id \\\n",
    "| aq_cnt -f,+1 - -d i:year s:review_date X i:review_count -kX - key year stats:review_count"
   ]
  },
  {
   "cell_type": "markdown",
   "metadata": {},
   "source": [
    "That concludes the example lists for `aq_cnt` command, we've covered basic usage including single and multi columns keys for `-k`, `-kx` and -`kX` options, as well as advanced grouping options with `-g`.\n"
   ]
  }
 ],
 "metadata": {
  "kernelspec": {
   "display_name": "Bash",
   "language": "bash",
   "name": "bash"
  },
  "language_info": {
   "codemirror_mode": "shell",
   "file_extension": ".sh",
   "mimetype": "text/x-sh",
   "name": "bash"
  }
 },
 "nbformat": 4,
 "nbformat_minor": 2
}
