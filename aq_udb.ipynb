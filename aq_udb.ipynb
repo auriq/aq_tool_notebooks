{
 "cells": [
  {
   "cell_type": "markdown",
   "metadata": {},
   "source": [
    "# aq_udb\n",
    "\n",
    "## Overview\n",
    "This command let users interact with UDB (User Database). It is distributed, hash-based, in memory database. \n",
    "It is designed to process vast amount of data in a computing cluster, where each node is responsible for unique set of primary keys in the database. \n",
    "\n",
    "This allows users to perform much more complex analysis and queries than `aq_pp` command could alone, on larger datasets.\n",
    "\n",
    "`aq_udb` is used to perform data cleaning and transforming with UDB once the database is created. \n",
    "\n",
    "### Components of UDB\n",
    "* Database: User database, that contains one or more of the following components\n",
    "* Table: similar to TABLE in MySQL, with schema that is a variant of column spec\n",
    "* Vector: ??\n",
    "* Variable: ??\n",
    "\n",
    "### Commands to be used\n",
    "* `ess create`\n",
    "* `aq_udb`\n",
    "\n",
    "\n",
    "\n",
    "\n",
    "Below is the general steps of utilizing udb.\n",
    "1. create database, table, vector, and/or variable with arbitrary schema.\n",
    "2. fill up tables with data. \n",
    "\n"
   ]
  },
  {
   "cell_type": "code",
   "execution_count": null,
   "metadata": {},
   "outputs": [],
   "source": []
  },
  {
   "cell_type": "code",
   "execution_count": null,
   "metadata": {},
   "outputs": [],
   "source": []
  },
  {
   "cell_type": "code",
   "execution_count": null,
   "metadata": {},
   "outputs": [],
   "source": []
  },
  {
   "cell_type": "code",
   "execution_count": null,
   "metadata": {},
   "outputs": [],
   "source": []
  },
  {
   "cell_type": "code",
   "execution_count": null,
   "metadata": {},
   "outputs": [],
   "source": []
  },
  {
   "cell_type": "code",
   "execution_count": null,
   "metadata": {},
   "outputs": [],
   "source": []
  },
  {
   "cell_type": "code",
   "execution_count": null,
   "metadata": {},
   "outputs": [],
   "source": []
  },
  {
   "cell_type": "code",
   "execution_count": null,
   "metadata": {},
   "outputs": [],
   "source": []
  },
  {
   "cell_type": "code",
   "execution_count": null,
   "metadata": {},
   "outputs": [],
   "source": []
  },
  {
   "cell_type": "code",
   "execution_count": null,
   "metadata": {},
   "outputs": [],
   "source": []
  },
  {
   "cell_type": "code",
   "execution_count": null,
   "metadata": {},
   "outputs": [],
   "source": []
  },
  {
   "cell_type": "code",
   "execution_count": null,
   "metadata": {},
   "outputs": [],
   "source": []
  },
  {
   "cell_type": "code",
   "execution_count": null,
   "metadata": {},
   "outputs": [],
   "source": []
  },
  {
   "cell_type": "code",
   "execution_count": null,
   "metadata": {},
   "outputs": [],
   "source": []
  }
 ],
 "metadata": {
  "kernelspec": {
   "display_name": "Bash",
   "language": "bash",
   "name": "bash"
  },
  "language_info": {
   "codemirror_mode": "shell",
   "file_extension": ".sh",
   "mimetype": "text/x-sh",
   "name": "bash"
  }
 },
 "nbformat": 4,
 "nbformat_minor": 2
}
