{
 "cells": [
  {
   "cell_type": "markdown",
   "metadata": {},
   "source": [
    "# aq_udb\n",
    "\n",
    "## Overview\n",
    "This command let users interact with UDB (User Database). It is distributed, hash-based, in memory database. \n",
    "It is designed to process vast amount of data in a computing cluster, where each node is responsible for unique set of primary keys in the database. \n",
    "\n",
    "This allows users to perform much more complex analysis and queries than `aq_pp` command could alone, on larger datasets.\n",
    "\n",
    "`aq_udb` is used to perform data cleaning and transforming with UDB once the database is created. \n",
    "\n",
    "### Components of UDB\n",
    "* Database: User database, that contains one or more of the following components\n",
    "* Table: similar to TABLE in MySQL, with schema that is a variant of column spec\n",
    "* Vector: ??\n",
    "* Variable: ??\n",
    "\n",
    "## Data and Database setup\n",
    "\n",
    "We'll be using [amazon customer review dataset](https://s3.amazonaws.com/amazon-reviews-pds/readme.html)'s international market's data, namely Japan and UK's reviews.\n",
    "\n",
    "**Database**<br>\n",
    "Followings are some important info about the database we'll create.\n",
    "* Database: `amazon`\n",
    "* Table: `reviews`\n",
    "* Primary key (column): `customer_ID`\n",
    "\n",
    "## Contents\n",
    "In this notebook, first we'll go though the general steps of managing database, then go over the actual examples of data processing using udb.\n",
    "\n",
    "### Manage UDB\n",
    "\n",
    "#### [Preparing Database](#prep_db)\n",
    "\n",
    "\n",
    "#### [Checking Database State](#check_db)\n",
    "\n",
    "#### [Clean Up Database](#clean_db)\n",
    "\n",
    "\n",
    "### [aq_udb](#aq_udb_option)<br>\n",
    "* [`-exp`](#exp) - export data \n",
    "* [`-sort`](#sort) - sort output data\n",
    "* [`-ord`](#ord) - sort keys in DB, or records in table internally\n",
    "* [`-shf`](#shf) - shuffle keys or records in DB internally\n",
    "* [`-cnt`](#cnt) - count unique primary keys in DB\n",
    "* [`-eval`](#eval) - same as `aq_pp`'s option\n",
    "* [`-filt`](#filt) - same as `aq_pp`'s option\n",
    "* [`-var`](#var) - assign value to predefined variable\n",
    "* [`-del_row`](#del_row) - delete a row in DB\n",
    "* [`-lim_key Num`](#lim_key) - output `Num` of keys only\n",
    "* [`-lim_rec Num`](#lim_rec) - output `Num` of records\n",
    "* [`-key_rec Num`](#key_rec) - output `Num` of records per unique key\n",
    "* [`-top [Start:]Num`](#top) - limit the output result to `Num` of records from top of the DB\n",
    "* [`-last [Start:]Num`](#last) - same as above, but from buttom of the dB \n",
    "\n",
    "\n",
    "\n",
    "\n",
    "Below is the general steps of utilizing udb.\n",
    "1. create database, table, vector, and/or variable with arbitrary schema.\n",
    "2. fill up tables with data. \n"
   ]
  },
  {
   "cell_type": "markdown",
   "metadata": {},
   "source": [
    "<a id='prep_db'></a>\n",
    "### Preparing Database\n",
    "In this section we'll cover steps to prepare udb for use, for the first time.\n",
    "This includes steps below\n",
    "* selecting datastore and creating data category\n",
    "* taking a look at data, and getting column spec\n",
    "* creating database schema\n",
    "* starting database server\n",
    "\n",
    "Let's start with preparing the data we'll use.\n",
    "\n",
    "**Prepare Data**"
   ]
  },
  {
   "cell_type": "code",
   "execution_count": 1,
   "metadata": {},
   "outputs": [
    {
     "name": "stdout",
     "output_type": "stream",
     "text": [
      " 230M Nov 12 23:31    /tsv/amazon_reviews_multilingual_DE_v1_00.tsv.gz\n",
      "  67M Nov 12 23:31    /tsv/amazon_reviews_multilingual_FR_v1_00.tsv.gz\n",
      "  90M Nov 12 23:31    /tsv/amazon_reviews_multilingual_JP_v1_00.tsv.gz\n",
      " 333M Nov 12 23:31    /tsv/amazon_reviews_multilingual_UK_v1_00.tsv.gz\n",
      " 1.4G Nov 12 23:31    /tsv/amazon_reviews_multilingual_US_v1_00.tsv.gz\n",
      " 618M Nov 12 23:31    /tsv/amazon_reviews_us_Apparel_v1_00.tsv.gz\n",
      " 555M Nov 12 23:31    /tsv/amazon_reviews_us_Automotive_v1_00.tsv.gz\n",
      " 340M Nov 12 23:31    /tsv/amazon_reviews_us_Baby_v1_00.tsv.gz\n",
      " 871M Nov 12 23:31    /tsv/amazon_reviews_us_Beauty_v1_00.tsv.gz\n",
      " 2.6G Nov 12 23:31    /tsv/amazon_reviews_us_Books_v1_00.tsv.gz\n",
      "2019-11-15 00:32:42 ip-10-10-1-118 ess[3842]: !!!Warning!!! Category amazon already defined. Ignoring command.\n",
      "Name:        amazon\n",
      "Pattern:     tsv/amazon_reviews_multilingual_JP_v1_00.tsv.gz /tsv/amazon_reviews_multilingual_UK_v1_00.tsv.gz\n",
      "Exclude:     None\n",
      "Date Format: auto\n",
      "Date Regex:  \n",
      "Archive:     \n",
      "Delimiter:   Tab\n",
      "# of files:  2\n",
      "Total size:  423.5MB\n",
      "File range:  1970-01-01 - 1970-01-01\n"
     ]
    }
   ],
   "source": [
    "# select datastore, which is s3 bucket\n",
    "ess select essentia-playground\n",
    "\n",
    "# display the directory structures and files stored\n",
    "ess ls /tsv/ | head -n 10\n",
    "\n",
    "# create data category\n",
    "ess category add amazon \\\n",
    " '/tsv/amazon_reviews_multilingual_UK_v1_00.tsv.gz /tsv/amazon_reviews_multilingual_JP_v1_00.tsv.gz'\n",
    " \n",
    "# get info about the category\n",
    "ess summary amazon | head -n 10"
   ]
  },
  {
   "cell_type": "markdown",
   "metadata": {},
   "source": [
    "Now we have some information that we need about the data in order to define database schema. We have column spec. \n",
    "Let's go ahead and create database and table now.\n",
    "<a id='db_creation'></a>\n",
    "**Database Creation**<br>\n",
    "We'll create \n",
    "* database named `amazon` \n",
    "* table `reviews` with \n",
    "    * schema - column spec of the data from the data category.\n",
    "    > When creating schema, we need to specify primary key column, much like SQL database. Here is the schema.\n",
    "    `S:marketplace I,pkey:customer_id S:review_id S:product_id I:product_parent S:product_title S:product_category I:star_rating I:helpful_votes I:total_votes S:vine S:verified_purchase S:review_headline S:review_body S:review_date`\n",
    "    * Note the `I,pkey:customer_id`, `pkey` specify that this column is the primary key of the table.\n",
    "    \n",
    "We can use  `ess create {}` where you can specify entity to create and pass in name of the entity.\n",
    "\n",
    "After that, we'll start database server."
   ]
  },
  {
   "cell_type": "code",
   "execution_count": 48,
   "metadata": {},
   "outputs": [
    {
     "name": "stdout",
     "output_type": "stream",
     "text": [
      "ip-10-10-1-118: Starting udbd-10010.\n",
      "ip-10-10-1-118: udbd-10010 (5644) started.\n"
     ]
    }
   ],
   "source": [
    "# delete database, schema and data if already exist\n",
    "ess server reset \n",
    "# creating database named amazon\n",
    "ess create database amazon\n",
    "# creating table named reviews, with the schema\n",
    "ess create table reviews S:marketplace I,pkey:customer_id S:review_id S:product_id I:product_parent S:product_title S:product_category I:star_rating I:helpful_votes I:total_votes S:vine S:verified_purchase S:review_headline S:review_body S:review_date\n",
    "# start the db server\n",
    "ess udbd start"
   ]
  },
  {
   "cell_type": "markdown",
   "metadata": {},
   "source": [
    "<a id='db_population'></a>\n",
    "**Populate it with Data**<br>\n",
    "\n",
    "Now we'll fill up the database with the review dataset, using essentia's stream and `aq_pp` command. Note that **`-imp` option is used to direct the output into the database**."
   ]
  },
  {
   "cell_type": "code",
   "execution_count": 49,
   "metadata": {},
   "outputs": [
    {
     "name": "stdout",
     "output_type": "stream",
     "text": [
      "2019-11-15 01:49:08 ip-10-10-1-118 ess[5666]: !!!Warning!!! Multiple warnings.  See task.log for more details\n"
     ]
    }
   ],
   "source": [
    "ess stream amazon \"*\" \"*\" 'aq_pp -f,+1,tsv,eok - -d %cols -imp amazon:reviews'"
   ]
  },
  {
   "cell_type": "markdown",
   "metadata": {},
   "source": [
    "Using `aq_udb` with [`-exp`](#exp) command, we can see that the data is inside of the database. "
   ]
  },
  {
   "cell_type": "code",
   "execution_count": 42,
   "metadata": {},
   "outputs": [
    {
     "name": "stdout",
     "output_type": "stream",
     "text": [
      "\"marketplace\",\"customer_id\",\"review_id\",\"product_id\",\"product_parent\",\"product_title\",\"product_category\",\"star_rating\",\"helpful_votes\",\"total_votes\",\"vine\",\"verified_purchase\",\"review_headline\",\"review_body\",\"review_date\"\n",
      "\"UK\",10349,\"R2YVNBBMXD8KVJ\",\"B00MWK7BWG\",307651059,\"My Favourite Faded Fantasy\",\"Music\",5,0,0,\"N\",\"Y\",\"Five Stars\",\"The best album ever!\",\"2014-12-29\"\n",
      "\"UK\",10629,\"R2K4BOL8MN1TTY\",\"B006CHML4I\",835010224,\"Seiko 5 Men's Automatic Watch with Black Dial Analogue Display and Blue Fabric Strap SNK807K2\",\"Watches\",4,0,0,\"N\",\"Y\",\"Great watch from casio.\",\"What a great watch. Both watches and strap is in a great quality, and the prize is low. Especially compared to the price here in Denmark.\",\"2013-10-24\"\n",
      "\"UK\",12136,\"R3P40IEALROVCH\",\"B00IIFCJX0\",271687675,\"Dexter Season 8\",\"Digital_Video_Download\",5,0,0,\"N\",\"Y\",\"fantastic\",\"love watching all the episodes of Dexter, when i first heard about this series i wasnt too sure about watching it. it took me a very long time to start and now wish i had watched it when it first came out.<br /><br />The fact that he kills and more or less gets away with it, in some episodes you sat on edge of your seat thinking OMG he gonna get caught and then he doesn't, he does try stopping but you know yourself he can't. my favorite episode where the Ice Truck killer, that the ending of that was great how he learns he had a brother, but for his brother to be a baddie and that he had to kill him, i think if he hadn't would it have been different. Oh and The Bay Harbour Butcher, in this it made you think oh no he gonna get caught but he didn't<br /><br />In all ive enjoyed watching them and a shame he had to end.\",\"2014-05-09\"\n",
      "\"UK\",12268,\"R25XL1WWYRDLA9\",\"B000W7JWUA\",211383699,\"The Settlers of Catan Board Game - discontinued by manufacturer\",\"Toys\",5,0,0,\"N\",\"Y\",\"Five Stars\",\"Excellent game!!!\",\"2014-09-19\"\n",
      "\"UK\",12677,\"RVTVB9YDXSFYH\",\"B005JTAP4S\",182965893,\"Peter: A Darkened Fairytale (Vol 1)\",\"Digital_Ebook_Purchase\",5,12,12,\"N\",\"N\",\"A twist on Tales\",\"This cute, quick read is very different to say the least. There was a comfort to it however. Not just in the creatures, but in the story. I felt like I was in a new aged Alice in Wonderland. It was a bit jumpy. I still found it easy to follow, but I had hoped for a bit more. But for a short story, that is the usual only complaint right? At least as far as the ones that I have read goes.<br /><br />\\\"\"The aroma you are enquiring upon is me, and you get used to it after a while,\\\"\" he said, wiping a stale chicken under his armpit. \\\"\" Now that little snippet made me giggle. Moving on...<br /><br />What more can I say? Inventive, tables that are giant turtles, I mean, imagination spilled all over this short story. (Hence my craving for it to be longer.)<br />I say take a chance, and remember... Don't put your feet in the lava! (You'll understand that bit when you read the book.) When you read, you will find 'a place of knowing.'<br />Bravo!\",\"2013-09-18\"\n",
      "\"UK\",13070,\"R1P16QCZR7RHM\",\"B00004WMYB\",530484605,\"The Marshall Mathers LP\",\"Music\",1,1,7,\"N\",\"Y\",\"scratches n a crack\",\"im very disappointed in amazon, theyre startin 2 sell used albums in the new section, i ordered this new and it came with scratches and a crack, track 19 couldnt even play all the way, smh, amazon has got 2 do better\",\"2013-07-30\"\n",
      "\"UK\",15356,\"R3DHVC6SGQS5JU\",\"B00CEF014E\",658330608,\"Solstice\",\"Digital_Ebook_Purchase\",5,0,0,\"N\",\"N\",\"A Gripping Page Turner!\",\"Solstice is a head-spinning thriller. It seriously needs to be read when you're alone with nothing around you to interrupt you because it simply is a heck of a ride.<br />I enjoyed this novel, unable to put it down. The twists, the turns had me turning the pages to the end. It is short but it doesn't disappoint. It's mayhem and gore written superbly and certainly not for those who do not appreciate the dark and intenseful tales. Loved it!!\",\"2013-11-26\"\n",
      "\"UK\",16019,\"R2F2I7T03D42TE\",\"1849839735\",143601567,\"Total Recall\",\"Books\",4,0,0,\"N\",\"Y\",\"Birthday present for an Arnie fan\",\"My son read it and he said it was very good and interesting. givinig an insight in to the start of Arnies career.\",\"2013-12-23\"\n",
      "\"UK\",16563,\"R3G5WIW7NNA1CS\",\"B004OY47JS\",74795975,\"Billy Elliot (1 Disc Collectors Steelbook Edition) [2000] (Region 2) (Import)\",\"Video DVD\",5,0,0,\"N\",\"Y\",\"Nice steelbook case very good soundtrack and most important a very good movie.\",\"Nice steelbook case very good soundtrack and most important a very good movie a very nice item for a steelbook collector.\",\"2013-10-28\"\n",
      "\"UK\",17139,\"R75U5MUIZ9T0D\",\"B009O36EO0\",269758980,\"Heal\",\"Music\",5,3,4,\"N\",\"Y\",\"MAGIC!!!\",\"Euphoria is one of the reason why I bought this album, since the victory @ Eurovision Song Contest 2012. I'm Indonesian, but I watched the show, and love her performance.<br />My Fave Tracks :<br />- In My Head<br />- My Heart Is Refusing Me<br />- Euphoria<br />- Sober<br />- Crying Out Your Name<br />- Breaking The Robot<br />Loreen's music is influenced by enigma, there are so many \\\"\"mysteries\\\"\" in every single track. Electro Pop, Euro,  Harmony Vocals, in \\\"\"Dark\\\"\" Nuance Reminds me the style of MDNA's in Frozen.<br />Trust me, buy this album, and u'll get the real european taste of her.\",\"2012-11-10\"\n",
      "\"UK\",17809,\"R1X8DIPIAIWFK9\",\"B00AESN8XY\",593367180,\"Plague Inc.\",\"Mobile_Apps\",4,0,0,\"N\",\"Y\",\"gd\",\"Good game I spose\",\"2015-03-11\"\n",
      "\"UK\",19670,\"R2LKEH0EVPQ35M\",\"B00DUGCLY4\",144324129,\"Guess The Emoji\",\"Mobile_Apps\",3,0,0,\"N\",\"Y\",\"not sure\",\"It's a good app but not played enough to really rate! Enjoying it so far so we shall see!!!! I\",\"2014-03-23\"\n",
      "\"UK\",19808,\"R39A5MVUEY58YJ\",\"1471131505\",463783108,\"Hard Choices: A Memoir\",\"Books\",4,0,4,\"N\",\"Y\",\"Four Stars\",\"good reading\",\"2014-07-23\"\n",
      "\"UK\",19808,\"R3CRLTN0LEK7CJ\",\"B00AACAIYQ\",170497708,\"BestOfferBuy 52mm Center Pinch Snap On Lens Cap Cover + Strap Camera Canon Nikon\",\"Wireless\",5,0,0,\"N\",\"Y\",\"Five Stars\",\"great product\",\"2015-06-25\"\n",
      "\"UK\",19860,\"R2KXGMVFSOWR5X\",\"B0002K118I\",296397639,\"Godzilla [DVD]\",\"Video DVD\",4,0,0,\"N\",\"Y\",\"Four Stars\",\"Love the film and so do the kids\",\"2014-12-07\"\n",
      "\"UK\",19871,\"R1NEOS9H6B7788\",\"B006E094UM\",313696235,\"X-Men: First Class [DVD]\",\"Video DVD\",5,0,0,\"N\",\"Y\",\"Lol\",\"I love this film it was a amazing film and it is one off my favourers ever just amazing it\",\"2014-04-13\"\n",
      "\"UK\",20073,\"RWMFEIL74ZDJE\",\"B00B7Y0206\",39162938,\"vTube for YouTube [FREE]\",\"Mobile_Apps\",1,1,1,\"N\",\"Y\",\"Bogus YouTube\",\"Not as good as the real YouTube. It works but only just.\",\"2014-10-03\"\n",
      "\"UK\",20073,\"R3GVFV7NPBFAFJ\",\"B00MXIV7YU\",957363393,\"Kings & Queens Of The Underground\",\"Music\",5,1,1,\"N\",\"Y\",\"Return to Splendour\",\"I've been a fan since I was a kid. I haven't bought a new Billy Idol release since Charmed Life and to be honest I'd almost given up on him. I'm really pleased to say this is a great album. On first listen it's familiar but very fresh. Billy sounds as if he's really enjoying his work again. He's a great performer, he really delivers when he plays live and he clearly loves what he does.<br />If you are a long time fan or if you only know the hits then give this album a listen. Easily up there with his best work.\",\"2015-06-16\"\n",
      "\"UK\",20086,\"R25GZ769Q3J6WN\",\"B003P9WI08\",742155791,\"Arthur Christmas (DVD) [2011]\",\"Video DVD\",5,0,0,\"N\",\"Y\",\"Great present\",\"Bought for a present . All the family watched it Boxing Day and we enjoyed it so much great Xmas film .\",\"2013-12-04\"\n",
      "\"UK\",20207,\"R1D42718QJQ4DH\",\"B004WIOCUU\",680586677,\"JVC HAS4X Xtreme Xplosives On Ear Headphone\",\"Electronics\",4,0,0,\"N\",\"Y\",\"XX4 JVC, Ears\",\"Very nice sound, but the headphones press on my ears a bit too hard, and after a longer time (2-3h) of wearing them, my ears start to hurt. I have pretty normal sized ears :P Other than that, perfect!!!\",\"2012-11-23\"\n",
      "\"UK\",20222,\"R3I6A1LWUUVBRE\",\"B0002CVQCW\",281008695,\"Les Miserables 10th Anniversary Concert At The Royal Albert Hall (2 Disc Collector's Edition) [DVD]\",\"Video DVD\",5,0,0,\"N\",\"Y\",\"some of the best voices in the world\",\"I liked it so much I bought it twice just so that I could share it with a friend. Excellant\",\"2013-02-26\"\n",
      "\"UK\",20385,\"R335F97BGBKXY7\",\"B00AQ3K8IU\",907407538,\"Hopeless\",\"Digital_Ebook_Purchase\",3,0,0,\"N\",\"Y\",\"good read\",\"Average book but ok for a light read. Story line was reasonable although not so much to excite one .Fine otherwise\",\"2013-03-21\"\n"
     ]
    },
    {
     "name": "stdout",
     "output_type": "stream",
     "text": [
      "\"UK\",20583,\"R28IKPKZMZZV52\",\"B00A6HL704\",438645704,\"The Twilight Saga: The Complete Collection [DVD]\",\"Video DVD\",4,0,3,\"N\",\"Y\",\"all good apart from postage\",\"didn't turn up on time and paid extra for day of release. DVD fine just the timing was awful which ruined the experience.\",\"2013-03-15\"\n",
      "\"UK\",20725,\"R21DHG6AOGXIZ6\",\"B00IABBXIO\",777928797,\"RATHER BE - CLEAN BANDIT\",\"Music\",5,0,1,\"N\",\"Y\",\"Top tune\",\"Bought this single as it was number 1 the day my daughter was born. Didn't like it at 1st but it's grown on me and now I love it. Great catchy tune.\",\"2014-04-12\"\n",
      "\"UK\",20849,\"R2Z32STUPPU8O4\",\"B00FDPK2JQ\",650376702,\"Salute\",\"Music\",5,0,0,\"N\",\"Y\",\"music\",\"bought for son for christmas he loves  liitle mix just started listening to music after turning 12 yrs of age great for teenages\",\"2014-01-07\"\n",
      "\"UK\",20849,\"R2K985KNJXCYX0\",\"B004B8NBQW\",702526844,\"Bright Lights\",\"Music\",5,0,0,\"N\",\"Y\",\"amazing\",\"bought for hubby for christmas great fan of ellie goulding love all of her music fast delivery in time to put under tree great fan love her music excellent gift\",\"2014-01-07\"\n",
      "\"UK\",20849,\"RJPHOMK6GTRFL\",\"B00GECLEG2\",530546487,\"Downton Abbey - Complete ITV Series 4 & DVD Exclusive Special Features + Audio Commentaries + Deleted Scenes (3 Disc Set) DVD\",\"Video DVD\",5,0,1,\"N\",\"Y\",\"excellent\",\"bought for my mum for christmas she a great fan of downtown abbey she has all the downtown abbey sereirs\",\"2014-01-07\"\n",
      "\"UK\",20849,\"RN6TFJLG0LK08\",\"B00I4IYNLW\",354057873,\"LEGO City 60063 LEGO City Advent Calendar\",\"Toys\",5,1,1,\"N\",\"Y\",\"Five Stars\",\"By every year my son his a lego fan loves all kinds of lego\",\"2014-11-09\"\n",
      "\"UK\",20890,\"RCLXN2CQ9AZFQ\",\"B00ET091AW\",128260051,\"Secretary\",\"Digital_Video_Download\",5,0,2,\"N\",\"N\",\"Love it\",\"James Spader is my fave actor. This film is the best i have seen. it is a very sexy film ;)\",\"2014-06-23\"\n",
      "\"UK\",21058,\"R1K17RNG40TTQ2\",\"B00QW8TYWO\",828652896,\"Crossy Road\",\"Mobile_Apps\",5,3,6,\"N\",\"Y\",\"epic\",\"Th h f2f cu chin bbc ssh th I th tv st tv inn had th um it tv ssh uk Inc f2f eggs add ssh th n Jun out e egg units egg th Jan hmm uk oh th s we th km of st th m ur egg hmm k is w we th uhh f2f egg th km it e as ssh th ill only see wet th uk of st tv hmm I'm\",\"2014-12-14\"\n"
     ]
    }
   ],
   "source": [
    "aq_udb -exp amazon:reviews -lim_rec 30"
   ]
  },
  {
   "cell_type": "markdown",
   "metadata": {},
   "source": [
    "<a id='check_db'></a>\n",
    "### Checking the database state\n",
    "\n",
    "Here, we'll go over 3 useful commands to check the state of database server. For details and syntax of each command, refer to man page. \n",
    "\n",
    "`ess server summary` provide overall information and status of the database server, such as database, table, vectors and its schema."
   ]
  },
  {
   "cell_type": "code",
   "execution_count": 13,
   "metadata": {},
   "outputs": [
    {
     "name": "stdout",
     "output_type": "stream",
     "text": [
      "DATABASE : amazon (active)\n",
      "   TABLE :reviews\tS:marketplace I,pkey:customer_id S:review_id S:product_id I:product_parent S:product_title S:product_category I:star_rating I:helpful_votes I:total_votes S:vine S:verified_purchase S:review_headline S:review_body S:review_date\n",
      "  VECTOR : (none)\n",
      "     VAR : (none)\n",
      "\n",
      "ip-10-10-1-118: (+) udbd-10010 (4114) running.\n"
     ]
    }
   ],
   "source": [
    "ess server summary"
   ]
  },
  {
   "cell_type": "markdown",
   "metadata": {},
   "source": [
    "`udbd status` return if the server is running or not."
   ]
  },
  {
   "cell_type": "code",
   "execution_count": 22,
   "metadata": {},
   "outputs": [
    {
     "name": "stdout",
     "output_type": "stream",
     "text": [
      "ip-10-10-1-118: (+) udbd-10010 (4114) running.\n"
     ]
    }
   ],
   "source": [
    "ess exec \"udbd status\""
   ]
  },
  {
   "cell_type": "markdown",
   "metadata": {},
   "source": [
    "`aq_udb`'s option `-inf` providee information about a specific database running on a server."
   ]
  },
  {
   "cell_type": "code",
   "execution_count": 21,
   "metadata": {},
   "outputs": [
    {
     "name": "stdout",
     "output_type": "stream",
     "text": [
      "\"memx\",\"strx\",\"pkey\",\"var\",\"reviews\"\n",
      "1335836544,4914141,1059156,0,1969910\n"
     ]
    }
   ],
   "source": [
    "aq_udb -inf amazon"
   ]
  },
  {
   "cell_type": "markdown",
   "metadata": {},
   "source": [
    "<a id='clean_db'></a>\n",
    "### Clean Up Dabase\n",
    "Now we know how to create and get infomation about our ubd and server, let's learn how to clean it up after using it, based on user cases.\n",
    "\n",
    "\n",
    "**1. Stop database server and delete schema**<br>\n",
    "* `ess server reset`: use this when you're not planning on using the database and its schema again.\n",
    "* New data schema needs to be created from scratch\n",
    "\n",
    "**2. Stop the database server, but preserve schema**<br>\n",
    "* `(ess) udbd stop`: perfect for when you'd like to shut off your instance, but would like to come back and use the database again. \n",
    "* To use it again, start the server with `ess udbd start` and fill it up with data.\n",
    "\n",
    "**3. Clear up the data inside of database**<br>\n",
    "* `aq_udb -clr`: empty the data from database, tables, etc. Use this to repopulate tables/whole database. \n",
    "    * with Table name, empty the data but preserves the DB and table schema\n",
    "    * with database name, empty the whole database (not delete??), you can refill the data again without creating schema\n",
    "            \n",
    "            \n",
    "On the following 3 cells, we'll demonstrate each commands, and output the results using `ess server summary`"
   ]
  },
  {
   "cell_type": "code",
   "execution_count": 39,
   "metadata": {},
   "outputs": [
    {
     "name": "stdout",
     "output_type": "stream",
     "text": [
      "ip-10-10-1-118: No running server detected.\n"
     ]
    }
   ],
   "source": [
    "# case 1, delete everything\n",
    "ess server reset\n",
    "ess server summary"
   ]
  },
  {
   "cell_type": "code",
   "execution_count": 43,
   "metadata": {},
   "outputs": [
    {
     "name": "stdout",
     "output_type": "stream",
     "text": [
      "ip-10-10-1-118: Stopping udbd-10010 (5182).\n",
      "ip-10-10-1-118: udbd-10010 stopped.\n",
      "DATABASE : amazon (active)\n",
      "   TABLE :reviews\tS:marketplace I,pkey:customer_id S:review_id S:product_id I:product_parent S:product_title S:product_category I:star_rating I:helpful_votes I:total_votes S:vine S:verified_purchase S:review_headline S:review_body S:review_date\n",
      "  VECTOR : (none)\n",
      "     VAR : (none)\n",
      "\n",
      "2019-11-15 01:40:54 ip-10-10-1-118 ess[5291]: !!!Warning!!! Error executing: udbd status 10010\n",
      "2019-11-15 01:40:54 ip-10-10-1-118 ess[5291]: ***Error*** ip-10-10-1-118: (-) udbd-10010 not running.\n",
      "\n"
     ]
    },
    {
     "ename": "",
     "evalue": "1",
     "output_type": "error",
     "traceback": []
    }
   ],
   "source": [
    "# stop the database server, preserve schema\n",
    "ess udbd stop\n",
    "ess server summary"
   ]
  },
  {
   "cell_type": "code",
   "execution_count": 46,
   "metadata": {},
   "outputs": [
    {
     "name": "stdout",
     "output_type": "stream",
     "text": [
      "\"marketplace\",\"customer_id\",\"review_id\",\"product_id\",\"product_parent\",\"product_title\",\"product_category\",\"star_rating\",\"helpful_votes\",\"total_votes\",\"vine\",\"verified_purchase\",\"review_headline\",\"review_body\",\"review_date\"\n"
     ]
    }
   ],
   "source": [
    "# clean up the data only\n",
    "aq_udb -clr amazon:reviews\n",
    "# check if the table is filled with data\n",
    "aq_udb -exp amazon:reviews "
   ]
  },
  {
   "cell_type": "markdown",
   "metadata": {},
   "source": [
    "<a id='aq_udb_option'></a>\n",
    "## aq_udb options\n",
    "\n",
    "Now we'll take a look at each options of `aq_udb` command. Before going through this section, go over [preparing databas](#prep_db) section and make sure database is running and filled with data."
   ]
  },
  {
   "cell_type": "markdown",
   "metadata": {},
   "source": [
    "<a id='exp'></a>\n",
    "### -exp\n",
    "\n",
    "This option export the data from given `DatabaseName:TableName`, or if only `DatabaseName` is given, then it'll export the primary keys from database. <br>\n",
    "\n",
    "This option is used with many other options in order to process the data.\n",
    "Let's take a look."
   ]
  },
  {
   "cell_type": "code",
   "execution_count": 63,
   "metadata": {},
   "outputs": [
    {
     "name": "stdout",
     "output_type": "stream",
     "text": [
      "\"marketplace\",\"customer_id\",\"review_id\",\"product_id\",\"product_parent\",\"product_title\",\"product_category\",\"star_rating\",\"helpful_votes\",\"total_votes\",\"vine\",\"verified_purchase\",\"review_headline\",\"review_body\",\"review_date\"\n",
      "\"UK\",10349,\"R2YVNBBMXD8KVJ\",\"B00MWK7BWG\",307651059,\"My Favourite Faded Fantasy\",\"Music\",5,0,0,\"N\",\"Y\",\"Five Stars\",\"The best album ever!\",\"2014-12-29\"\n",
      "\"UK\",10629,\"R2K4BOL8MN1TTY\",\"B006CHML4I\",835010224,\"Seiko 5 Men's Automatic Watch with Black Dial Analogue Display and Blue Fabric Strap SNK807K2\",\"Watches\",4,0,0,\"N\",\"Y\",\"Great watch from casio.\",\"What a great watch. Both watches and strap is in a great quality, and the prize is low. Especially compared to the price here in Denmark.\",\"2013-10-24\"\n",
      "\"UK\",12136,\"R3P40IEALROVCH\",\"B00IIFCJX0\",271687675,\"Dexter Season 8\",\"Digital_Video_Download\",5,0,0,\"N\",\"Y\",\"fantastic\",\"love watching all the episodes of Dexter, when i first heard about this series i wasnt too sure about watching it. it took me a very long time to start and now wish i had watched it when it first came out.<br /><br />The fact that he kills and more or less gets away with it, in some episodes you sat on edge of your seat thinking OMG he gonna get caught and then he doesn't, he does try stopping but you know yourself he can't. my favorite episode where the Ice Truck killer, that the ending of that was great how he learns he had a brother, but for his brother to be a baddie and that he had to kill him, i think if he hadn't would it have been different. Oh and The Bay Harbour Butcher, in this it made you think oh no he gonna get caught but he didn't<br /><br />In all ive enjoyed watching them and a shame he had to end.\",\"2014-05-09\"\n",
      "\"UK\",12268,\"R25XL1WWYRDLA9\",\"B000W7JWUA\",211383699,\"The Settlers of Catan Board Game - discontinued by manufacturer\",\"Toys\",5,0,0,\"N\",\"Y\",\"Five Stars\",\"Excellent game!!!\",\"2014-09-19\"\n",
      "\"UK\",12677,\"RVTVB9YDXSFYH\",\"B005JTAP4S\",182965893,\"Peter: A Darkened Fairytale (Vol 1)\",\"Digital_Ebook_Purchase\",5,12,12,\"N\",\"N\",\"A twist on Tales\",\"This cute, quick read is very different to say the least. There was a comfort to it however. Not just in the creatures, but in the story. I felt like I was in a new aged Alice in Wonderland. It was a bit jumpy. I still found it easy to follow, but I had hoped for a bit more. But for a short story, that is the usual only complaint right? At least as far as the ones that I have read goes.<br /><br />\\\"\"The aroma you are enquiring upon is me, and you get used to it after a while,\\\"\" he said, wiping a stale chicken under his armpit. \\\"\" Now that little snippet made me giggle. Moving on...<br /><br />What more can I say? Inventive, tables that are giant turtles, I mean, imagination spilled all over this short story. (Hence my craving for it to be longer.)<br />I say take a chance, and remember... Don't put your feet in the lava! (You'll understand that bit when you read the book.) When you read, you will find 'a place of knowing.'<br />Bravo!\",\"2013-09-18\"\n",
      "\"UK\",13070,\"R1P16QCZR7RHM\",\"B00004WMYB\",530484605,\"The Marshall Mathers LP\",\"Music\",1,1,7,\"N\",\"Y\",\"scratches n a crack\",\"im very disappointed in amazon, theyre startin 2 sell used albums in the new section, i ordered this new and it came with scratches and a crack, track 19 couldnt even play all the way, smh, amazon has got 2 do better\",\"2013-07-30\"\n",
      "\"UK\",15356,\"R3DHVC6SGQS5JU\",\"B00CEF014E\",658330608,\"Solstice\",\"Digital_Ebook_Purchase\",5,0,0,\"N\",\"N\",\"A Gripping Page Turner!\",\"Solstice is a head-spinning thriller. It seriously needs to be read when you're alone with nothing around you to interrupt you because it simply is a heck of a ride.<br />I enjoyed this novel, unable to put it down. The twists, the turns had me turning the pages to the end. It is short but it doesn't disappoint. It's mayhem and gore written superbly and certainly not for those who do not appreciate the dark and intenseful tales. Loved it!!\",\"2013-11-26\"\n",
      "\"UK\",16019,\"R2F2I7T03D42TE\",\"1849839735\",143601567,\"Total Recall\",\"Books\",4,0,0,\"N\",\"Y\",\"Birthday present for an Arnie fan\",\"My son read it and he said it was very good and interesting. givinig an insight in to the start of Arnies career.\",\"2013-12-23\"\n",
      "\"UK\",16563,\"R3G5WIW7NNA1CS\",\"B004OY47JS\",74795975,\"Billy Elliot (1 Disc Collectors Steelbook Edition) [2000] (Region 2) (Import)\",\"Video DVD\",5,0,0,\"N\",\"Y\",\"Nice steelbook case very good soundtrack and most important a very good movie.\",\"Nice steelbook case very good soundtrack and most important a very good movie a very nice item for a steelbook collector.\",\"2013-10-28\"\n",
      "\"UK\",17139,\"R75U5MUIZ9T0D\",\"B009O36EO0\",269758980,\"Heal\",\"Music\",5,3,4,\"N\",\"Y\",\"MAGIC!!!\",\"Euphoria is one of the reason why I bought this album, since the victory @ Eurovision Song Contest 2012. I'm Indonesian, but I watched the show, and love her performance.<br />My Fave Tracks :<br />- In My Head<br />- My Heart Is Refusing Me<br />- Euphoria<br />- Sober<br />- Crying Out Your Name<br />- Breaking The Robot<br />Loreen's music is influenced by enigma, there are so many \\\"\"mysteries\\\"\" in every single track. Electro Pop, Euro,  Harmony Vocals, in \\\"\"Dark\\\"\" Nuance Reminds me the style of MDNA's in Frozen.<br />Trust me, buy this album, and u'll get the real european taste of her.\",\"2012-11-10\"\n",
      "\"UK\",17809,\"R1X8DIPIAIWFK9\",\"B00AESN8XY\",593367180,\"Plague Inc.\",\"Mobile_Apps\",4,0,0,\"N\",\"Y\",\"gd\",\"Good game I spose\",\"2015-03-11\"\n",
      "\"UK\",19670,\"R2LKEH0EVPQ35M\",\"B00DUGCLY4\",144324129,\"Guess The Emoji\",\"Mobile_Apps\",3,0,0,\"N\",\"Y\",\"not sure\",\"It's a good app but not played enough to really rate! Enjoying it so far so we shall see!!!! I\",\"2014-03-23\"\n",
      "\"UK\",19808,\"R39A5MVUEY58YJ\",\"1471131505\",463783108,\"Hard Choices: A Memoir\",\"Books\",4,0,4,\"N\",\"Y\",\"Four Stars\",\"good reading\",\"2014-07-23\"\n",
      "\"UK\",19808,\"R3CRLTN0LEK7CJ\",\"B00AACAIYQ\",170497708,\"BestOfferBuy 52mm Center Pinch Snap On Lens Cap Cover + Strap Camera Canon Nikon\",\"Wireless\",5,0,0,\"N\",\"Y\",\"Five Stars\",\"great product\",\"2015-06-25\"\n",
      "\"UK\",19860,\"R2KXGMVFSOWR5X\",\"B0002K118I\",296397639,\"Godzilla [DVD]\",\"Video DVD\",4,0,0,\"N\",\"Y\",\"Four Stars\",\"Love the film and so do the kids\",\"2014-12-07\"\n",
      "\"UK\",19871,\"R1NEOS9H6B7788\",\"B006E094UM\",313696235,\"X-Men: First Class [DVD]\",\"Video DVD\",5,0,0,\"N\",\"Y\",\"Lol\",\"I love this film it was a amazing film and it is one off my favourers ever just amazing it\",\"2014-04-13\"\n",
      "\"UK\",20073,\"RWMFEIL74ZDJE\",\"B00B7Y0206\",39162938,\"vTube for YouTube [FREE]\",\"Mobile_Apps\",1,1,1,\"N\",\"Y\",\"Bogus YouTube\",\"Not as good as the real YouTube. It works but only just.\",\"2014-10-03\"\n",
      "\"UK\",20073,\"R3GVFV7NPBFAFJ\",\"B00MXIV7YU\",957363393,\"Kings & Queens Of The Underground\",\"Music\",5,1,1,\"N\",\"Y\",\"Return to Splendour\",\"I've been a fan since I was a kid. I haven't bought a new Billy Idol release since Charmed Life and to be honest I'd almost given up on him. I'm really pleased to say this is a great album. On first listen it's familiar but very fresh. Billy sounds as if he's really enjoying his work again. He's a great performer, he really delivers when he plays live and he clearly loves what he does.<br />If you are a long time fan or if you only know the hits then give this album a listen. Easily up there with his best work.\",\"2015-06-16\"\n",
      "\"UK\",20086,\"R25GZ769Q3J6WN\",\"B003P9WI08\",742155791,\"Arthur Christmas (DVD) [2011]\",\"Video DVD\",5,0,0,\"N\",\"Y\",\"Great present\",\"Bought for a present . All the family watched it Boxing Day and we enjoyed it so much great Xmas film .\",\"2013-12-04\"\n",
      "\"UK\",20207,\"R1D42718QJQ4DH\",\"B004WIOCUU\",680586677,\"JVC HAS4X Xtreme Xplosives On Ear Headphone\",\"Electronics\",4,0,0,\"N\",\"Y\",\"XX4 JVC, Ears\",\"Very nice sound, but the headphones press on my ears a bit too hard, and after a longer time (2-3h) of wearing them, my ears start to hurt. I have pretty normal sized ears :P Other than that, perfect!!!\",\"2012-11-23\"\n"
     ]
    }
   ],
   "source": [
    "# exporting the data from table (-top 20 limits the output to 20 records)\n",
    "aq_udb -exp amazon:reviews -top 20"
   ]
  },
  {
   "cell_type": "code",
   "execution_count": 60,
   "metadata": {},
   "outputs": [
    {
     "name": "stdout",
     "output_type": "stream",
     "text": [
      "\"customer_id\"\n",
      "10349\n",
      "10629\n",
      "12136\n",
      "12268\n",
      "12677\n",
      "13070\n",
      "15356\n",
      "16019\n",
      "16563\n",
      "17139\n"
     ]
    }
   ],
   "source": [
    "# now outputting primary keys only\n",
    "aq_udb -exp amazon -top 10"
   ]
  },
  {
   "cell_type": "markdown",
   "metadata": {},
   "source": [
    "<a id='sort'></a>\n",
    "### -sort\n",
    "\n",
    "You can sort the data based on given column name, as it is being exported. Note that the data is not sorted within the database. \n"
   ]
  },
  {
   "cell_type": "code",
   "execution_count": 65,
   "metadata": {},
   "outputs": [
    {
     "name": "stdout",
     "output_type": "stream",
     "text": [
      "\"customer_id\"\n",
      "10349\n",
      "10629\n",
      "12136\n",
      "12268\n",
      "12677\n",
      "13070\n",
      "15356\n",
      "16019\n",
      "16563\n",
      "17139\n"
     ]
    }
   ],
   "source": [
    "# sorting based on customer_id column. feel free to try other column as well.\n",
    "# -c option is used to output given column only\n",
    "aq_udb -exp amazon:reviews -sort customer_id -top 10 -c customer_id"
   ]
  },
  {
   "cell_type": "code",
   "execution_count": 66,
   "metadata": {},
   "outputs": [
    {
     "name": "stdout",
     "output_type": "stream",
     "text": [
      "\"customer_id\"\n",
      "10349\n",
      "10629\n",
      "12136\n",
      "12268\n",
      "12677\n",
      "13070\n",
      "15356\n",
      "16019\n",
      "16563\n",
      "17139\n"
     ]
    }
   ],
   "source": [
    "# note that this command does not change the order of data within the table\n",
    "aq_udb -exp amazon:reviews -top 10 -c customer_id"
   ]
  },
  {
   "cell_type": "markdown",
   "metadata": {},
   "source": [
    "<a id='ord'></a>\n",
    "### -ord"
   ]
  },
  {
   "cell_type": "code",
   "execution_count": 69,
   "metadata": {},
   "outputs": [
    {
     "name": "stdout",
     "output_type": "stream",
     "text": [
      "Server(127.0.0.1:10010) error: sort column: Bad spec\n",
      "aq_udb: Udb request invalid\n"
     ]
    },
    {
     "ename": "",
     "evalue": "34",
     "output_type": "error",
     "traceback": []
    }
   ],
   "source": [
    "aq_udb -ord amazon:reviews customer_id"
   ]
  },
  {
   "cell_type": "markdown",
   "metadata": {},
   "source": [
    "<a id='shf'></a>\n",
    "### -shf"
   ]
  },
  {
   "cell_type": "markdown",
   "metadata": {},
   "source": [
    "<a id='cnt'></a>\n",
    "### -cnt\n",
    "\n",
    "\n",
    "\n",
    "\n",
    "\n",
    "\n",
    "\n",
    "\n"
   ]
  },
  {
   "cell_type": "markdown",
   "metadata": {},
   "source": [
    "<a id='eval'></a>\n",
    "### -eval"
   ]
  },
  {
   "cell_type": "markdown",
   "metadata": {},
   "source": [
    "<a id='filt'></a>\n",
    "### -filt"
   ]
  },
  {
   "cell_type": "markdown",
   "metadata": {},
   "source": [
    "<a id='var'></a>\n",
    "### -var"
   ]
  },
  {
   "cell_type": "markdown",
   "metadata": {},
   "source": [
    "<a id='del_row'></a>\n",
    "### -del_row"
   ]
  },
  {
   "cell_type": "markdown",
   "metadata": {},
   "source": [
    "<a id='lim_key'></a>\n",
    "### -lim_key"
   ]
  },
  {
   "cell_type": "markdown",
   "metadata": {},
   "source": [
    "<a id='lim_rec'></a>\n",
    "### -lim_rec"
   ]
  },
  {
   "cell_type": "markdown",
   "metadata": {},
   "source": [
    "<a id='key_rec'></a>\n",
    "### -key_rec"
   ]
  },
  {
   "cell_type": "markdown",
   "metadata": {},
   "source": [
    "<a id='top'></a>\n",
    "### -top"
   ]
  },
  {
   "cell_type": "markdown",
   "metadata": {},
   "source": [
    "<a id='last'></a>\n",
    "### -laset"
   ]
  }
 ],
 "metadata": {
  "kernelspec": {
   "display_name": "Bash",
   "language": "bash",
   "name": "bash"
  },
  "language_info": {
   "codemirror_mode": "shell",
   "file_extension": ".sh",
   "mimetype": "text/x-sh",
   "name": "bash"
  }
 },
 "nbformat": 4,
 "nbformat_minor": 2
}
