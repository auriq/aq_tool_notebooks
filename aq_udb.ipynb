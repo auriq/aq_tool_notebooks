{
 "cells": [
  {
   "cell_type": "markdown",
   "metadata": {},
   "source": [
    "# aq_udb\n",
    "\n",
    "## Overview\n",
    "This command let users interact with UDB (User Database). It is distributed, hash-based, in memory database. \n",
    "It is designed to process vast amount of data in a computing cluster, where each node is responsible for unique set of primary keys in the database. \n",
    "\n",
    "This allows users to perform much more complex analysis and queries than `aq_pp` command could alone, on larger datasets.\n",
    "\n",
    "`aq_udb` is used to perform data cleaning and transforming with UDB once the database is created. \n",
    "\n",
    "### Components of UDB\n",
    "* Database: User database, that contains one or more of the following components\n",
    "* Table: similar to TABLE in MySQL, with schema that is a variant of column spec\n",
    "* Vector: ??\n",
    "* Variable: ??\n",
    "\n",
    "### Commands to be used\n",
    "* `ess create`\n",
    "* `aq_udb`\n",
    "* `ess server summary`\n",
    "\n",
    "## Contents\n",
    "In this notebook, first we'll go though the general steps of managing database, then go over the actual examples of data processing using udb.\n",
    "\n",
    "### [Preparing Database](#prep_db)\n",
    "* creating schema for database\n",
    "* starting the database server\n",
    "* populating it with data\n",
    "\n",
    "### [Clean Up Database](#clean_db)\n",
    "* shutting it down\n",
    "* clearing the data insdie\n",
    "* deleting schema\n",
    "\n",
    "* reusing previously defined database\n",
    "\n",
    "[**aq_udb**](#aq_udb_option)<br>\n",
    "* [`-exp`](#exp) - export data \n",
    "* [`-sort`](#sort) - sort output data\n",
    "* [`-ord`](#ord) - sort keys in DB, or records in table internally\n",
    "* [`-shf`](#shf) - shuffle keys or records in DB internally\n",
    "* [`-cnt`](#cnt) - count unique primary keys in DB\n",
    "* [`-eval`](#eval) - same as `aq_pp`'s option\n",
    "* [`-filt`](#filt) - same as `aq_pp`'s option\n",
    "* [`-var`](#var) - assign value to predefined variable\n",
    "* [`-del_row`](#del_row) - delete a row in DB\n",
    "* [`-lim_key Num`](#lim_key) - output `Num` of keys only\n",
    "* [`-lim_rec Num`](#lim_rec) - output `Num` of records\n",
    "* [`-key_rec Num`](#key_rec) - output `Num` of records per unique key\n",
    "* [`-top [Start:]Num`](#top) - limit the output result to `Num` of records from top of the DB\n",
    "* [`-last [Start:]Num`](#last) - same as above, but from buttom of the dB \n",
    "\n",
    "\n",
    "\n",
    "\n",
    "Below is the general steps of utilizing udb.\n",
    "1. create database, table, vector, and/or variable with arbitrary schema.\n",
    "2. fill up tables with data. \n"
   ]
  },
  {
   "cell_type": "markdown",
   "metadata": {},
   "source": [
    "<a id='prep_db'></a>\n",
    "### Preparing Database\n",
    "In this section we'll cover steps to prepare udb for use, for the first time.\n",
    "This includes steps below\n",
    "* selecting datastore and creating data category\n",
    "* taking a look at data, and getting column spec\n",
    "* creating database schema\n",
    "* starting database server\n",
    "\n",
    "Let's start with preparing the data we'll use.\n",
    "\n",
    "**Prepare Data**"
   ]
  },
  {
   "cell_type": "code",
   "execution_count": 12,
   "metadata": {},
   "outputs": [
    {
     "name": "stdout",
     "output_type": "stream",
     "text": [
      " 230M Nov 12 23:31    /tsv/amazon_reviews_multilingual_DE_v1_00.tsv.gz\n",
      "  67M Nov 12 23:31    /tsv/amazon_reviews_multilingual_FR_v1_00.tsv.gz\n",
      "  90M Nov 12 23:31    /tsv/amazon_reviews_multilingual_JP_v1_00.tsv.gz\n",
      " 333M Nov 12 23:31    /tsv/amazon_reviews_multilingual_UK_v1_00.tsv.gz\n",
      " 1.4G Nov 12 23:31    /tsv/amazon_reviews_multilingual_US_v1_00.tsv.gz\n",
      " 618M Nov 12 23:31    /tsv/amazon_reviews_us_Apparel_v1_00.tsv.gz\n",
      " 555M Nov 12 23:31    /tsv/amazon_reviews_us_Automotive_v1_00.tsv.gz\n",
      " 340M Nov 12 23:31    /tsv/amazon_reviews_us_Baby_v1_00.tsv.gz\n",
      " 871M Nov 12 23:31    /tsv/amazon_reviews_us_Beauty_v1_00.tsv.gz\n",
      " 2.6G Nov 12 23:31    /tsv/amazon_reviews_us_Books_v1_00.tsv.gz\n",
      "2019-11-14 01:38:06 ip-10-10-1-118 ess[3732]: !!!Warning!!! Category amazon already defined. Ignoring command.\n",
      "Name:        amazon\n",
      "Pattern:     tsv/amazon_reviews_multilingual_JP_v1_00.tsv.gz /tsv/amazon_reviews_multilingual_UK_v1_00.tsv.gz\n",
      "Exclude:     None\n",
      "Date Format: auto\n",
      "Date Regex:  \n",
      "Archive:     \n",
      "Delimiter:   Tab\n",
      "# of files:  2\n",
      "Total size:  423.5MB\n",
      "File range:  1970-01-01 - 1970-01-01\n",
      "# columns:   15\n",
      "Column Spec: S:marketplace I:customer_id S:review_id S:product_id I:product_parent S:product_title S:product_category I:star_rating I:helpful_votes I:total_votes S:vine S:verified_purchase S:review_headline S,esc:review_body S:review_date\n",
      "Pkey: \n",
      "Schema: S:marketplace I:customer_id S:review_id S:product_id I:product_parent S:product_title S:product_category I:star_rating I:helpful_votes I:total_votes S:vine S:verified_purchase S:review_headline S,esc:review_body S:review_date\n",
      "Preprocess:  \n",
      "usecache:    False\n",
      "Comment:    \n",
      "\n",
      "First few lines:\n",
      "marketplace\tcustomer_id\treview_id\tproduct_id\tproduct_parent\tproduct_title\tproduct_category\tstar_rating\thelpful_votes\ttotal_votes\tvine\tverified_purchase\treview_headline\treview_body\treview_date\n"
     ]
    }
   ],
   "source": [
    "# select datastore, which is s3 bucket\n",
    "ess select essentia-playground\n",
    "\n",
    "# display the directory structures and files stored\n",
    "ess ls /tsv/ | head -n 10\n",
    "\n",
    "# create data category\n",
    "ess category add amazon \\\n",
    " '/tsv/amazon_reviews_multilingual_UK_v1_00.tsv.gz /tsv/amazon_reviews_multilingual_JP_v1_00.tsv.gz'\n",
    " \n",
    "# get info about the category\n",
    "ess summary amazon | head -n 20"
   ]
  },
  {
   "cell_type": "markdown",
   "metadata": {},
   "source": [
    "Now we have some information that we need about the data in order to define database schema. We have column spec. \n",
    "Let's go ahead and create database and table now.\n",
    "\n",
    "**Database Creation**<br>\n",
    "We'll create \n",
    "* database named `amazon` \n",
    "* table `reviews` with \n",
    "    * schema - column spec of the data from the data category.\n",
    "    > When creating schema, we need to specify primary key column, much like SQL database. Here is the schema.\n",
    "    `S:marketplace I,pkey:customer_id S:review_id S:product_id I:product_parent S:product_title S:product_category I:star_rating I:helpful_votes I:total_votes S:vine S:verified_purchase S:review_headline S:review_body S:review_date`\n",
    "    * Note the `I,pkey:customer_id`, `pkey` specify that this column is the primary key of the table.\n",
    "    \n",
    "We can use  `ess create {}` where you can specify entity to create and pass in name of the entity.\n",
    "\n",
    "After that, we'll start database server."
   ]
  },
  {
   "cell_type": "code",
   "execution_count": 15,
   "metadata": {},
   "outputs": [
    {
     "name": "stdout",
     "output_type": "stream",
     "text": [
      "2019-11-14 02:22:30 ip-10-10-1-118 ess[4193]: ***Error*** Database amazon already exists\n",
      "2019-11-14 02:22:31 ip-10-10-1-118 ess[4202]: ***Error*** Table reviews already exists.\n",
      "ip-10-10-1-118: Starting udbd-10010.\n",
      "ip-10-10-1-118: udbd-10010 (4273) started.\n"
     ]
    }
   ],
   "source": [
    "# creating database named amazon\n",
    "ess create database amazon\n",
    "# creating table named reviews, with the schema\n",
    "ess create table reviews S:marketplace I,pkey:customer_id S:review_id S:product_id I:product_parent S:product_title S:product_category I:star_rating I:helpful_votes I:total_votes S:vine S:verified_purchase S:review_headline S:review_body S:review_date\n",
    "# start the db server\n",
    "ess udbd start"
   ]
  },
  {
   "cell_type": "markdown",
   "metadata": {},
   "source": [
    "**Populate it with Data**<br>\n",
    "\n",
    "Now we'll fill up the database with the review dataset, using essentia's stream and `aq_pp` command. Note that **`-imp` option is used to direct the output into the database**."
   ]
  },
  {
   "cell_type": "code",
   "execution_count": 17,
   "metadata": {},
   "outputs": [
    {
     "name": "stdout",
     "output_type": "stream",
     "text": [
      "2019-11-14 02:23:12 ip-10-10-1-118 ess[4318]: !!!Warning!!! Multiple warnings.  See task.log for more details\n"
     ]
    }
   ],
   "source": [
    "ess stream amazon \"*\" \"*\" 'aq_pp -f,+1,tsv,eok - -d %cols -imp amazon:reviews'"
   ]
  },
  {
   "cell_type": "markdown",
   "metadata": {},
   "source": [
    "Using `aq_udb` with [`-exp`](#exp) command, we can see that the data is inside of the database. "
   ]
  },
  {
   "cell_type": "code",
   "execution_count": 20,
   "metadata": {},
   "outputs": [
    {
     "name": "stdout",
     "output_type": "stream",
     "text": [
      "\"marketplace\",\"customer_id\",\"review_id\",\"product_id\",\"product_parent\",\"product_title\",\"product_category\",\"star_rating\",\"helpful_votes\",\"total_votes\",\"vine\",\"verified_purchase\",\"review_headline\",\"review_body\",\"review_date\"\n",
      "\"UK\",10349,\"R2YVNBBMXD8KVJ\",\"B00MWK7BWG\",307651059,\"My Favourite Faded Fantasy\",\"Music\",5,0,0,\"N\",\"Y\",\"Five Stars\",\"The best album ever!\",\"2014-12-29\"\n",
      "\"UK\",10349,\"R2YVNBBMXD8KVJ\",\"B00MWK7BWG\",307651059,\"My Favourite Faded Fantasy\",\"Music\",5,0,0,\"N\",\"Y\",\"Five Stars\",\"The best album ever!\",\"2014-12-29\"\n",
      "\"UK\",10629,\"R2K4BOL8MN1TTY\",\"B006CHML4I\",835010224,\"Seiko 5 Men's Automatic Watch with Black Dial Analogue Display and Blue Fabric Strap SNK807K2\",\"Watches\",4,0,0,\"N\",\"Y\",\"Great watch from casio.\",\"What a great watch. Both watches and strap is in a great quality, and the prize is low. Especially compared to the price here in Denmark.\",\"2013-10-24\"\n",
      "\"UK\",10629,\"R2K4BOL8MN1TTY\",\"B006CHML4I\",835010224,\"Seiko 5 Men's Automatic Watch with Black Dial Analogue Display and Blue Fabric Strap SNK807K2\",\"Watches\",4,0,0,\"N\",\"Y\",\"Great watch from casio.\",\"What a great watch. Both watches and strap is in a great quality, and the prize is low. Especially compared to the price here in Denmark.\",\"2013-10-24\"\n",
      "\"UK\",12136,\"R3P40IEALROVCH\",\"B00IIFCJX0\",271687675,\"Dexter Season 8\",\"Digital_Video_Download\",5,0,0,\"N\",\"Y\",\"fantastic\",\"love watching all the episodes of Dexter, when i first heard about this series i wasnt too sure about watching it. it took me a very long time to start and now wish i had watched it when it first came out.<br /><br />The fact that he kills and more or less gets away with it, in some episodes you sat on edge of your seat thinking OMG he gonna get caught and then he doesn't, he does try stopping but you know yourself he can't. my favorite episode where the Ice Truck killer, that the ending of that was great how he learns he had a brother, but for his brother to be a baddie and that he had to kill him, i think if he hadn't would it have been different. Oh and The Bay Harbour Butcher, in this it made you think oh no he gonna get caught but he didn't<br /><br />In all ive enjoyed watching them and a shame he had to end.\",\"2014-05-09\"\n",
      "\"UK\",12136,\"R3P40IEALROVCH\",\"B00IIFCJX0\",271687675,\"Dexter Season 8\",\"Digital_Video_Download\",5,0,0,\"N\",\"Y\",\"fantastic\",\"love watching all the episodes of Dexter, when i first heard about this series i wasnt too sure about watching it. it took me a very long time to start and now wish i had watched it when it first came out.<br /><br />The fact that he kills and more or less gets away with it, in some episodes you sat on edge of your seat thinking OMG he gonna get caught and then he doesn't, he does try stopping but you know yourself he can't. my favorite episode where the Ice Truck killer, that the ending of that was great how he learns he had a brother, but for his brother to be a baddie and that he had to kill him, i think if he hadn't would it have been different. Oh and The Bay Harbour Butcher, in this it made you think oh no he gonna get caught but he didn't<br /><br />In all ive enjoyed watching them and a shame he had to end.\",\"2014-05-09\"\n",
      "\"UK\",12268,\"R25XL1WWYRDLA9\",\"B000W7JWUA\",211383699,\"The Settlers of Catan Board Game - discontinued by manufacturer\",\"Toys\",5,0,0,\"N\",\"Y\",\"Five Stars\",\"Excellent game!!!\",\"2014-09-19\"\n",
      "\"UK\",12268,\"R25XL1WWYRDLA9\",\"B000W7JWUA\",211383699,\"The Settlers of Catan Board Game - discontinued by manufacturer\",\"Toys\",5,0,0,\"N\",\"Y\",\"Five Stars\",\"Excellent game!!!\",\"2014-09-19\"\n",
      "\"UK\",12677,\"RVTVB9YDXSFYH\",\"B005JTAP4S\",182965893,\"Peter: A Darkened Fairytale (Vol 1)\",\"Digital_Ebook_Purchase\",5,12,12,\"N\",\"N\",\"A twist on Tales\",\"This cute, quick read is very different to say the least. There was a comfort to it however. Not just in the creatures, but in the story. I felt like I was in a new aged Alice in Wonderland. It was a bit jumpy. I still found it easy to follow, but I had hoped for a bit more. But for a short story, that is the usual only complaint right? At least as far as the ones that I have read goes.<br /><br />\\\"\"The aroma you are enquiring upon is me, and you get used to it after a while,\\\"\" he said, wiping a stale chicken under his armpit. \\\"\" Now that little snippet made me giggle. Moving on...<br /><br />What more can I say? Inventive, tables that are giant turtles, I mean, imagination spilled all over this short story. (Hence my craving for it to be longer.)<br />I say take a chance, and remember... Don't put your feet in the lava! (You'll understand that bit when you read the book.) When you read, you will find 'a place of knowing.'<br />Bravo!\",\"2013-09-18\"\n",
      "\"UK\",12677,\"RVTVB9YDXSFYH\",\"B005JTAP4S\",182965893,\"Peter: A Darkened Fairytale (Vol 1)\",\"Digital_Ebook_Purchase\",5,12,12,\"N\",\"N\",\"A twist on Tales\",\"This cute, quick read is very different to say the least. There was a comfort to it however. Not just in the creatures, but in the story. I felt like I was in a new aged Alice in Wonderland. It was a bit jumpy. I still found it easy to follow, but I had hoped for a bit more. But for a short story, that is the usual only complaint right? At least as far as the ones that I have read goes.<br /><br />\\\"\"The aroma you are enquiring upon is me, and you get used to it after a while,\\\"\" he said, wiping a stale chicken under his armpit. \\\"\" Now that little snippet made me giggle. Moving on...<br /><br />What more can I say? Inventive, tables that are giant turtles, I mean, imagination spilled all over this short story. (Hence my craving for it to be longer.)<br />I say take a chance, and remember... Don't put your feet in the lava! (You'll understand that bit when you read the book.) When you read, you will find 'a place of knowing.'<br />Bravo!\",\"2013-09-18\"\n",
      "\"UK\",13070,\"R1P16QCZR7RHM\",\"B00004WMYB\",530484605,\"The Marshall Mathers LP\",\"Music\",1,1,7,\"N\",\"Y\",\"scratches n a crack\",\"im very disappointed in amazon, theyre startin 2 sell used albums in the new section, i ordered this new and it came with scratches and a crack, track 19 couldnt even play all the way, smh, amazon has got 2 do better\",\"2013-07-30\"\n",
      "\"UK\",13070,\"R1P16QCZR7RHM\",\"B00004WMYB\",530484605,\"The Marshall Mathers LP\",\"Music\",1,1,7,\"N\",\"Y\",\"scratches n a crack\",\"im very disappointed in amazon, theyre startin 2 sell used albums in the new section, i ordered this new and it came with scratches and a crack, track 19 couldnt even play all the way, smh, amazon has got 2 do better\",\"2013-07-30\"\n",
      "\"UK\",15356,\"R3DHVC6SGQS5JU\",\"B00CEF014E\",658330608,\"Solstice\",\"Digital_Ebook_Purchase\",5,0,0,\"N\",\"N\",\"A Gripping Page Turner!\",\"Solstice is a head-spinning thriller. It seriously needs to be read when you're alone with nothing around you to interrupt you because it simply is a heck of a ride.<br />I enjoyed this novel, unable to put it down. The twists, the turns had me turning the pages to the end. It is short but it doesn't disappoint. It's mayhem and gore written superbly and certainly not for those who do not appreciate the dark and intenseful tales. Loved it!!\",\"2013-11-26\"\n",
      "\"UK\",15356,\"R3DHVC6SGQS5JU\",\"B00CEF014E\",658330608,\"Solstice\",\"Digital_Ebook_Purchase\",5,0,0,\"N\",\"N\",\"A Gripping Page Turner!\",\"Solstice is a head-spinning thriller. It seriously needs to be read when you're alone with nothing around you to interrupt you because it simply is a heck of a ride.<br />I enjoyed this novel, unable to put it down. The twists, the turns had me turning the pages to the end. It is short but it doesn't disappoint. It's mayhem and gore written superbly and certainly not for those who do not appreciate the dark and intenseful tales. Loved it!!\",\"2013-11-26\"\n",
      "\"UK\",16019,\"R2F2I7T03D42TE\",\"1849839735\",143601567,\"Total Recall\",\"Books\",4,0,0,\"N\",\"Y\",\"Birthday present for an Arnie fan\",\"My son read it and he said it was very good and interesting. givinig an insight in to the start of Arnies career.\",\"2013-12-23\"\n",
      "\"UK\",16019,\"R2F2I7T03D42TE\",\"1849839735\",143601567,\"Total Recall\",\"Books\",4,0,0,\"N\",\"Y\",\"Birthday present for an Arnie fan\",\"My son read it and he said it was very good and interesting. givinig an insight in to the start of Arnies career.\",\"2013-12-23\"\n",
      "\"UK\",16563,\"R3G5WIW7NNA1CS\",\"B004OY47JS\",74795975,\"Billy Elliot (1 Disc Collectors Steelbook Edition) [2000] (Region 2) (Import)\",\"Video DVD\",5,0,0,\"N\",\"Y\",\"Nice steelbook case very good soundtrack and most important a very good movie.\",\"Nice steelbook case very good soundtrack and most important a very good movie a very nice item for a steelbook collector.\",\"2013-10-28\"\n"
     ]
    },
    {
     "name": "stdout",
     "output_type": "stream",
     "text": [
      "\"UK\",16563,\"R3G5WIW7NNA1CS\",\"B004OY47JS\",74795975,\"Billy Elliot (1 Disc Collectors Steelbook Edition) [2000] (Region 2) (Import)\",\"Video DVD\",5,0,0,\"N\",\"Y\",\"Nice steelbook case very good soundtrack and most important a very good movie.\",\"Nice steelbook case very good soundtrack and most important a very good movie a very nice item for a steelbook collector.\",\"2013-10-28\"\n",
      "\"UK\",17139,\"R75U5MUIZ9T0D\",\"B009O36EO0\",269758980,\"Heal\",\"Music\",5,3,4,\"N\",\"Y\",\"MAGIC!!!\",\"Euphoria is one of the reason why I bought this album, since the victory @ Eurovision Song Contest 2012. I'm Indonesian, but I watched the show, and love her performance.<br />My Fave Tracks :<br />- In My Head<br />- My Heart Is Refusing Me<br />- Euphoria<br />- Sober<br />- Crying Out Your Name<br />- Breaking The Robot<br />Loreen's music is influenced by enigma, there are so many \\\"\"mysteries\\\"\" in every single track. Electro Pop, Euro,  Harmony Vocals, in \\\"\"Dark\\\"\" Nuance Reminds me the style of MDNA's in Frozen.<br />Trust me, buy this album, and u'll get the real european taste of her.\",\"2012-11-10\"\n",
      "\"UK\",17139,\"R75U5MUIZ9T0D\",\"B009O36EO0\",269758980,\"Heal\",\"Music\",5,3,4,\"N\",\"Y\",\"MAGIC!!!\",\"Euphoria is one of the reason why I bought this album, since the victory @ Eurovision Song Contest 2012. I'm Indonesian, but I watched the show, and love her performance.<br />My Fave Tracks :<br />- In My Head<br />- My Heart Is Refusing Me<br />- Euphoria<br />- Sober<br />- Crying Out Your Name<br />- Breaking The Robot<br />Loreen's music is influenced by enigma, there are so many \\\"\"mysteries\\\"\" in every single track. Electro Pop, Euro,  Harmony Vocals, in \\\"\"Dark\\\"\" Nuance Reminds me the style of MDNA's in Frozen.<br />Trust me, buy this album, and u'll get the real european taste of her.\",\"2012-11-10\"\n",
      "\"UK\",17809,\"R1X8DIPIAIWFK9\",\"B00AESN8XY\",593367180,\"Plague Inc.\",\"Mobile_Apps\",4,0,0,\"N\",\"Y\",\"gd\",\"Good game I spose\",\"2015-03-11\"\n",
      "\"UK\",17809,\"R1X8DIPIAIWFK9\",\"B00AESN8XY\",593367180,\"Plague Inc.\",\"Mobile_Apps\",4,0,0,\"N\",\"Y\",\"gd\",\"Good game I spose\",\"2015-03-11\"\n",
      "\"UK\",19670,\"R2LKEH0EVPQ35M\",\"B00DUGCLY4\",144324129,\"Guess The Emoji\",\"Mobile_Apps\",3,0,0,\"N\",\"Y\",\"not sure\",\"It's a good app but not played enough to really rate! Enjoying it so far so we shall see!!!! I\",\"2014-03-23\"\n",
      "\"UK\",19670,\"R2LKEH0EVPQ35M\",\"B00DUGCLY4\",144324129,\"Guess The Emoji\",\"Mobile_Apps\",3,0,0,\"N\",\"Y\",\"not sure\",\"It's a good app but not played enough to really rate! Enjoying it so far so we shall see!!!! I\",\"2014-03-23\"\n",
      "\"UK\",19808,\"R39A5MVUEY58YJ\",\"1471131505\",463783108,\"Hard Choices: A Memoir\",\"Books\",4,0,4,\"N\",\"Y\",\"Four Stars\",\"good reading\",\"2014-07-23\"\n",
      "\"UK\",19808,\"R3CRLTN0LEK7CJ\",\"B00AACAIYQ\",170497708,\"BestOfferBuy 52mm Center Pinch Snap On Lens Cap Cover + Strap Camera Canon Nikon\",\"Wireless\",5,0,0,\"N\",\"Y\",\"Five Stars\",\"great product\",\"2015-06-25\"\n",
      "\"UK\",19808,\"R39A5MVUEY58YJ\",\"1471131505\",463783108,\"Hard Choices: A Memoir\",\"Books\",4,0,4,\"N\",\"Y\",\"Four Stars\",\"good reading\",\"2014-07-23\"\n",
      "\"UK\",19808,\"R3CRLTN0LEK7CJ\",\"B00AACAIYQ\",170497708,\"BestOfferBuy 52mm Center Pinch Snap On Lens Cap Cover + Strap Camera Canon Nikon\",\"Wireless\",5,0,0,\"N\",\"Y\",\"Five Stars\",\"great product\",\"2015-06-25\"\n",
      "\"UK\",19860,\"R2KXGMVFSOWR5X\",\"B0002K118I\",296397639,\"Godzilla [DVD]\",\"Video DVD\",4,0,0,\"N\",\"Y\",\"Four Stars\",\"Love the film and so do the kids\",\"2014-12-07\"\n",
      "\"UK\",19860,\"R2KXGMVFSOWR5X\",\"B0002K118I\",296397639,\"Godzilla [DVD]\",\"Video DVD\",4,0,0,\"N\",\"Y\",\"Four Stars\",\"Love the film and so do the kids\",\"2014-12-07\"\n"
     ]
    }
   ],
   "source": [
    "aq_udb -exp amazon:reviews -lim_rec 30"
   ]
  },
  {
   "cell_type": "markdown",
   "metadata": {},
   "source": [
    "<a id='clean_db'></a>\n",
    "### Clean Up Dabase"
   ]
  },
  {
   "cell_type": "code",
   "execution_count": null,
   "metadata": {},
   "outputs": [],
   "source": []
  },
  {
   "cell_type": "markdown",
   "metadata": {},
   "source": [
    "<a id='aq_udb_option'></a>\n",
    "## aq_udb options"
   ]
  },
  {
   "cell_type": "markdown",
   "metadata": {},
   "source": [
    "<a id='exp'></a>\n",
    "### -exp"
   ]
  },
  {
   "cell_type": "markdown",
   "metadata": {},
   "source": [
    "<a id='sort'></a>\n",
    "### -sort"
   ]
  },
  {
   "cell_type": "markdown",
   "metadata": {},
   "source": [
    "<a id='ord'></a>\n",
    "### -ord"
   ]
  },
  {
   "cell_type": "markdown",
   "metadata": {},
   "source": [
    "<a id='shf'></a>\n",
    "### -shf"
   ]
  },
  {
   "cell_type": "markdown",
   "metadata": {},
   "source": [
    "<a id='cnt'></a>\n",
    "### -cnt\n",
    "\n",
    "\n",
    "\n",
    "\n",
    "\n",
    "\n",
    "\n",
    "\n"
   ]
  },
  {
   "cell_type": "markdown",
   "metadata": {},
   "source": [
    "<a id='eval'></a>\n",
    "### -eval"
   ]
  },
  {
   "cell_type": "markdown",
   "metadata": {},
   "source": [
    "<a id='filt'></a>\n",
    "### -filt"
   ]
  },
  {
   "cell_type": "markdown",
   "metadata": {},
   "source": [
    "<a id='var'></a>\n",
    "### -var"
   ]
  },
  {
   "cell_type": "markdown",
   "metadata": {},
   "source": [
    "<a id='del_row'></a>\n",
    "### -del_row"
   ]
  },
  {
   "cell_type": "markdown",
   "metadata": {},
   "source": [
    "<a id='lim_key'></a>\n",
    "### -lim_key"
   ]
  },
  {
   "cell_type": "markdown",
   "metadata": {},
   "source": [
    "<a id='lim_rec'></a>\n",
    "### -lim_rec"
   ]
  },
  {
   "cell_type": "markdown",
   "metadata": {},
   "source": [
    "<a id='key_rec'></a>\n",
    "### -key_rec"
   ]
  },
  {
   "cell_type": "markdown",
   "metadata": {},
   "source": [
    "<a id='top'></a>\n",
    "### -top"
   ]
  },
  {
   "cell_type": "markdown",
   "metadata": {},
   "source": [
    "<a id='last'></a>\n",
    "### -laset"
   ]
  }
 ],
 "metadata": {
  "kernelspec": {
   "display_name": "Bash",
   "language": "bash",
   "name": "bash"
  },
  "language_info": {
   "codemirror_mode": "shell",
   "file_extension": ".sh",
   "mimetype": "text/x-sh",
   "name": "bash"
  }
 },
 "nbformat": 4,
 "nbformat_minor": 2
}
