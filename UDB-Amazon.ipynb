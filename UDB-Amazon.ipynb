{
 "cells": [
  {
   "cell_type": "markdown",
   "metadata": {},
   "source": [
    "# UDB Walk Through with Amazon Product Dataset\n",
    "\n",
    "## Intro\n",
    "\n",
    "In this notebook we will be looking at a simple use case of udb, table, vector and variables to organize and perform little analysis on the [Amazon Product Review Dataset](https://s3.amazonaws.com/amazon-reviews-pds/readme.html), which is publically available on aws s3 bucket. \n",
    "\n",
    "If you're not familiar with the data, go ahead and take a look at the link above. \n",
    "\n",
    "## Pre-requisites\n",
    "\n",
    "You're assumed to have some knowledge of \n",
    "* bash and linux\n",
    "* Essentia and aq_commands\n",
    "* UDB, aq_udb command\n",
    "\n",
    "If you're not confident enough, you can take a look at the other notebooks, or look at [AuriQ Knowledge Base](http://auriq.com/knowledge-base/) where documentations and tutorials are available. \n",
    "\n",
    "Now that is out of the way, let's get started. \n",
    "\n",
    "## Dataset\n",
    "\n",
    "Before getting our hands dirty with the data, we'll take a look at the schema and what's inside of the data. \n",
    "This dataset contains customer reviews from 1995 - 2015, left on amazon.com, and contains 15 columns, some of which are important for this tutorial.\n",
    "* **customer_id** - unique identifier for a customer who left review(s)\n",
    "* **product_parent** - unique identifier for a product. This can be used to merge same product across different marketplace.\n",
    "* **review_id** - unique identifier for a review. \n",
    "* **star_rating** - star rating, ranging from 1 to 5. \n",
    "* **verified_purchase** - whether or not the review is based on verified purchase. String value of Y or N.\n",
    "* **review_date** - string value describing the year, month and date of the review. \n",
    "\n",
    "## What's UDB?\n",
    "If you're already familiar with these concepts, feel free to skip to next section (GOAL). \n",
    "\n",
    "What were the udb? It is a in-memory database that stores data using key-value type data structure. \n",
    "There are 3 data structures, and couple attributes to keep in mind.\n",
    "\n",
    "### Structures\n",
    "Because the database is key-value based, each database needs to have a primary key column specified, which is common across all the data structures within the database. \n",
    "* **Table** - Analogous to SQL table with primary key column, except that foregin key does not exist.\n",
    "* **Vector** - You can think of this as a row / column vector-ish data structure, if you're familiar with matrices. Each vector corresponds to a summary information of a primary key. Can be used to summarize customer information across entire dataset, for e.g. \n",
    "* **Variable** - as the name suggest, this stores values temporarly. Not really a datatype, but comes in handy when performing complex calculations. \n",
    "\n",
    "### Attributes\n",
    "UDB attributes are very powerful. You can assgin one of the following attributes to each column, and when the data flows into table/vector whose columns have these attributes, \n",
    "* `pkey`: primary hash key, must be string type\n",
    "* `tkey`: integer sorting key\n",
    "* `+key`: string key to merge on - only applicable for table. **ADD MORE EXPLANATION**\n",
    "* `+first`: Use the first imported value when merging\n",
    "* `+last`: Use the last imported values when merging\n",
    "* `+add`: Sum values across rows for each unique value\n",
    "* `+bor`: Bitwise-OR numeric values\n",
    "* `+min`: Take the smallest value\n",
    "* `+max`: Take the largest value\n",
    "* `+nozero`: Ignore values of 0 or an empty string\n",
    "\n",
    "## Goal\n",
    "\n",
    "The final goal of this tutorial is to import the data into udb, in a way that is easy to manage and analyze later. Concretely, we will create the following udb databases, tables, vectors and variables.\n",
    "\n",
    "### Database: Amazon\n",
    "This database contains a table and a vector, which are \n",
    "* Table: reviews - keeps all of the original review dataset. \n",
    "* vector: customer - contains summary of each customer's information, such as numbers of reviews each customer left, average star rating of each customer, numbers of helpful votes. \n",
    "\n",
    "**Put shemas here**\n",
    "\n",
    "### Database: Products\n",
    "This database only contains one vector\n",
    "* vector: product - summarizes the information for each product, such as numbers of reviews left, average star ratings, etc. \n",
    "\n",
    "**Schema**\n",
    "\n",
    "## Steps\n",
    "The whole project can be divided up into the following steps. \n",
    "1. define, and crate data schemas on udb, and start udb server\n",
    "2. Stream the data from datastore, process some of the columns, and fill up `reviews` table. \n",
    "3. **Update this section** Do some calculation and fill up the `customer` and `product` vector.\n",
    "\n",
    "## 1. definition \n",
    "We'll select datastore, create category, and define data schemas. Finally start the udb."
   ]
  },
  {
   "cell_type": "code",
   "execution_count": 4,
   "metadata": {},
   "outputs": [
    {
     "name": "stdout",
     "output_type": "stream",
     "text": [
      " 230M Nov 24 2017     /tsv/amazon_reviews_multilingual_DE_v1_00.tsv.gz\n",
      "  67M Nov 24 2017     /tsv/amazon_reviews_multilingual_FR_v1_00.tsv.gz\n",
      "  90M Nov 24 2017     /tsv/amazon_reviews_multilingual_JP_v1_00.tsv.gz\n",
      " 333M Nov 24 2017     /tsv/amazon_reviews_multilingual_UK_v1_00.tsv.gz\n",
      " 1.4G Nov 24 2017     /tsv/amazon_reviews_multilingual_US_v1_00.tsv.gz\n",
      "2020-03-05 00:43:43 ip-10-10-1-36.ec2.internal ess[21053]: Fetching file list from datastore.\n",
      "2020-03-05 00:43:43 ip-10-10-1-36.ec2.internal ess[21053]: Examining largest matched file to determine compression type: /tsv/amazon_reviews_multilingual_DE_v1_00.tsv.gz\n",
      "2020-03-05 00:43:44 ip-10-10-1-36.ec2.internal ess[21053]: Probing largest matched file to determine data configuration: /tsv/amazon_reviews_multilingual_DE_v1_00.tsv.gz\n"
     ]
    }
   ],
   "source": [
    "# choosing the public s3 bucket that stores amazon review dataset as datastore\n",
    "ess select s3://amazon-reviews-pds\n",
    "ess ls /tsv/amazon_reviews_multi*.tsv.gz\n",
    "\n",
    "# create a category only including Danish reviews.\n",
    "ess category add danish_reviews \"/tsv/amazon_reviews_multilingual_DE_v1_00.tsv.gz\" "
   ]
  },
  {
   "cell_type": "code",
   "execution_count": 5,
   "metadata": {},
   "outputs": [
    {
     "name": "stdout",
     "output_type": "stream",
     "text": [
      "Name:        danish_reviews\n",
      "Pattern:     /tsv/amazon_reviews_multilingual_DE_v1_00.tsv.gz\n",
      "Exclude:     None\n",
      "Date Format: auto\n",
      "Date Regex:  \n",
      "Archive:     \n",
      "Delimiter:   Tab\n",
      "# of files:  1\n",
      "Total size:  230.7MB\n",
      "File range:  1970-01-01 - 1970-01-01\n",
      "# columns:   15\n",
      "Column Spec: S:marketplace I:customer_id S:review_id S:product_id I:product_parent S:product_title S:product_category I:star_rating I:helpful_votes I:total_votes S:vine S:verified_purchase S,trm:review_headline S,esc:review_body S:review_date\n",
      "Pkey: \n",
      "Schema: S:marketplace I:customer_id S:review_id S:product_id I:product_parent S:product_title S:product_category I:star_rating I:helpful_votes I:total_votes S:vine S:verified_purchase S,trm:review_headline S,esc:review_body S:review_date\n",
      "Preprocess:  \n",
      "usecache:    False\n",
      "Comment:    \n",
      "\n",
      "First few lines:\n",
      "marketplace\tcustomer_id\treview_id\tproduct_id\tproduct_parent\tproduct_title\tproduct_category\tstar_rating\thelpful_votes\ttotal_votes\tvine\tverified_purchase\treview_headline\treview_body\treview_date\n",
      "DE\t10133\tRVOG49N0H1FB6\tB004TACMZ8\t569741360\tBosch GMS120 Ortungsgerät digital multi-Scanner\tHome Improvement\t5\t0\t0\tN\tY\tSuper\tDelivery took a little bit more then i expected(2 days more) but package was in good condition and the device i fully functional.\t2014-08-01\n",
      "DE\t19612\tRNCMD6OLTP4HM\t1846071224\t785505948\tThe Wheels On The Bus: Favourite Nursery Rhymes (BBC Audio Children's)\tBooks\t5\t1\t1\tN\tY\tGreat compilation\tWe enjoy listening to the song as preparation for our baby. Some of the songs were quite new even for us. We hope our baby will enjoy the songs too as much as we do.\t2014-12-04\n",
      "DE\t19612\tR4AUOBI8YC0R8\t0375851569\t516548029\tDr. Seuss's  Beginner Book Collection\tBooks\t5\t0\t0\tN\tY\tGreat Collection\tVery great compilation. Interesting story and rhymes even for adults. The tongue twister is amazing. This complete my collection of Dr. Seuss's.\t2014-12-04\n",
      "DE\t19677\tR1VSHIJ1RHIBTE\tB0060SVG54\t302116447\tZwei an einem Tag\tVideo DVD\t5\t0\t0\tN\tY\tGuter Verfilmung\tDen Film habe ich bereits vor lesen des Buches gesehen und war begeistert. Die Geschichte kann jeder nachvollziehen und mitfühlen.<br />Wer hatte nicht einmal diesen eine &#34;besten&#34; Freund?!<br />Man kann ihn allein genießen, genauso gut aber auch mit dem Partner oder zu einem schönen Mädelsabend, er passt einfach immer und bei fast jeder Altersgruppe.\t2015-07-16\n"
     ]
    }
   ],
   "source": [
    "ess summary danish_reviews"
   ]
  },
  {
   "cell_type": "markdown",
   "metadata": {},
   "source": [
    "Now we know what the data and its schema looks like, we can go ahead and create and start udb."
   ]
  },
  {
   "cell_type": "code",
   "execution_count": 6,
   "metadata": {},
   "outputs": [
    {
     "name": "stdout",
     "output_type": "stream",
     "text": [
      "ip-10-10-1-36: Starting udbd-10010.\n",
      "ip-10-10-1-36: udbd-10010 (21212) started.\n"
     ]
    }
   ],
   "source": [
    "# This section will create a database and its schemas\n",
    "\n",
    "# first make sure there's no existing udb / schemas. \n",
    "ess server reset\n",
    "\n",
    "# create database \"amazon\", on port 0. \n",
    "# Everything that'll be created after this will be inside of \"amazon\" database. (except ohter database)\n",
    "ess create database amazon --port 0\n",
    "\n",
    "# create tables and vectors, with column specs in amazon db\n",
    "ess create table reviews S:marketplace I,pkey:customer_id I:u_time S:review_id S:product_id I:product_parent S:product_title S:product_category I:star_rating I:helpful_votes I:total_votes S:vine S:verified_purchase S:review_headline S:review_body S:review_date I:year I:month I:day\n",
    "ess create vector customer I,pkey:customer_id I:num_review I,+add:helpful_votes I,+add:total_votes I,+max:max_star I,+min:min_star F:avg_star I:verified_purchases\n",
    "\n",
    "# create products db, and product vector inside\n",
    "ess create database products\n",
    "ess create vector product I,pkey:product_parent I,+add:num_review I,+add:num_verified_purchase I,+min:min_star I,+add:sum_star\n",
    "\n",
    "# this will start the udbd server. \n",
    "ess udbd start "
   ]
  },
  {
   "cell_type": "markdown",
   "metadata": {},
   "source": [
    "Now we have the servers running with necessary schemas, we'll stream our data,\n",
    "* datastore (s3) --> udb table (`amazon`). \n",
    "\n",
    "Within the stream, we will also process some columns and thier values using `aq_pp` command, concretely...\n",
    "* extract year, month and date from `review_date` column, and remap them onto individual new columns.\n",
    "* For `star_rating` column, \n",
    "    * create new `sum_star`, `min_star` columns which will be streamed into `product` vector. \n",
    "* create and assign `num_review` column value of 1\n",
    "* create `num_verified_purchase` column, and conditionally fill it's value using `-if -else` option. "
   ]
  },
  {
   "cell_type": "code",
   "execution_count": 12,
   "metadata": {},
   "outputs": [
    {
     "name": "stdout",
     "output_type": "stream",
     "text": [
      "2020-03-05 00:52:35 ip-10-10-1-36.ec2.internal ess[21327]: !!!Warning!!! Multiple warnings.  See task.log for more details\n"
     ]
    }
   ],
   "source": [
    "# set column spec\n",
    "COLS=\"S:marketplace I:customer_id S:review_id S:product_id I:product_parent S:product_title S:product_category I:star_rating I:helpful_votes I:total_votes S:vine S:verified_purchase S,trm:review_headline S,esc:review_body S:review_date\"\n",
    "\n",
    "# stream, process and fill up udb table and product vector. \n",
    "ess stream danish_reviews \"*\" \"*\" \\\n",
    "    \"aq_pp -f,eok,tsv - -d $COLS \\\n",
    "    -eval I:u_time 'DateToTime(review_date, \\\"%Y.%m.%d\\\")' \\\n",
    "    -mapf review_date '%%YEAR%%-%%MONTH%%-%%DATE%%' \\\n",
    "    -mapc s:s_year '%%YEAR%%' -mapc s:s_month '%%MONTH%%' -mapc s:s_day '%%DATE%%' \\\n",
    "    -eval i:year 'ToI(s_year)' -eval i:month 'ToI(s_month)' -eval i:day 'ToI(s_day)' \\\n",
    "    -eval I:sum_star 'star_rating' -eval I:min_star 'star_rating' -eval I:num_review 1 \\\n",
    "    -if -filt 'verified_purchase == \\\"Y\\\"' -eval I:num_verified_purchase '1' -else -eval num_verified_purchase '0' -endif \\\n",
    "    -imp,ddef,seg=1/1000 amazon:reviews -imp,seg=1/1000 products:product\""
   ]
  },
  {
   "cell_type": "markdown",
   "metadata": {},
   "source": [
    "The table and vector are filled up, so let's take a look using `aq_udb` command. "
   ]
  },
  {
   "cell_type": "code",
   "execution_count": 15,
   "metadata": {},
   "outputs": [
    {
     "name": "stdout",
     "output_type": "stream",
     "text": [
      "\"marketplace\",\"customer_id\",\"u_time\",\"review_id\",\"product_id\",\"product_parent\",\"product_title\",\"product_category\",\"star_rating\",\"helpful_votes\",\"total_votes\",\"vine\",\"verified_purchase\",\"review_headline\",\"review_body\",\"review_date\",\"year\",\"month\",\"day\"\n",
      "\"DE\",3859831,1420156800,\"RU66BVNON80FI\",\"B000024EXY\",202640400,\"Seconds Out\",\"Music\",5,1,3,\"N\",\"Y\",\"einfach klasse\",\"Ich h&ouml;re Genesis schon seit Anfang der 80'er. Nach dem Abgang des genialen, aber auch, f&uuml;r meinen Geschmack etwas zu abgedrehten Peter Gabriel, hatten Genesis m.E. ihre beste Zeit. Ich habe mir endlich auch die &#34;And than they where three&#34; gekauft. Unbedingt empfehlen kann ich auch &#34;A Trick of the Tail&#34;, &#34;Wind and Wuthering&#34; und nat&uuml;rlich &#34;The Lamb lies down on Broadway&#34;!!\",\"2015-01-02\",2015,1,2\n",
      "\"DE\",3965250,1433462400,\"R3OI6RJRW2ZPVQ\",\"B00ERLTDCO\",921065352,\"Desperate Housewives - Staffel 8\",\"Digital_Video_Download\",1,5,11,\"N\",\"N\",\"Stellungnahme !!!!\",\"Hi Amazon....!!!!  Wie wärs mal mit ner Stellungnahme zum desperate housewives &#34;fall&#34; ??!!! Überhaupt zu den kosten, die plötzlich anfallen\",\"2015-06-05\",2015,6,5\n",
      "\"product_parent\",\"num_review\",\"num_verified_purchase\",\"min_star\",\"sum_star\"\n",
      "404311150,14,6,2,62\n",
      "650084900,39,34,2,172\n",
      "123077453,3,2,3,13\n",
      "908800452,15,15,1,56\n",
      "888749714,99,16,1,241\n",
      "86001053,42,24,1,178\n",
      "733594725,16,11,4,79\n",
      "233654963,39,3,2,179\n",
      "971035186,1,0,5,5\n",
      "78818464,6,6,4,29\n"
     ]
    }
   ],
   "source": [
    "# table\n",
    "aq_udb -exp amazon:reviews -top 2\n",
    "# vector\n",
    "aq_udb -exp products:product -top 10"
   ]
  },
  {
   "cell_type": "markdown",
   "metadata": {},
   "source": [
    "# explain how product vector is filled up, with attributes setup.\n"
   ]
  },
  {
   "cell_type": "code",
   "execution_count": 16,
   "metadata": {},
   "outputs": [],
   "source": [
    "# turn things off after using\n",
    "ess server reset"
   ]
  }
 ],
 "metadata": {
  "kernelspec": {
   "display_name": "Bash",
   "language": "bash",
   "name": "bash"
  },
  "language_info": {
   "codemirror_mode": "shell",
   "file_extension": ".sh",
   "mimetype": "text/x-sh",
   "name": "bash"
  }
 },
 "nbformat": 4,
 "nbformat_minor": 2
}
