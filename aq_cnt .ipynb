{
 "cells": [
  {
   "cell_type": "markdown",
   "metadata": {},
   "source": [
    "# aq_cnt tips and samples\n",
    "\n",
    "This notebook goes over aq_cnt's options and it's sample usages. \n",
    "Based on AQ Tools version: 2.0.1-1.\n",
    "\n",
    "### Prerequisites\n",
    "Users are assumed to be equipped with decent knowledge of\n",
    "- bash commands\n",
    "- aq_pp command\n",
    "- input, column and output spec for aq_tools\n",
    "\n",
    "\n",
    "We'll be going over each options in the `aq_cnt` command and it's use cases. Have the [aq_cnt documentation](http://auriq.com/documentation/source/reference/manpages/aq_cnt.html?highlight=aq_cnt) ready on the side, so you can refer to it whenever needed.\n",
    "We'll start with basic usage of each options, then dive into advanced usage.\n",
    "\n",
    "### Dataset\n",
    "Will be using [amazon customer review dataset](https://s3.amazonaws.com/amazon-reviews-pds/readme.html) dataset.\n",
    "This dataset was collected over few decades since 1995 and 2015, and contains over 130+ million customer reviews.\n",
    "\n",
    "We'll be using files from multilinugal dataset, from several marketplace internationally to have variety in data.\n",
    "\n",
    "\n",
    "### Terminology\n",
    "- Key: in `aq_cnt`, key means each unique value present in arbitrary column. It can be a composite key, where it is a unique combination of values from several columns. \n",
    "\n",
    "### To do\n",
    "#### Basic \n",
    "Concrete version of the examples from documentation manual page. \n",
    "- k\n",
    "- kx\n",
    "- kX\n",
    "- g\n",
    "#### Advanced\n",
    "- k\n",
    "- kx\n",
    "- kX\n",
    "- g\n",
    "\n",
    "Now we're ready, let's get started!\n",
    "\n",
    "**Note**\n",
    "\n",
    "*Bash*\n",
    "Throughout the tutorial, we'll be using bash variable to represent fileName and column spec to avoid repetition and lengthy commands.\n",
    "They are assigned on cell below."
   ]
  },
  {
   "cell_type": "code",
   "execution_count": 18,
   "metadata": {},
   "outputs": [],
   "source": [
    "# setting filename and column spec, and brief look at the dataset\n",
    "file=\"data/sample_reviews.tsv\"\n",
    "allColSpec=$(loginf -f,auto $file -o_pp_col -) \n",
    "colSpec=\"S:marketplace X S:review_id S:product_id X X S:product_category F:star_rating X X X X X X X\"\n",
    "#aq_pp -f,+1,tsv $file -d $colSpec -filt '$rowNum < 11'"
   ]
  },
  {
   "cell_type": "markdown",
   "metadata": {},
   "source": [
    "## Data\n",
    "\n",
    "Because of the large scale of this dataset, modified version of it is used in this sample for clarification purpose.\n",
    "Below is the first 10 rows of the data we'll be using.\n",
    "\n",
    "marketplace|review_id|product_id|product_category|star_rating\n",
    "---|---|---|---|---|\n",
    "US|R31B5MWO3O7O6|B007IXWKUK|Digital_Ebook_Purchase|2\n",
    "US|RZ891DUCUNPMD|B00BVMXBVG|Video DVD|5\n",
    "UK|R2D1VN26VB52J0|B005DOL0R0|PC|4\n",
    "US|R3RKWQN433BXL4|B007SSEZNA|Digital_Video_Download|4\n",
    "DE|RXW35JFHT3MU2|B005KPLN5Q|Video DVD|5\n",
    "US|RBPHJIGASHA68|0525946284|Books|5\n",
    "US|R1GD0IA9TYWTFF|145162607X|Books|5\n",
    "UK|R142V52WZDX8GR|B00005421R|Video DVD|5\n",
    "US|R119R14XEIOATS|0736092269|Books|5\n",
    "UK|R2V6F0Z5LE75S1|B00538VY5Y|Video DVD|4\n",
    "\n",
    "### Columns\n",
    "\n",
    "- **marketplace (string):** abbrebiation for country that amazon marketplace is located at.\n",
    "- **review_id (string):** unique review id\n",
    "- **product_id (string):** unique product id\n",
    "- **product_category (string):** category for the products\n",
    "- **star_rating (int):** rating for the each product\n",
    "\n",
    "## Options\n",
    "\n",
    "- `k`\n",
    "- `kx`\n",
    "- `kX`\n",
    "- `-g` **Is this a standalone option or not? fix it**\n",
    "\n",
    "### -k\n",
    "`-k KeyName ColName [ColName ...]`\n",
    "This option counts numbers of unique values present in given column(s). \n",
    "`KeyName` specifies the name of the key (or combination of keys, if multiple columns are given).\n",
    "You can pass multiple columns to count composite key.\n",
    "\n",
    "**Single Column**<br>\n",
    "We can use this to count how many unique products are present in the review.\n",
    "`product_id` column is a unique identifier for each product. \n",
    "Setting keyName as `num_products`, and giving `product_id` to colName option like below..."
   ]
  },
  {
   "cell_type": "code",
   "execution_count": 19,
   "metadata": {},
   "outputs": [
    {
     "name": "stdout",
     "output_type": "stream",
     "text": [
      "\"row\",\"num_product\"\n",
      "2181,879\n"
     ]
    }
   ],
   "source": [
    "aq_cnt -f,+1,tsv,eok $file -d $colSpec -k num_product product_id"
   ]
  },
  {
   "cell_type": "markdown",
   "metadata": {},
   "source": [
    "\n",
    "\n",
    "- `row` is the numbers of total rows processed by the command (in this case the entire dataset)\n",
    "- `num_products`: number of unique values in `product_id` column.\n",
    "\n",
    "**Multiple columns**\n",
    "Let's observe what happens when we provide the `-k` option with multiple columns. This time we'll use a data (`data/multiple_k.txt`) that looks like a table below, which contains marketplace abbreviation and fake product id number.\n",
    "\n",
    "|marketplace|product_id|\n",
    "|---|---|\n",
    "|US|1|\n",
    "|US|2|\n",
    "|US|3|\n",
    "|JP|1|\n",
    "|JP|2|\n",
    "|JP|3|\n",
    "|FR|1|\n",
    "|FR|2|\n",
    "|FR|3|\n",
    "\n",
    "Now unique numbers of `product_id` in the above case would be 3.\n",
    "However numbers of uniue combinations of `product_id` and `marketplace` would be 9. Let's check it."
   ]
  },
  {
   "cell_type": "code",
   "execution_count": 20,
   "metadata": {},
   "outputs": [
    {
     "name": "stdout",
     "output_type": "stream",
     "text": [
      "\"row\",\"num_product\"\n",
      "9,9\n"
     ]
    }
   ],
   "source": [
    "aq_cnt -f,+1,sep=\"|\" data/multiple_k.txt -d s:marketplace i:product_id -k num_product marketplace product_id"
   ]
  },
  {
   "cell_type": "markdown",
   "metadata": {},
   "source": [
    "You can also provide more than 2 columns. This will come in handy when counting numbers of records based on composite key(such as combinations of Last name, first name, phone numbers etc).\n",
    "\n",
    "## -kx\n",
    "\n",
    "`-kx[,AtrLst] File KeyName ColName [ColName ...]` <br>\n",
    "While `-k` option counts and displays the numbers of unique values in given column(s), this option displays the actual unique data in the given columns(s). \n",
    "\n",
    "**Be wary of syntactic difference**<br>\n",
    "This options requires the output file name as the first argument.\n",
    "In this sample we'll be using `-` which outputs on stdout(command line window). \n",
    "    \n",
    "**Single Column**<br>\n",
    "As a example, we'll display the all marketplace names contained in `marketplace` column on amazon review dataset.\n"
   ]
  },
  {
   "cell_type": "code",
   "execution_count": 21,
   "metadata": {},
   "outputs": [
    {
     "name": "stdout",
     "output_type": "stream",
     "text": [
      "\"marketplace\"\n",
      "\"FR\"\n",
      "\"JP\"\n",
      "\"DE\"\n",
      "\"US\"\n",
      "\"UK\"\n"
     ]
    }
   ],
   "source": [
    "aq_cnt -f,+1,tsv,eok $file -d $colSpec -kx - country marketplace"
   ]
  },
  {
   "cell_type": "markdown",
   "metadata": {},
   "source": [
    "Let's take a look at star_rating as well. As we know amazon's star rating ranges from 1~5, so this dataset should also contain all of the numbers.\n"
   ]
  },
  {
   "cell_type": "code",
   "execution_count": 22,
   "metadata": {},
   "outputs": [
    {
     "name": "stdout",
     "output_type": "stream",
     "text": [
      "\"star_rating\"\n",
      "1\n",
      "2\n",
      "3\n",
      "4\n",
      "5\n"
     ]
    }
   ],
   "source": [
    "aq_cnt -f,+1,tsv,eok $file -d $colSpec -kx - country star_rating | aq_ord -f,+1 - -d i:star_rating -sort star_rating"
   ]
  },
  {
   "cell_type": "markdown",
   "metadata": {},
   "source": [
    "**Multiple Columns**<br>\n",
    "Providing `marketplace` and `star_rating` columns, we can take a look at star_rating's values in each market place. (More technically, it is listing the unique combination of values from `marketplace` and `star_rating`. \n",
    "\n",
    "**Note**: in below example, `aq_ord` is used after piping to order the result, but is out of scope of this sample. Don't worry about it for now!"
   ]
  },
  {
   "cell_type": "code",
   "execution_count": 23,
   "metadata": {},
   "outputs": [
    {
     "name": "stdout",
     "output_type": "stream",
     "text": [
      "\"marketplace\",\"star\"\n",
      "\"DE\",\"1\"\n",
      "\"DE\",\"2\"\n",
      "\"DE\",\"3\"\n",
      "\"DE\",\"4\"\n",
      "\"DE\",\"5\"\n",
      "\"FR\",\"1\"\n",
      "\"FR\",\"2\"\n",
      "\"FR\",\"3\"\n",
      "\"FR\",\"4\"\n",
      "\"FR\",\"5\"\n",
      "\"JP\",\"1\"\n",
      "\"JP\",\"2\"\n",
      "\"JP\",\"3\"\n",
      "\"JP\",\"4\"\n",
      "\"JP\",\"5\"\n",
      "\"UK\",\"1\"\n",
      "\"UK\",\"2\"\n",
      "\"UK\",\"3\"\n",
      "\"UK\",\"4\"\n",
      "\"UK\",\"5\"\n",
      "\"US\",\"1\"\n",
      "\"US\",\"2\"\n",
      "\"US\",\"3\"\n",
      "\"US\",\"4\"\n",
      "\"US\",\"5\"\n"
     ]
    }
   ],
   "source": [
    "aq_cnt -f,+1,tsv,eok $file -d $colSpec -kx - country marketplace star_rating \\\n",
    "| aq_ord -f,+1 - -d s:marketplace s:star -sort marketplace star"
   ]
  },
  {
   "cell_type": "markdown",
   "metadata": {},
   "source": [
    "## -kX\n",
    "\n",
    "`-kX[,AtrLst] File KeyName ColName [ColName ...] [STATS:ColName [STATS:ColName ...]]`<br>\n",
    "This option has 2 main functionality.\n",
    "1. Given file name, keyname and column names, it outputs every unique values (or combination of values if multiple column was given), and occurence counts of the each value. \n",
    "2. `STATS:colName` option returns comprehensive statistics of given neumeric column, for each key (column value) combinations. Concretely, it provides sum, average, standard deviation, minimum and maximum. \n",
    "\n",
    "Let's take a look at it in action. We'll start with the first functionality. \n",
    "We can explore how many each marketplace appears in the dataset.\n",
    "We do this by setting `ColName` to `marketplace`. Just like before, we'll set `File` to `-` to display the result on the notebook, instead of outputting it to an external file."
   ]
  },
  {
   "cell_type": "code",
   "execution_count": 24,
   "metadata": {},
   "outputs": [
    {
     "name": "stdout",
     "output_type": "stream",
     "text": [
      "\"marketplace\",\"count\"\n",
      "\"FR\",21\n",
      "\"JP\",30\n",
      "\"DE\",102\n",
      "\"US\",1723\n",
      "\"UK\",305\n"
     ]
    }
   ],
   "source": [
    "aq_cnt -f,+1,tsv $file -d $colSpec -kX - country marketplace"
   ]
  },
  {
   "cell_type": "markdown",
   "metadata": {},
   "source": [
    "As you can see, it displays all the unique values in `marketplace` column, and each value's occurance counts. \n",
    "\n",
    "Next, let's see what we can do with `STATS` option"
   ]
  },
  {
   "cell_type": "code",
   "execution_count": 25,
   "metadata": {},
   "outputs": [
    {
     "name": "stdout",
     "output_type": "stream",
     "text": [
      "\"marketplace\",\"count\",\"star_rating.sum\",\"star_rating.avg\",\"star_rating.stddev\",\"star_rating.min\",\"star_rating.max\"\n",
      "\"FR\",21,84,3.9999999999999991,1.3416407864998738,1,5\n",
      "\"JP\",30,117,3.8999999999999995,1.3222238320605804,1,5\n",
      "\"DE\",102,420,4.1176470588235308,1.3591939781498403,1,5\n",
      "\"US\",1723,7337,4.2582704585025963,1.2226258479092469,1,5\n",
      "\"UK\",305,1274,4.177049180327872,1.2306921248330025,1,5\n"
     ]
    }
   ],
   "source": [
    "aq_cnt -f,+1,tsv $file -d $colSpec -kX - country marketplace STATS:star_rating"
   ]
  },
  {
   "cell_type": "markdown",
   "metadata": {},
   "source": [
    "We gave `star_rating` column to the `STATS` option here.\n",
    "\n",
    "First two columns on the result displays the same information as before, and the rest of columns displays statistical information on `star_rating` column, for each marketplace (columnName or key).\n",
    "\n",
    "This feature is very useful for performing stats analysis by certain groups in a column, such as monthly analysis on numbers of reviews, or star_rating analysis by each product_category.\n",
    "\n",
    "**Multiple Columns**<br>\n",
    "We will provide `product_category` column besides `marketplace`.\n",
    "\n",
    "First we'll take a look at distribution of each product category within each marketplace.\n"
   ]
  },
  {
   "cell_type": "code",
   "execution_count": 35,
   "metadata": {},
   "outputs": [
    {
     "name": "stdout",
     "output_type": "stream",
     "text": [
      "\"marketplace\",\"product_category\",\"count\"\n",
      "\"US\",\"Mobile_Apps\",1478\n",
      "\"US\",\"Digital_Music_Purchase\",99\n",
      "\"US\",\"Toys\",73\n",
      "\"US\",\"PC\",48\n",
      "\"US\",\"Musical Instruments\",15\n",
      "\"US\",\"Shoes\",3\n",
      "\"US\",\"Kitchen\",3\n",
      "\"US\",\"Health & Personal Care\",2\n",
      "\"US\",\"Office Products\",2\n",
      "\"UK\",\"Mobile_Apps\",228\n",
      "\"UK\",\"Digital_Music_Purchase\",29\n",
      "\"UK\",\"Toys\",27\n",
      "\"UK\",\"PC\",15\n",
      "\"UK\",\"Office Products\",3\n",
      "\"UK\",\"Musical Instruments\",2\n",
      "\"UK\",\"Shoes\",1\n",
      "\"JP\",\"Mobile_Apps\",12\n",
      "\"JP\",\"Toys\",11\n",
      "\"JP\",\"PC\",5\n",
      "\"JP\",\"Digital_Music_Purchase\",2\n",
      "\"FR\",\"Mobile_Apps\",8\n",
      "\"FR\",\"Toys\",5\n",
      "\"FR\",\"PC\",4\n",
      "\"FR\",\"Digital_Music_Purchase\",3\n",
      "\"FR\",\"Shoes\",1\n",
      "\"DE\",\"Mobile_Apps\",47\n",
      "\"DE\",\"Toys\",24\n",
      "\"DE\",\"Digital_Music_Purchase\",15\n",
      "\"DE\",\"PC\",12\n",
      "\"DE\",\"Shoes\",1\n",
      "\"DE\",\"Health & Personal Care\",1\n",
      "\"DE\",\"Musical Instruments\",1\n",
      "\"DE\",\"Office Products\",1\n"
     ]
    }
   ],
   "source": [
    "aq_cnt -f,+1,tsv $file -d $colSpec -kX - country marketplace product_category \\\n",
    "| aq_ord -f,+1 - -d s:marketplace s:product_category i:count -sort,dec marketplace count"
   ]
  },
  {
   "cell_type": "markdown",
   "metadata": {},
   "source": [
    "Next, we'll have it display the statistics for each keys above on `star_rating`. We can do it like this."
   ]
  },
  {
   "cell_type": "code",
   "execution_count": 49,
   "metadata": {},
   "outputs": [
    {
     "name": "stdout",
     "output_type": "stream",
     "text": [
      "\"marketplace\",\"product_category\",\"count\",\"rating_sum\",\"rating_avg\",\"rating_stddev\",\"rating_min\",\"rating_max\"\n",
      "\"US\",\"Mobile_Apps\",1478,6247,4.2266576454668376,1.2492569731437477,1,5\n",
      "\"US\",\"Digital_Music_Purchase\",99,455,4.5959595959595987,0.76823667589330191,2,5\n",
      "\"US\",\"Toys\",73,329,4.5068493150684921,1.0817075964422702,1,5\n",
      "\"US\",\"PC\",48,197,4.1041666666666679,1.3720551960445719,1,5\n",
      "\"US\",\"Musical Instruments\",15,67,4.4666666666666668,0.8338093878327919,3,5\n",
      "\"US\",\"Shoes\",3,12,4,1,3,5\n",
      "\"US\",\"Kitchen\",3,14,4.666666666666667,0.57735026918962573,4,5\n",
      "\"US\",\"Health & Personal Care\",2,6,3,1.4142135623730951,2,4\n",
      "\"US\",\"Office Products\",2,10,5,0,5,5\n",
      "\"UK\",\"Mobile_Apps\",228,916,4.0175438596491233,1.3173358252480474,1,5\n",
      "\"UK\",\"Digital_Music_Purchase\",29,134,4.6206896551724128,0.82000841038580119,1,5\n",
      "\"UK\",\"Toys\",27,128,4.7407407407407405,0.81299979149361468,1,5\n",
      "\"UK\",\"PC\",15,68,4.5333333333333332,0.63994047342218441,3,5\n",
      "\"UK\",\"Office Products\",3,14,4.666666666666667,0.57735026918962584,4,5\n",
      "\"UK\",\"Musical Instruments\",2,10,5,0,5,5\n",
      "\"UK\",\"Shoes\",1,4,4,0,4,4\n",
      "\"JP\",\"Mobile_Apps\",12,38,3.1666666666666665,1.5275252316519465,1,5\n",
      "\"JP\",\"Toys\",11,46,4.1818181818181825,0.98164981721404276,2,5\n",
      "\"JP\",\"PC\",5,23,4.5999999999999996,0.89442719099991608,3,5\n",
      "\"JP\",\"Digital_Music_Purchase\",2,10,5,0,5,5\n",
      "\"FR\",\"Mobile_Apps\",8,32,4,1.4142135623730951,1,5\n",
      "\"FR\",\"Toys\",5,19,3.7999999999999998,1.3038404810405297,2,5\n",
      "\"FR\",\"PC\",4,19,4.75,0.49999999999999994,4,5\n",
      "\"FR\",\"Digital_Music_Purchase\",3,9,3,2,1,5\n",
      "\"FR\",\"Shoes\",1,5,5,0,5,5\n",
      "\"DE\",\"Mobile_Apps\",47,176,3.7446808510638294,1.5246964787955122,1,5\n",
      "\"DE\",\"Toys\",24,102,4.25,1.3909646324388165,1,5\n",
      "\"DE\",\"Digital_Music_Purchase\",15,70,4.666666666666667,0.89973541084243747,2,5\n",
      "\"DE\",\"PC\",12,54,4.5,0.90453403373329089,2,5\n",
      "\"DE\",\"Shoes\",1,5,5,0,5,5\n",
      "\"DE\",\"Health & Personal Care\",1,4,4,0,4,4\n",
      "\"DE\",\"Musical Instruments\",1,5,5,0,5,5\n",
      "\"DE\",\"Office Products\",1,4,4,0,4,4\n"
     ]
    }
   ],
   "source": [
    "aq_cnt -f,+1,tsv $file -d $colSpec -kX - country marketplace product_category STATS:star_rating \\\n",
    "| aq_ord -f,+1 - \\\n",
    "-d s:marketplace s:product_category i:count f:rating_sum f:rating_avg f:rating_stddev f:rating_min f:rating_max \\\n",
    "-sort,dec marketplace count\n"
   ]
  },
  {
   "cell_type": "markdown",
   "metadata": {},
   "source": [
    "This displays each keys' (combination of marketplace and product values) stats for star rating values. "
   ]
  },
  {
   "cell_type": "markdown",
   "metadata": {},
   "source": [
    "# From here, further update is needed.\n",
    "\n",
    "\n",
    "## Using Groupby with -g option\n",
    "\n",
    "**What is groupby and how does it work?**\n",
    "`-g` allows users to create group in which to count and analize record. For example, users can specify `marketplace` column as a group, and count numbers of reviews within each market place. \n",
    "\n",
    "### Using Groupby with -k\n",
    "\n",
    "\n",
    "#### Passengers per each passenger class\n",
    "\n",
    "We'll use `-g` option to specify Pclass column as group, and within that group `-k` will count number of unique names. "
   ]
  },
  {
   "cell_type": "code",
   "execution_count": 46,
   "metadata": {},
   "outputs": [
    {
     "name": "stdout",
     "output_type": "stream",
     "text": [
      "\"Pclass\",\"row\",\"head_counts\"\n",
      "1,216,216\n",
      "2,184,184\n",
      "3,487,487\n"
     ]
    }
   ],
   "source": [
    "aq_cnt -f,+1 $file -d $colSpec -g Pclass -k head_counts Name | \\\n",
    "aq_ord -f,+1 - -d i:Pclass i:row i:head_counts -sort Pclass "
   ]
  },
  {
   "cell_type": "markdown",
   "metadata": {},
   "source": [
    "output is in format of <br>\n",
    "```GroupbyCol(Pclass), row, count```\n",
    "\n",
    "#### Passengers per each passenger class and Sex\n",
    "\n",
    "This time using Sex and PClass as the group, counting names belongs to each category."
   ]
  },
  {
   "cell_type": "code",
   "execution_count": 49,
   "metadata": {},
   "outputs": [
    {
     "name": "stdout",
     "output_type": "stream",
     "text": [
      "\"Pclass\",\"Sex\",\"row\",\"head_counts\"\n",
      "1,\"female\",94,94\n",
      "1,\"male\",122,122\n",
      "2,\"female\",76,76\n",
      "2,\"male\",108,108\n",
      "3,\"female\",144,144\n",
      "3,\"male\",343,343\n"
     ]
    }
   ],
   "source": [
    "aq_cnt -f,+1 $file -d $colSpec -g Pclass Sex -k head_counts Name | \\\n",
    "aq_ord -f,+1 - -d i:Pclass s:Sex i:row i:head_counts -sort Pclass Sex"
   ]
  },
  {
   "cell_type": "markdown",
   "metadata": {},
   "source": [
    "### Using Groupby with -kx\n",
    "\n",
    "**Little Refresher for `-kx` option**\n",
    "\n",
    "display /output actual unique values of the colName to stdout or file. \n",
    "Close to \n",
    "\n",
    "```python\n",
    "df[column].unique()\n",
    "```\n",
    "in python&pandas stack.\n",
    "\n",
    "#### TItle per each passenger class\n",
    "Let's take a look at person's title (Mr., Miss., Master., etc), and display it within the group of passenger class. \n",
    "To that we'll extract title from name column and map it into new column, named title, using `aq_pp`. \n",
    "Feel free to skip to the counting part."
   ]
  },
  {
   "cell_type": "code",
   "execution_count": 83,
   "metadata": {},
   "outputs": [
    {
     "name": "stdout",
     "output_type": "stream",
     "text": [
      "\"Pclass\",\"title\"\n",
      "1,\"Major\"\n",
      "1,\"Master\"\n",
      "1,\n",
      "1,\"Miss\"\n",
      "1,\"Mr\"\n",
      "1,\"Mrs\"\n",
      "2,\n",
      "2,\"Master\"\n",
      "2,\"Miss\"\n",
      "2,\"Mr\"\n",
      "2,\"Mrs\"\n",
      "3,\"Mrs\"\n",
      "3,\"Master\"\n",
      "3,\"Miss\"\n",
      "3,\"Mr\"\n"
     ]
    }
   ],
   "source": [
    "# extracting the title from name column\n",
    "aq_pp -f,+1 $file -d $colSpec -mapf,pcre name \"(M(rs?|is{2}|a(s|j).{1,2}r))\" -mapc s:title \"%%1%%\" -c Pclass title | \\\n",
    "\n",
    "### display the titles in each groups.####\n",
    "aq_cnt -f,+1 - -d i:Pclass s:title -g Pclass -kx - title_by_class title | \\\n",
    "\n",
    "aq_ord -f,+1 - -d i:Pclass s:title -sort Pclass"
   ]
  },
  {
   "cell_type": "markdown",
   "metadata": {},
   "source": [
    "We can see that both class 2 and 3 have same passenger titles, but class 1 also has Major. "
   ]
  },
  {
   "cell_type": "markdown",
   "metadata": {},
   "source": [
    "### Using Groupby with -kX\n",
    "For instance, let's count the numbers of people survived, within each passanger class(`Pclass`) using `-g` to group by Pclass, then apply `-kX` to display frequencies of each unique values in Survived column (0s and 1s). "
   ]
  },
  {
   "cell_type": "code",
   "execution_count": 30,
   "metadata": {},
   "outputs": [
    {
     "name": "stdout",
     "output_type": "stream",
     "text": [
      "\"Pclass\",\"Survived\",\"count\"\n",
      "2,0,97\n",
      "2,1,87\n",
      "1,0,80\n",
      "1,1,136\n",
      "3,1,119\n",
      "3,0,368\n"
     ]
    }
   ],
   "source": [
    "aq_cnt -f,+1 $file -d $colSpec -g Pclass -kX - survivor_by_class Survived"
   ]
  },
  {
   "cell_type": "markdown",
   "metadata": {},
   "source": [
    "You can see the format is in\n",
    "\n",
    "`GroupByCol(Pclass), KeyCol(Survived), Count`\n",
    "\n",
    "### Multiple Groupby\n",
    "We can also specify multiple columns as groups to analyze data. \n",
    "\n",
    "Let's take a look at survivor counts in group of Pclass, and sex as well.\n",
    "Groupby Columns will be Pclass and Sex."
   ]
  },
  {
   "cell_type": "code",
   "execution_count": 36,
   "metadata": {},
   "outputs": [
    {
     "name": "stdout",
     "output_type": "stream",
     "text": [
      "\"Pclass\",\"Sex\",\"survived\",\"count\"\n",
      "1,\"female\",0,3\n",
      "1,\"female\",1,91\n",
      "1,\"male\",0,77\n",
      "1,\"male\",1,45\n",
      "2,\"female\",0,6\n",
      "2,\"female\",1,70\n",
      "2,\"male\",0,91\n",
      "2,\"male\",1,17\n",
      "3,\"female\",0,72\n",
      "3,\"female\",1,72\n",
      "3,\"male\",0,296\n",
      "3,\"male\",1,47\n"
     ]
    }
   ],
   "source": [
    "aq_cnt -f,+1 $file -d $colSpec -g Pclass Sex -kX - survivor_by_class_sex survived | \\\n",
    "aq_ord -f,+1 - -d i:Pclass s:Sex i:survived i:count -sort Pclass Sex Survived #-sort,dec survived # ordering the results for visual"
   ]
  },
  {
   "cell_type": "markdown",
   "metadata": {},
   "source": [
    "You can see the grouping structure of Pclass > Sex > Survived. <br>\n",
    "What happends if we'd like to categorize by Sex first, then into Pclasses? "
   ]
  },
  {
   "cell_type": "code",
   "execution_count": 33,
   "metadata": {},
   "outputs": [
    {
     "name": "stdout",
     "output_type": "stream",
     "text": [
      "\"Sex\",\"Pclass\",\"survived\",\"count\"\n",
      "\"female\",1,0,3\n",
      "\"female\",1,1,91\n",
      "\"female\",2,0,6\n",
      "\"female\",2,1,70\n",
      "\"female\",3,0,72\n",
      "\"female\",3,1,72\n",
      "\"male\",1,0,77\n",
      "\"male\",1,1,45\n",
      "\"male\",2,0,91\n",
      "\"male\",2,1,17\n",
      "\"male\",3,0,296\n",
      "\"male\",3,1,47\n"
     ]
    }
   ],
   "source": [
    "aq_cnt -f,+1 $file -d $colSpec -g Sex Pclass -kX - survivor_by_class_sex survived | \\\n",
    "aq_ord -f,+1 - -d s:Sex i:Pclass i:survived i:count -sort Sex Pclass Survived #-sort,dec survived # ordering the results for visual"
   ]
  },
  {
   "cell_type": "markdown",
   "metadata": {},
   "source": [
    "That worked by reversing the column names passed into `-g` option. However when you take a closer look at the comparisons<br>\n",
    "of the 2 outputs, you can see that they're essentially the same data, in different order of row and columns.\\\n",
    "\n",
    "\n",
    "### Wait, but can we do this just by providing multiple colNames??\n",
    "\n",
    "Let's see if we can achieve same result from the last example, using Sex and Pclass as group."
   ]
  },
  {
   "cell_type": "code",
   "execution_count": 90,
   "metadata": {},
   "outputs": [
    {
     "name": "stdout",
     "output_type": "stream",
     "text": [
      "\"Sex\",\"Pclass\",\"survived\",\"count\"\n",
      "\"female\",1,0,3\n",
      "\"female\",1,1,91\n",
      "\"female\",2,0,6\n",
      "\"female\",2,1,70\n",
      "\"female\",3,0,72\n",
      "\"female\",3,1,72\n",
      "\"male\",1,0,77\n",
      "\"male\",1,1,45\n",
      "\"male\",2,0,91\n",
      "\"male\",2,1,17\n",
      "\"male\",3,0,296\n",
      "\"male\",3,1,47\n"
     ]
    }
   ],
   "source": [
    "aq_cnt -f,+1 $file -d $colSpec -kX - survivor_by_class_sex Sex Pclass survived | \\\n",
    "aq_ord -f,+1 - -d s:Sex i:Pclass i:survived i:count -sort Sex Pclass Survived #-sort,dec survived # ordering the results"
   ]
  },
  {
   "cell_type": "markdown",
   "metadata": {},
   "source": [
    "### Todo\n",
    "As far as I know, you can, but there might exist some things that can only be done through `-g` option.\n",
    "\n",
    "Will be updated in the futuer on this. "
   ]
  }
 ],
 "metadata": {
  "kernelspec": {
   "display_name": "Bash",
   "language": "bash",
   "name": "bash"
  },
  "language_info": {
   "codemirror_mode": "shell",
   "file_extension": ".sh",
   "mimetype": "text/x-sh",
   "name": "bash"
  }
 },
 "nbformat": 4,
 "nbformat_minor": 2
}
