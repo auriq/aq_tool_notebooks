{
 "cells": [
  {
   "cell_type": "markdown",
   "metadata": {},
   "source": [
    "# aq_cnt tips and samples\n",
    "\n",
    "This notebook goes over aq_cnt's options and it's sample usages. \n",
    "Based on AQ Tools version: 2.0.1-1.\n",
    "\n",
    "I'll be adding examples specific to `-g` options for now.\n",
    "\n",
    "Will be using [titanic](https://www.kaggle.com/c/titanic) dataset, and updated to add more samples."
   ]
  },
  {
   "cell_type": "code",
   "execution_count": 4,
   "metadata": {},
   "outputs": [
    {
     "name": "stdout",
     "output_type": "stream",
     "text": [
      "Survived,Pclass,Name,Sex,Age,Siblings/Spouses Aboard,Parents/Children Aboard,Fare\n",
      "0,3,Mr. Owen Harris Braund,male,22,1,0,7.25\n",
      "1,1,Mrs. John Bradley (Florence Briggs Thayer) Cumings,female,38,1,0,71.2833\n",
      "1,3,Miss. Laina Heikkinen,female,26,0,0,7.925\n",
      "1,1,Mrs. Jacques Heath (Lily May Peel) Futrelle,female,35,1,0,53.1\n",
      "0,3,Mr. William Henry Allen,male,35,0,0,8.05\n",
      "0,3,Mr. James Moran,male,27,0,0,8.4583\n",
      "0,1,Mr. Timothy J McCarthy,male,54,0,0,51.8625\n",
      "0,3,Master. Gosta Leonard Palsson,male,2,3,1,21.075\n",
      "1,3,Mrs. Oscar W (Elisabeth Vilhelmina Berg) Johnson,female,27,0,2,11.1333\n"
     ]
    }
   ],
   "source": [
    "# setting filename and column spec, and brief look at the dataset\n",
    "file=\"data/titanic.csv\"\n",
    "colSpec=$(loginf -f,auto $file -o_pp_col -)\n",
    "head $file"
   ]
  },
  {
   "cell_type": "markdown",
   "metadata": {},
   "source": [
    "Little bit about the data, here are some info about the columns.\n",
    "### columns\n",
    "- i:survivor:  1 indicates survivor, 0 indicates did not make it.\n",
    "- i:Pclass:  Passenger class, the smaller the number, more luxurious. \n",
    "- s:Name:  full name of the passengers.\n",
    "- s:sex:   male/female string\n",
    "- i:Siblings/Spouses Aboad:  int, 1 if siblings/spouses are on board as well.\n",
    "- i:Parents/Children Aboard: similar to above, but Parens/Children\n",
    "\n",
    "Now let's take a look at the options.\n",
    "\n",
    "## options\n",
    "\n",
    "### -g \n",
    "\n",
    "In short, this option let users to specify column groups to apply `-k*` options.  \n",
    "\n",
    "### Using Groupby with -k\n",
    "\n",
    "**Little Refresher for `-k` option**\n",
    "\n",
    "count numbers of unique values in specified column name. <br>\n",
    "Close to executing \n",
    "```python\n",
    "len(df[colName].unique())\n",
    "```\n",
    "in python&pandas stack.\n",
    "\n",
    "#### Passengers per each passenger class\n",
    "\n",
    "We'll use `-g` option to specify Pclass column as group, and within that group `-k` will count number of unique names. "
   ]
  },
  {
   "cell_type": "code",
   "execution_count": 46,
   "metadata": {},
   "outputs": [
    {
     "name": "stdout",
     "output_type": "stream",
     "text": [
      "\"Pclass\",\"row\",\"head_counts\"\n",
      "1,216,216\n",
      "2,184,184\n",
      "3,487,487\n"
     ]
    }
   ],
   "source": [
    "aq_cnt -f,+1 $file -d $colSpec -g Pclass -k head_counts Name | \\\n",
    "aq_ord -f,+1 - -d i:Pclass i:row i:head_counts -sort Pclass "
   ]
  },
  {
   "cell_type": "markdown",
   "metadata": {},
   "source": [
    "output is in format of <br>\n",
    "```GroupbyCol(Pclass), row, count```\n",
    "\n",
    "#### Passengers per each passenger class and Sex\n",
    "\n",
    "This time using Sex and PClass as the group, counting names belongs to each category."
   ]
  },
  {
   "cell_type": "code",
   "execution_count": 49,
   "metadata": {},
   "outputs": [
    {
     "name": "stdout",
     "output_type": "stream",
     "text": [
      "\"Pclass\",\"Sex\",\"row\",\"head_counts\"\n",
      "1,\"female\",94,94\n",
      "1,\"male\",122,122\n",
      "2,\"female\",76,76\n",
      "2,\"male\",108,108\n",
      "3,\"female\",144,144\n",
      "3,\"male\",343,343\n"
     ]
    }
   ],
   "source": [
    "aq_cnt -f,+1 $file -d $colSpec -g Pclass Sex -k head_counts Name | \\\n",
    "aq_ord -f,+1 - -d i:Pclass s:Sex i:row i:head_counts -sort Pclass Sex"
   ]
  },
  {
   "cell_type": "markdown",
   "metadata": {},
   "source": [
    "### Using Groupby with -kx\n",
    "\n",
    "**Little Refresher for `-kx` option**\n",
    "\n",
    "display /output actual unique values of the colName to stdout or file. \n",
    "Close to \n",
    "\n",
    "```python\n",
    "df[column].unique()\n",
    "```\n",
    "in python&pandas stack.\n",
    "\n",
    "#### TItle per each passenger class\n",
    "Let's take a look at person's title (Mr., Miss., Master., etc), and display it within the group of passenger class. \n",
    "To that we'll extract title from name column and map it into new column, named title, using `aq_pp`. \n",
    "Feel free to skip to the counting part."
   ]
  },
  {
   "cell_type": "code",
   "execution_count": 83,
   "metadata": {},
   "outputs": [
    {
     "name": "stdout",
     "output_type": "stream",
     "text": [
      "\"Pclass\",\"title\"\n",
      "1,\"Major\"\n",
      "1,\"Master\"\n",
      "1,\n",
      "1,\"Miss\"\n",
      "1,\"Mr\"\n",
      "1,\"Mrs\"\n",
      "2,\n",
      "2,\"Master\"\n",
      "2,\"Miss\"\n",
      "2,\"Mr\"\n",
      "2,\"Mrs\"\n",
      "3,\"Mrs\"\n",
      "3,\"Master\"\n",
      "3,\"Miss\"\n",
      "3,\"Mr\"\n"
     ]
    }
   ],
   "source": [
    "# extracting the title from name column\n",
    "aq_pp -f,+1 $file -d $colSpec -mapf,pcre name \"(M(rs?|is{2}|a(s|j).{1,2}r))\" -mapc s:title \"%%1%%\" -c Pclass title | \\\n",
    "\n",
    "### display the titles in each groups.####\n",
    "aq_cnt -f,+1 - -d i:Pclass s:title -g Pclass -kx - title_by_class title | \\\n",
    "\n",
    "aq_ord -f,+1 - -d i:Pclass s:title -sort Pclass"
   ]
  },
  {
   "cell_type": "markdown",
   "metadata": {},
   "source": [
    "We can see that both class 2 and 3 have same passenger titles, but class 1 also has Major. "
   ]
  },
  {
   "cell_type": "markdown",
   "metadata": {},
   "source": [
    "### Using Groupby with -kX\n",
    "For instance, let's count the numbers of people survived, within each passanger class(`Pclass`) using `-g` to group by Pclass, then apply `-kX` to display frequencies of each unique values in Survived column (0s and 1s). "
   ]
  },
  {
   "cell_type": "code",
   "execution_count": 30,
   "metadata": {},
   "outputs": [
    {
     "name": "stdout",
     "output_type": "stream",
     "text": [
      "\"Pclass\",\"Survived\",\"count\"\n",
      "2,0,97\n",
      "2,1,87\n",
      "1,0,80\n",
      "1,1,136\n",
      "3,1,119\n",
      "3,0,368\n"
     ]
    }
   ],
   "source": [
    "aq_cnt -f,+1 $file -d $colSpec -g Pclass -kX - survivor_by_class Survived"
   ]
  },
  {
   "cell_type": "markdown",
   "metadata": {},
   "source": [
    "You can see the format is in\n",
    "\n",
    "`GroupByCol(Pclass), KeyCol(Survived), Count`\n",
    "\n",
    "### Multiple Groupby\n",
    "We can also specify multiple columns as groups to analyze data. \n",
    "\n",
    "Let's take a look at survivor counts in group of Pclass, and sex as well.\n",
    "Groupby Columns will be Pclass and Sex."
   ]
  },
  {
   "cell_type": "code",
   "execution_count": 36,
   "metadata": {},
   "outputs": [
    {
     "name": "stdout",
     "output_type": "stream",
     "text": [
      "\"Pclass\",\"Sex\",\"survived\",\"count\"\n",
      "1,\"female\",0,3\n",
      "1,\"female\",1,91\n",
      "1,\"male\",0,77\n",
      "1,\"male\",1,45\n",
      "2,\"female\",0,6\n",
      "2,\"female\",1,70\n",
      "2,\"male\",0,91\n",
      "2,\"male\",1,17\n",
      "3,\"female\",0,72\n",
      "3,\"female\",1,72\n",
      "3,\"male\",0,296\n",
      "3,\"male\",1,47\n"
     ]
    }
   ],
   "source": [
    "aq_cnt -f,+1 $file -d $colSpec -g Pclass Sex -kX - survivor_by_class_sex survived | \\\n",
    "aq_ord -f,+1 - -d i:Pclass s:Sex i:survived i:count -sort Pclass Sex Survived #-sort,dec survived # ordering the results for visual"
   ]
  },
  {
   "cell_type": "markdown",
   "metadata": {},
   "source": [
    "You can see the grouping structure of Pclass > Sex > Survived. <br>\n",
    "What happends if we'd like to categorize by Sex first, then into Pclasses? "
   ]
  },
  {
   "cell_type": "code",
   "execution_count": 33,
   "metadata": {},
   "outputs": [
    {
     "name": "stdout",
     "output_type": "stream",
     "text": [
      "\"Sex\",\"Pclass\",\"survived\",\"count\"\n",
      "\"female\",1,0,3\n",
      "\"female\",1,1,91\n",
      "\"female\",2,0,6\n",
      "\"female\",2,1,70\n",
      "\"female\",3,0,72\n",
      "\"female\",3,1,72\n",
      "\"male\",1,0,77\n",
      "\"male\",1,1,45\n",
      "\"male\",2,0,91\n",
      "\"male\",2,1,17\n",
      "\"male\",3,0,296\n",
      "\"male\",3,1,47\n"
     ]
    }
   ],
   "source": [
    "aq_cnt -f,+1 $file -d $colSpec -g Sex Pclass -kX - survivor_by_class_sex survived | \\\n",
    "aq_ord -f,+1 - -d s:Sex i:Pclass i:survived i:count -sort Sex Pclass Survived #-sort,dec survived # ordering the results for visual"
   ]
  },
  {
   "cell_type": "markdown",
   "metadata": {},
   "source": [
    "That worked by reversing the column names passed into `-g` option. However when you take a closer look at the comparisons<br>\n",
    "of the 2 outputs, you can see that they're essentially the same data, in different order of row and columns.\\\n",
    "\n",
    "\n",
    "### Wait, but can we do this just by providing multiple colNames??\n",
    "\n",
    "Let's see if we can achieve same result from the last example, using Sex and Pclass as group."
   ]
  },
  {
   "cell_type": "code",
   "execution_count": 90,
   "metadata": {},
   "outputs": [
    {
     "name": "stdout",
     "output_type": "stream",
     "text": [
      "\"Sex\",\"Pclass\",\"survived\",\"count\"\n",
      "\"female\",1,0,3\n",
      "\"female\",1,1,91\n",
      "\"female\",2,0,6\n",
      "\"female\",2,1,70\n",
      "\"female\",3,0,72\n",
      "\"female\",3,1,72\n",
      "\"male\",1,0,77\n",
      "\"male\",1,1,45\n",
      "\"male\",2,0,91\n",
      "\"male\",2,1,17\n",
      "\"male\",3,0,296\n",
      "\"male\",3,1,47\n"
     ]
    }
   ],
   "source": [
    "aq_cnt -f,+1 $file -d $colSpec -kX - survivor_by_class_sex Sex Pclass survived | \\\n",
    "aq_ord -f,+1 - -d s:Sex i:Pclass i:survived i:count -sort Sex Pclass Survived #-sort,dec survived # ordering the results"
   ]
  },
  {
   "cell_type": "markdown",
   "metadata": {},
   "source": [
    "### Todo\n",
    "As far as I know, you can, but there might exist some things that can only be done through `-g` option.\n",
    "\n",
    "Will be updated in the futuer on this. "
   ]
  }
 ],
 "metadata": {
  "kernelspec": {
   "display_name": "Bash",
   "language": "bash",
   "name": "bash"
  },
  "language_info": {
   "codemirror_mode": "shell",
   "file_extension": ".sh",
   "mimetype": "text/x-sh",
   "name": "bash"
  }
 },
 "nbformat": 4,
 "nbformat_minor": 2
}
