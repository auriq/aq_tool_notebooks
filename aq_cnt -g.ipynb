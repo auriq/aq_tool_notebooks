{
 "cells": [
  {
   "cell_type": "markdown",
   "metadata": {},
   "source": [
    "# aq_cnt tips and samples\n",
    "\n",
    "This notebook goes over aq_cnt's options and it's sample usages. \n",
    "Based on AQ Tools version: 2.0.1-1.\n",
    "\n",
    "Will be using [titanic](https://www.kaggle.com/c/titanic) dataset, and updated to add more samples."
   ]
  },
  {
   "cell_type": "code",
   "execution_count": 7,
   "metadata": {},
   "outputs": [
    {
     "name": "stdout",
     "output_type": "stream",
     "text": [
      "Survived,Pclass,Name,Sex,Age,Siblings/Spouses Aboard,Parents/Children Aboard,Fare\n",
      "0,3,Mr. Owen Harris Braund,male,22,1,0,7.25\n",
      "1,1,Mrs. John Bradley (Florence Briggs Thayer) Cumings,female,38,1,0,71.2833\n",
      "1,3,Miss. Laina Heikkinen,female,26,0,0,7.925\n",
      "1,1,Mrs. Jacques Heath (Lily May Peel) Futrelle,female,35,1,0,53.1\n",
      "0,3,Mr. William Henry Allen,male,35,0,0,8.05\n",
      "0,3,Mr. James Moran,male,27,0,0,8.4583\n",
      "0,1,Mr. Timothy J McCarthy,male,54,0,0,51.8625\n",
      "0,3,Master. Gosta Leonard Palsson,male,2,3,1,21.075\n",
      "1,3,Mrs. Oscar W (Elisabeth Vilhelmina Berg) Johnson,female,27,0,2,11.1333\n"
     ]
    }
   ],
   "source": [
    "# setting filename and column spec, and brief look at the dataset\n",
    "file=\"data/titanic.csv\"\n",
    "colSpec=$(loginf -f,auto $file -o_pp_col -)\n",
    "head $file"
   ]
  },
  {
   "cell_type": "markdown",
   "metadata": {},
   "source": [
    "Little bit about the data, here are some info about the columns.\n",
    "### columns\n",
    "- i:survivor:  1 indicates survivor, 0 indicates did not make it.\n",
    "- i:Pclass:  Passenger class, the smaller the number, more luxurious. \n",
    "- s:Name:  full name of the passengers.\n",
    "- s:sex:   male/female string\n",
    "- i:Siblings/Spouses Aboad:  int, 1 if siblings/spouses are on board as well.\n",
    "- i:Parents/Children Aboard: similar to above, but Parens/Children\n",
    "\n",
    "Now let's take a look at the options.\n",
    "\n",
    "## options\n",
    "\n",
    "### -g \n",
    "\n",
    "\n",
    "That was the doc, but bit hard to understand. In short, this option let users to specify column groups to apply `-k*` options.  \n",
    "\n",
    "\n",
    "For instance, let's count the numbers of people survived, within each passanger class(`Pclass`) using `-g` to group by Pclass, then apply `-kX` to display frequencies of each unique values in Survived column (0s and 1s). "
   ]
  },
  {
   "cell_type": "code",
   "execution_count": 10,
   "metadata": {},
   "outputs": [
    {
     "name": "stdout",
     "output_type": "stream",
     "text": [
      "\"Pclass\",\"Survived\",\"count\"\n",
      "2,0,97\n",
      "2,1,87\n",
      "1,0,80\n",
      "1,1,136\n",
      "3,1,119\n",
      "3,0,368\n"
     ]
    }
   ],
   "source": [
    "aq_cnt -f,+1 $file -d $colSpec -g Pclass -kX - survivor_by_class Survived"
   ]
  }
 ],
 "metadata": {
  "kernelspec": {
   "display_name": "Bash",
   "language": "bash",
   "name": "bash"
  },
  "language_info": {
   "codemirror_mode": "shell",
   "file_extension": ".sh",
   "mimetype": "text/x-sh",
   "name": "bash"
  }
 },
 "nbformat": 4,
 "nbformat_minor": 2
}
