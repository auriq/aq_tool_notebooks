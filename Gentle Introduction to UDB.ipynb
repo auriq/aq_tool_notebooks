{
 "cells": [
  {
   "cell_type": "markdown",
   "metadata": {},
   "source": [
    "# Gentle Introduction to UDB\n",
    "\n",
    "On this notebook, we'll be exposing you to the foundamental concepts, super simple use case of udb.\n",
    "\n",
    "ToS would be ....\n",
    "\n",
    "## Table of Contents\n",
    "\n",
    "* How does the \"streaming\" works?? How data are processed inside of the stream? How is it different from major DS tools like Pandas??\n",
    "\n",
    "* Table\n",
    "* Vector\n",
    "* attributes with use cases\n",
    "\n"
   ]
  },
  {
   "cell_type": "code",
   "execution_count": null,
   "metadata": {},
   "outputs": [],
   "source": []
  },
  {
   "cell_type": "code",
   "execution_count": null,
   "metadata": {},
   "outputs": [],
   "source": []
  },
  {
   "cell_type": "code",
   "execution_count": null,
   "metadata": {},
   "outputs": [],
   "source": []
  },
  {
   "cell_type": "code",
   "execution_count": null,
   "metadata": {},
   "outputs": [],
   "source": []
  }
 ],
 "metadata": {
  "kernelspec": {
   "display_name": "Bash",
   "language": "bash",
   "name": "bash"
  },
  "language_info": {
   "codemirror_mode": "shell",
   "file_extension": ".sh",
   "mimetype": "text/x-sh",
   "name": "bash"
  }
 },
 "nbformat": 4,
 "nbformat_minor": 2
}
