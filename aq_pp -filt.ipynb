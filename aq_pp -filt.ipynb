{
 "cells": [
  {
   "cell_type": "markdown",
   "metadata": {},
   "source": [
    "# aq_pp command -filt\n",
    "\n",
    "In this notebook, we'll go over common usage examples of the data preprocessing command, `aq_pp`'s option `-filt`.\n",
    "\n",
    "## Objective\n",
    "\n",
    "Objective of this notebook is to educate and familiarize new users of `aq_tool` with `-filt` option. By the end of this sample, they should have understandings of basic syntax and usage of the option, and be able to perform basic operation comfortably. \n",
    "Advanced application, such as usage with other options will be covered in the future. \n",
    "\n",
    "Before going over this notebook, make sure you're faimilar with the following concepts.\n",
    "\n",
    "* Bash commands\n",
    "* Regular Expression\n",
    "* aq_input / input-spec \n",
    "* string manupilation with `aq_tool` **LINK TO MAP / STRING MANIPULATION WITH AQ_PP** (Only for string manupilation / comparison section)\n",
    "\n",
    "If not familiar with any of the above, resource can be found on  \n",
    "- [aq-input](aq_input.ipynb).\n",
    "- [aq-output notebook](aq_output.ipynb)\n",
    "- [aq_pp string manupilation](\n",
    " \n",
    "\n",
    "Also have the [aq_pp documentation](http://auriq.com/documentation/source/reference/manpages/aq_pp.html) ready on your side, so you can refer to the details of each options as needed.\n",
    "\n",
    "## Overview\n",
    "\n",
    "`-filt` option of `aq_pp` command filter / select records (row) based on given conditional statement, which is called `FilterSpec` in `aq_tool`'s eco system. If given `FilterSpec` for a record is true, the record is selected. Otherwise it is discarded. \n",
    "\n",
    "You can think of it as python pandas' equivalent of `df.loc[\"someCondition\"]` or SQL's equivalent of `WHERE` clause.\n",
    "\n",
    "\n",
    "### Syntax\n",
    "\n",
    "```aq_pp, -f,  ... -filt 'FiltSpec' ...```\n",
    "\n",
    "where `FiltSpec` is the conditional expression. Note that `FilterSpec` needs to be single quoted.\n",
    "\n",
    "### Filter Spec\n",
    "Followings are the components of filter spec.\n",
    "\n",
    "```ColName|Constant compare ColName|Constant```\n",
    "\n",
    "Values on the both sizes (`ColName|Constant`) can be either\n",
    "* Column / Variable name, **without quotation**\n",
    "* String, number or IP address constant. (String needs to be quoted)\n",
    "\n",
    "\n",
    "`compare`: comparison operator, which are\n",
    "* `==`, `>`, `<`, `>=`, `<=` - comparison.\n",
    "* `!`: negation of filter spec, should be placed at the front\n",
    "* Other operators are also available, please refer to the [aq_pp documentation](http://auriq.com/documentation/source/reference/manpages/aq_pp.html#filt)\n",
    "\n",
    "\n",
    "**Example of Filter Spec**<br>\n",
    "\n",
    "Assume that we had an integer column named `age` with people's age, and we'd like to filter out records with age greater than 18 (exclusive). We can use this option as \n",
    "\n",
    "`aq_pp ... -filt 'age>18' ... `\n",
    "\n",
    "## Data\n",
    "\n",
    "We'll be using a smaller portion of [amazon review dataset](https://s3.amazonaws.com/amazon-reviews-pds/readme.html). \n",
    "Necessary columns are selected and records are sampled from the original dataset. \n",
    "Below is the preview of the dataset.\n",
    "\n",
    "marketplace|product_category|product_title|star_rating|verified_purchase|helpful_votes|\n",
    "-----|-----|-----|-----|-----|-----|\n",
    "UK|Toys|Elsa Musical Wand|5.0|1|0.0|\n",
    "US|Mobile_Apps|The Cursed Ship, Collector’s Edition|3.0|1|0.0|\n",
    "US|Digital_Music_Purchase|Transit Of Venus|4.0|1|1.0|\n",
    "US|PC|Griffin 3m USB to Lightning Cable (GC36633)|1.0|1|0.0|\n",
    "DE|Toys|Lego Duplo Winnie the Pooh 5945 - Winnie Poohs Picknick|5.0|1|0.0|\n",
    "US|Mobile_Apps|Crossy Road|5.0|1|0.0|\n",
    "US|Toys|Schleich Tyrannosaurus Rex|5.0|1|0.0|\n",
    "US|Digital_Music_Purchase|Mylo Xyloto|5.0|0|0.0|\n",
    "US|Digital_Music_Purchase|Need You Now|5.0|1|0.0|\n",
    "US|Digital_Music_Purchase|Rhythm & Blues|3.0|1|0.0|\n",
    "\n",
    "**Column Details of the Dataset**<br>\n",
    "\n",
    "So what are these columns really mean??\n",
    "\n",
    "column name|Data Type|Description|Unique Values/Range|\n",
    "-----|-----|-----|-----|\n",
    "Marketplace|String|Amazon market place|US, UK, DE, JP, FR|\n",
    "product_category|String|product category that the product belongs to|9 distinct categories|\n",
    "product_title|String|product's title|N/A|\n",
    "star_rating|Float|star rating received|1.0 ~ 5.0|\n",
    "verified_purchase|Integer|If the purchase was verified or not|1 for verified, 0 for not|\n",
    "helpful_votes|Float|Numbers of helpful votes per review|0.0 ~ 568.0|\n",
    "\n",
    "\n",
    "**Column Spec**<br>\n",
    "Setting up the column spec for the dataset, we have:\n",
    "\n",
    "```S:MarketPlace S:product_category S:product_title F:star_rating I:verified_purchase I:helpful_vote```\n",
    "\n",
    "\n",
    "\n",
    "Now we are ready, let's get started on samples!\n",
    "\n",
    "## Samples\n",
    "\n",
    "**Note**<br>\n",
    "Througout the samples, the result from `aq_pp` command will be piped into `head` command to restrict the amout of records to be displayed.<br>\n",
    "Feel free to remove the `head` command though, to get the view of entire result.\n",
    "\n",
    "### Loading the Data"
   ]
  },
  {
   "cell_type": "code",
   "execution_count": 6,
   "metadata": {},
   "outputs": [
    {
     "name": "stdout",
     "output_type": "stream",
     "text": [
      "\"MarketPlace\",\"product_category\",\"product_title\",\"star_rating\",\"verified_purchase\",\"helpful_vote\"\n",
      "\"UK\",\"PC\",\"Amazon Zip Sleeve for 7-Inch Tablets\",4,1,0\n",
      "\"UK\",\"Mobile_Apps\",\"Facebook\",3,1,0\n",
      "\"US\",\"Digital_Music_Purchase\",\"Hail to the King\",5,1,0\n",
      "\"US\",\"Musical Instruments\",\"BEHRINGER TU300\",5,1,0\n",
      "\"US\",\"Digital_Music_Purchase\",\"Rhythm & Blues\",3,1,0\n",
      "\"US\",\"Mobile_Apps\",\"Candy Crush Saga\",5,1,1\n",
      "\"US\",\"Digital_Music_Purchase\",\"x (Deluxe Edition)\",5,1,0\n",
      "\"US\",\"Mobile_Apps\",\"Buttons and Scissors (Pro)\",4,1,0\n",
      "\"US\",\"Mobile_Apps\",\"Handy Photo\",5,1,0\n"
     ]
    }
   ],
   "source": [
    "# set up the column spec and file path, and dipslay the data on stdout\n",
    "cols=\"S:MarketPlace S:product_category S:product_title F:star_rating I:verified_purchase F:helpful_vote\"\n",
    "file=\"data/aq_pp/amazon_review_binary.csv\"\n",
    "\n",
    "# only displaying the top 10 records of all\n",
    "aq_pp -f,+1 $file -d $cols | head -n 10"
   ]
  },
  {
   "cell_type": "markdown",
   "metadata": {},
   "source": [
    "### Numerical Comparison\n",
    "\n",
    "Here we'll try to filter out records by certain range or value of a numeric columns.\n",
    "\n",
    "Let's say we only would like to take a look at reviews with more than 4 star rating (inclusive). <br>\n",
    "In this case we can provide a column name `star_rating`, as well as comparison operator and a constant to construct `FilterSpec`. We'll output only product category and rating for clearity."
   ]
  },
  {
   "cell_type": "code",
   "execution_count": 7,
   "metadata": {},
   "outputs": [
    {
     "name": "stdout",
     "output_type": "stream",
     "text": [
      "\"product_category\",\"star_rating\"\n",
      "\"PC\",4\n",
      "\"Digital_Music_Purchase\",5\n",
      "\"Musical Instruments\",5\n",
      "\"Mobile_Apps\",5\n",
      "\"Digital_Music_Purchase\",5\n",
      "\"Mobile_Apps\",4\n",
      "\"Mobile_Apps\",5\n",
      "\"Mobile_Apps\",5\n",
      "\"Toys\",5\n",
      "\"PC\",4\n",
      "\"Digital_Music_Purchase\",5\n",
      "\"Toys\",5\n",
      "\"Toys\",5\n",
      "\"Mobile_Apps\",4\n",
      "\"Digital_Music_Purchase\",4\n",
      "\"Toys\",4\n",
      "\"Digital_Music_Purchase\",5\n",
      "\"Toys\",5\n",
      "\"Toys\",5\n",
      "\"Digital_Music_Purchase\",5\n",
      "\"Mobile_Apps\",4\n",
      "\"Toys\",5\n",
      "\"Office Products\",4\n",
      "\"Digital_Music_Purchase\",5\n"
     ]
    }
   ],
   "source": [
    "# piping the result into head command to display the top 10 results\n",
    "aq_pp -f,+1 $file -d $cols -filt 'star_rating > 3' -c product_category star_rating | head -n 25"
   ]
  },
  {
   "cell_type": "markdown",
   "metadata": {},
   "source": [
    "We've successfully extracted records with more than or equal to 4 star ratings. \n",
    "It's also possible to pass in `star_rating >= 4` to gain the same result."
   ]
  },
  {
   "cell_type": "code",
   "execution_count": 10,
   "metadata": {},
   "outputs": [
    {
     "name": "stdout",
     "output_type": "stream",
     "text": [
      "\"product_category\",\"star_rating\"\n",
      "\"PC\",4\n",
      "\"Digital_Music_Purchase\",5\n",
      "\"Musical Instruments\",5\n",
      "\"Mobile_Apps\",5\n",
      "\"Digital_Music_Purchase\",5\n",
      "\"Mobile_Apps\",4\n",
      "\"Mobile_Apps\",5\n",
      "\"Mobile_Apps\",5\n",
      "\"Toys\",5\n",
      "\"PC\",4\n",
      "\"Digital_Music_Purchase\",5\n",
      "\"Toys\",5\n",
      "\"Toys\",5\n",
      "\"Mobile_Apps\",4\n",
      "\"Digital_Music_Purchase\",4\n",
      "\"Toys\",4\n",
      "\"Digital_Music_Purchase\",5\n",
      "\"Toys\",5\n",
      "\"Toys\",5\n"
     ]
    }
   ],
   "source": [
    "aq_pp -f,+1 $file -d $cols -filt 'star_rating >= 4' -c product_category star_rating | head -n 20"
   ]
  },
  {
   "cell_type": "markdown",
   "metadata": {},
   "source": [
    "Now we'd like to make sure that all the reviews are legitimate. We can make sure that the purchase is verified by filtering out the record with value of `verified_purchase == 1`. Let's take a look."
   ]
  },
  {
   "cell_type": "code",
   "execution_count": 11,
   "metadata": {},
   "outputs": [
    {
     "name": "stdout",
     "output_type": "stream",
     "text": [
      "\"product_category\",\"verified_purchase\"\n",
      "\"PC\",1\n",
      "\"Mobile_Apps\",1\n",
      "\"Digital_Music_Purchase\",1\n",
      "\"Musical Instruments\",1\n",
      "\"Digital_Music_Purchase\",1\n",
      "\"Mobile_Apps\",1\n",
      "\"Digital_Music_Purchase\",1\n",
      "\"Mobile_Apps\",1\n",
      "\"Mobile_Apps\",1\n",
      "\"Toys\",1\n",
      "\"Mobile_Apps\",1\n",
      "\"Toys\",1\n",
      "\"Mobile_Apps\",1\n",
      "\"Toys\",1\n",
      "\"PC\",1\n",
      "\"Mobile_Apps\",1\n",
      "\"Toys\",1\n",
      "\"Toys\",1\n",
      "\"Mobile_Apps\",1\n"
     ]
    }
   ],
   "source": [
    "aq_pp -f,+1 $file -d $cols -filt 'verified_purchase == 1' -c product_category verified_purchase | head -n 20"
   ]
  },
  {
   "cell_type": "markdown",
   "metadata": {},
   "source": [
    "**Negation Operator**<br>\n",
    "\n",
    "You can negate the `FilterSpec` to get records that are the opposite. For instance, by negating the previous filter spec of verified purchase, we are able to extract only NON-verified purchases."
   ]
  },
  {
   "cell_type": "code",
   "execution_count": 12,
   "metadata": {
    "scrolled": true
   },
   "outputs": [
    {
     "name": "stdout",
     "output_type": "stream",
     "text": [
      "\"product_category\",\"verified_purchase\"\n",
      "\"Digital_Music_Purchase\",0\n",
      "\"Digital_Music_Purchase\",0\n",
      "\"Toys\",0\n",
      "\"Digital_Music_Purchase\",0\n",
      "\"Digital_Music_Purchase\",0\n",
      "\"PC\",0\n",
      "\"Toys\",0\n",
      "\"Toys\",0\n",
      "\"Digital_Music_Purchase\",0\n",
      "\"Toys\",0\n",
      "\"Digital_Music_Purchase\",0\n",
      "\"Toys\",0\n",
      "\"Digital_Music_Purchase\",0\n",
      "\"Digital_Music_Purchase\",0\n",
      "\"Digital_Music_Purchase\",0\n",
      "\"Toys\",0\n",
      "\"Mobile_Apps\",0\n",
      "\"PC\",0\n",
      "\"Digital_Music_Purchase\",0\n"
     ]
    }
   ],
   "source": [
    "aq_pp -f,+1 $file -d $cols -filt '!(verified_purchase == 1)' -c product_category verified_purchase | head -n 20"
   ]
  },
  {
   "cell_type": "markdown",
   "metadata": {},
   "source": [
    "This comes in very handy when you'd like to negate a group of multiple filter specs that are introduced below."
   ]
  },
  {
   "cell_type": "markdown",
   "metadata": {},
   "source": [
    "**Combinations of Numerical Comparisons**<br>\n",
    "\n",
    "Let's combine the filters from above to refine our search more. We'd like our reviews to be **BOTH**\n",
    "- more than 4 stars (inclusive)\n",
    "- verified purchase (equal 1)\n",
    "\n",
    "\n",
    "To do this, we can combine these 2 conditions using `&&` operator like below."
   ]
  },
  {
   "cell_type": "code",
   "execution_count": 13,
   "metadata": {},
   "outputs": [
    {
     "name": "stdout",
     "output_type": "stream",
     "text": [
      "\"product_category\",\"star_rating\",\"verified_purchase\"\n",
      "\"PC\",4,1\n",
      "\"Digital_Music_Purchase\",5,1\n",
      "\"Musical Instruments\",5,1\n",
      "\"Mobile_Apps\",5,1\n",
      "\"Digital_Music_Purchase\",5,1\n",
      "\"Mobile_Apps\",4,1\n",
      "\"Mobile_Apps\",5,1\n",
      "\"Mobile_Apps\",5,1\n",
      "\"Toys\",5,1\n",
      "\"PC\",4,1\n",
      "\"Toys\",5,1\n",
      "\"Toys\",5,1\n",
      "\"Mobile_Apps\",4,1\n",
      "\"Digital_Music_Purchase\",4,1\n",
      "\"Toys\",4,1\n",
      "\"Digital_Music_Purchase\",5,1\n",
      "\"Toys\",5,1\n",
      "\"Digital_Music_Purchase\",5,1\n",
      "\"Mobile_Apps\",4,1\n"
     ]
    }
   ],
   "source": [
    "aq_pp -f,+1 $file -d $cols -filt 'star_rating >= 4 && verified_purchase == 1' -c product_category star_rating verified_purchase | \\\n",
    "head -n 20"
   ]
  },
  {
   "cell_type": "markdown",
   "metadata": {},
   "source": [
    "You can also negate the whole filter by adding `!` in the very beginning of the `FilterSpec`, like below."
   ]
  },
  {
   "cell_type": "code",
   "execution_count": 14,
   "metadata": {},
   "outputs": [
    {
     "name": "stdout",
     "output_type": "stream",
     "text": [
      "\"product_category\",\"star_rating\",\"verified_purchase\"\n",
      "\"Mobile_Apps\",3,1\n",
      "\"Digital_Music_Purchase\",3,1\n",
      "\"Toys\",1,1\n",
      "\"Mobile_Apps\",1,1\n",
      "\"Toys\",3,1\n",
      "\"Digital_Music_Purchase\",5,0\n",
      "\"Mobile_Apps\",1,1\n",
      "\"Digital_Music_Purchase\",2,0\n",
      "\"Toys\",5,0\n",
      "\"Digital_Music_Purchase\",1,0\n",
      "\"Digital_Music_Purchase\",5,0\n",
      "\"Mobile_Apps\",2,1\n",
      "\"PC\",5,0\n",
      "\"Toys\",3,1\n",
      "\"Toys\",5,0\n",
      "\"Toys\",4,0\n",
      "\"Toys\",1,1\n",
      "\"Digital_Music_Purchase\",5,0\n",
      "\"Mobile_Apps\",1,1\n"
     ]
    }
   ],
   "source": [
    "aq_pp -f,+1 $file -d $cols -filt '!(star_rating >= 4 && verified_purchase == 1)' -c product_category star_rating verified_purchase | \\\n",
    "head -n 20"
   ]
  },
  {
   "cell_type": "markdown",
   "metadata": {},
   "source": [
    "More complicated chain of `FilterSpec`s are supported, with use of `()`s. Generally when combining each `FilterSpec`, \n",
    "- `&&`: logical AND\n",
    "- `||`: logical OR\n",
    "- `()`: parenthesis to group some expression together.\n",
    "\n",
    "Let's see them in action. We'd like our reviews to be\n",
    "- star_rating: 5 OR 1, **AND**\n",
    "- verified, **AND** have more than 10 helpful_votes\n",
    "\n",
    "As a whole `FilterSpec`, this would look like this.<br>\n",
    "```'(star_rating == 1 || star_rating == 5) && (verified_purchase == 1 && helpful_vote >= 10)'```"
   ]
  },
  {
   "cell_type": "code",
   "execution_count": 15,
   "metadata": {},
   "outputs": [
    {
     "name": "stdout",
     "output_type": "stream",
     "text": [
      "\"product_category\",\"star_rating\",\"verified_purchase\",\"helpful_vote\"\n",
      "\"Toys\",1,1,10\n",
      "\"Mobile_Apps\",1,1,11\n",
      "\"Mobile_Apps\",1,1,37\n",
      "\"Toys\",1,1,15\n",
      "\"Mobile_Apps\",5,1,98\n",
      "\"Digital_Music_Purchase\",5,1,17\n",
      "\"Musical Instruments\",5,1,16\n",
      "\"PC\",1,1,64\n",
      "\"Toys\",5,1,57\n",
      "\"Mobile_Apps\",5,1,25\n",
      "\"PC\",5,1,11\n",
      "\"PC\",5,1,106\n"
     ]
    }
   ],
   "source": [
    "aq_pp -f,+1 $file -d $cols -filt '(star_rating == 1 || star_rating == 5) && (verified_purchase == 1 && helpful_vote >= 10)' \\\n",
    "-c product_category star_rating verified_purchase helpful_vote | head -n 20"
   ]
  },
  {
   "cell_type": "markdown",
   "metadata": {},
   "source": [
    "### String Comparison\n",
    "\n",
    "**Note:** This section requires little knowledge of string manupilation with `aq_pp`, and the builtin functions `aq-emod`.\n",
    "\n",
    "`-filt` option is also capable of filtering records according to string columns' / constant's condition(s). There are 2 main ways of filtering out records with string columns, one is using operators that are exclusively used for string comparision. The other is to use `aq-emod` builtin functions.\n",
    "\n",
    "**Operators**<br>\n",
    "\n",
    "Belows are some of the operators that can be applied to string values.\n",
    "* `~==`, `~>`, `~<`, `~>=`, `~<=` - LHS and RHS case insensitive comparison; string type only.\n",
    "* `==`, `>`, `<`, `>=`, `<=` - LHS and RHS comparison, these can be applied to string also.\n",
    "\n",
    "We'll go over some samples using the same amazon review dataset.\n",
    "\n",
    "Let's start with extracting records that belongs to Japanese marketplace. We'll set `marketplace` equal to \"JP\". Note that any string constants within `FilterSpec` needs to be quoted as well. In the case below, double qoutes are used for quoting string, while single quotes are used for `FilterSpec` as a whole."
   ]
  },
  {
   "cell_type": "code",
   "execution_count": 36,
   "metadata": {},
   "outputs": [
    {
     "name": "stdout",
     "output_type": "stream",
     "text": [
      "\"MarketPlace\",\"product_category\",\"product_title\",\"star_rating\",\"verified_purchase\",\"helpful_vote\"\n",
      "\"JP\",\"Toys\",\"トランスフォーマーGo! G13 ハンターショックウェーブ\",3,1,1\n",
      "\"JP\",\"Mobile_Apps\",\"Townsmen\",5,1,1\n",
      "\"JP\",\"Mobile_Apps\",\"Evernote\",4,1,3\n",
      "\"JP\",\"PC\",\"インテル Celeron G1620 (Ivy Bridge 2.70GHz) LGA1155 BX80637G1620\",5,0,1\n",
      "\"JP\",\"Mobile_Apps\",\"Wi-Fi Analyzer\",3,1,0\n",
      "\"JP\",\"PC\",\"PhotoFast MS ProDuoデュアルアダプター CR-5400\",3,1,0\n",
      "\"JP\",\"PC\",\"EIZO FORIS 23.0インチ TFTモニタ 1920x1080 DVI-D24ピンx1 D-Sub15ピンx1 HDMIx2 ブラック FS2333\",5,1,4\n",
      "\"JP\",\"PC\",\"【Amazon.co.jp限定】TDK 録画用ブルーレイディスク BD-R 25GB 1-4倍速 ホワイトワイドプリンタブル 50枚スピンドル BRV25PWB50PK\",5,1,0\n",
      "\"JP\",\"Mobile_Apps\",\"Voxel Invaders\",3,1,22\n",
      "\"JP\",\"PC\",\"Belkin (Kindle Fire HD(2012年モデル)専用) クラシック ケース/カバー ブラック\",5,1,1\n",
      "\"JP\",\"Toys\",\"トランスフォーマープライム AM-05 メガトロン\",4,1,0\n",
      "\"JP\",\"Mobile_Apps\",\"Perfect Viewer\",4,1,1\n",
      "\"JP\",\"Toys\",\"キネティックサンド　1ｋｇ\",5,1,5\n",
      "\"JP\",\"Mobile_Apps\",\"Tab for Gmail\",3,1,0\n",
      "\"JP\",\"Mobile_Apps\",\"OfficeSuite Professional\",1,1,1\n",
      "\"JP\",\"Toys\",\"レゴ (LEGO) スター・ウォーズ ミレニアム・ファルコン 7965\",4,1,0\n",
      "\"JP\",\"Toys\",\"S.H.フィギュアーツ  スーパーサイヤ人孫悟空\",5,1,2\n",
      "\"JP\",\"Toys\",\"figma METROID Other M  サムス・アラン(ABS&PVC製塗装済み可動フィギュア)\",5,1,0\n",
      "\"JP\",\"Toys\",\"モンスター・ハイ 恐怖の都スカリシリーズ スカリジェンヌ オープンカー (Y4307)\",4,1,0\n",
      "\"JP\",\"Mobile_Apps\",\"Dark Arcana: カーニバル\",5,1,2\n",
      "\"JP\",\"Toys\",\"レゴ (LEGO) クリエイター・シーサイドハウス 7346\",5,1,0\n",
      "\"JP\",\"Mobile_Apps\",\"WIFI Hacker Professional Prank\",1,1,1\n",
      "\"JP\",\"Digital_Music_Purchase\",\"Red Dragon Cartel\",5,1,2\n",
      "\"JP\",\"Mobile_Apps\",\"SWF FLASH PLAYER LITE\",1,1,14\n",
      "\"JP\",\"Toys\",\"RG 1/144 ZGMF-X10A フリーダムガンダム (機動戦士ガンダムSEED)\",4,0,2\n",
      "\"JP\",\"Toys\",\"ラングスジャパン(RANGS) 室内用お砂遊び キネティックサンド 1kg\",2,1,3\n",
      "\"JP\",\"Digital_Music_Purchase\",\"Greatest Hits\",5,1,5\n",
      "\"JP\",\"Mobile_Apps\",\"簡単ボイスレコーダー\",3,1,5\n",
      "\"JP\",\"Mobile_Apps\",\"ES File Explorer File Manager\",5,1,1\n",
      "\"JP\",\"Toys\",\"レゴ (LEGO) ムービー ゲッタウェイ・グライダー 70800\",5,0,1\n"
     ]
    }
   ],
   "source": [
    "aq_pp -f,+1 $file -d $cols -filt 'MarketPlace == \"JP\"'"
   ]
  },
  {
   "cell_type": "markdown",
   "metadata": {},
   "source": [
    "You can also use other operators such as `<` or `>`, each compares string's alphabetical positions?? (**check, might be other encoding values**)\n",
    "\n",
    "Assuming that it is alphabetical comparison, we can limit the marketplace's name to anything after letter \"U\" in the alphabet by following (inclusive)."
   ]
  },
  {
   "cell_type": "code",
   "execution_count": 16,
   "metadata": {},
   "outputs": [
    {
     "name": "stdout",
     "output_type": "stream",
     "text": [
      "\"MarketPlace\",\"product_category\",\"product_title\",\"star_rating\",\"verified_purchase\",\"helpful_vote\"\n",
      "\"UK\",\"PC\",\"Amazon Zip Sleeve for 7-Inch Tablets\",4,1,0\n",
      "\"UK\",\"Mobile_Apps\",\"Facebook\",3,1,0\n",
      "\"US\",\"Digital_Music_Purchase\",\"Hail to the King\",5,1,0\n",
      "\"US\",\"Musical Instruments\",\"BEHRINGER TU300\",5,1,0\n",
      "\"US\",\"Digital_Music_Purchase\",\"Rhythm & Blues\",3,1,0\n",
      "\"US\",\"Mobile_Apps\",\"Candy Crush Saga\",5,1,1\n",
      "\"US\",\"Digital_Music_Purchase\",\"x (Deluxe Edition)\",5,1,0\n",
      "\"US\",\"Mobile_Apps\",\"Buttons and Scissors (Pro)\",4,1,0\n",
      "\"US\",\"Mobile_Apps\",\"Handy Photo\",5,1,0\n",
      "\"US\",\"Mobile_Apps\",\"MY LITTLE PONY - Friendship is Magic\",1,1,0\n",
      "\"US\",\"Mobile_Apps\",\"The Room Two (Kindle Tablet Edition)\",5,1,0\n",
      "\"US\",\"Toys\",\"LEGO Star Wars Death Star (10188) (Discontinued by manufacturer)\",5,1,0\n",
      "\"US\",\"PC\",\"Marware Axis Genuine Leather Rotating, Standing Case for Kindle Fire HD 7\"\" (only fits Kindle Fire HD 7\"\")\",4,1,0\n",
      "\"US\",\"Digital_Music_Purchase\",\"The Idler Wheel Is Wiser Than the Driver of the Screw and Whipping Cords Will Serve You More Than Ropes Will Ever Do\",5,0,0\n",
      "\"US\",\"Mobile_Apps\",\"Learn Piano\",1,1,0\n",
      "\"US\",\"Digital_Music_Purchase\",\"Simply The Best\",2,0,0\n",
      "\"US\",\"Mobile_Apps\",\"Magic Jigsaw Puzzles\",4,1,0\n",
      "\"US\",\"Digital_Music_Purchase\",\"Music From Another Dimension!\",4,1,0\n",
      "\"US\",\"Toys\",\"Uncle Milton Radio Control Tarantula\",4,1,0\n"
     ]
    }
   ],
   "source": [
    "aq_pp -f,+1 $file -d $cols -filt 'MarketPlace >= \"U\"' | head -n 20"
   ]
  },
  {
   "cell_type": "markdown",
   "metadata": {},
   "source": [
    "We've filtered out everything except \"UK\" and \"US\". \n",
    "\n",
    "We can also combine several `FilterSpec`s to apply more complex conditional statememnts, just like numeric columns.\n",
    "For example, we can extract records of Japanese Marketplace with product category of Toys."
   ]
  },
  {
   "cell_type": "code",
   "execution_count": 17,
   "metadata": {},
   "outputs": [
    {
     "name": "stdout",
     "output_type": "stream",
     "text": [
      "\"MarketPlace\",\"product_category\",\"product_title\",\"star_rating\",\"verified_purchase\",\"helpful_vote\"\n",
      "\"UK\",\"PC\",\"Amazon Zip Sleeve for 7-Inch Tablets\",4,1,0\n",
      "\"UK\",\"Mobile_Apps\",\"Facebook\",3,1,0\n",
      "\"US\",\"Digital_Music_Purchase\",\"Hail to the King\",5,1,0\n",
      "\"US\",\"Musical Instruments\",\"BEHRINGER TU300\",5,1,0\n",
      "\"US\",\"Digital_Music_Purchase\",\"Rhythm & Blues\",3,1,0\n",
      "\"US\",\"Mobile_Apps\",\"Candy Crush Saga\",5,1,1\n",
      "\"US\",\"Digital_Music_Purchase\",\"x (Deluxe Edition)\",5,1,0\n",
      "\"US\",\"Mobile_Apps\",\"Buttons and Scissors (Pro)\",4,1,0\n",
      "\"US\",\"Mobile_Apps\",\"Handy Photo\",5,1,0\n",
      "\"US\",\"Mobile_Apps\",\"MY LITTLE PONY - Friendship is Magic\",1,1,0\n",
      "\"US\",\"Mobile_Apps\",\"The Room Two (Kindle Tablet Edition)\",5,1,0\n",
      "\"US\",\"Toys\",\"LEGO Star Wars Death Star (10188) (Discontinued by manufacturer)\",5,1,0\n",
      "\"US\",\"PC\",\"Marware Axis Genuine Leather Rotating, Standing Case for Kindle Fire HD 7\"\" (only fits Kindle Fire HD 7\"\")\",4,1,0\n",
      "\"US\",\"Digital_Music_Purchase\",\"The Idler Wheel Is Wiser Than the Driver of the Screw and Whipping Cords Will Serve You More Than Ropes Will Ever Do\",5,0,0\n",
      "\"US\",\"Mobile_Apps\",\"Learn Piano\",1,1,0\n",
      "\"US\",\"Digital_Music_Purchase\",\"Simply The Best\",2,0,0\n",
      "\"US\",\"Mobile_Apps\",\"Magic Jigsaw Puzzles\",4,1,0\n",
      "\"US\",\"Digital_Music_Purchase\",\"Music From Another Dimension!\",4,1,0\n",
      "\"US\",\"Toys\",\"Uncle Milton Radio Control Tarantula\",4,1,0\n"
     ]
    }
   ],
   "source": [
    "aq_pp -f,+1 $file -d $cols -filt 'MarketPlace >= \"U\"' | head -n 20"
   ]
  },
  {
   "cell_type": "markdown",
   "metadata": {},
   "source": [
    "**aq-emod**<br>\n",
    "\n",
    "Here are some simple examples of applying `-filt` with builtin functions. Remember that this is just examples to get you familiar with, and you can do much more complex and advanced string filtering. \n",
    "\n",
    "`SLeng(val)`<br>\n",
    "For the first example, let's say that you'd like to collect only records with relatively short product title. Let's say less than 10 characters long. In order to get the length of string, we can use a builtin function called `SLeng(val)` where `val` is string constant or string column name. This function returns the length of given string in integer, which can be used to filter records with less than 10 characters long. Let's take a look"
   ]
  },
  {
   "cell_type": "code",
   "execution_count": 18,
   "metadata": {},
   "outputs": [
    {
     "name": "stdout",
     "output_type": "stream",
     "text": [
      "\"MarketPlace\",\"product_category\",\"product_title\",\"star_rating\",\"verified_purchase\",\"helpful_vote\"\n",
      "\"UK\",\"Mobile_Apps\",\"Facebook\",3,1,0\n",
      "\"US\",\"Mobile_Apps\",\"Quell\",5,1,0\n",
      "\"US\",\"Digital_Music_Purchase\",\"Tapestry\",5,1,0\n",
      "\"US\",\"Mobile_Apps\",\"Minecraft\",5,1,0\n",
      "\"UK\",\"Digital_Music_Purchase\",\"Powerage\",5,1,0\n",
      "\"DE\",\"Mobile_Apps\",\"Solitär\",5,1,1\n",
      "\"US\",\"Mobile_Apps\",\"Quell\",5,0,3\n",
      "\"US\",\"Digital_Music_Purchase\",\"Oceania\",3,1,0\n",
      "\"US\",\"Digital_Music_Purchase\",\"True\",5,1,0\n",
      "\"US\",\"Mobile_Apps\",\"Minecraft\",5,1,0\n",
      "\"US\",\"Digital_Music_Purchase\",\"Duets II\",5,0,0\n",
      "\"US\",\"Mobile_Apps\",\"Bible\",1,1,11\n",
      "\"US\",\"Digital_Music_Purchase\",\"Magic\",5,1,1\n",
      "\"US\",\"Digital_Music_Purchase\",\"YES!\",5,0,0\n",
      "\"US\",\"Mobile_Apps\",\"BADLAND\",4,1,4\n",
      "\"UK\",\"Digital_Music_Purchase\",\"Angles\",4,0,1\n",
      "\"US\",\"Mobile_Apps\",\"My Horse\",5,1,0\n",
      "\"US\",\"Toys\",\"Blokus\",5,1,1\n",
      "\"US\",\"Digital_Music_Purchase\",\"Nikki\",5,1,17\n"
     ]
    }
   ],
   "source": [
    "aq_pp -f,+1 $file -d $cols -filt 'SLeng(product_title) < 10' | head -n 20"
   ]
  },
  {
   "cell_type": "markdown",
   "metadata": {},
   "source": [
    "`RxCmp(Val, Pattern)`<br>\n",
    "Given `Val`(string constant / column) and `Pattern` (Regex string), this return 1 if there are match in `Val` string, and 0 otherwise. \n",
    "\n",
    "We can use this to filter out records that does not have any alphabetic characters in its product_title. Regex to match alphabet characters is `\"[A-z]+\"`, which will be provided to `RxCmp()`. Finally, the function should return 0 if there are NO match in product_title.  "
   ]
  },
  {
   "cell_type": "code",
   "execution_count": 43,
   "metadata": {},
   "outputs": [
    {
     "name": "stdout",
     "output_type": "stream",
     "text": [
      "\"MarketPlace\",\"product_title\"\n",
      "\"US\",\"10000000\"\n",
      "\"JP\",\"キネティックサンド　1ｋｇ\"\n",
      "\"UK\",\"21\"\n",
      "\"JP\",\"簡単ボイスレコーダー\"\n"
     ]
    }
   ],
   "source": [
    "aq_pp -f,+1 $file -d $cols -filt 'RxCmp(product_title, \"[A-z]+\", pcre) == 0' -c MarketPlace product_title"
   ]
  },
  {
   "cell_type": "markdown",
   "metadata": {},
   "source": [
    "### RowNum\n",
    "\n",
    "Using `-filt` option and [builtin variable](http://auriq.com/documentation/source/reference/manpages/aq_pp.html#builtin) `rowNum` we can process only certain numbers of records. For example let's say we'd like to display first 5 records only (Note that `rowNum` take the first row / header into account as well)."
   ]
  },
  {
   "cell_type": "code",
   "execution_count": 45,
   "metadata": {},
   "outputs": [
    {
     "name": "stdout",
     "output_type": "stream",
     "text": [
      "\"MarketPlace\",\"product_title\"\n",
      "\"UK\",\"Amazon Zip Sleeve for 7-Inch Tablets\"\n",
      "\"US\",\"Shine Runner\"\n",
      "\"US\",\"Subway Surfers\"\n",
      "\"US\",\"Temple Run 2\"\n",
      "\"US\",\"101-in-1 Games\"\n"
     ]
    }
   ],
   "source": [
    "aq_pp -f,+1 $file -d $cols -filt '$rowNum < 6' -c MarketPlace product_title"
   ]
  },
  {
   "cell_type": "markdown",
   "metadata": {},
   "source": [
    "You can also display even numbers' records only. Let us also add row called index to make the row number clear."
   ]
  },
  {
   "cell_type": "code",
   "execution_count": 19,
   "metadata": {},
   "outputs": [
    {
     "name": "stdout",
     "output_type": "stream",
     "text": [
      "\"Index\",\"MarketPlace\",\"product_title\"\n",
      "2,\"UK\",\"Facebook\"\n",
      "4,\"US\",\"BEHRINGER TU300\"\n",
      "6,\"US\",\"Candy Crush Saga\"\n",
      "8,\"US\",\"Buttons and Scissors (Pro)\"\n",
      "10,\"DE\",\"STAR WARS Unisex Wecker Analog Kunststoff weiß STAR3\"\n",
      "12,\"JP\",\"トランスフォーマーGo! G13 ハンターショックウェーブ\"\n",
      "14,\"US\",\"LEGO Star Wars Death Star (10188) (Discontinued by manufacturer)\"\n",
      "16,\"US\",\"The Idler Wheel Is Wiser Than the Driver of the Screw and Whipping Cords Will Serve You More Than Ropes Will Ever Do\"\n",
      "18,\"US\",\"Simply The Best\"\n",
      "20,\"DE\",\"Pegasus Spiele 54541G - Camel Up, Spiel des Jahres 2014\"\n",
      "22,\"US\",\"Music From Another Dimension!\"\n",
      "24,\"US\",\"Bloodstone & Diamonds\"\n",
      "26,\"UK\",\"Beyblades #BB118 Japanese Metal Fusion Phantom Orion Starter Set(Discontinued by manufacturer)\"\n",
      "28,\"US\",\"Wolfram|Alpha\"\n",
      "30,\"DE\",\"CASIO FX-5800P programmierbarer technisch-wissenschaftlicher Rechner, 4-zeilige Anzeige\"\n",
      "32,\"UK\",\"Orchard Toys Bus Stop\"\n",
      "34,\"UK\",\"Presence [Explicit]\"\n",
      "36,\"US\",\"Fruit Ninja Free\"\n",
      "38,\"UK\",\"Intex Wetset Summer Colours Swim Centre 73 x 71 Inch Pool\"\n"
     ]
    }
   ],
   "source": [
    "aq_pp -f,+1 $file -d $cols -eval 'I:Index' '$rowNum' -filt '$rowNum % 2 == 0' -c Index MarketPlace product_title | \\\n",
    "head -n 20"
   ]
  },
  {
   "cell_type": "markdown",
   "metadata": {},
   "source": [
    "Yes, it is possible to assign arithmetic as a part of `FilterSpec` as well."
   ]
  }
 ],
 "metadata": {
  "kernelspec": {
   "display_name": "Bash",
   "language": "bash",
   "name": "bash"
  },
  "language_info": {
   "codemirror_mode": "shell",
   "file_extension": ".sh",
   "mimetype": "text/x-sh",
   "name": "bash"
  }
 },
 "nbformat": 4,
 "nbformat_minor": 2
}
