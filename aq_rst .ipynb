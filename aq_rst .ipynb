{
 "cells": [
  {
   "cell_type": "markdown",
   "metadata": {},
   "source": [
    "# aq_rst\n",
    "\n",
    "## Overview\n",
    "This command allows users to convert flattened column keyed data into pivot table. Details of the syntax and available options can be referred by `man aq_rst`, but basic syntax is followings.\n",
    "\n",
    "```aq_rst [input spec] -key colName1 -lab colName2 -val colname3```\n",
    "- `-key` - column name(s) to form key (or unique row names in result's table), can be any data type. (This is close to pandas' `df.pivot_table()`'s `index`)\n",
    "- `-lab` - column name to form the columns in the result table. (Close to pandas' `df.pivot_table()`'s `column`)\n",
    "\n",
    "## Basics\n",
    "Let's take a look at super simple example.\n",
    "\n",
    "**Input Table**<br>\n",
    "\n",
    "Sex|Class|Count\n",
    "---|---|---\n",
    "female|First|91\n",
    "female|Second|70\n",
    "female|Third|72\n",
    "male|First|45\n",
    "male|Second|17\n",
    "male|Third|47\n",
    "\n",
    "The table above is survivor count of RMS Titanic from [Titanic dataset](https://www.kaggle.com/c/titanic). which is the input to the `aq_rst` command. <br>\n",
    "Roles of the each columns in the tables changes before and after `aq_rst` command's execution like below.\n",
    "\n",
    "**Input Table** ->    **Result Table**\n",
    "- `-key` - Sex -> Row Names\n",
    "- `-lab` - Class -> Columns' Names\n",
    "- `-val` - Count -> values in the cells\n",
    "\n",
    "**Result Table**<br>\n",
    "\n",
    "Sex|First|Second|Third\n",
    "---|---|---|---\n",
    "male|45|17|47\n",
    "female|91|70|72\n",
    "\n",
    "\n",
    "In practice, it is common to use `aq_cnt` command to generate \"summary of data\" as input table, and pass the output to `aq_rst`. <br>\n",
    "\n",
    "However in this tutorial the input data are already created for you. "
   ]
  },
  {
   "cell_type": "code",
   "execution_count": 30,
   "metadata": {},
   "outputs": [
    {
     "name": "stdout",
     "output_type": "stream",
     "text": [
      "\"Sex\",\"Class\",\"Count\"\n",
      "\"female\",\"First\",91\n",
      "\"female\",\"Second\",70\n",
      "\"female\",\"Third\",72\n",
      "\"male\",\"First\",45\n",
      "\"male\",\"Second\",17\n",
      "\"male\",\"Third\",47\n"
     ]
    }
   ],
   "source": [
    "#taking a look at the input dataset\n",
    "class_sex=\"data/aq_rst/survivor_by_class_sex.csv\"\n",
    "class_sex_col=\"S:Sex S:Class I:Count\"\n",
    "aq_pp -f,+1 $class_sex -d $class_sex_col"
   ]
  },
  {
   "cell_type": "code",
   "execution_count": 31,
   "metadata": {},
   "outputs": [
    {
     "name": "stdout",
     "output_type": "stream",
     "text": [
      "\"Sex\",\"First\",\"Second\",\"Third\"\n",
      "\"male\",45,17,47\n",
      "\"female\",91,70,72\n"
     ]
    }
   ],
   "source": [
    "aq_rst -f,+1 $class_sex -d $class_sex_col -key Sex -lab Class -val Count"
   ]
  },
  {
   "cell_type": "markdown",
   "metadata": {},
   "source": [
    "## Advanced\n",
    "\n",
    "**Using multiple columns as `-key` (row index)**<br>\n",
    "You can set multiple columns as `-key` option's argument in order to create multi-level row index table.<br>\n",
    "The input data is again summary of the titanic dataset of choosen columns, Sex, Alone (whether a passenger was on board alone), Class, Count."
   ]
  },
  {
   "cell_type": "code",
   "execution_count": 44,
   "metadata": {},
   "outputs": [
    {
     "name": "stdout",
     "output_type": "stream",
     "text": [
      "\"Sex\",\"Alone\",\"Class\",\"Count\"\n",
      "\"female\",\"False\",\"First\",60\n",
      "\"female\",\"False\",\"Second\",44\n",
      "\"female\",\"False\",\"Third\",84\n",
      "\"female\",\"True\",\"First\",34\n",
      "\"female\",\"True\",\"Second\",32\n",
      "\"female\",\"True\",\"Third\",60\n",
      "\"male\",\"False\",\"First\",47\n",
      "\"male\",\"False\",\"Second\",36\n",
      "\"male\",\"False\",\"Third\",83\n",
      "\"male\",\"True\",\"First\",75\n",
      "\"male\",\"True\",\"Second\",72\n",
      "\"male\",\"True\",\"Third\",264\n"
     ]
    }
   ],
   "source": [
    "# Takinga look at data for multiple column\n",
    "mul_col_data=\"data/aq_rst/multiple_cols.csv\"\n",
    "mul_cols=\"S:Sex S:Alone S:Class I:Count\"\n",
    "\n",
    "aq_pp -f,+1 $mul_col_data -d $mul_cols"
   ]
  },
  {
   "cell_type": "code",
   "execution_count": 45,
   "metadata": {},
   "outputs": [
    {
     "name": "stdout",
     "output_type": "stream",
     "text": [
      "\"Sex\",\"Alone\",\"First\",\"Second\",\"Third\"\n",
      "\"male\",\"False\",47,36,83\n",
      "\"female\",\"True\",34,32,60\n",
      "\"female\",\"False\",60,44,84\n",
      "\"male\",\"True\",75,72,264\n"
     ]
    }
   ],
   "source": [
    "# Creating pivot table, Sex and Alone as key (row index)\n",
    "\n",
    "aq_rst -f,+1 $mul_col_data -d $mul_cols -key Sex Alone -lab Class -val Count"
   ]
  },
  {
   "cell_type": "markdown",
   "metadata": {},
   "source": [
    "Now the data is clearer to analyze. Given same gender,\n",
    "more numbers of male who are alone survived, and more number of non-alone female survived than thier counterparts."
   ]
  },
  {
   "cell_type": "markdown",
   "metadata": {},
   "source": [
    "### Options\n",
    "\n",
    "**`-def`**<br>\n",
    "This option sets a default value to fill a blank, either 0 or empty string depending on label's data type.<br>\n",
    "Let's consider a sample dataset below that demonstrates possible correlation between financial status, and employment and dating status.\n",
    "\n",
    "**Input Table**<Br>\n",
    "    \n",
    "status|job|finance\n",
    "---|---|---\n",
    "single|yes|great\n",
    "single|no|bad\n",
    "taken|yes|okay\n",
    "\n",
    "\n",
    "**Result Table**<br>\n",
    "\n",
    "status|yes|no\n",
    "------|---|---\n",
    "taken |okay|\n",
    "single|great|bad\n",
    "\n",
    "\n",
    "Input table have every combinations of keys and labels, except status: taken, job:no. By default, this will be filled up with an empty string like result table above.\n",
    "\n",
    "Let's take a look in action."
   ]
  },
  {
   "cell_type": "code",
   "execution_count": 50,
   "metadata": {},
   "outputs": [
    {
     "name": "stdout",
     "output_type": "stream",
     "text": [
      "\"Status\",\"no\",\"yes\"\n",
      "\"taken\",,\"okay\"\n",
      "\"single\",\"bad\",\"great\"\n"
     ]
    }
   ],
   "source": [
    "finance=\"data/aq_rst/def.csv\"\n",
    "fin_col=\"S:Status S:Job S:Finance\"\n",
    "aq_rst -f,+1 $finance -d $fin_col -key status -lab job -val finance "
   ]
  },
  {
   "cell_type": "markdown",
   "metadata": {},
   "source": [
    "We can fill this empty cell with any default value we'd like with `-def` option"
   ]
  },
  {
   "cell_type": "code",
   "execution_count": 48,
   "metadata": {},
   "outputs": [
    {
     "name": "stdout",
     "output_type": "stream",
     "text": [
      "\"Status\",\"no\",\"yes\"\n",
      "\"taken\",\"negative\",\"okay\"\n",
      "\"single\",\"bad\",\"great\"\n"
     ]
    }
   ],
   "source": [
    "aq_rst -f,+1 $finance -d $fin_col -key status -lab job -val finance -def \"negative\""
   ]
  },
  {
   "cell_type": "markdown",
   "metadata": {},
   "source": [
    "**`-olab`**<br>\n",
    "\n",
    "_Labels and Result's table's column names_<br>\n",
    "When using `aq_rst`, sometimes you'd like to use columns that contains long strings (such as person's name or title of a book etc). In these cases, column names in resulting table might not be valid. \n",
    "\n",
    "This option let you output a lookup table of label value (column name) and columns' id. Using the titanic dataset with selected columns (name, sex, survived), which looks like below, let's take a look\n",
    "\n",
    "**Input Table**<br>\n",
    "\n",
    "Survived|Sex|Name\n",
    "--------|---|----\n",
    "0|male|Mr. Owen Harris Braund\n",
    "1|female|Mrs. John Bradley (Florence Briggs Thayer) Cumings\n",
    "1|female|Miss. Laina Heikkinen\n",
    "\n",
    "**Output Table**<br>\n",
    "\n",
    "Sex|Miss. Laina Heikkinen|Mr. Owen Harris Braund|Mrs. John Bradley (Florence Briggs Thayer) Cumings\n",
    "male"
   ]
  },
  {
   "cell_type": "code",
   "execution_count": 55,
   "metadata": {},
   "outputs": [
    {
     "name": "stdout",
     "output_type": "stream",
     "text": [
      "\"Sex\",\"Miss. Laina Heikkinen\",\"Mr. Owen Harris Braund\",\"Mrs. John Bradley (Florence Briggs Thayer) Cumings\"\n",
      "\"male\",999,0,999\n",
      "\"female\",1,999,1\n"
     ]
    }
   ],
   "source": [
    "# This will output the label's values as column name, might be invalid...\n",
    "passengers=\"data/aq_rst/titanic_psg_names_.csv\"\n",
    "psg_col=\"I:Survived S:Sex S:Name\"\n",
    "\n",
    "# setting -def as 999 to distinguish between empty cell vs cell with 0 inside it\n",
    "aq_rst -f,+1 $passengers -d $psg_col -key Sex -lab Name -val Survived -def \"999\""
   ]
  },
  {
   "cell_type": "markdown",
   "metadata": {},
   "source": [
    "This is messy and likely to contain invalid column names. Using `-olab` option, you can label the columns as `_1`, `_2`, `_3` .... and output lookup table for the column names. Let's take a look."
   ]
  },
  {
   "cell_type": "code",
   "execution_count": 57,
   "metadata": {},
   "outputs": [
    {
     "name": "stdout",
     "output_type": "stream",
     "text": [
      "\"id\",\"label\"\n",
      "\"_1\",\"Miss. Laina Heikkinen\"\n",
      "\"_2\",\"Mr. Owen Harris Braund\"\n",
      "\"_3\",\"Mrs. John Bradley (Florence Briggs Thayer) Cumings\"\n",
      "\"Sex\",\"_1\",\"_2\",\"_3\"\n",
      "\"male\",999,0,999\n",
      "\"female\",1,999,1\n"
     ]
    }
   ],
   "source": [
    "# outputting the lookup table on stdout by specifying - on -olab option.\n",
    "aq_rst -f,+1 $passengers -d $psg_col -key Sex -lab Name -val Survived -def \"999\" -olab -"
   ]
  },
  {
   "cell_type": "markdown",
   "metadata": {},
   "source": [
    "The top 4 lines above are the lookup table, while bottom 3 lines are the pivot table.<br>\n",
    "In practice, you can save the lookup table in seperate file from the pivot table, in case when you have a pivot table with hundreds of long string columns."
   ]
  },
  {
   "cell_type": "markdown",
   "metadata": {},
   "source": [
    "**`-ord`**<br>\n",
    "\n",
    "This option is intended for merge operation, but it sorts the output by the keys (row index).\n",
    "Using the titanic's dataset (Class, Sex and Surviver Count), \n",
    "\n",
    "Sex|Class|Count\n",
    "---|---|---\n",
    "female|First|91\n",
    "female|Second|70\n",
    "female|Third|72\n",
    "male|First|45\n",
    "male|Second|17\n",
    "male|Third|47\n",
    "\n",
    "let's take a look."
   ]
  },
  {
   "cell_type": "code",
   "execution_count": 61,
   "metadata": {},
   "outputs": [
    {
     "name": "stdout",
     "output_type": "stream",
     "text": [
      "\"Class\",\"female\",\"male\"\n",
      "\"First\",91,45\n",
      "\"Second\",70,17\n",
      "\"Third\",72,47\n"
     ]
    }
   ],
   "source": [
    "# sorting by the class, in alphabetical order\n",
    "aq_rst -f,+1 $class_sex -d $class_sex_col -key class -lab sex -val count -ord"
   ]
  }
 ],
 "metadata": {
  "kernelspec": {
   "display_name": "Bash",
   "language": "bash",
   "name": "bash"
  },
  "language_info": {
   "codemirror_mode": "shell",
   "file_extension": ".sh",
   "mimetype": "text/x-sh",
   "name": "bash"
  }
 },
 "nbformat": 4,
 "nbformat_minor": 2
}
